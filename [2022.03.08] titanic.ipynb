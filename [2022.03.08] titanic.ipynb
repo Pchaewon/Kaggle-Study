{
 "cells": [
  {
   "cell_type": "markdown",
   "id": "1bcf3564",
   "metadata": {},
   "source": [
    "## 00. EDA 전 feature들 알아보자!!!\n",
    "##### row data의 feature의 설명(description, dictionary)를 통해 데이터의 각 columns와 rows의 의미를 이해하는 기술\n",
    "> 1. Survival : 0=No, 1=Yes <br>\n",
    "> 2. Pclass : 1=1st, 2=2nd, 3=3rd<br>\n",
    "> 3. Sex : 성별<br>\n",
    "> 4. Age : 나이<br>\n",
    "> 5. SibSp : 타이타닉호에 탑승한 형제/남매들<br>\n",
    "> 6. Parch : 타이타닉호에 탑승한 부모/자녀들<br>\n",
    "> 7. Ticket : 티켓 번호<br>\n",
    "> 8. Fare : 요금<br>\n",
    "> 9. Cabin : 객실 번호<br>\n",
    "> 10. Embarked : 승선위치 C = Cherbourg, Q = Queenstown, S = Southampton <br>\n"
   ]
  },
  {
   "cell_type": "markdown",
   "id": "2735003c",
   "metadata": {},
   "source": [
    "## 01. EDA&전처리 PART"
   ]
  },
  {
   "cell_type": "code",
   "execution_count": 96,
   "id": "b012a709",
   "metadata": {},
   "outputs": [],
   "source": [
    "#라이브러리 불러오기\n",
    "import numpy as np\n",
    "import pandas as pd \n",
    "import matplotlib.pyplot as plt\n",
    "import seaborn as sns\n",
    "\n",
    "#파일 읽기\n",
    "train = pd.read_csv('train.csv')\n",
    "test = pd.read_csv('test.csv')"
   ]
  },
  {
   "cell_type": "code",
   "execution_count": 97,
   "id": "bf9307ef",
   "metadata": {},
   "outputs": [
    {
     "name": "stdout",
     "output_type": "stream",
     "text": [
      "(891, 12)\n",
      "(418, 11)\n"
     ]
    }
   ],
   "source": [
    "#행열 갯수 관찰\n",
    "print(train.shape)\n",
    "print(test.shape)"
   ]
  },
  {
   "cell_type": "code",
   "execution_count": 98,
   "id": "31d83e2f",
   "metadata": {},
   "outputs": [
    {
     "data": {
      "text/html": [
       "<div>\n",
       "<style scoped>\n",
       "    .dataframe tbody tr th:only-of-type {\n",
       "        vertical-align: middle;\n",
       "    }\n",
       "\n",
       "    .dataframe tbody tr th {\n",
       "        vertical-align: top;\n",
       "    }\n",
       "\n",
       "    .dataframe thead th {\n",
       "        text-align: right;\n",
       "    }\n",
       "</style>\n",
       "<table border=\"1\" class=\"dataframe\">\n",
       "  <thead>\n",
       "    <tr style=\"text-align: right;\">\n",
       "      <th></th>\n",
       "      <th>PassengerId</th>\n",
       "      <th>Survived</th>\n",
       "      <th>Pclass</th>\n",
       "      <th>Name</th>\n",
       "      <th>Sex</th>\n",
       "      <th>Age</th>\n",
       "      <th>SibSp</th>\n",
       "      <th>Parch</th>\n",
       "      <th>Ticket</th>\n",
       "      <th>Fare</th>\n",
       "      <th>Cabin</th>\n",
       "      <th>Embarked</th>\n",
       "    </tr>\n",
       "  </thead>\n",
       "  <tbody>\n",
       "    <tr>\n",
       "      <th>0</th>\n",
       "      <td>1</td>\n",
       "      <td>0</td>\n",
       "      <td>3</td>\n",
       "      <td>Braund, Mr. Owen Harris</td>\n",
       "      <td>male</td>\n",
       "      <td>22.0</td>\n",
       "      <td>1</td>\n",
       "      <td>0</td>\n",
       "      <td>A/5 21171</td>\n",
       "      <td>7.2500</td>\n",
       "      <td>NaN</td>\n",
       "      <td>S</td>\n",
       "    </tr>\n",
       "    <tr>\n",
       "      <th>1</th>\n",
       "      <td>2</td>\n",
       "      <td>1</td>\n",
       "      <td>1</td>\n",
       "      <td>Cumings, Mrs. John Bradley (Florence Briggs Th...</td>\n",
       "      <td>female</td>\n",
       "      <td>38.0</td>\n",
       "      <td>1</td>\n",
       "      <td>0</td>\n",
       "      <td>PC 17599</td>\n",
       "      <td>71.2833</td>\n",
       "      <td>C85</td>\n",
       "      <td>C</td>\n",
       "    </tr>\n",
       "    <tr>\n",
       "      <th>2</th>\n",
       "      <td>3</td>\n",
       "      <td>1</td>\n",
       "      <td>3</td>\n",
       "      <td>Heikkinen, Miss. Laina</td>\n",
       "      <td>female</td>\n",
       "      <td>26.0</td>\n",
       "      <td>0</td>\n",
       "      <td>0</td>\n",
       "      <td>STON/O2. 3101282</td>\n",
       "      <td>7.9250</td>\n",
       "      <td>NaN</td>\n",
       "      <td>S</td>\n",
       "    </tr>\n",
       "    <tr>\n",
       "      <th>3</th>\n",
       "      <td>4</td>\n",
       "      <td>1</td>\n",
       "      <td>1</td>\n",
       "      <td>Futrelle, Mrs. Jacques Heath (Lily May Peel)</td>\n",
       "      <td>female</td>\n",
       "      <td>35.0</td>\n",
       "      <td>1</td>\n",
       "      <td>0</td>\n",
       "      <td>113803</td>\n",
       "      <td>53.1000</td>\n",
       "      <td>C123</td>\n",
       "      <td>S</td>\n",
       "    </tr>\n",
       "    <tr>\n",
       "      <th>4</th>\n",
       "      <td>5</td>\n",
       "      <td>0</td>\n",
       "      <td>3</td>\n",
       "      <td>Allen, Mr. William Henry</td>\n",
       "      <td>male</td>\n",
       "      <td>35.0</td>\n",
       "      <td>0</td>\n",
       "      <td>0</td>\n",
       "      <td>373450</td>\n",
       "      <td>8.0500</td>\n",
       "      <td>NaN</td>\n",
       "      <td>S</td>\n",
       "    </tr>\n",
       "  </tbody>\n",
       "</table>\n",
       "</div>"
      ],
      "text/plain": [
       "   PassengerId  Survived  Pclass  \\\n",
       "0            1         0       3   \n",
       "1            2         1       1   \n",
       "2            3         1       3   \n",
       "3            4         1       1   \n",
       "4            5         0       3   \n",
       "\n",
       "                                                Name     Sex   Age  SibSp  \\\n",
       "0                            Braund, Mr. Owen Harris    male  22.0      1   \n",
       "1  Cumings, Mrs. John Bradley (Florence Briggs Th...  female  38.0      1   \n",
       "2                             Heikkinen, Miss. Laina  female  26.0      0   \n",
       "3       Futrelle, Mrs. Jacques Heath (Lily May Peel)  female  35.0      1   \n",
       "4                           Allen, Mr. William Henry    male  35.0      0   \n",
       "\n",
       "   Parch            Ticket     Fare Cabin Embarked  \n",
       "0      0         A/5 21171   7.2500   NaN        S  \n",
       "1      0          PC 17599  71.2833   C85        C  \n",
       "2      0  STON/O2. 3101282   7.9250   NaN        S  \n",
       "3      0            113803  53.1000  C123        S  \n",
       "4      0            373450   8.0500   NaN        S  "
      ]
     },
     "execution_count": 98,
     "metadata": {},
     "output_type": "execute_result"
    }
   ],
   "source": [
    "#데이터 확인\n",
    "train.head()"
   ]
  },
  {
   "cell_type": "code",
   "execution_count": 99,
   "id": "725ed09c",
   "metadata": {},
   "outputs": [
    {
     "data": {
      "text/html": [
       "<div>\n",
       "<style scoped>\n",
       "    .dataframe tbody tr th:only-of-type {\n",
       "        vertical-align: middle;\n",
       "    }\n",
       "\n",
       "    .dataframe tbody tr th {\n",
       "        vertical-align: top;\n",
       "    }\n",
       "\n",
       "    .dataframe thead th {\n",
       "        text-align: right;\n",
       "    }\n",
       "</style>\n",
       "<table border=\"1\" class=\"dataframe\">\n",
       "  <thead>\n",
       "    <tr style=\"text-align: right;\">\n",
       "      <th></th>\n",
       "      <th>PassengerId</th>\n",
       "      <th>Pclass</th>\n",
       "      <th>Name</th>\n",
       "      <th>Sex</th>\n",
       "      <th>Age</th>\n",
       "      <th>SibSp</th>\n",
       "      <th>Parch</th>\n",
       "      <th>Ticket</th>\n",
       "      <th>Fare</th>\n",
       "      <th>Cabin</th>\n",
       "      <th>Embarked</th>\n",
       "    </tr>\n",
       "  </thead>\n",
       "  <tbody>\n",
       "    <tr>\n",
       "      <th>0</th>\n",
       "      <td>892</td>\n",
       "      <td>3</td>\n",
       "      <td>Kelly, Mr. James</td>\n",
       "      <td>male</td>\n",
       "      <td>34.5</td>\n",
       "      <td>0</td>\n",
       "      <td>0</td>\n",
       "      <td>330911</td>\n",
       "      <td>7.8292</td>\n",
       "      <td>NaN</td>\n",
       "      <td>Q</td>\n",
       "    </tr>\n",
       "    <tr>\n",
       "      <th>1</th>\n",
       "      <td>893</td>\n",
       "      <td>3</td>\n",
       "      <td>Wilkes, Mrs. James (Ellen Needs)</td>\n",
       "      <td>female</td>\n",
       "      <td>47.0</td>\n",
       "      <td>1</td>\n",
       "      <td>0</td>\n",
       "      <td>363272</td>\n",
       "      <td>7.0000</td>\n",
       "      <td>NaN</td>\n",
       "      <td>S</td>\n",
       "    </tr>\n",
       "    <tr>\n",
       "      <th>2</th>\n",
       "      <td>894</td>\n",
       "      <td>2</td>\n",
       "      <td>Myles, Mr. Thomas Francis</td>\n",
       "      <td>male</td>\n",
       "      <td>62.0</td>\n",
       "      <td>0</td>\n",
       "      <td>0</td>\n",
       "      <td>240276</td>\n",
       "      <td>9.6875</td>\n",
       "      <td>NaN</td>\n",
       "      <td>Q</td>\n",
       "    </tr>\n",
       "    <tr>\n",
       "      <th>3</th>\n",
       "      <td>895</td>\n",
       "      <td>3</td>\n",
       "      <td>Wirz, Mr. Albert</td>\n",
       "      <td>male</td>\n",
       "      <td>27.0</td>\n",
       "      <td>0</td>\n",
       "      <td>0</td>\n",
       "      <td>315154</td>\n",
       "      <td>8.6625</td>\n",
       "      <td>NaN</td>\n",
       "      <td>S</td>\n",
       "    </tr>\n",
       "    <tr>\n",
       "      <th>4</th>\n",
       "      <td>896</td>\n",
       "      <td>3</td>\n",
       "      <td>Hirvonen, Mrs. Alexander (Helga E Lindqvist)</td>\n",
       "      <td>female</td>\n",
       "      <td>22.0</td>\n",
       "      <td>1</td>\n",
       "      <td>1</td>\n",
       "      <td>3101298</td>\n",
       "      <td>12.2875</td>\n",
       "      <td>NaN</td>\n",
       "      <td>S</td>\n",
       "    </tr>\n",
       "  </tbody>\n",
       "</table>\n",
       "</div>"
      ],
      "text/plain": [
       "   PassengerId  Pclass                                          Name     Sex  \\\n",
       "0          892       3                              Kelly, Mr. James    male   \n",
       "1          893       3              Wilkes, Mrs. James (Ellen Needs)  female   \n",
       "2          894       2                     Myles, Mr. Thomas Francis    male   \n",
       "3          895       3                              Wirz, Mr. Albert    male   \n",
       "4          896       3  Hirvonen, Mrs. Alexander (Helga E Lindqvist)  female   \n",
       "\n",
       "    Age  SibSp  Parch   Ticket     Fare Cabin Embarked  \n",
       "0  34.5      0      0   330911   7.8292   NaN        Q  \n",
       "1  47.0      1      0   363272   7.0000   NaN        S  \n",
       "2  62.0      0      0   240276   9.6875   NaN        Q  \n",
       "3  27.0      0      0   315154   8.6625   NaN        S  \n",
       "4  22.0      1      1  3101298  12.2875   NaN        S  "
      ]
     },
     "execution_count": 99,
     "metadata": {},
     "output_type": "execute_result"
    }
   ],
   "source": [
    "#데이터 확인\n",
    "test.head()"
   ]
  },
  {
   "cell_type": "markdown",
   "id": "84e60a93",
   "metadata": {},
   "source": [
    "> **1) 데이터 확인을 통한 데이터 분석** <br>\n",
    "> 1. PassengerID는 그냥 순서대로 나열한 것이므로 생존자 예측과 관련없음.(제거할 항목)<br>\n",
    "> 2. Name도 관련 없어보임.이름이 더 길거나 짧다고 해서 더 오래 사는 것 아님.(제거할 항목)<br>\n",
    "> 3. Age에서 0.5는 무엇인가...? 나이를 반년 더 살았다는 것일까?? 이거에 대한 전처리 고민 필요.<br>\n",
    "> 4. Ticket번호에 지위가 나타난 것이 아니므로 생존과 관련없어보임.(제거할 항목)<br>\n",
    "> 5. 요금의 범위를 나눠야할듯. 인코딩 필요함. 요금에 따라 좋은 자리임.<br>\n",
    "> 6. Cabin 객실번호는 관련이 없진 않을 듯...? 좀 더 알아보기.NAN값 처리방법 고민하기<br>\n"
   ]
  },
  {
   "cell_type": "code",
   "execution_count": 100,
   "id": "f09bc232",
   "metadata": {},
   "outputs": [],
   "source": [
    "#위 분석을 통한 열 삭제\n",
    "train=train.drop(columns=['PassengerId'])\n",
    "train=train.drop(columns=['Name'])\n",
    "train=train.drop(columns=['Ticket'])"
   ]
  },
  {
   "cell_type": "code",
   "execution_count": 101,
   "id": "e2282161",
   "metadata": {},
   "outputs": [
    {
     "data": {
      "text/html": [
       "<div>\n",
       "<style scoped>\n",
       "    .dataframe tbody tr th:only-of-type {\n",
       "        vertical-align: middle;\n",
       "    }\n",
       "\n",
       "    .dataframe tbody tr th {\n",
       "        vertical-align: top;\n",
       "    }\n",
       "\n",
       "    .dataframe thead th {\n",
       "        text-align: right;\n",
       "    }\n",
       "</style>\n",
       "<table border=\"1\" class=\"dataframe\">\n",
       "  <thead>\n",
       "    <tr style=\"text-align: right;\">\n",
       "      <th></th>\n",
       "      <th>Survived</th>\n",
       "      <th>Pclass</th>\n",
       "      <th>Sex</th>\n",
       "      <th>Age</th>\n",
       "      <th>SibSp</th>\n",
       "      <th>Parch</th>\n",
       "      <th>Fare</th>\n",
       "      <th>Cabin</th>\n",
       "      <th>Embarked</th>\n",
       "    </tr>\n",
       "  </thead>\n",
       "  <tbody>\n",
       "    <tr>\n",
       "      <th>0</th>\n",
       "      <td>0</td>\n",
       "      <td>3</td>\n",
       "      <td>male</td>\n",
       "      <td>22.0</td>\n",
       "      <td>1</td>\n",
       "      <td>0</td>\n",
       "      <td>7.2500</td>\n",
       "      <td>NaN</td>\n",
       "      <td>S</td>\n",
       "    </tr>\n",
       "    <tr>\n",
       "      <th>1</th>\n",
       "      <td>1</td>\n",
       "      <td>1</td>\n",
       "      <td>female</td>\n",
       "      <td>38.0</td>\n",
       "      <td>1</td>\n",
       "      <td>0</td>\n",
       "      <td>71.2833</td>\n",
       "      <td>C85</td>\n",
       "      <td>C</td>\n",
       "    </tr>\n",
       "    <tr>\n",
       "      <th>2</th>\n",
       "      <td>1</td>\n",
       "      <td>3</td>\n",
       "      <td>female</td>\n",
       "      <td>26.0</td>\n",
       "      <td>0</td>\n",
       "      <td>0</td>\n",
       "      <td>7.9250</td>\n",
       "      <td>NaN</td>\n",
       "      <td>S</td>\n",
       "    </tr>\n",
       "    <tr>\n",
       "      <th>3</th>\n",
       "      <td>1</td>\n",
       "      <td>1</td>\n",
       "      <td>female</td>\n",
       "      <td>35.0</td>\n",
       "      <td>1</td>\n",
       "      <td>0</td>\n",
       "      <td>53.1000</td>\n",
       "      <td>C123</td>\n",
       "      <td>S</td>\n",
       "    </tr>\n",
       "    <tr>\n",
       "      <th>4</th>\n",
       "      <td>0</td>\n",
       "      <td>3</td>\n",
       "      <td>male</td>\n",
       "      <td>35.0</td>\n",
       "      <td>0</td>\n",
       "      <td>0</td>\n",
       "      <td>8.0500</td>\n",
       "      <td>NaN</td>\n",
       "      <td>S</td>\n",
       "    </tr>\n",
       "  </tbody>\n",
       "</table>\n",
       "</div>"
      ],
      "text/plain": [
       "   Survived  Pclass     Sex   Age  SibSp  Parch     Fare Cabin Embarked\n",
       "0         0       3    male  22.0      1      0   7.2500   NaN        S\n",
       "1         1       1  female  38.0      1      0  71.2833   C85        C\n",
       "2         1       3  female  26.0      0      0   7.9250   NaN        S\n",
       "3         1       1  female  35.0      1      0  53.1000  C123        S\n",
       "4         0       3    male  35.0      0      0   8.0500   NaN        S"
      ]
     },
     "execution_count": 101,
     "metadata": {},
     "output_type": "execute_result"
    }
   ],
   "source": [
    "#열 삭제 확인\n",
    "train.head()"
   ]
  },
  {
   "cell_type": "code",
   "execution_count": 102,
   "id": "17e174ed",
   "metadata": {},
   "outputs": [],
   "source": [
    "#위 분석을 통한 열 삭제(2)\n",
    "test=test.drop(columns=['PassengerId'])\n",
    "test=test.drop(columns=['Name'])\n",
    "test=test.drop(columns=['Ticket'])"
   ]
  },
  {
   "cell_type": "code",
   "execution_count": 103,
   "id": "0c988277",
   "metadata": {},
   "outputs": [
    {
     "data": {
      "text/html": [
       "<div>\n",
       "<style scoped>\n",
       "    .dataframe tbody tr th:only-of-type {\n",
       "        vertical-align: middle;\n",
       "    }\n",
       "\n",
       "    .dataframe tbody tr th {\n",
       "        vertical-align: top;\n",
       "    }\n",
       "\n",
       "    .dataframe thead th {\n",
       "        text-align: right;\n",
       "    }\n",
       "</style>\n",
       "<table border=\"1\" class=\"dataframe\">\n",
       "  <thead>\n",
       "    <tr style=\"text-align: right;\">\n",
       "      <th></th>\n",
       "      <th>Pclass</th>\n",
       "      <th>Sex</th>\n",
       "      <th>Age</th>\n",
       "      <th>SibSp</th>\n",
       "      <th>Parch</th>\n",
       "      <th>Fare</th>\n",
       "      <th>Cabin</th>\n",
       "      <th>Embarked</th>\n",
       "    </tr>\n",
       "  </thead>\n",
       "  <tbody>\n",
       "    <tr>\n",
       "      <th>0</th>\n",
       "      <td>3</td>\n",
       "      <td>male</td>\n",
       "      <td>34.5</td>\n",
       "      <td>0</td>\n",
       "      <td>0</td>\n",
       "      <td>7.8292</td>\n",
       "      <td>NaN</td>\n",
       "      <td>Q</td>\n",
       "    </tr>\n",
       "    <tr>\n",
       "      <th>1</th>\n",
       "      <td>3</td>\n",
       "      <td>female</td>\n",
       "      <td>47.0</td>\n",
       "      <td>1</td>\n",
       "      <td>0</td>\n",
       "      <td>7.0000</td>\n",
       "      <td>NaN</td>\n",
       "      <td>S</td>\n",
       "    </tr>\n",
       "    <tr>\n",
       "      <th>2</th>\n",
       "      <td>2</td>\n",
       "      <td>male</td>\n",
       "      <td>62.0</td>\n",
       "      <td>0</td>\n",
       "      <td>0</td>\n",
       "      <td>9.6875</td>\n",
       "      <td>NaN</td>\n",
       "      <td>Q</td>\n",
       "    </tr>\n",
       "    <tr>\n",
       "      <th>3</th>\n",
       "      <td>3</td>\n",
       "      <td>male</td>\n",
       "      <td>27.0</td>\n",
       "      <td>0</td>\n",
       "      <td>0</td>\n",
       "      <td>8.6625</td>\n",
       "      <td>NaN</td>\n",
       "      <td>S</td>\n",
       "    </tr>\n",
       "    <tr>\n",
       "      <th>4</th>\n",
       "      <td>3</td>\n",
       "      <td>female</td>\n",
       "      <td>22.0</td>\n",
       "      <td>1</td>\n",
       "      <td>1</td>\n",
       "      <td>12.2875</td>\n",
       "      <td>NaN</td>\n",
       "      <td>S</td>\n",
       "    </tr>\n",
       "  </tbody>\n",
       "</table>\n",
       "</div>"
      ],
      "text/plain": [
       "   Pclass     Sex   Age  SibSp  Parch     Fare Cabin Embarked\n",
       "0       3    male  34.5      0      0   7.8292   NaN        Q\n",
       "1       3  female  47.0      1      0   7.0000   NaN        S\n",
       "2       2    male  62.0      0      0   9.6875   NaN        Q\n",
       "3       3    male  27.0      0      0   8.6625   NaN        S\n",
       "4       3  female  22.0      1      1  12.2875   NaN        S"
      ]
     },
     "execution_count": 103,
     "metadata": {},
     "output_type": "execute_result"
    }
   ],
   "source": [
    "test.head()"
   ]
  },
  {
   "cell_type": "code",
   "execution_count": 104,
   "id": "70c20763",
   "metadata": {},
   "outputs": [
    {
     "data": {
      "text/html": [
       "<div>\n",
       "<style scoped>\n",
       "    .dataframe tbody tr th:only-of-type {\n",
       "        vertical-align: middle;\n",
       "    }\n",
       "\n",
       "    .dataframe tbody tr th {\n",
       "        vertical-align: top;\n",
       "    }\n",
       "\n",
       "    .dataframe thead th {\n",
       "        text-align: right;\n",
       "    }\n",
       "</style>\n",
       "<table border=\"1\" class=\"dataframe\">\n",
       "  <thead>\n",
       "    <tr style=\"text-align: right;\">\n",
       "      <th></th>\n",
       "      <th>Survived</th>\n",
       "      <th>Pclass</th>\n",
       "      <th>Sex</th>\n",
       "      <th>Age</th>\n",
       "      <th>SibSp</th>\n",
       "      <th>Parch</th>\n",
       "      <th>Fare</th>\n",
       "      <th>Cabin</th>\n",
       "      <th>Embarked</th>\n",
       "    </tr>\n",
       "  </thead>\n",
       "  <tbody>\n",
       "    <tr>\n",
       "      <th>0</th>\n",
       "      <td>False</td>\n",
       "      <td>False</td>\n",
       "      <td>False</td>\n",
       "      <td>False</td>\n",
       "      <td>False</td>\n",
       "      <td>False</td>\n",
       "      <td>False</td>\n",
       "      <td>True</td>\n",
       "      <td>False</td>\n",
       "    </tr>\n",
       "    <tr>\n",
       "      <th>1</th>\n",
       "      <td>False</td>\n",
       "      <td>False</td>\n",
       "      <td>False</td>\n",
       "      <td>False</td>\n",
       "      <td>False</td>\n",
       "      <td>False</td>\n",
       "      <td>False</td>\n",
       "      <td>False</td>\n",
       "      <td>False</td>\n",
       "    </tr>\n",
       "    <tr>\n",
       "      <th>2</th>\n",
       "      <td>False</td>\n",
       "      <td>False</td>\n",
       "      <td>False</td>\n",
       "      <td>False</td>\n",
       "      <td>False</td>\n",
       "      <td>False</td>\n",
       "      <td>False</td>\n",
       "      <td>True</td>\n",
       "      <td>False</td>\n",
       "    </tr>\n",
       "    <tr>\n",
       "      <th>3</th>\n",
       "      <td>False</td>\n",
       "      <td>False</td>\n",
       "      <td>False</td>\n",
       "      <td>False</td>\n",
       "      <td>False</td>\n",
       "      <td>False</td>\n",
       "      <td>False</td>\n",
       "      <td>False</td>\n",
       "      <td>False</td>\n",
       "    </tr>\n",
       "    <tr>\n",
       "      <th>4</th>\n",
       "      <td>False</td>\n",
       "      <td>False</td>\n",
       "      <td>False</td>\n",
       "      <td>False</td>\n",
       "      <td>False</td>\n",
       "      <td>False</td>\n",
       "      <td>False</td>\n",
       "      <td>True</td>\n",
       "      <td>False</td>\n",
       "    </tr>\n",
       "    <tr>\n",
       "      <th>...</th>\n",
       "      <td>...</td>\n",
       "      <td>...</td>\n",
       "      <td>...</td>\n",
       "      <td>...</td>\n",
       "      <td>...</td>\n",
       "      <td>...</td>\n",
       "      <td>...</td>\n",
       "      <td>...</td>\n",
       "      <td>...</td>\n",
       "    </tr>\n",
       "    <tr>\n",
       "      <th>886</th>\n",
       "      <td>False</td>\n",
       "      <td>False</td>\n",
       "      <td>False</td>\n",
       "      <td>False</td>\n",
       "      <td>False</td>\n",
       "      <td>False</td>\n",
       "      <td>False</td>\n",
       "      <td>True</td>\n",
       "      <td>False</td>\n",
       "    </tr>\n",
       "    <tr>\n",
       "      <th>887</th>\n",
       "      <td>False</td>\n",
       "      <td>False</td>\n",
       "      <td>False</td>\n",
       "      <td>False</td>\n",
       "      <td>False</td>\n",
       "      <td>False</td>\n",
       "      <td>False</td>\n",
       "      <td>False</td>\n",
       "      <td>False</td>\n",
       "    </tr>\n",
       "    <tr>\n",
       "      <th>888</th>\n",
       "      <td>False</td>\n",
       "      <td>False</td>\n",
       "      <td>False</td>\n",
       "      <td>True</td>\n",
       "      <td>False</td>\n",
       "      <td>False</td>\n",
       "      <td>False</td>\n",
       "      <td>True</td>\n",
       "      <td>False</td>\n",
       "    </tr>\n",
       "    <tr>\n",
       "      <th>889</th>\n",
       "      <td>False</td>\n",
       "      <td>False</td>\n",
       "      <td>False</td>\n",
       "      <td>False</td>\n",
       "      <td>False</td>\n",
       "      <td>False</td>\n",
       "      <td>False</td>\n",
       "      <td>False</td>\n",
       "      <td>False</td>\n",
       "    </tr>\n",
       "    <tr>\n",
       "      <th>890</th>\n",
       "      <td>False</td>\n",
       "      <td>False</td>\n",
       "      <td>False</td>\n",
       "      <td>False</td>\n",
       "      <td>False</td>\n",
       "      <td>False</td>\n",
       "      <td>False</td>\n",
       "      <td>True</td>\n",
       "      <td>False</td>\n",
       "    </tr>\n",
       "  </tbody>\n",
       "</table>\n",
       "<p>891 rows × 9 columns</p>\n",
       "</div>"
      ],
      "text/plain": [
       "     Survived  Pclass    Sex    Age  SibSp  Parch   Fare  Cabin  Embarked\n",
       "0       False   False  False  False  False  False  False   True     False\n",
       "1       False   False  False  False  False  False  False  False     False\n",
       "2       False   False  False  False  False  False  False   True     False\n",
       "3       False   False  False  False  False  False  False  False     False\n",
       "4       False   False  False  False  False  False  False   True     False\n",
       "..        ...     ...    ...    ...    ...    ...    ...    ...       ...\n",
       "886     False   False  False  False  False  False  False   True     False\n",
       "887     False   False  False  False  False  False  False  False     False\n",
       "888     False   False  False   True  False  False  False   True     False\n",
       "889     False   False  False  False  False  False  False  False     False\n",
       "890     False   False  False  False  False  False  False   True     False\n",
       "\n",
       "[891 rows x 9 columns]"
      ]
     },
     "execution_count": 104,
     "metadata": {},
     "output_type": "execute_result"
    }
   ],
   "source": [
    "#결측치 확인\n",
    "train.isnull()"
   ]
  },
  {
   "cell_type": "code",
   "execution_count": 105,
   "id": "095d8cab",
   "metadata": {},
   "outputs": [
    {
     "data": {
      "text/html": [
       "<div>\n",
       "<style scoped>\n",
       "    .dataframe tbody tr th:only-of-type {\n",
       "        vertical-align: middle;\n",
       "    }\n",
       "\n",
       "    .dataframe tbody tr th {\n",
       "        vertical-align: top;\n",
       "    }\n",
       "\n",
       "    .dataframe thead th {\n",
       "        text-align: right;\n",
       "    }\n",
       "</style>\n",
       "<table border=\"1\" class=\"dataframe\">\n",
       "  <thead>\n",
       "    <tr style=\"text-align: right;\">\n",
       "      <th></th>\n",
       "      <th>Pclass</th>\n",
       "      <th>Sex</th>\n",
       "      <th>Age</th>\n",
       "      <th>SibSp</th>\n",
       "      <th>Parch</th>\n",
       "      <th>Fare</th>\n",
       "      <th>Cabin</th>\n",
       "      <th>Embarked</th>\n",
       "    </tr>\n",
       "  </thead>\n",
       "  <tbody>\n",
       "    <tr>\n",
       "      <th>0</th>\n",
       "      <td>False</td>\n",
       "      <td>False</td>\n",
       "      <td>False</td>\n",
       "      <td>False</td>\n",
       "      <td>False</td>\n",
       "      <td>False</td>\n",
       "      <td>True</td>\n",
       "      <td>False</td>\n",
       "    </tr>\n",
       "    <tr>\n",
       "      <th>1</th>\n",
       "      <td>False</td>\n",
       "      <td>False</td>\n",
       "      <td>False</td>\n",
       "      <td>False</td>\n",
       "      <td>False</td>\n",
       "      <td>False</td>\n",
       "      <td>True</td>\n",
       "      <td>False</td>\n",
       "    </tr>\n",
       "    <tr>\n",
       "      <th>2</th>\n",
       "      <td>False</td>\n",
       "      <td>False</td>\n",
       "      <td>False</td>\n",
       "      <td>False</td>\n",
       "      <td>False</td>\n",
       "      <td>False</td>\n",
       "      <td>True</td>\n",
       "      <td>False</td>\n",
       "    </tr>\n",
       "    <tr>\n",
       "      <th>3</th>\n",
       "      <td>False</td>\n",
       "      <td>False</td>\n",
       "      <td>False</td>\n",
       "      <td>False</td>\n",
       "      <td>False</td>\n",
       "      <td>False</td>\n",
       "      <td>True</td>\n",
       "      <td>False</td>\n",
       "    </tr>\n",
       "    <tr>\n",
       "      <th>4</th>\n",
       "      <td>False</td>\n",
       "      <td>False</td>\n",
       "      <td>False</td>\n",
       "      <td>False</td>\n",
       "      <td>False</td>\n",
       "      <td>False</td>\n",
       "      <td>True</td>\n",
       "      <td>False</td>\n",
       "    </tr>\n",
       "    <tr>\n",
       "      <th>...</th>\n",
       "      <td>...</td>\n",
       "      <td>...</td>\n",
       "      <td>...</td>\n",
       "      <td>...</td>\n",
       "      <td>...</td>\n",
       "      <td>...</td>\n",
       "      <td>...</td>\n",
       "      <td>...</td>\n",
       "    </tr>\n",
       "    <tr>\n",
       "      <th>413</th>\n",
       "      <td>False</td>\n",
       "      <td>False</td>\n",
       "      <td>True</td>\n",
       "      <td>False</td>\n",
       "      <td>False</td>\n",
       "      <td>False</td>\n",
       "      <td>True</td>\n",
       "      <td>False</td>\n",
       "    </tr>\n",
       "    <tr>\n",
       "      <th>414</th>\n",
       "      <td>False</td>\n",
       "      <td>False</td>\n",
       "      <td>False</td>\n",
       "      <td>False</td>\n",
       "      <td>False</td>\n",
       "      <td>False</td>\n",
       "      <td>False</td>\n",
       "      <td>False</td>\n",
       "    </tr>\n",
       "    <tr>\n",
       "      <th>415</th>\n",
       "      <td>False</td>\n",
       "      <td>False</td>\n",
       "      <td>False</td>\n",
       "      <td>False</td>\n",
       "      <td>False</td>\n",
       "      <td>False</td>\n",
       "      <td>True</td>\n",
       "      <td>False</td>\n",
       "    </tr>\n",
       "    <tr>\n",
       "      <th>416</th>\n",
       "      <td>False</td>\n",
       "      <td>False</td>\n",
       "      <td>True</td>\n",
       "      <td>False</td>\n",
       "      <td>False</td>\n",
       "      <td>False</td>\n",
       "      <td>True</td>\n",
       "      <td>False</td>\n",
       "    </tr>\n",
       "    <tr>\n",
       "      <th>417</th>\n",
       "      <td>False</td>\n",
       "      <td>False</td>\n",
       "      <td>True</td>\n",
       "      <td>False</td>\n",
       "      <td>False</td>\n",
       "      <td>False</td>\n",
       "      <td>True</td>\n",
       "      <td>False</td>\n",
       "    </tr>\n",
       "  </tbody>\n",
       "</table>\n",
       "<p>418 rows × 8 columns</p>\n",
       "</div>"
      ],
      "text/plain": [
       "     Pclass    Sex    Age  SibSp  Parch   Fare  Cabin  Embarked\n",
       "0     False  False  False  False  False  False   True     False\n",
       "1     False  False  False  False  False  False   True     False\n",
       "2     False  False  False  False  False  False   True     False\n",
       "3     False  False  False  False  False  False   True     False\n",
       "4     False  False  False  False  False  False   True     False\n",
       "..      ...    ...    ...    ...    ...    ...    ...       ...\n",
       "413   False  False   True  False  False  False   True     False\n",
       "414   False  False  False  False  False  False  False     False\n",
       "415   False  False  False  False  False  False   True     False\n",
       "416   False  False   True  False  False  False   True     False\n",
       "417   False  False   True  False  False  False   True     False\n",
       "\n",
       "[418 rows x 8 columns]"
      ]
     },
     "execution_count": 105,
     "metadata": {},
     "output_type": "execute_result"
    }
   ],
   "source": [
    "#결측치 확인\n",
    "test.isnull()"
   ]
  },
  {
   "cell_type": "code",
   "execution_count": 106,
   "id": "636c41e1",
   "metadata": {},
   "outputs": [
    {
     "data": {
      "text/plain": [
       "Survived      0\n",
       "Pclass        0\n",
       "Sex           0\n",
       "Age         177\n",
       "SibSp         0\n",
       "Parch         0\n",
       "Fare          0\n",
       "Cabin       687\n",
       "Embarked      2\n",
       "dtype: int64"
      ]
     },
     "execution_count": 106,
     "metadata": {},
     "output_type": "execute_result"
    }
   ],
   "source": [
    "train.isnull().sum()"
   ]
  },
  {
   "cell_type": "code",
   "execution_count": 107,
   "id": "ddadd039",
   "metadata": {},
   "outputs": [
    {
     "data": {
      "text/plain": [
       "Pclass        0\n",
       "Sex           0\n",
       "Age          86\n",
       "SibSp         0\n",
       "Parch         0\n",
       "Fare          1\n",
       "Cabin       327\n",
       "Embarked      0\n",
       "dtype: int64"
      ]
     },
     "execution_count": 107,
     "metadata": {},
     "output_type": "execute_result"
    }
   ],
   "source": [
    "test.isnull().sum()"
   ]
  },
  {
   "cell_type": "markdown",
   "id": "d4288853",
   "metadata": {},
   "source": [
    "> **2) 결측치 확인 후 데이터 분석** <br>\n",
    "> 1. train : Age, Cabin, Embarked에 결측치가 있음을 알수있음. <br>\n",
    "> 2. test : Age, Fare, Cabin에 결측치가 있음을 알수있음. <br>\n",
    "> 3. Cabin의 결측치는 너무 많으므로 제거하는 편이 성능에 더 나을듯.(제거할 항목)<br>\n",
    "> 4. Age는 결측치를 어떻게 처리할지 고민하자.<br>"
   ]
  },
  {
   "cell_type": "code",
   "execution_count": 108,
   "id": "6dae6a3f",
   "metadata": {},
   "outputs": [],
   "source": [
    "#위 분석을 통한 열 삭제\n",
    "train=train.drop(columns=['Cabin'])\n",
    "test=test.drop(columns=['Cabin'])"
   ]
  },
  {
   "cell_type": "code",
   "execution_count": 109,
   "id": "5e61570b",
   "metadata": {},
   "outputs": [
    {
     "data": {
      "text/html": [
       "<div>\n",
       "<style scoped>\n",
       "    .dataframe tbody tr th:only-of-type {\n",
       "        vertical-align: middle;\n",
       "    }\n",
       "\n",
       "    .dataframe tbody tr th {\n",
       "        vertical-align: top;\n",
       "    }\n",
       "\n",
       "    .dataframe thead th {\n",
       "        text-align: right;\n",
       "    }\n",
       "</style>\n",
       "<table border=\"1\" class=\"dataframe\">\n",
       "  <thead>\n",
       "    <tr style=\"text-align: right;\">\n",
       "      <th></th>\n",
       "      <th>Survived</th>\n",
       "      <th>Pclass</th>\n",
       "      <th>Sex</th>\n",
       "      <th>Age</th>\n",
       "      <th>SibSp</th>\n",
       "      <th>Parch</th>\n",
       "      <th>Fare</th>\n",
       "      <th>Embarked</th>\n",
       "    </tr>\n",
       "  </thead>\n",
       "  <tbody>\n",
       "    <tr>\n",
       "      <th>0</th>\n",
       "      <td>0</td>\n",
       "      <td>3</td>\n",
       "      <td>male</td>\n",
       "      <td>22.0</td>\n",
       "      <td>1</td>\n",
       "      <td>0</td>\n",
       "      <td>7.2500</td>\n",
       "      <td>S</td>\n",
       "    </tr>\n",
       "    <tr>\n",
       "      <th>1</th>\n",
       "      <td>1</td>\n",
       "      <td>1</td>\n",
       "      <td>female</td>\n",
       "      <td>38.0</td>\n",
       "      <td>1</td>\n",
       "      <td>0</td>\n",
       "      <td>71.2833</td>\n",
       "      <td>C</td>\n",
       "    </tr>\n",
       "    <tr>\n",
       "      <th>2</th>\n",
       "      <td>1</td>\n",
       "      <td>3</td>\n",
       "      <td>female</td>\n",
       "      <td>26.0</td>\n",
       "      <td>0</td>\n",
       "      <td>0</td>\n",
       "      <td>7.9250</td>\n",
       "      <td>S</td>\n",
       "    </tr>\n",
       "    <tr>\n",
       "      <th>3</th>\n",
       "      <td>1</td>\n",
       "      <td>1</td>\n",
       "      <td>female</td>\n",
       "      <td>35.0</td>\n",
       "      <td>1</td>\n",
       "      <td>0</td>\n",
       "      <td>53.1000</td>\n",
       "      <td>S</td>\n",
       "    </tr>\n",
       "    <tr>\n",
       "      <th>4</th>\n",
       "      <td>0</td>\n",
       "      <td>3</td>\n",
       "      <td>male</td>\n",
       "      <td>35.0</td>\n",
       "      <td>0</td>\n",
       "      <td>0</td>\n",
       "      <td>8.0500</td>\n",
       "      <td>S</td>\n",
       "    </tr>\n",
       "  </tbody>\n",
       "</table>\n",
       "</div>"
      ],
      "text/plain": [
       "   Survived  Pclass     Sex   Age  SibSp  Parch     Fare Embarked\n",
       "0         0       3    male  22.0      1      0   7.2500        S\n",
       "1         1       1  female  38.0      1      0  71.2833        C\n",
       "2         1       3  female  26.0      0      0   7.9250        S\n",
       "3         1       1  female  35.0      1      0  53.1000        S\n",
       "4         0       3    male  35.0      0      0   8.0500        S"
      ]
     },
     "execution_count": 109,
     "metadata": {},
     "output_type": "execute_result"
    }
   ],
   "source": [
    "#삭제 확인\n",
    "train.head()"
   ]
  },
  {
   "cell_type": "code",
   "execution_count": 112,
   "id": "25cfb8a6",
   "metadata": {},
   "outputs": [
    {
     "data": {
      "text/html": [
       "<div>\n",
       "<style scoped>\n",
       "    .dataframe tbody tr th:only-of-type {\n",
       "        vertical-align: middle;\n",
       "    }\n",
       "\n",
       "    .dataframe tbody tr th {\n",
       "        vertical-align: top;\n",
       "    }\n",
       "\n",
       "    .dataframe thead th {\n",
       "        text-align: right;\n",
       "    }\n",
       "</style>\n",
       "<table border=\"1\" class=\"dataframe\">\n",
       "  <thead>\n",
       "    <tr style=\"text-align: right;\">\n",
       "      <th></th>\n",
       "      <th>Survived</th>\n",
       "      <th>Pclass</th>\n",
       "      <th>Sex</th>\n",
       "      <th>Age</th>\n",
       "      <th>SibSp</th>\n",
       "      <th>Parch</th>\n",
       "      <th>Fare</th>\n",
       "      <th>Embarked</th>\n",
       "    </tr>\n",
       "  </thead>\n",
       "  <tbody>\n",
       "    <tr>\n",
       "      <th>0</th>\n",
       "      <td>0</td>\n",
       "      <td>3</td>\n",
       "      <td>male</td>\n",
       "      <td>22.0</td>\n",
       "      <td>1</td>\n",
       "      <td>0</td>\n",
       "      <td>7.2500</td>\n",
       "      <td>S</td>\n",
       "    </tr>\n",
       "    <tr>\n",
       "      <th>1</th>\n",
       "      <td>1</td>\n",
       "      <td>1</td>\n",
       "      <td>female</td>\n",
       "      <td>38.0</td>\n",
       "      <td>1</td>\n",
       "      <td>0</td>\n",
       "      <td>71.2833</td>\n",
       "      <td>C</td>\n",
       "    </tr>\n",
       "    <tr>\n",
       "      <th>2</th>\n",
       "      <td>1</td>\n",
       "      <td>3</td>\n",
       "      <td>female</td>\n",
       "      <td>26.0</td>\n",
       "      <td>0</td>\n",
       "      <td>0</td>\n",
       "      <td>7.9250</td>\n",
       "      <td>S</td>\n",
       "    </tr>\n",
       "    <tr>\n",
       "      <th>3</th>\n",
       "      <td>1</td>\n",
       "      <td>1</td>\n",
       "      <td>female</td>\n",
       "      <td>35.0</td>\n",
       "      <td>1</td>\n",
       "      <td>0</td>\n",
       "      <td>53.1000</td>\n",
       "      <td>S</td>\n",
       "    </tr>\n",
       "    <tr>\n",
       "      <th>4</th>\n",
       "      <td>0</td>\n",
       "      <td>3</td>\n",
       "      <td>male</td>\n",
       "      <td>35.0</td>\n",
       "      <td>0</td>\n",
       "      <td>0</td>\n",
       "      <td>8.0500</td>\n",
       "      <td>S</td>\n",
       "    </tr>\n",
       "  </tbody>\n",
       "</table>\n",
       "</div>"
      ],
      "text/plain": [
       "   Survived  Pclass     Sex   Age  SibSp  Parch     Fare Embarked\n",
       "0         0       3    male  22.0      1      0   7.2500        S\n",
       "1         1       1  female  38.0      1      0  71.2833        C\n",
       "2         1       3  female  26.0      0      0   7.9250        S\n",
       "3         1       1  female  35.0      1      0  53.1000        S\n",
       "4         0       3    male  35.0      0      0   8.0500        S"
      ]
     },
     "execution_count": 112,
     "metadata": {},
     "output_type": "execute_result"
    }
   ],
   "source": [
    "# 수치데이터 특성 보기 : 결측치를 제외하고 수치형 데이터에 대해 요약.\n",
    "train.head()"
   ]
  },
  {
   "cell_type": "markdown",
   "id": "6e8b3e4b",
   "metadata": {},
   "source": [
    "> **3) 사분위수 범위(IQR)**<br>\n",
    "> #사분위수 범위는 자료집합의 중간 50%에 포함되는 자료의 산포도. 주어진 자료는 오름차순 정렬됨. <br>\n",
    "    > #중앙값? 자료수가 홀수면 중앙위치한 자료값, 자료수가 짝수면 중아에 위치한 2개값의 평균값.<br>\n",
    "> * 1분위수(25%): 중앙값 기준 왼쪽값들의 중앙값 의미.<br>\n",
    "> * 2분위수(50%): 중앙값.<br>\n",
    "> * 3분위수(75%): 중앙값 기준 오른쪽값들의 중앙값 의미.<br>\n",
    "> * 사분위수 범위(IQR) = 3분위수-1분위수<br>\n",
    "> ***=> 이러한 IQR 바탕으로 이를 벗어나는 범위는 이상치(outlier)로 판단하고 제거하면됨.**\n",
    "> ***=> 위의 describe를 통해 대략적인 이상치 탐지를 할 수 있음.**\n",
    "> ***이상치 제거 전저리 꼭 하기!!!**"
   ]
  },
  {
   "cell_type": "code",
   "execution_count": 16,
   "id": "42fa6241",
   "metadata": {},
   "outputs": [
    {
     "data": {
      "text/plain": [
       "<AxesSubplot:>"
      ]
     },
     "execution_count": 16,
     "metadata": {},
     "output_type": "execute_result"
    },
    {
     "data": {
      "image/png": "[encoded data removed]",
      "text/plain": [
       "<Figure size 432x288 with 1 Axes>"
      ]
     },
     "metadata": {
      "needs_background": "light"
     },
     "output_type": "display_data"
    }
   ],
   "source": [
    "# 이상치 탐지\n",
    "\n",
    "## Age 이상치 탐지\n",
    "sns.boxplot(data=train['Age'])"
   ]
  },
  {
   "cell_type": "code",
   "execution_count": 17,
   "id": "d6074ea1",
   "metadata": {},
   "outputs": [
    {
     "data": {
      "text/plain": [
       "<AxesSubplot:>"
      ]
     },
     "execution_count": 17,
     "metadata": {},
     "output_type": "execute_result"
    },
    {
     "data": {
      "image/png": "[encoded data removed]",
      "text/plain": [
       "<Figure size 432x288 with 1 Axes>"
      ]
     },
     "metadata": {
      "needs_background": "light"
     },
     "output_type": "display_data"
    }
   ],
   "source": [
    "# 이상치 탐지\n",
    "\n",
    "## SibSp 이상치 탐지\n",
    "sns.boxplot(data=train['SibSp'])"
   ]
  },
  {
   "cell_type": "code",
   "execution_count": 18,
   "id": "c1ab39c7",
   "metadata": {},
   "outputs": [
    {
     "data": {
      "text/plain": [
       "<AxesSubplot:>"
      ]
     },
     "execution_count": 18,
     "metadata": {},
     "output_type": "execute_result"
    },
    {
     "data": {
      "image/png": "[encoded data removed]",
      "text/plain": [
       "<Figure size 432x288 with 1 Axes>"
      ]
     },
     "metadata": {
      "needs_background": "light"
     },
     "output_type": "display_data"
    }
   ],
   "source": [
    "# 이상치 탐지\n",
    "\n",
    "## Parch 이상치 탐지\n",
    "sns.boxplot(data=train['Parch'])"
   ]
  },
  {
   "cell_type": "code",
   "execution_count": 19,
   "id": "408f36d4",
   "metadata": {},
   "outputs": [
    {
     "data": {
      "text/plain": [
       "<AxesSubplot:>"
      ]
     },
     "execution_count": 19,
     "metadata": {},
     "output_type": "execute_result"
    },
    {
     "data": {
      "image/png": "[encoded data removed]",
      "text/plain": [
       "<Figure size 432x288 with 1 Axes>"
      ]
     },
     "metadata": {
      "needs_background": "light"
     },
     "output_type": "display_data"
    }
   ],
   "source": [
    "# 이상치 탐지\n",
    "\n",
    "## Fare 탐지\n",
    "sns.boxplot(data=train['Fare'])"
   ]
  },
  {
   "cell_type": "code",
   "execution_count": 20,
   "id": "0bdb1b10",
   "metadata": {},
   "outputs": [
    {
     "data": {
      "text/plain": [
       "<AxesSubplot:>"
      ]
     },
     "execution_count": 20,
     "metadata": {},
     "output_type": "execute_result"
    },
    {
     "data": {
      "image/png": "[encoded data removed]",
      "text/plain": [
       "<Figure size 432x288 with 1 Axes>"
      ]
     },
     "metadata": {
      "needs_background": "light"
     },
     "output_type": "display_data"
    }
   ],
   "source": [
    "# 이상치 탐지\n",
    "\n",
    "## Pclass 이상치 탐지\n",
    "sns.boxplot(data=train['Pclass'])"
   ]
  },
  {
   "cell_type": "code",
   "execution_count": 21,
   "id": "fdf6255b",
   "metadata": {},
   "outputs": [],
   "source": [
    "#SibSp\n",
    "quantile_25 = np.quantile(train['SibSp'], 0.25)\n",
    "quantile_75 = np.quantile(train['SibSp'],0.75)\n",
    "IQR = quantile_75 - quantile_25\n",
    "\n",
    "minimum = quantile_25 - 1.5 * IQR\n",
    "maximum = quantile_75 + 1.5 * IQR\n",
    "train_IQR = train[(minimum <= train['SibSp']) & (train['SibSp'] <= maximum)]"
   ]
  },
  {
   "cell_type": "code",
   "execution_count": 22,
   "id": "8c9d2bb0",
   "metadata": {},
   "outputs": [
    {
     "data": {
      "text/plain": [
       "(845, 8)"
      ]
     },
     "execution_count": 22,
     "metadata": {},
     "output_type": "execute_result"
    }
   ],
   "source": [
    "train_IQR.shape"
   ]
  },
  {
   "cell_type": "code",
   "execution_count": 23,
   "id": "64585343",
   "metadata": {},
   "outputs": [
    {
     "data": {
      "text/plain": [
       "46"
      ]
     },
     "execution_count": 23,
     "metadata": {},
     "output_type": "execute_result"
    }
   ],
   "source": [
    "train.shape[0]-train_IQR.shape[0]"
   ]
  },
  {
   "cell_type": "code",
   "execution_count": 24,
   "id": "64df4c58",
   "metadata": {},
   "outputs": [],
   "source": [
    "#Parch\n",
    "quantile_25 = np.quantile(train_IQR['Parch'], 0.25)\n",
    "quantile_75 = np.quantile(train_IQR['Parch'],0.75)\n",
    "IQR = quantile_75 - quantile_25\n",
    "\n",
    "minimum = quantile_25 - 1.5 * IQR\n",
    "maximum = quantile_75 + 1.5 * IQR\n",
    "train_IQR2 = train_IQR[(minimum <= train_IQR['Parch']) & (train_IQR['Parch'] <= maximum)]"
   ]
  },
  {
   "cell_type": "code",
   "execution_count": 25,
   "id": "ed8d68b0",
   "metadata": {},
   "outputs": [
    {
     "data": {
      "text/plain": [
       "(676, 8)"
      ]
     },
     "execution_count": 25,
     "metadata": {},
     "output_type": "execute_result"
    }
   ],
   "source": [
    "train_IQR2.shape"
   ]
  },
  {
   "cell_type": "code",
   "execution_count": 26,
   "id": "39c8564b",
   "metadata": {},
   "outputs": [
    {
     "data": {
      "text/plain": [
       "215"
      ]
     },
     "execution_count": 26,
     "metadata": {},
     "output_type": "execute_result"
    }
   ],
   "source": [
    "train.shape[0]-train_IQR2.shape[0]"
   ]
  },
  {
   "cell_type": "code",
   "execution_count": 27,
   "id": "8c9ab22d",
   "metadata": {},
   "outputs": [],
   "source": [
    "#Fare\n",
    "quantile_25 = np.quantile(train_IQR2['Fare'], 0.25)\n",
    "quantile_75 = np.quantile(train_IQR2['Fare'],0.75)\n",
    "IQR = quantile_75 - quantile_25\n",
    "\n",
    "minimum = quantile_25 - 1.5 * IQR\n",
    "maximum = quantile_75 + 1.5 * IQR\n",
    "train_IQR3 = train_IQR2[(minimum <= train_IQR2['Fare']) & (train_IQR2['Fare'] <= maximum)]"
   ]
  },
  {
   "cell_type": "code",
   "execution_count": 28,
   "id": "74f964c9",
   "metadata": {},
   "outputs": [
    {
     "data": {
      "text/plain": [
       "(591, 8)"
      ]
     },
     "execution_count": 28,
     "metadata": {},
     "output_type": "execute_result"
    }
   ],
   "source": [
    "train_IQR3.shape"
   ]
  },
  {
   "cell_type": "code",
   "execution_count": 29,
   "id": "c6bc6912",
   "metadata": {},
   "outputs": [
    {
     "data": {
      "text/plain": [
       "300"
      ]
     },
     "execution_count": 29,
     "metadata": {},
     "output_type": "execute_result"
    }
   ],
   "source": [
    "train.shape[0]-train_IQR3.shape[0]"
   ]
  },
  {
   "cell_type": "markdown",
   "id": "2b1602b4",
   "metadata": {},
   "source": [
    "> IQR 분석 및 제거로 이상치 제거를 했음.<br>\n",
    "> 제거한 train2 이상치 제거가 제대로 되었는지 확인.\n"
   ]
  },
  {
   "cell_type": "code",
   "execution_count": 30,
   "id": "e4d99dcb",
   "metadata": {},
   "outputs": [
    {
     "data": {
      "text/plain": [
       "<AxesSubplot:>"
      ]
     },
     "execution_count": 30,
     "metadata": {},
     "output_type": "execute_result"
    },
    {
     "data": {
      "image/png": "[encoded data removed]",
      "text/plain": [
       "<Figure size 432x288 with 1 Axes>"
      ]
     },
     "metadata": {
      "needs_background": "light"
     },
     "output_type": "display_data"
    }
   ],
   "source": [
    "# 이상치 탐지\n",
    "\n",
    "## SibSp 이상치 탐지\n",
    "sns.boxplot(data=train_IQR3['SibSp'])"
   ]
  },
  {
   "cell_type": "code",
   "execution_count": 31,
   "id": "b5ec4c3d",
   "metadata": {},
   "outputs": [
    {
     "data": {
      "text/plain": [
       "<AxesSubplot:>"
      ]
     },
     "execution_count": 31,
     "metadata": {},
     "output_type": "execute_result"
    },
    {
     "data": {
      "image/png": "[encoded data removed]",
      "text/plain": [
       "<Figure size 432x288 with 1 Axes>"
      ]
     },
     "metadata": {
      "needs_background": "light"
     },
     "output_type": "display_data"
    }
   ],
   "source": [
    "# 이상치 탐지\n",
    "\n",
    "## Parch 이상치 탐지\n",
    "sns.boxplot(data=train_IQR3['Parch'])"
   ]
  },
  {
   "cell_type": "code",
   "execution_count": 32,
   "id": "cc18a2b7",
   "metadata": {},
   "outputs": [
    {
     "data": {
      "text/plain": [
       "<AxesSubplot:>"
      ]
     },
     "execution_count": 32,
     "metadata": {},
     "output_type": "execute_result"
    },
    {
     "data": {
      "image/png": "[encoded data removed]",
      "text/plain": [
       "<Figure size 432x288 with 1 Axes>"
      ]
     },
     "metadata": {
      "needs_background": "light"
     },
     "output_type": "display_data"
    }
   ],
   "source": [
    "# 이상치 탐지\n",
    "\n",
    "## Fare 탐지\n",
    "sns.boxplot(data=train_IQR3['Fare'])"
   ]
  },
  {
   "cell_type": "markdown",
   "id": "d28235df",
   "metadata": {},
   "source": [
    "> 이상치 제거 후의 boxplot을 그려보니 이상치의 비율이 많이 줄어든 것을 시각적으로 확인할 수 있다.<br>\n",
    "> 이상치 제거 후 SibSp 변수와 Parch변수의 분포는 거의 없다.(제거할 항목)<br> "
   ]
  },
  {
   "cell_type": "code",
   "execution_count": 113,
   "id": "d09142e4",
   "metadata": {},
   "outputs": [
    {
     "name": "stdout",
     "output_type": "stream",
     "text": [
      "<class 'pandas.core.frame.DataFrame'>\n",
      "RangeIndex: 891 entries, 0 to 890\n",
      "Data columns (total 8 columns):\n",
      " #   Column    Non-Null Count  Dtype  \n",
      "---  ------    --------------  -----  \n",
      " 0   Survived  891 non-null    int64  \n",
      " 1   Pclass    891 non-null    int64  \n",
      " 2   Sex       891 non-null    object \n",
      " 3   Age       714 non-null    float64\n",
      " 4   SibSp     891 non-null    int64  \n",
      " 5   Parch     891 non-null    int64  \n",
      " 6   Fare      891 non-null    float64\n",
      " 7   Embarked  889 non-null    object \n",
      "dtypes: float64(2), int64(4), object(2)\n",
      "memory usage: 55.8+ KB\n"
     ]
    }
   ],
   "source": [
    "train.info()"
   ]
  },
  {
   "cell_type": "code",
   "execution_count": 34,
   "id": "865978cb",
   "metadata": {},
   "outputs": [
    {
     "name": "stdout",
     "output_type": "stream",
     "text": [
      "<class 'pandas.core.frame.DataFrame'>\n",
      "Int64Index: 591 entries, 0 to 890\n",
      "Data columns (total 8 columns):\n",
      " #   Column    Non-Null Count  Dtype  \n",
      "---  ------    --------------  -----  \n",
      " 0   Survived  591 non-null    int64  \n",
      " 1   Pclass    591 non-null    int64  \n",
      " 2   Sex       591 non-null    object \n",
      " 3   Age       445 non-null    float64\n",
      " 4   SibSp     591 non-null    int64  \n",
      " 5   Parch     591 non-null    int64  \n",
      " 6   Fare      591 non-null    float64\n",
      " 7   Embarked  591 non-null    object \n",
      "dtypes: float64(2), int64(4), object(2)\n",
      "memory usage: 57.7+ KB\n"
     ]
    }
   ],
   "source": [
    "train_IQR3.info()"
   ]
  },
  {
   "cell_type": "markdown",
   "id": "378b3d18",
   "metadata": {},
   "source": [
    "> 또한, train과 train_1의 info확인을 통해 수치적으로 이상치가 줄어듬을 확인할 수 있다."
   ]
  },
  {
   "cell_type": "code",
   "execution_count": 35,
   "id": "8d5fec31",
   "metadata": {},
   "outputs": [],
   "source": [
    "#위 분석을 통한 열 삭제\n",
    "train_1=train_IQR3.drop(columns=['Parch'])\n",
    "test_1=test.drop(columns=['Parch'])"
   ]
  },
  {
   "cell_type": "code",
   "execution_count": 36,
   "id": "091b6ce2",
   "metadata": {},
   "outputs": [],
   "source": [
    "train_1=train_IQR3.drop(columns=['SibSp'])\n",
    "test_1=test.drop(columns=['SibSp'])"
   ]
  },
  {
   "cell_type": "code",
   "execution_count": 37,
   "id": "595c7856",
   "metadata": {},
   "outputs": [
    {
     "data": {
      "text/html": [
       "<div>\n",
       "<style scoped>\n",
       "    .dataframe tbody tr th:only-of-type {\n",
       "        vertical-align: middle;\n",
       "    }\n",
       "\n",
       "    .dataframe tbody tr th {\n",
       "        vertical-align: top;\n",
       "    }\n",
       "\n",
       "    .dataframe thead th {\n",
       "        text-align: right;\n",
       "    }\n",
       "</style>\n",
       "<table border=\"1\" class=\"dataframe\">\n",
       "  <thead>\n",
       "    <tr style=\"text-align: right;\">\n",
       "      <th></th>\n",
       "      <th>Survived</th>\n",
       "      <th>Pclass</th>\n",
       "      <th>Sex</th>\n",
       "      <th>Age</th>\n",
       "      <th>Parch</th>\n",
       "      <th>Fare</th>\n",
       "      <th>Embarked</th>\n",
       "    </tr>\n",
       "  </thead>\n",
       "  <tbody>\n",
       "    <tr>\n",
       "      <th>0</th>\n",
       "      <td>0</td>\n",
       "      <td>3</td>\n",
       "      <td>male</td>\n",
       "      <td>22.0</td>\n",
       "      <td>0</td>\n",
       "      <td>7.2500</td>\n",
       "      <td>S</td>\n",
       "    </tr>\n",
       "    <tr>\n",
       "      <th>2</th>\n",
       "      <td>1</td>\n",
       "      <td>3</td>\n",
       "      <td>female</td>\n",
       "      <td>26.0</td>\n",
       "      <td>0</td>\n",
       "      <td>7.9250</td>\n",
       "      <td>S</td>\n",
       "    </tr>\n",
       "    <tr>\n",
       "      <th>3</th>\n",
       "      <td>1</td>\n",
       "      <td>1</td>\n",
       "      <td>female</td>\n",
       "      <td>35.0</td>\n",
       "      <td>0</td>\n",
       "      <td>53.1000</td>\n",
       "      <td>S</td>\n",
       "    </tr>\n",
       "    <tr>\n",
       "      <th>4</th>\n",
       "      <td>0</td>\n",
       "      <td>3</td>\n",
       "      <td>male</td>\n",
       "      <td>35.0</td>\n",
       "      <td>0</td>\n",
       "      <td>8.0500</td>\n",
       "      <td>S</td>\n",
       "    </tr>\n",
       "    <tr>\n",
       "      <th>5</th>\n",
       "      <td>0</td>\n",
       "      <td>3</td>\n",
       "      <td>male</td>\n",
       "      <td>NaN</td>\n",
       "      <td>0</td>\n",
       "      <td>8.4583</td>\n",
       "      <td>Q</td>\n",
       "    </tr>\n",
       "  </tbody>\n",
       "</table>\n",
       "</div>"
      ],
      "text/plain": [
       "   Survived  Pclass     Sex   Age  Parch     Fare Embarked\n",
       "0         0       3    male  22.0      0   7.2500        S\n",
       "2         1       3  female  26.0      0   7.9250        S\n",
       "3         1       1  female  35.0      0  53.1000        S\n",
       "4         0       3    male  35.0      0   8.0500        S\n",
       "5         0       3    male   NaN      0   8.4583        Q"
      ]
     },
     "execution_count": 37,
     "metadata": {},
     "output_type": "execute_result"
    }
   ],
   "source": [
    "train_1.head()"
   ]
  },
  {
   "cell_type": "code",
   "execution_count": 38,
   "id": "26eb14ed",
   "metadata": {},
   "outputs": [
    {
     "data": {
      "text/html": [
       "<div>\n",
       "<style scoped>\n",
       "    .dataframe tbody tr th:only-of-type {\n",
       "        vertical-align: middle;\n",
       "    }\n",
       "\n",
       "    .dataframe tbody tr th {\n",
       "        vertical-align: top;\n",
       "    }\n",
       "\n",
       "    .dataframe thead th {\n",
       "        text-align: right;\n",
       "    }\n",
       "</style>\n",
       "<table border=\"1\" class=\"dataframe\">\n",
       "  <thead>\n",
       "    <tr style=\"text-align: right;\">\n",
       "      <th></th>\n",
       "      <th>Pclass</th>\n",
       "      <th>Sex</th>\n",
       "      <th>Age</th>\n",
       "      <th>Parch</th>\n",
       "      <th>Fare</th>\n",
       "      <th>Embarked</th>\n",
       "    </tr>\n",
       "  </thead>\n",
       "  <tbody>\n",
       "    <tr>\n",
       "      <th>0</th>\n",
       "      <td>3</td>\n",
       "      <td>male</td>\n",
       "      <td>34.5</td>\n",
       "      <td>0</td>\n",
       "      <td>7.8292</td>\n",
       "      <td>Q</td>\n",
       "    </tr>\n",
       "    <tr>\n",
       "      <th>1</th>\n",
       "      <td>3</td>\n",
       "      <td>female</td>\n",
       "      <td>47.0</td>\n",
       "      <td>0</td>\n",
       "      <td>7.0000</td>\n",
       "      <td>S</td>\n",
       "    </tr>\n",
       "    <tr>\n",
       "      <th>2</th>\n",
       "      <td>2</td>\n",
       "      <td>male</td>\n",
       "      <td>62.0</td>\n",
       "      <td>0</td>\n",
       "      <td>9.6875</td>\n",
       "      <td>Q</td>\n",
       "    </tr>\n",
       "    <tr>\n",
       "      <th>3</th>\n",
       "      <td>3</td>\n",
       "      <td>male</td>\n",
       "      <td>27.0</td>\n",
       "      <td>0</td>\n",
       "      <td>8.6625</td>\n",
       "      <td>S</td>\n",
       "    </tr>\n",
       "    <tr>\n",
       "      <th>4</th>\n",
       "      <td>3</td>\n",
       "      <td>female</td>\n",
       "      <td>22.0</td>\n",
       "      <td>1</td>\n",
       "      <td>12.2875</td>\n",
       "      <td>S</td>\n",
       "    </tr>\n",
       "  </tbody>\n",
       "</table>\n",
       "</div>"
      ],
      "text/plain": [
       "   Pclass     Sex   Age  Parch     Fare Embarked\n",
       "0       3    male  34.5      0   7.8292        Q\n",
       "1       3  female  47.0      0   7.0000        S\n",
       "2       2    male  62.0      0   9.6875        Q\n",
       "3       3    male  27.0      0   8.6625        S\n",
       "4       3  female  22.0      1  12.2875        S"
      ]
     },
     "execution_count": 38,
     "metadata": {},
     "output_type": "execute_result"
    }
   ],
   "source": [
    "test_1.head()"
   ]
  },
  {
   "cell_type": "code",
   "execution_count": 39,
   "id": "7b3f60b6",
   "metadata": {},
   "outputs": [
    {
     "name": "stderr",
     "output_type": "stream",
     "text": [
      "C:\\Users\\user\\anaconda3\\envs\\py37\\lib\\site-packages\\seaborn\\distributions.py:2619: FutureWarning: `distplot` is a deprecated function and will be removed in a future version. Please adapt your code to use either `displot` (a figure-level function with similar flexibility) or `histplot` (an axes-level function for histograms).\n",
      "  warnings.warn(msg, FutureWarning)\n"
     ]
    },
    {
     "data": {
      "text/plain": [
       "<AxesSubplot:xlabel='Survived', ylabel='Density'>"
      ]
     },
     "execution_count": 39,
     "metadata": {},
     "output_type": "execute_result"
    },
    {
     "data": {
      "image/png": "[encoded data removed]",
      "text/plain": [
       "<Figure size 432x288 with 1 Axes>"
      ]
     },
     "metadata": {
      "needs_background": "light"
     },
     "output_type": "display_data"
    }
   ],
   "source": [
    "#타깃 변수 분포 시각화 : 예측하고자하는 변수인 종속 변수를 시각화해본다.\n",
    "sns.distplot(train_1['Survived'],kde=True,bins=None)"
   ]
  },
  {
   "cell_type": "markdown",
   "id": "d65477b6",
   "metadata": {},
   "source": [
    "> **생존자 분포 시각화 비율**<br>\n",
    "> 생존(1) : 사망(0) = 1 : 2"
   ]
  },
  {
   "cell_type": "code",
   "execution_count": 40,
   "id": "15382ba8",
   "metadata": {},
   "outputs": [
    {
     "data": {
      "text/html": [
       "<div>\n",
       "<style scoped>\n",
       "    .dataframe tbody tr th:only-of-type {\n",
       "        vertical-align: middle;\n",
       "    }\n",
       "\n",
       "    .dataframe tbody tr th {\n",
       "        vertical-align: top;\n",
       "    }\n",
       "\n",
       "    .dataframe thead th {\n",
       "        text-align: right;\n",
       "    }\n",
       "</style>\n",
       "<table border=\"1\" class=\"dataframe\">\n",
       "  <thead>\n",
       "    <tr style=\"text-align: right;\">\n",
       "      <th></th>\n",
       "      <th>Age</th>\n",
       "      <th>Pclass</th>\n",
       "      <th>Fare</th>\n",
       "      <th>Sex</th>\n",
       "    </tr>\n",
       "  </thead>\n",
       "  <tbody>\n",
       "    <tr>\n",
       "      <th>0</th>\n",
       "      <td>22.0</td>\n",
       "      <td>3</td>\n",
       "      <td>7.2500</td>\n",
       "      <td>male</td>\n",
       "    </tr>\n",
       "    <tr>\n",
       "      <th>2</th>\n",
       "      <td>26.0</td>\n",
       "      <td>3</td>\n",
       "      <td>7.9250</td>\n",
       "      <td>female</td>\n",
       "    </tr>\n",
       "    <tr>\n",
       "      <th>3</th>\n",
       "      <td>35.0</td>\n",
       "      <td>1</td>\n",
       "      <td>53.1000</td>\n",
       "      <td>female</td>\n",
       "    </tr>\n",
       "    <tr>\n",
       "      <th>4</th>\n",
       "      <td>35.0</td>\n",
       "      <td>3</td>\n",
       "      <td>8.0500</td>\n",
       "      <td>male</td>\n",
       "    </tr>\n",
       "    <tr>\n",
       "      <th>5</th>\n",
       "      <td>NaN</td>\n",
       "      <td>3</td>\n",
       "      <td>8.4583</td>\n",
       "      <td>male</td>\n",
       "    </tr>\n",
       "    <tr>\n",
       "      <th>...</th>\n",
       "      <td>...</td>\n",
       "      <td>...</td>\n",
       "      <td>...</td>\n",
       "      <td>...</td>\n",
       "    </tr>\n",
       "    <tr>\n",
       "      <th>884</th>\n",
       "      <td>25.0</td>\n",
       "      <td>3</td>\n",
       "      <td>7.0500</td>\n",
       "      <td>male</td>\n",
       "    </tr>\n",
       "    <tr>\n",
       "      <th>886</th>\n",
       "      <td>27.0</td>\n",
       "      <td>2</td>\n",
       "      <td>13.0000</td>\n",
       "      <td>male</td>\n",
       "    </tr>\n",
       "    <tr>\n",
       "      <th>887</th>\n",
       "      <td>19.0</td>\n",
       "      <td>1</td>\n",
       "      <td>30.0000</td>\n",
       "      <td>female</td>\n",
       "    </tr>\n",
       "    <tr>\n",
       "      <th>889</th>\n",
       "      <td>26.0</td>\n",
       "      <td>1</td>\n",
       "      <td>30.0000</td>\n",
       "      <td>male</td>\n",
       "    </tr>\n",
       "    <tr>\n",
       "      <th>890</th>\n",
       "      <td>32.0</td>\n",
       "      <td>3</td>\n",
       "      <td>7.7500</td>\n",
       "      <td>male</td>\n",
       "    </tr>\n",
       "  </tbody>\n",
       "</table>\n",
       "<p>591 rows × 4 columns</p>\n",
       "</div>"
      ],
      "text/plain": [
       "      Age  Pclass     Fare     Sex\n",
       "0    22.0       3   7.2500    male\n",
       "2    26.0       3   7.9250  female\n",
       "3    35.0       1  53.1000  female\n",
       "4    35.0       3   8.0500    male\n",
       "5     NaN       3   8.4583    male\n",
       "..    ...     ...      ...     ...\n",
       "884  25.0       3   7.0500    male\n",
       "886  27.0       2  13.0000    male\n",
       "887  19.0       1  30.0000  female\n",
       "889  26.0       1  30.0000    male\n",
       "890  32.0       3   7.7500    male\n",
       "\n",
       "[591 rows x 4 columns]"
      ]
     },
     "execution_count": 40,
     "metadata": {},
     "output_type": "execute_result"
    }
   ],
   "source": [
    "# pairplot : 데이터에 들어있는 각 열의 모든 상관관계 출력.\n",
    "# 같은 변수끼리 짝을 이루는 대각선 방향으로 히스토그램을 그리며, 서로 다른 변수 간에 산점도를 그림.\n",
    "\n",
    "# 상관관계를 파악하고픈 열들만 뽑음.\n",
    "pair_data = train_1[['Age','Pclass','Fare','Sex']]\n",
    "pair_data"
   ]
  },
  {
   "cell_type": "code",
   "execution_count": 41,
   "id": "9f75ada1",
   "metadata": {},
   "outputs": [
    {
     "data": {
      "text/plain": [
       "<seaborn.axisgrid.PairGrid at 0x1cbf5a86208>"
      ]
     },
     "execution_count": 41,
     "metadata": {},
     "output_type": "execute_result"
    },
    {
     "data": {
      "image/png": "[encoded data removed]",
      "text/plain": [
       "<Figure size 610.5x540 with 12 Axes>"
      ]
     },
     "metadata": {
      "needs_background": "light"
     },
     "output_type": "display_data"
    }
   ],
   "source": [
    "# pairplot : 데이터에 들어있는 각 열의 모든 상관관계 출력.\n",
    "# 같은 변수끼리 짝을 이루는 대각선 방향으로 히스토그램을 그리며, 서로 다른 변수 간에 산점도를 그림.\n",
    "\n",
    "sns.pairplot(pair_data, hue='Sex')"
   ]
  },
  {
   "cell_type": "code",
   "execution_count": 42,
   "id": "d0b1cc92",
   "metadata": {},
   "outputs": [
    {
     "data": {
      "text/plain": [
       "<AxesSubplot:title={'center':'Person Correlation of Features'}>"
      ]
     },
     "execution_count": 42,
     "metadata": {},
     "output_type": "execute_result"
    },
    {
     "data": {
      "image/png": "[encoded data removed]",
      "text/plain": [
       "<Figure size 720x576 with 2 Axes>"
      ]
     },
     "metadata": {
      "needs_background": "light"
     },
     "output_type": "display_data"
    }
   ],
   "source": [
    "# heatmap : 변수별 상관관계 확인\n",
    "colormap = plt.cm.PuBu\n",
    "data = train_1.corr()\n",
    "plt.figure(figsize=(10, 8))\n",
    "plt.title(\"Person Correlation of Features\", y=1.0, size = 15)\n",
    "sns.heatmap(data, linewidths=0.1, vmax=1.0, square =True, cmap= colormap, linecolor=\"white\", annot=True, annot_kws={\"size\":16})"
   ]
  },
  {
   "cell_type": "markdown",
   "id": "775ddaa6",
   "metadata": {},
   "source": [
    "> **heatmap** <br>\n",
    "> (1) .corr() : 사용할 데이터의 상관계수를 가져옴.<br>\n",
    "> (2) linewidths : 셀을 나눈 선의 두께<br>\n",
    "> (3) linecolor : 셀을 나눠주는 선의 색을 지정<br>\n",
    "> (4) vmax : heatmap의 오른쪽에 위치한 컬러바의 최댓값 지정 <br>\n",
    "> (5) square : 셀을 정사각형으로 출력 <br>\n",
    "> (6) annot : 셀 안에 숫자를 출력 <br>\n",
    "> (7) annot_kws : 숫자의 크기를 조정해줄 수 있는 파라미터 <br>\n",
    "> * **독립변수간 다중공선성 파악에 용이**\n",
    "> * 강한 양의 상관관계: 보통 0.7보다 클 경우 \n",
    "> * 강한 음의 상관관계(하나가 증가할 경우 다른 하나는 감소한다) : -0.7보다 작을 경우\n",
    "\n",
    "\n",
    "\n",
    "> **다중공선성 확인**\n",
    "> * x증가에 따라 y가 증가하는 경향 = 두 변수의 상관도 높다.\n",
    " \n",
    "\n"
   ]
  },
  {
   "cell_type": "code",
   "execution_count": 43,
   "id": "b6fa1de7",
   "metadata": {},
   "outputs": [
    {
     "data": {
      "text/plain": [
       "<AxesSubplot:xlabel='Pclass', ylabel='Fare'>"
      ]
     },
     "execution_count": 43,
     "metadata": {},
     "output_type": "execute_result"
    },
    {
     "data": {
      "image/png": "[encoded data removed]",
      "text/plain": [
       "<Figure size 432x288 with 1 Axes>"
      ]
     },
     "metadata": {
      "needs_background": "light"
     },
     "output_type": "display_data"
    }
   ],
   "source": [
    "# 강한 음의 상관관계를 띈 Pclass/Fare의 Scatter Plot 그리기\n",
    "x_data = train_1['Pclass']\n",
    "y_data = train_1['Fare']\n",
    "sns.scatterplot(x=x_data,y=y_data)"
   ]
  },
  {
   "cell_type": "markdown",
   "id": "d8ffe3f6",
   "metadata": {},
   "source": [
    "> x가 증가함에 따라 y가 감소함으로 두 변수의 상관도가 낮다."
   ]
  },
  {
   "cell_type": "code",
   "execution_count": 44,
   "id": "61255550",
   "metadata": {},
   "outputs": [
    {
     "data": {
      "image/png": "[encoded data removed]",
      "text/plain": [
       "<Figure size 1080x360 with 3 Axes>"
      ]
     },
     "metadata": {},
     "output_type": "display_data"
    }
   ],
   "source": [
    "labels = 'Survived', 'Dead'\n",
    "\n",
    "## Pclass에 따른 사망 분포도\n",
    "size_1=[len(train_1.loc[(train_1[\"Pclass\"]==1)&(train_1[\"Survived\"]==1)]), len(train_1.loc[(train_1[\"Pclass\"]==1)&(train_1[\"Survived\"]==0)])]\n",
    "size_2=[len(train_1.loc[(train_1[\"Pclass\"]==2)&(train_1[\"Survived\"]==1)]), len(train_1.loc[(train_1[\"Pclass\"]==2)&(train_1[\"Survived\"]==0)])]\n",
    "size_3=[len(train_1.loc[(train_1[\"Pclass\"]==3)&(train_1[\"Survived\"]==1)]), len(train_1.loc[(train_1[\"Pclass\"]==3)&(train_1[\"Survived\"]==0)])]\n",
    "\n",
    "explode=(0, 0.1)\n",
    "\n",
    "fig = plt.figure()\n",
    "fig.set_size_inches(15,5)\n",
    "ax1 = fig.add_subplot(1,3,1)\n",
    "ax2 = fig.add_subplot(1,3,2)\n",
    "ax3 = fig.add_subplot(1,3,3)\n",
    "\n",
    "ax1.pie(size_1, explode=explode, labels=labels, autopct='%1.1f%%', shadow=True, startangle=90)\n",
    "ax1.set_title('1st class')\n",
    "\n",
    "ax2.pie(size_2, explode=explode, labels=labels, autopct='%1.1f%%', shadow=True, startangle=90)\n",
    "ax2.set_title('2st class')\n",
    "\n",
    "ax3.pie(size_3, explode=explode, labels=labels, autopct='%1.1f%%', shadow=True, startangle=90)\n",
    "ax3.set_title('3st class')\n",
    "\n",
    "\n",
    "plt.show()\n"
   ]
  },
  {
   "cell_type": "markdown",
   "id": "7814b4f1",
   "metadata": {},
   "source": [
    "> **Pclass에 따른 생존 여부 파악**\n",
    "> 1. 1st class : 생존 44.4%, 사망 55.6% <br>\n",
    "> 2. 2st class : 생존 36.7%, 사망 63.3% <br> \n",
    "> 3. 3st class : 생존 21.4%, 사망 78.6% <br>\n",
    "> **위 결과를 보면, 1st class의 생존 비율이 가장 높은 것을 알 수 있다.**"
   ]
  },
  {
   "cell_type": "code",
   "execution_count": 45,
   "id": "fbbe169c",
   "metadata": {},
   "outputs": [
    {
     "data": {
      "image/png": "[encoded data removed]",
      "text/plain": [
       "<Figure size 1080x360 with 2 Axes>"
      ]
     },
     "metadata": {},
     "output_type": "display_data"
    }
   ],
   "source": [
    "labels = 'Survived', 'Dead'\n",
    "\n",
    "## Sex에 따른 사망 분포도\n",
    "size_1=[len(train_1.loc[(train_1[\"Sex\"]=='male')&(train_1[\"Survived\"]==1)]), len(train_1.loc[(train_1[\"Sex\"]==\"male\")&(train_1[\"Survived\"]==0)])]\n",
    "size_2=[len(train_1.loc[(train_1[\"Sex\"]=='female')&(train_1[\"Survived\"]==1)]), len(train_1.loc[(train_1[\"Sex\"]==\"female\")&(train_1[\"Survived\"]==0)])]\n",
    "\n",
    "explode=(0, 0.1)\n",
    "\n",
    "fig = plt.figure()\n",
    "fig.set_size_inches(15,5)\n",
    "ax1 = fig.add_subplot(1,2,1)\n",
    "ax2 = fig.add_subplot(1,2,2)\n",
    "\n",
    "ax1.pie(size_1, explode=explode, labels=labels, autopct='%1.1f%%', shadow=True, startangle=90)\n",
    "ax1.set_title('male')\n",
    "\n",
    "ax2.pie(size_2, explode=explode, labels=labels, autopct='%1.1f%%', shadow=True, startangle=90)\n",
    "ax2.set_title('female')\n",
    "\n",
    "\n",
    "plt.show()\n"
   ]
  },
  {
   "cell_type": "markdown",
   "id": "07a1714f",
   "metadata": {},
   "source": [
    "> **성별에 따른 생존여부 파악**<br>\n",
    "> 1. male : 생존 14.5%, 사망 85.5% <br>\n",
    "> 2. female : 생존 71.3%, 사망 28.7% <br>\n",
    "> **위 결과를 보면, 남성보다 여성의 생존율이 높은 것을 알 수 있다.**\n"
   ]
  },
  {
   "cell_type": "code",
   "execution_count": 46,
   "id": "76593cf0",
   "metadata": {},
   "outputs": [
    {
     "data": {
      "image/png": "[encoded data removed]",
      "text/plain": [
       "<Figure size 1080x360 with 3 Axes>"
      ]
     },
     "metadata": {},
     "output_type": "display_data"
    }
   ],
   "source": [
    "labels = 'Survived', 'Dead'\n",
    "\n",
    "## Embarked에 따른 사망 분포도\n",
    "size_1=[len(train_1.loc[(train_1[\"Embarked\"]==\"C\")&(train_1[\"Survived\"]==1)]), len(train_1.loc[(train_1[\"Embarked\"]==\"C\")&(train_1[\"Survived\"]==0)])]\n",
    "size_2=[len(train_1.loc[(train_1[\"Embarked\"]==\"Q\")&(train_1[\"Survived\"]==1)]), len(train_1.loc[(train_1[\"Embarked\"]==\"Q\")&(train_1[\"Survived\"]==0)])]\n",
    "size_3=[len(train_1.loc[(train_1[\"Embarked\"]==\"S\")&(train_1[\"Survived\"]==1)]), len(train_1.loc[(train_1[\"Embarked\"]==\"S\")&(train_1[\"Survived\"]==0)])]\n",
    "\n",
    "explode=(0, 0.1)\n",
    "\n",
    "fig = plt.figure()\n",
    "fig.set_size_inches(15,5)\n",
    "ax1 = fig.add_subplot(1,3,1)\n",
    "ax2 = fig.add_subplot(1,3,2)\n",
    "ax3 = fig.add_subplot(1,3,3)\n",
    "\n",
    "ax1.pie(size_1, explode=explode, labels=labels, autopct='%1.1f%%', shadow=True, startangle=90)\n",
    "ax1.set_title('Cherbourg')\n",
    "\n",
    "ax2.pie(size_2, explode=explode, labels=labels, autopct='%1.1f%%', shadow=True, startangle=90)\n",
    "ax2.set_title('Queenstown')\n",
    "\n",
    "ax3.pie(size_3, explode=explode, labels=labels, autopct='%1.1f%%', shadow=True, startangle=90)\n",
    "ax3.set_title('Southampton')\n",
    "\n",
    "\n",
    "plt.show()"
   ]
  },
  {
   "cell_type": "markdown",
   "id": "0c2620f1",
   "metadata": {},
   "source": [
    "> **승선 위치에 따른 생존여부**\n",
    "> 1. Cherbourg : 생존 34.6%, 사망 65.4% <br>\n",
    "> 2. Queenstown : 생존 43.3%, 사망 56.7% <br>\n",
    "> 3. southampton : 생존 24.8%, 사망 75.2% <br>\n",
    "> **Queenstown > Cherbourg > Southampton 순으로 생존율이 높다.** <br>\n",
    "> **=> 이것에 대한 의미? 중요도는 사실 ,, 잘 모르겠다 ㅎㅎ**"
   ]
  },
  {
   "cell_type": "code",
   "execution_count": 47,
   "id": "b99c8044",
   "metadata": {},
   "outputs": [
    {
     "data": {
      "text/plain": [
       "Survived      0\n",
       "Pclass        0\n",
       "Sex           0\n",
       "Age         146\n",
       "Parch         0\n",
       "Fare          0\n",
       "Embarked      0\n",
       "dtype: int64"
      ]
     },
     "execution_count": 47,
     "metadata": {},
     "output_type": "execute_result"
    }
   ],
   "source": [
    "train_1.isnull().sum()"
   ]
  },
  {
   "cell_type": "code",
   "execution_count": 48,
   "id": "face5525",
   "metadata": {},
   "outputs": [],
   "source": [
    "#Age의 결측치를 평균으로 대체한다. (평균으로 대체하는 것은 최적의 값이 아닐 수도 있다.)\n",
    "train_1.fillna({'Age':int(train_1['Age'].mean())},inplace=True)"
   ]
  },
  {
   "cell_type": "code",
   "execution_count": 49,
   "id": "98cc9c0f",
   "metadata": {},
   "outputs": [
    {
     "data": {
      "text/plain": [
       "Survived    0\n",
       "Pclass      0\n",
       "Sex         0\n",
       "Age         0\n",
       "Parch       0\n",
       "Fare        0\n",
       "Embarked    0\n",
       "dtype: int64"
      ]
     },
     "execution_count": 49,
     "metadata": {},
     "output_type": "execute_result"
    }
   ],
   "source": [
    "# Age결측치 다시 확인\n",
    "train_1.isnull().sum()"
   ]
  },
  {
   "cell_type": "code",
   "execution_count": 50,
   "id": "eab09ea6",
   "metadata": {},
   "outputs": [
    {
     "data": {
      "text/html": [
       "<div>\n",
       "<style scoped>\n",
       "    .dataframe tbody tr th:only-of-type {\n",
       "        vertical-align: middle;\n",
       "    }\n",
       "\n",
       "    .dataframe tbody tr th {\n",
       "        vertical-align: top;\n",
       "    }\n",
       "\n",
       "    .dataframe thead th {\n",
       "        text-align: right;\n",
       "    }\n",
       "</style>\n",
       "<table border=\"1\" class=\"dataframe\">\n",
       "  <thead>\n",
       "    <tr style=\"text-align: right;\">\n",
       "      <th></th>\n",
       "      <th>Survived</th>\n",
       "      <th>Pclass</th>\n",
       "      <th>Sex</th>\n",
       "      <th>Age</th>\n",
       "      <th>Parch</th>\n",
       "      <th>Fare</th>\n",
       "      <th>Embarked</th>\n",
       "    </tr>\n",
       "  </thead>\n",
       "  <tbody>\n",
       "    <tr>\n",
       "      <th>0</th>\n",
       "      <td>0</td>\n",
       "      <td>3</td>\n",
       "      <td>male</td>\n",
       "      <td>22.0</td>\n",
       "      <td>0</td>\n",
       "      <td>7.2500</td>\n",
       "      <td>S</td>\n",
       "    </tr>\n",
       "    <tr>\n",
       "      <th>2</th>\n",
       "      <td>1</td>\n",
       "      <td>3</td>\n",
       "      <td>female</td>\n",
       "      <td>26.0</td>\n",
       "      <td>0</td>\n",
       "      <td>7.9250</td>\n",
       "      <td>S</td>\n",
       "    </tr>\n",
       "    <tr>\n",
       "      <th>3</th>\n",
       "      <td>1</td>\n",
       "      <td>1</td>\n",
       "      <td>female</td>\n",
       "      <td>35.0</td>\n",
       "      <td>0</td>\n",
       "      <td>53.1000</td>\n",
       "      <td>S</td>\n",
       "    </tr>\n",
       "    <tr>\n",
       "      <th>4</th>\n",
       "      <td>0</td>\n",
       "      <td>3</td>\n",
       "      <td>male</td>\n",
       "      <td>35.0</td>\n",
       "      <td>0</td>\n",
       "      <td>8.0500</td>\n",
       "      <td>S</td>\n",
       "    </tr>\n",
       "    <tr>\n",
       "      <th>5</th>\n",
       "      <td>0</td>\n",
       "      <td>3</td>\n",
       "      <td>male</td>\n",
       "      <td>31.0</td>\n",
       "      <td>0</td>\n",
       "      <td>8.4583</td>\n",
       "      <td>Q</td>\n",
       "    </tr>\n",
       "  </tbody>\n",
       "</table>\n",
       "</div>"
      ],
      "text/plain": [
       "   Survived  Pclass     Sex   Age  Parch     Fare Embarked\n",
       "0         0       3    male  22.0      0   7.2500        S\n",
       "2         1       3  female  26.0      0   7.9250        S\n",
       "3         1       1  female  35.0      0  53.1000        S\n",
       "4         0       3    male  35.0      0   8.0500        S\n",
       "5         0       3    male  31.0      0   8.4583        Q"
      ]
     },
     "execution_count": 50,
     "metadata": {},
     "output_type": "execute_result"
    }
   ],
   "source": [
    "train_1.head()"
   ]
  },
  {
   "cell_type": "markdown",
   "id": "e2715d55",
   "metadata": {},
   "source": [
    "> 위 결과를 통해 결측치 제거가 아주 잘된 것을 확인할 수 있다.<br><br>\n",
    "> Q. Parch는 성능 향상에 실질적인 도움이 될 것인가?<br>\n",
    "> A. 가족 구성원에 따른 사망 기여도는 알 수 있으나 직접적인 영향은 주지 않음.(제거할 항목)\n"
   ]
  },
  {
   "cell_type": "code",
   "execution_count": 51,
   "id": "5c815ef4",
   "metadata": {},
   "outputs": [],
   "source": [
    "# Parch 제거\n",
    "train_1=train_1.drop(columns=['Parch'])\n",
    "test_1=test_1.drop(columns=['Parch'])"
   ]
  },
  {
   "cell_type": "code",
   "execution_count": 52,
   "id": "2dc3717e",
   "metadata": {},
   "outputs": [
    {
     "data": {
      "text/html": [
       "<div>\n",
       "<style scoped>\n",
       "    .dataframe tbody tr th:only-of-type {\n",
       "        vertical-align: middle;\n",
       "    }\n",
       "\n",
       "    .dataframe tbody tr th {\n",
       "        vertical-align: top;\n",
       "    }\n",
       "\n",
       "    .dataframe thead th {\n",
       "        text-align: right;\n",
       "    }\n",
       "</style>\n",
       "<table border=\"1\" class=\"dataframe\">\n",
       "  <thead>\n",
       "    <tr style=\"text-align: right;\">\n",
       "      <th></th>\n",
       "      <th>Survived</th>\n",
       "      <th>Pclass</th>\n",
       "      <th>Sex</th>\n",
       "      <th>Age</th>\n",
       "      <th>Fare</th>\n",
       "      <th>Embarked</th>\n",
       "    </tr>\n",
       "  </thead>\n",
       "  <tbody>\n",
       "    <tr>\n",
       "      <th>0</th>\n",
       "      <td>0</td>\n",
       "      <td>3</td>\n",
       "      <td>male</td>\n",
       "      <td>22.0</td>\n",
       "      <td>7.2500</td>\n",
       "      <td>S</td>\n",
       "    </tr>\n",
       "    <tr>\n",
       "      <th>2</th>\n",
       "      <td>1</td>\n",
       "      <td>3</td>\n",
       "      <td>female</td>\n",
       "      <td>26.0</td>\n",
       "      <td>7.9250</td>\n",
       "      <td>S</td>\n",
       "    </tr>\n",
       "    <tr>\n",
       "      <th>3</th>\n",
       "      <td>1</td>\n",
       "      <td>1</td>\n",
       "      <td>female</td>\n",
       "      <td>35.0</td>\n",
       "      <td>53.1000</td>\n",
       "      <td>S</td>\n",
       "    </tr>\n",
       "    <tr>\n",
       "      <th>4</th>\n",
       "      <td>0</td>\n",
       "      <td>3</td>\n",
       "      <td>male</td>\n",
       "      <td>35.0</td>\n",
       "      <td>8.0500</td>\n",
       "      <td>S</td>\n",
       "    </tr>\n",
       "    <tr>\n",
       "      <th>5</th>\n",
       "      <td>0</td>\n",
       "      <td>3</td>\n",
       "      <td>male</td>\n",
       "      <td>31.0</td>\n",
       "      <td>8.4583</td>\n",
       "      <td>Q</td>\n",
       "    </tr>\n",
       "  </tbody>\n",
       "</table>\n",
       "</div>"
      ],
      "text/plain": [
       "   Survived  Pclass     Sex   Age     Fare Embarked\n",
       "0         0       3    male  22.0   7.2500        S\n",
       "2         1       3  female  26.0   7.9250        S\n",
       "3         1       1  female  35.0  53.1000        S\n",
       "4         0       3    male  35.0   8.0500        S\n",
       "5         0       3    male  31.0   8.4583        Q"
      ]
     },
     "execution_count": 52,
     "metadata": {},
     "output_type": "execute_result"
    }
   ],
   "source": [
    "train_1.head()"
   ]
  },
  {
   "cell_type": "code",
   "execution_count": 53,
   "id": "01eaa03b",
   "metadata": {},
   "outputs": [
    {
     "data": {
      "text/plain": [
       "<AxesSubplot:xlabel='Age', ylabel='Fare'>"
      ]
     },
     "execution_count": 53,
     "metadata": {},
     "output_type": "execute_result"
    },
    {
     "data": {
      "image/png": "[encoded data removed]",
      "text/plain": [
       "<Figure size 432x288 with 1 Axes>"
      ]
     },
     "metadata": {
      "needs_background": "light"
     },
     "output_type": "display_data"
    }
   ],
   "source": [
    "# Age/Fare간 산점도 그리기\n",
    "x_data = train_1['Age']\n",
    "y_data = train_1['Fare']\n",
    "sns.scatterplot(x=x_data , y=y_data)"
   ]
  },
  {
   "cell_type": "code",
   "execution_count": 54,
   "id": "28aa12fc",
   "metadata": {},
   "outputs": [
    {
     "data": {
      "text/plain": [
       "<AxesSubplot:xlabel='Age', ylabel='Fare'>"
      ]
     },
     "execution_count": 54,
     "metadata": {},
     "output_type": "execute_result"
    },
    {
     "data": {
      "image/png": "[encoded data removed]",
      "text/plain": [
       "<Figure size 1080x360 with 1 Axes>"
      ]
     },
     "metadata": {},
     "output_type": "display_data"
    }
   ],
   "source": [
    "#선형회귀선 추가해서 시각적으로 파악하기\n",
    "\n",
    "# grid 스타일 테마 정하기\n",
    "sns.set_style('darkgrid')\n",
    "\n",
    "# 그래프 객체 생성\n",
    "fig = plt.figure(figsize=(15,5))\n",
    "ax1 = fig.add_subplot(1, 2, 1)\n",
    "\n",
    "# 그래프 그리기 - 선형회귀선 \n",
    "sns.regplot(x='Age',\n",
    "           y='Fare',\n",
    "           data=train_1,\n",
    "           ax=ax1,\n",
    "           fit_reg=True)# fig_reg를 True로 하면 회귀선 표시\n"
   ]
  },
  {
   "cell_type": "markdown",
   "id": "bb40b566",
   "metadata": {},
   "source": [
    "> * Fare는 티켓 요금으로 Pclass의 등석에 따라 요금이 달라진다. \n",
    "> * csv파일을 살펴보면 1등석은 Fare가 50-90달러, 2등석은 fare가 20-40달러, 3등석은 fare가 5-10달러 사이임을 알 수 있다. \n",
    "> * 이를 통해 Fare는 Pclass에 따라 달라지므로 Survived와 직접적인 상관관계가 있다."
   ]
  },
  {
   "cell_type": "markdown",
   "id": "cf2097c2",
   "metadata": {},
   "source": [
    "> **위 그림을 보면 x_data 증가에 따라 y_data가 증가하므로 두 변수의 상관도 높음을 알 수 있다.**<br>\n",
    "> => 다중공선성을 해결하자.<br>\n",
    "> => 1. 변수 정규화<br>\n",
    "> => 2. 변수 제거<br>\n",
    "> => 3. PCA(주성분 분석)<br>"
   ]
  },
  {
   "cell_type": "code",
   "execution_count": 114,
   "id": "2ef11a8c",
   "metadata": {},
   "outputs": [
    {
     "name": "stderr",
     "output_type": "stream",
     "text": [
      "C:\\Users\\user\\anaconda3\\envs\\py37\\lib\\site-packages\\sklearn\\utils\\deprecation.py:87: FutureWarning: Function get_feature_names is deprecated; get_feature_names is deprecated in 1.0 and will be removed in 1.2. Please use get_feature_names_out instead.\n",
      "  warnings.warn(msg, category=FutureWarning)\n"
     ]
    }
   ],
   "source": [
    "# 범주형 변수를 제거하기 위해 onehot encoding을 한다.\n",
    "from sklearn.preprocessing import OneHotEncoder\n",
    "\n",
    "encoder = OneHotEncoder()\n",
    "encoder.fit(train_1[['Sex']])\n",
    "onehot = encoder.transform(train_1[['Sex']])\n",
    "\n",
    "onehot = onehot.toarray()\n",
    "onehot = pd.DataFrame(onehot)\n",
    "onehot.columns = encoder.get_feature_names()\n",
    "onehot = pd.concat([train_1, onehot], axis=1)\n"
   ]
  },
  {
   "cell_type": "code",
   "execution_count": 115,
   "id": "f346b22f",
   "metadata": {},
   "outputs": [
    {
     "data": {
      "text/html": [
       "<div>\n",
       "<style scoped>\n",
       "    .dataframe tbody tr th:only-of-type {\n",
       "        vertical-align: middle;\n",
       "    }\n",
       "\n",
       "    .dataframe tbody tr th {\n",
       "        vertical-align: top;\n",
       "    }\n",
       "\n",
       "    .dataframe thead th {\n",
       "        text-align: right;\n",
       "    }\n",
       "</style>\n",
       "<table border=\"1\" class=\"dataframe\">\n",
       "  <thead>\n",
       "    <tr style=\"text-align: right;\">\n",
       "      <th></th>\n",
       "      <th>Survived</th>\n",
       "      <th>Pclass</th>\n",
       "      <th>Sex</th>\n",
       "      <th>Age</th>\n",
       "      <th>Fare</th>\n",
       "      <th>Embarked</th>\n",
       "      <th>x0_female</th>\n",
       "      <th>x0_male</th>\n",
       "    </tr>\n",
       "  </thead>\n",
       "  <tbody>\n",
       "    <tr>\n",
       "      <th>0</th>\n",
       "      <td>0.0</td>\n",
       "      <td>3.0</td>\n",
       "      <td>male</td>\n",
       "      <td>22.0</td>\n",
       "      <td>7.250</td>\n",
       "      <td>S</td>\n",
       "      <td>0.0</td>\n",
       "      <td>1.0</td>\n",
       "    </tr>\n",
       "    <tr>\n",
       "      <th>1</th>\n",
       "      <td>NaN</td>\n",
       "      <td>NaN</td>\n",
       "      <td>NaN</td>\n",
       "      <td>NaN</td>\n",
       "      <td>NaN</td>\n",
       "      <td>NaN</td>\n",
       "      <td>1.0</td>\n",
       "      <td>0.0</td>\n",
       "    </tr>\n",
       "    <tr>\n",
       "      <th>2</th>\n",
       "      <td>1.0</td>\n",
       "      <td>3.0</td>\n",
       "      <td>female</td>\n",
       "      <td>26.0</td>\n",
       "      <td>7.925</td>\n",
       "      <td>S</td>\n",
       "      <td>1.0</td>\n",
       "      <td>0.0</td>\n",
       "    </tr>\n",
       "    <tr>\n",
       "      <th>3</th>\n",
       "      <td>1.0</td>\n",
       "      <td>1.0</td>\n",
       "      <td>female</td>\n",
       "      <td>35.0</td>\n",
       "      <td>53.100</td>\n",
       "      <td>S</td>\n",
       "      <td>0.0</td>\n",
       "      <td>1.0</td>\n",
       "    </tr>\n",
       "    <tr>\n",
       "      <th>4</th>\n",
       "      <td>0.0</td>\n",
       "      <td>3.0</td>\n",
       "      <td>male</td>\n",
       "      <td>35.0</td>\n",
       "      <td>8.050</td>\n",
       "      <td>S</td>\n",
       "      <td>0.0</td>\n",
       "      <td>1.0</td>\n",
       "    </tr>\n",
       "  </tbody>\n",
       "</table>\n",
       "</div>"
      ],
      "text/plain": [
       "   Survived  Pclass     Sex   Age    Fare Embarked  x0_female  x0_male\n",
       "0       0.0     3.0    male  22.0   7.250        S        0.0      1.0\n",
       "1       NaN     NaN     NaN   NaN     NaN      NaN        1.0      0.0\n",
       "2       1.0     3.0  female  26.0   7.925        S        1.0      0.0\n",
       "3       1.0     1.0  female  35.0  53.100        S        0.0      1.0\n",
       "4       0.0     3.0    male  35.0   8.050        S        0.0      1.0"
      ]
     },
     "execution_count": 115,
     "metadata": {},
     "output_type": "execute_result"
    }
   ],
   "source": [
    "onehot.head()"
   ]
  },
  {
   "cell_type": "code",
   "execution_count": 116,
   "id": "3b338b22",
   "metadata": {},
   "outputs": [
    {
     "data": {
      "text/plain": [
       "Survived     199\n",
       "Pclass       199\n",
       "Sex          199\n",
       "Age          199\n",
       "Fare         199\n",
       "Embarked     199\n",
       "x0_female    199\n",
       "x0_male      199\n",
       "dtype: int64"
      ]
     },
     "execution_count": 116,
     "metadata": {},
     "output_type": "execute_result"
    }
   ],
   "source": [
    "onehot.isnull().sum()"
   ]
  },
  {
   "cell_type": "code",
   "execution_count": 117,
   "id": "ad2c09f8",
   "metadata": {},
   "outputs": [],
   "source": [
    "train_3 =onehot.drop(columns=['Sex'])"
   ]
  },
  {
   "cell_type": "code",
   "execution_count": 118,
   "id": "3d5fb4df",
   "metadata": {},
   "outputs": [
    {
     "data": {
      "text/html": [
       "<div>\n",
       "<style scoped>\n",
       "    .dataframe tbody tr th:only-of-type {\n",
       "        vertical-align: middle;\n",
       "    }\n",
       "\n",
       "    .dataframe tbody tr th {\n",
       "        vertical-align: top;\n",
       "    }\n",
       "\n",
       "    .dataframe thead th {\n",
       "        text-align: right;\n",
       "    }\n",
       "</style>\n",
       "<table border=\"1\" class=\"dataframe\">\n",
       "  <thead>\n",
       "    <tr style=\"text-align: right;\">\n",
       "      <th></th>\n",
       "      <th>Survived</th>\n",
       "      <th>Pclass</th>\n",
       "      <th>Age</th>\n",
       "      <th>Fare</th>\n",
       "      <th>Embarked</th>\n",
       "      <th>x0_female</th>\n",
       "      <th>x0_male</th>\n",
       "    </tr>\n",
       "  </thead>\n",
       "  <tbody>\n",
       "    <tr>\n",
       "      <th>0</th>\n",
       "      <td>0.0</td>\n",
       "      <td>3.0</td>\n",
       "      <td>22.0</td>\n",
       "      <td>7.250</td>\n",
       "      <td>S</td>\n",
       "      <td>0.0</td>\n",
       "      <td>1.0</td>\n",
       "    </tr>\n",
       "    <tr>\n",
       "      <th>1</th>\n",
       "      <td>NaN</td>\n",
       "      <td>NaN</td>\n",
       "      <td>NaN</td>\n",
       "      <td>NaN</td>\n",
       "      <td>NaN</td>\n",
       "      <td>1.0</td>\n",
       "      <td>0.0</td>\n",
       "    </tr>\n",
       "    <tr>\n",
       "      <th>2</th>\n",
       "      <td>1.0</td>\n",
       "      <td>3.0</td>\n",
       "      <td>26.0</td>\n",
       "      <td>7.925</td>\n",
       "      <td>S</td>\n",
       "      <td>1.0</td>\n",
       "      <td>0.0</td>\n",
       "    </tr>\n",
       "    <tr>\n",
       "      <th>3</th>\n",
       "      <td>1.0</td>\n",
       "      <td>1.0</td>\n",
       "      <td>35.0</td>\n",
       "      <td>53.100</td>\n",
       "      <td>S</td>\n",
       "      <td>0.0</td>\n",
       "      <td>1.0</td>\n",
       "    </tr>\n",
       "    <tr>\n",
       "      <th>4</th>\n",
       "      <td>0.0</td>\n",
       "      <td>3.0</td>\n",
       "      <td>35.0</td>\n",
       "      <td>8.050</td>\n",
       "      <td>S</td>\n",
       "      <td>0.0</td>\n",
       "      <td>1.0</td>\n",
       "    </tr>\n",
       "  </tbody>\n",
       "</table>\n",
       "</div>"
      ],
      "text/plain": [
       "   Survived  Pclass   Age    Fare Embarked  x0_female  x0_male\n",
       "0       0.0     3.0  22.0   7.250        S        0.0      1.0\n",
       "1       NaN     NaN   NaN     NaN      NaN        1.0      0.0\n",
       "2       1.0     3.0  26.0   7.925        S        1.0      0.0\n",
       "3       1.0     1.0  35.0  53.100        S        0.0      1.0\n",
       "4       0.0     3.0  35.0   8.050        S        0.0      1.0"
      ]
     },
     "execution_count": 118,
     "metadata": {},
     "output_type": "execute_result"
    }
   ],
   "source": [
    "train_3.head()"
   ]
  },
  {
   "cell_type": "code",
   "execution_count": 119,
   "id": "488872af",
   "metadata": {},
   "outputs": [],
   "source": [
    "train = train_3.dropna()"
   ]
  },
  {
   "cell_type": "code",
   "execution_count": 120,
   "id": "c51925f2",
   "metadata": {},
   "outputs": [
    {
     "data": {
      "text/html": [
       "<div>\n",
       "<style scoped>\n",
       "    .dataframe tbody tr th:only-of-type {\n",
       "        vertical-align: middle;\n",
       "    }\n",
       "\n",
       "    .dataframe tbody tr th {\n",
       "        vertical-align: top;\n",
       "    }\n",
       "\n",
       "    .dataframe thead th {\n",
       "        text-align: right;\n",
       "    }\n",
       "</style>\n",
       "<table border=\"1\" class=\"dataframe\">\n",
       "  <thead>\n",
       "    <tr style=\"text-align: right;\">\n",
       "      <th></th>\n",
       "      <th>Survived</th>\n",
       "      <th>Pclass</th>\n",
       "      <th>Age</th>\n",
       "      <th>Fare</th>\n",
       "      <th>Embarked</th>\n",
       "      <th>x0_female</th>\n",
       "      <th>x0_male</th>\n",
       "    </tr>\n",
       "  </thead>\n",
       "  <tbody>\n",
       "    <tr>\n",
       "      <th>0</th>\n",
       "      <td>0.0</td>\n",
       "      <td>3.0</td>\n",
       "      <td>22.0</td>\n",
       "      <td>7.2500</td>\n",
       "      <td>S</td>\n",
       "      <td>0.0</td>\n",
       "      <td>1.0</td>\n",
       "    </tr>\n",
       "    <tr>\n",
       "      <th>2</th>\n",
       "      <td>1.0</td>\n",
       "      <td>3.0</td>\n",
       "      <td>26.0</td>\n",
       "      <td>7.9250</td>\n",
       "      <td>S</td>\n",
       "      <td>1.0</td>\n",
       "      <td>0.0</td>\n",
       "    </tr>\n",
       "    <tr>\n",
       "      <th>3</th>\n",
       "      <td>1.0</td>\n",
       "      <td>1.0</td>\n",
       "      <td>35.0</td>\n",
       "      <td>53.1000</td>\n",
       "      <td>S</td>\n",
       "      <td>0.0</td>\n",
       "      <td>1.0</td>\n",
       "    </tr>\n",
       "    <tr>\n",
       "      <th>4</th>\n",
       "      <td>0.0</td>\n",
       "      <td>3.0</td>\n",
       "      <td>35.0</td>\n",
       "      <td>8.0500</td>\n",
       "      <td>S</td>\n",
       "      <td>0.0</td>\n",
       "      <td>1.0</td>\n",
       "    </tr>\n",
       "    <tr>\n",
       "      <th>5</th>\n",
       "      <td>0.0</td>\n",
       "      <td>3.0</td>\n",
       "      <td>31.0</td>\n",
       "      <td>8.4583</td>\n",
       "      <td>Q</td>\n",
       "      <td>0.0</td>\n",
       "      <td>1.0</td>\n",
       "    </tr>\n",
       "  </tbody>\n",
       "</table>\n",
       "</div>"
      ],
      "text/plain": [
       "   Survived  Pclass   Age     Fare Embarked  x0_female  x0_male\n",
       "0       0.0     3.0  22.0   7.2500        S        0.0      1.0\n",
       "2       1.0     3.0  26.0   7.9250        S        1.0      0.0\n",
       "3       1.0     1.0  35.0  53.1000        S        0.0      1.0\n",
       "4       0.0     3.0  35.0   8.0500        S        0.0      1.0\n",
       "5       0.0     3.0  31.0   8.4583        Q        0.0      1.0"
      ]
     },
     "execution_count": 120,
     "metadata": {},
     "output_type": "execute_result"
    }
   ],
   "source": [
    "train.head()"
   ]
  },
  {
   "cell_type": "code",
   "execution_count": 121,
   "id": "3cec1288",
   "metadata": {},
   "outputs": [
    {
     "data": {
      "text/plain": [
       "Survived     0\n",
       "Pclass       0\n",
       "Age          0\n",
       "Fare         0\n",
       "Embarked     0\n",
       "x0_female    0\n",
       "x0_male      0\n",
       "dtype: int64"
      ]
     },
     "execution_count": 121,
     "metadata": {},
     "output_type": "execute_result"
    }
   ],
   "source": [
    "train.isnull().sum()"
   ]
  },
  {
   "cell_type": "code",
   "execution_count": 122,
   "id": "9fd16174",
   "metadata": {},
   "outputs": [
    {
     "name": "stderr",
     "output_type": "stream",
     "text": [
      "C:\\Users\\user\\anaconda3\\envs\\py37\\lib\\site-packages\\sklearn\\utils\\deprecation.py:87: FutureWarning: Function get_feature_names is deprecated; get_feature_names is deprecated in 1.0 and will be removed in 1.2. Please use get_feature_names_out instead.\n",
      "  warnings.warn(msg, category=FutureWarning)\n"
     ]
    }
   ],
   "source": [
    "encoder2 = OneHotEncoder()\n",
    "encoder2.fit(train[['Embarked']])\n",
    "onehot2 = encoder2.transform(train[['Embarked']])\n",
    "\n",
    "onehot2 = onehot2.toarray()\n",
    "onehot2 = pd.DataFrame(onehot2)\n",
    "onehot2.columns = encoder2.get_feature_names()\n",
    "onehot2 = pd.concat([train, onehot2], axis=1)\n"
   ]
  },
  {
   "cell_type": "code",
   "execution_count": 123,
   "id": "d9696916",
   "metadata": {},
   "outputs": [
    {
     "data": {
      "text/html": [
       "<div>\n",
       "<style scoped>\n",
       "    .dataframe tbody tr th:only-of-type {\n",
       "        vertical-align: middle;\n",
       "    }\n",
       "\n",
       "    .dataframe tbody tr th {\n",
       "        vertical-align: top;\n",
       "    }\n",
       "\n",
       "    .dataframe thead th {\n",
       "        text-align: right;\n",
       "    }\n",
       "</style>\n",
       "<table border=\"1\" class=\"dataframe\">\n",
       "  <thead>\n",
       "    <tr style=\"text-align: right;\">\n",
       "      <th></th>\n",
       "      <th>Survived</th>\n",
       "      <th>Pclass</th>\n",
       "      <th>Age</th>\n",
       "      <th>Fare</th>\n",
       "      <th>Embarked</th>\n",
       "      <th>x0_female</th>\n",
       "      <th>x0_male</th>\n",
       "      <th>x0_C</th>\n",
       "      <th>x0_Q</th>\n",
       "      <th>x0_S</th>\n",
       "    </tr>\n",
       "  </thead>\n",
       "  <tbody>\n",
       "    <tr>\n",
       "      <th>0</th>\n",
       "      <td>0.0</td>\n",
       "      <td>3.0</td>\n",
       "      <td>22.0</td>\n",
       "      <td>7.250</td>\n",
       "      <td>S</td>\n",
       "      <td>0.0</td>\n",
       "      <td>1.0</td>\n",
       "      <td>0.0</td>\n",
       "      <td>0.0</td>\n",
       "      <td>1.0</td>\n",
       "    </tr>\n",
       "    <tr>\n",
       "      <th>1</th>\n",
       "      <td>NaN</td>\n",
       "      <td>NaN</td>\n",
       "      <td>NaN</td>\n",
       "      <td>NaN</td>\n",
       "      <td>NaN</td>\n",
       "      <td>NaN</td>\n",
       "      <td>NaN</td>\n",
       "      <td>0.0</td>\n",
       "      <td>0.0</td>\n",
       "      <td>1.0</td>\n",
       "    </tr>\n",
       "    <tr>\n",
       "      <th>2</th>\n",
       "      <td>1.0</td>\n",
       "      <td>3.0</td>\n",
       "      <td>26.0</td>\n",
       "      <td>7.925</td>\n",
       "      <td>S</td>\n",
       "      <td>1.0</td>\n",
       "      <td>0.0</td>\n",
       "      <td>0.0</td>\n",
       "      <td>0.0</td>\n",
       "      <td>1.0</td>\n",
       "    </tr>\n",
       "    <tr>\n",
       "      <th>3</th>\n",
       "      <td>1.0</td>\n",
       "      <td>1.0</td>\n",
       "      <td>35.0</td>\n",
       "      <td>53.100</td>\n",
       "      <td>S</td>\n",
       "      <td>0.0</td>\n",
       "      <td>1.0</td>\n",
       "      <td>0.0</td>\n",
       "      <td>0.0</td>\n",
       "      <td>1.0</td>\n",
       "    </tr>\n",
       "    <tr>\n",
       "      <th>4</th>\n",
       "      <td>0.0</td>\n",
       "      <td>3.0</td>\n",
       "      <td>35.0</td>\n",
       "      <td>8.050</td>\n",
       "      <td>S</td>\n",
       "      <td>0.0</td>\n",
       "      <td>1.0</td>\n",
       "      <td>0.0</td>\n",
       "      <td>1.0</td>\n",
       "      <td>0.0</td>\n",
       "    </tr>\n",
       "  </tbody>\n",
       "</table>\n",
       "</div>"
      ],
      "text/plain": [
       "   Survived  Pclass   Age    Fare Embarked  x0_female  x0_male  x0_C  x0_Q  \\\n",
       "0       0.0     3.0  22.0   7.250        S        0.0      1.0   0.0   0.0   \n",
       "1       NaN     NaN   NaN     NaN      NaN        NaN      NaN   0.0   0.0   \n",
       "2       1.0     3.0  26.0   7.925        S        1.0      0.0   0.0   0.0   \n",
       "3       1.0     1.0  35.0  53.100        S        0.0      1.0   0.0   0.0   \n",
       "4       0.0     3.0  35.0   8.050        S        0.0      1.0   0.0   1.0   \n",
       "\n",
       "   x0_S  \n",
       "0   1.0  \n",
       "1   1.0  \n",
       "2   1.0  \n",
       "3   1.0  \n",
       "4   0.0  "
      ]
     },
     "execution_count": 123,
     "metadata": {},
     "output_type": "execute_result"
    }
   ],
   "source": [
    "onehot2.head()"
   ]
  },
  {
   "cell_type": "code",
   "execution_count": 124,
   "id": "3992ab30",
   "metadata": {},
   "outputs": [],
   "source": [
    "onehot2 =onehot2.drop(columns=['Embarked'])"
   ]
  },
  {
   "cell_type": "code",
   "execution_count": 125,
   "id": "c8139fb2",
   "metadata": {},
   "outputs": [
    {
     "data": {
      "text/html": [
       "<div>\n",
       "<style scoped>\n",
       "    .dataframe tbody tr th:only-of-type {\n",
       "        vertical-align: middle;\n",
       "    }\n",
       "\n",
       "    .dataframe tbody tr th {\n",
       "        vertical-align: top;\n",
       "    }\n",
       "\n",
       "    .dataframe thead th {\n",
       "        text-align: right;\n",
       "    }\n",
       "</style>\n",
       "<table border=\"1\" class=\"dataframe\">\n",
       "  <thead>\n",
       "    <tr style=\"text-align: right;\">\n",
       "      <th></th>\n",
       "      <th>Survived</th>\n",
       "      <th>Pclass</th>\n",
       "      <th>Age</th>\n",
       "      <th>Fare</th>\n",
       "      <th>x0_female</th>\n",
       "      <th>x0_male</th>\n",
       "      <th>x0_C</th>\n",
       "      <th>x0_Q</th>\n",
       "      <th>x0_S</th>\n",
       "    </tr>\n",
       "  </thead>\n",
       "  <tbody>\n",
       "    <tr>\n",
       "      <th>0</th>\n",
       "      <td>0.0</td>\n",
       "      <td>3.0</td>\n",
       "      <td>22.0</td>\n",
       "      <td>7.250</td>\n",
       "      <td>0.0</td>\n",
       "      <td>1.0</td>\n",
       "      <td>0.0</td>\n",
       "      <td>0.0</td>\n",
       "      <td>1.0</td>\n",
       "    </tr>\n",
       "    <tr>\n",
       "      <th>1</th>\n",
       "      <td>NaN</td>\n",
       "      <td>NaN</td>\n",
       "      <td>NaN</td>\n",
       "      <td>NaN</td>\n",
       "      <td>NaN</td>\n",
       "      <td>NaN</td>\n",
       "      <td>0.0</td>\n",
       "      <td>0.0</td>\n",
       "      <td>1.0</td>\n",
       "    </tr>\n",
       "    <tr>\n",
       "      <th>2</th>\n",
       "      <td>1.0</td>\n",
       "      <td>3.0</td>\n",
       "      <td>26.0</td>\n",
       "      <td>7.925</td>\n",
       "      <td>1.0</td>\n",
       "      <td>0.0</td>\n",
       "      <td>0.0</td>\n",
       "      <td>0.0</td>\n",
       "      <td>1.0</td>\n",
       "    </tr>\n",
       "    <tr>\n",
       "      <th>3</th>\n",
       "      <td>1.0</td>\n",
       "      <td>1.0</td>\n",
       "      <td>35.0</td>\n",
       "      <td>53.100</td>\n",
       "      <td>0.0</td>\n",
       "      <td>1.0</td>\n",
       "      <td>0.0</td>\n",
       "      <td>0.0</td>\n",
       "      <td>1.0</td>\n",
       "    </tr>\n",
       "    <tr>\n",
       "      <th>4</th>\n",
       "      <td>0.0</td>\n",
       "      <td>3.0</td>\n",
       "      <td>35.0</td>\n",
       "      <td>8.050</td>\n",
       "      <td>0.0</td>\n",
       "      <td>1.0</td>\n",
       "      <td>0.0</td>\n",
       "      <td>1.0</td>\n",
       "      <td>0.0</td>\n",
       "    </tr>\n",
       "  </tbody>\n",
       "</table>\n",
       "</div>"
      ],
      "text/plain": [
       "   Survived  Pclass   Age    Fare  x0_female  x0_male  x0_C  x0_Q  x0_S\n",
       "0       0.0     3.0  22.0   7.250        0.0      1.0   0.0   0.0   1.0\n",
       "1       NaN     NaN   NaN     NaN        NaN      NaN   0.0   0.0   1.0\n",
       "2       1.0     3.0  26.0   7.925        1.0      0.0   0.0   0.0   1.0\n",
       "3       1.0     1.0  35.0  53.100        0.0      1.0   0.0   0.0   1.0\n",
       "4       0.0     3.0  35.0   8.050        0.0      1.0   0.0   1.0   0.0"
      ]
     },
     "execution_count": 125,
     "metadata": {},
     "output_type": "execute_result"
    }
   ],
   "source": [
    "onehot2.head()"
   ]
  },
  {
   "cell_type": "code",
   "execution_count": 126,
   "id": "8c0cd227",
   "metadata": {},
   "outputs": [],
   "source": [
    "train = onehot2.dropna()"
   ]
  },
  {
   "cell_type": "code",
   "execution_count": 127,
   "id": "9b18269c",
   "metadata": {},
   "outputs": [
    {
     "data": {
      "text/html": [
       "<div>\n",
       "<style scoped>\n",
       "    .dataframe tbody tr th:only-of-type {\n",
       "        vertical-align: middle;\n",
       "    }\n",
       "\n",
       "    .dataframe tbody tr th {\n",
       "        vertical-align: top;\n",
       "    }\n",
       "\n",
       "    .dataframe thead th {\n",
       "        text-align: right;\n",
       "    }\n",
       "</style>\n",
       "<table border=\"1\" class=\"dataframe\">\n",
       "  <thead>\n",
       "    <tr style=\"text-align: right;\">\n",
       "      <th></th>\n",
       "      <th>Survived</th>\n",
       "      <th>Pclass</th>\n",
       "      <th>Age</th>\n",
       "      <th>Fare</th>\n",
       "      <th>x0_female</th>\n",
       "      <th>x0_male</th>\n",
       "      <th>x0_C</th>\n",
       "      <th>x0_Q</th>\n",
       "      <th>x0_S</th>\n",
       "    </tr>\n",
       "  </thead>\n",
       "  <tbody>\n",
       "    <tr>\n",
       "      <th>0</th>\n",
       "      <td>0.0</td>\n",
       "      <td>3.0</td>\n",
       "      <td>22.0</td>\n",
       "      <td>7.2500</td>\n",
       "      <td>0.0</td>\n",
       "      <td>1.0</td>\n",
       "      <td>0.0</td>\n",
       "      <td>0.0</td>\n",
       "      <td>1.0</td>\n",
       "    </tr>\n",
       "    <tr>\n",
       "      <th>2</th>\n",
       "      <td>1.0</td>\n",
       "      <td>3.0</td>\n",
       "      <td>26.0</td>\n",
       "      <td>7.9250</td>\n",
       "      <td>1.0</td>\n",
       "      <td>0.0</td>\n",
       "      <td>0.0</td>\n",
       "      <td>0.0</td>\n",
       "      <td>1.0</td>\n",
       "    </tr>\n",
       "    <tr>\n",
       "      <th>3</th>\n",
       "      <td>1.0</td>\n",
       "      <td>1.0</td>\n",
       "      <td>35.0</td>\n",
       "      <td>53.1000</td>\n",
       "      <td>0.0</td>\n",
       "      <td>1.0</td>\n",
       "      <td>0.0</td>\n",
       "      <td>0.0</td>\n",
       "      <td>1.0</td>\n",
       "    </tr>\n",
       "    <tr>\n",
       "      <th>4</th>\n",
       "      <td>0.0</td>\n",
       "      <td>3.0</td>\n",
       "      <td>35.0</td>\n",
       "      <td>8.0500</td>\n",
       "      <td>0.0</td>\n",
       "      <td>1.0</td>\n",
       "      <td>0.0</td>\n",
       "      <td>1.0</td>\n",
       "      <td>0.0</td>\n",
       "    </tr>\n",
       "    <tr>\n",
       "      <th>5</th>\n",
       "      <td>0.0</td>\n",
       "      <td>3.0</td>\n",
       "      <td>31.0</td>\n",
       "      <td>8.4583</td>\n",
       "      <td>0.0</td>\n",
       "      <td>1.0</td>\n",
       "      <td>0.0</td>\n",
       "      <td>0.0</td>\n",
       "      <td>1.0</td>\n",
       "    </tr>\n",
       "  </tbody>\n",
       "</table>\n",
       "</div>"
      ],
      "text/plain": [
       "   Survived  Pclass   Age     Fare  x0_female  x0_male  x0_C  x0_Q  x0_S\n",
       "0       0.0     3.0  22.0   7.2500        0.0      1.0   0.0   0.0   1.0\n",
       "2       1.0     3.0  26.0   7.9250        1.0      0.0   0.0   0.0   1.0\n",
       "3       1.0     1.0  35.0  53.1000        0.0      1.0   0.0   0.0   1.0\n",
       "4       0.0     3.0  35.0   8.0500        0.0      1.0   0.0   1.0   0.0\n",
       "5       0.0     3.0  31.0   8.4583        0.0      1.0   0.0   0.0   1.0"
      ]
     },
     "execution_count": 127,
     "metadata": {},
     "output_type": "execute_result"
    }
   ],
   "source": [
    "train.head()"
   ]
  },
  {
   "cell_type": "code",
   "execution_count": 128,
   "id": "47fdc835",
   "metadata": {},
   "outputs": [
    {
     "data": {
      "text/plain": [
       "Survived     0\n",
       "Pclass       0\n",
       "Age          0\n",
       "Fare         0\n",
       "x0_female    0\n",
       "x0_male      0\n",
       "x0_C         0\n",
       "x0_Q         0\n",
       "x0_S         0\n",
       "dtype: int64"
      ]
     },
     "execution_count": 128,
     "metadata": {},
     "output_type": "execute_result"
    }
   ],
   "source": [
    "train.isnull().sum()"
   ]
  },
  {
   "cell_type": "code",
   "execution_count": 129,
   "id": "2db86321",
   "metadata": {},
   "outputs": [
    {
     "name": "stderr",
     "output_type": "stream",
     "text": [
      "C:\\Users\\user\\anaconda3\\envs\\py37\\lib\\site-packages\\sklearn\\utils\\deprecation.py:87: FutureWarning: Function get_feature_names is deprecated; get_feature_names is deprecated in 1.0 and will be removed in 1.2. Please use get_feature_names_out instead.\n",
      "  warnings.warn(msg, category=FutureWarning)\n"
     ]
    }
   ],
   "source": [
    "#test dataset\n",
    "encoder = OneHotEncoder()\n",
    "encoder.fit(test_1[['Sex']])\n",
    "onehot = encoder.transform(test_1[['Sex']])\n",
    "\n",
    "onehot = onehot.toarray()\n",
    "onehot = pd.DataFrame(onehot)\n",
    "onehot.columns = encoder.get_feature_names()\n",
    "onehot = pd.concat([test_1, onehot], axis=1)"
   ]
  },
  {
   "cell_type": "code",
   "execution_count": 130,
   "id": "d72dabb8",
   "metadata": {},
   "outputs": [],
   "source": [
    "test_2 =onehot.drop(columns=['Sex'])"
   ]
  },
  {
   "cell_type": "code",
   "execution_count": 131,
   "id": "821b3a23",
   "metadata": {},
   "outputs": [],
   "source": [
    "test_2 = test_2.dropna()"
   ]
  },
  {
   "cell_type": "code",
   "execution_count": 132,
   "id": "6dc1ccee",
   "metadata": {},
   "outputs": [
    {
     "name": "stderr",
     "output_type": "stream",
     "text": [
      "C:\\Users\\user\\anaconda3\\envs\\py37\\lib\\site-packages\\sklearn\\utils\\deprecation.py:87: FutureWarning: Function get_feature_names is deprecated; get_feature_names is deprecated in 1.0 and will be removed in 1.2. Please use get_feature_names_out instead.\n",
      "  warnings.warn(msg, category=FutureWarning)\n"
     ]
    }
   ],
   "source": [
    "encoder2 = OneHotEncoder()\n",
    "encoder2.fit(test_2[['Embarked']])\n",
    "onehot2 = encoder2.transform(test_2[['Embarked']])\n",
    "\n",
    "onehot2 = onehot2.toarray()\n",
    "onehot2 = pd.DataFrame(onehot2)\n",
    "onehot2.columns = encoder2.get_feature_names()\n",
    "onehot2 = pd.concat([test_2, onehot2], axis=1)"
   ]
  },
  {
   "cell_type": "code",
   "execution_count": 133,
   "id": "ef50bdea",
   "metadata": {},
   "outputs": [],
   "source": [
    "onehot2 =onehot2.drop(columns=['Embarked'])"
   ]
  },
  {
   "cell_type": "code",
   "execution_count": 134,
   "id": "c1110759",
   "metadata": {},
   "outputs": [],
   "source": [
    "test = onehot2.dropna()"
   ]
  },
  {
   "cell_type": "code",
   "execution_count": 135,
   "id": "bb33498e",
   "metadata": {},
   "outputs": [
    {
     "data": {
      "text/plain": [
       "Pclass       0\n",
       "Age          0\n",
       "Fare         0\n",
       "x0_female    0\n",
       "x0_male      0\n",
       "x0_C         0\n",
       "x0_Q         0\n",
       "x0_S         0\n",
       "dtype: int64"
      ]
     },
     "execution_count": 135,
     "metadata": {},
     "output_type": "execute_result"
    }
   ],
   "source": [
    "test.isnull().sum()"
   ]
  },
  {
   "cell_type": "code",
   "execution_count": 136,
   "id": "810eadfa",
   "metadata": {},
   "outputs": [
    {
     "data": {
      "text/html": [
       "<div>\n",
       "<style scoped>\n",
       "    .dataframe tbody tr th:only-of-type {\n",
       "        vertical-align: middle;\n",
       "    }\n",
       "\n",
       "    .dataframe tbody tr th {\n",
       "        vertical-align: top;\n",
       "    }\n",
       "\n",
       "    .dataframe thead th {\n",
       "        text-align: right;\n",
       "    }\n",
       "</style>\n",
       "<table border=\"1\" class=\"dataframe\">\n",
       "  <thead>\n",
       "    <tr style=\"text-align: right;\">\n",
       "      <th></th>\n",
       "      <th>Pclass</th>\n",
       "      <th>Age</th>\n",
       "      <th>Fare</th>\n",
       "      <th>x0_female</th>\n",
       "      <th>x0_male</th>\n",
       "      <th>x0_C</th>\n",
       "      <th>x0_Q</th>\n",
       "      <th>x0_S</th>\n",
       "    </tr>\n",
       "  </thead>\n",
       "  <tbody>\n",
       "    <tr>\n",
       "      <th>0</th>\n",
       "      <td>3.0</td>\n",
       "      <td>34.5</td>\n",
       "      <td>7.8292</td>\n",
       "      <td>0.0</td>\n",
       "      <td>1.0</td>\n",
       "      <td>0.0</td>\n",
       "      <td>1.0</td>\n",
       "      <td>0.0</td>\n",
       "    </tr>\n",
       "    <tr>\n",
       "      <th>1</th>\n",
       "      <td>3.0</td>\n",
       "      <td>47.0</td>\n",
       "      <td>7.0000</td>\n",
       "      <td>1.0</td>\n",
       "      <td>0.0</td>\n",
       "      <td>0.0</td>\n",
       "      <td>0.0</td>\n",
       "      <td>1.0</td>\n",
       "    </tr>\n",
       "    <tr>\n",
       "      <th>2</th>\n",
       "      <td>2.0</td>\n",
       "      <td>62.0</td>\n",
       "      <td>9.6875</td>\n",
       "      <td>0.0</td>\n",
       "      <td>1.0</td>\n",
       "      <td>0.0</td>\n",
       "      <td>1.0</td>\n",
       "      <td>0.0</td>\n",
       "    </tr>\n",
       "    <tr>\n",
       "      <th>3</th>\n",
       "      <td>3.0</td>\n",
       "      <td>27.0</td>\n",
       "      <td>8.6625</td>\n",
       "      <td>0.0</td>\n",
       "      <td>1.0</td>\n",
       "      <td>0.0</td>\n",
       "      <td>0.0</td>\n",
       "      <td>1.0</td>\n",
       "    </tr>\n",
       "    <tr>\n",
       "      <th>4</th>\n",
       "      <td>3.0</td>\n",
       "      <td>22.0</td>\n",
       "      <td>12.2875</td>\n",
       "      <td>1.0</td>\n",
       "      <td>0.0</td>\n",
       "      <td>0.0</td>\n",
       "      <td>0.0</td>\n",
       "      <td>1.0</td>\n",
       "    </tr>\n",
       "  </tbody>\n",
       "</table>\n",
       "</div>"
      ],
      "text/plain": [
       "   Pclass   Age     Fare  x0_female  x0_male  x0_C  x0_Q  x0_S\n",
       "0     3.0  34.5   7.8292        0.0      1.0   0.0   1.0   0.0\n",
       "1     3.0  47.0   7.0000        1.0      0.0   0.0   0.0   1.0\n",
       "2     2.0  62.0   9.6875        0.0      1.0   0.0   1.0   0.0\n",
       "3     3.0  27.0   8.6625        0.0      1.0   0.0   0.0   1.0\n",
       "4     3.0  22.0  12.2875        1.0      0.0   0.0   0.0   1.0"
      ]
     },
     "execution_count": 136,
     "metadata": {},
     "output_type": "execute_result"
    }
   ],
   "source": [
    "test.head()"
   ]
  },
  {
   "cell_type": "markdown",
   "id": "8aa6baf7",
   "metadata": {},
   "source": [
    "> onehot encoding을 통한 수치형데이터로의 변환을 진행하였다."
   ]
  },
  {
   "cell_type": "code",
   "execution_count": 137,
   "id": "a7c59a98",
   "metadata": {},
   "outputs": [
    {
     "name": "stdout",
     "output_type": "stream",
     "text": [
      "<class 'pandas.core.frame.DataFrame'>\n",
      "Int64Index: 254 entries, 0 to 391\n",
      "Data columns (total 9 columns):\n",
      " #   Column     Non-Null Count  Dtype  \n",
      "---  ------     --------------  -----  \n",
      " 0   Survived   254 non-null    float64\n",
      " 1   Pclass     254 non-null    float64\n",
      " 2   Age        254 non-null    float64\n",
      " 3   Fare       254 non-null    float64\n",
      " 4   x0_female  254 non-null    float64\n",
      " 5   x0_male    254 non-null    float64\n",
      " 6   x0_C       254 non-null    float64\n",
      " 7   x0_Q       254 non-null    float64\n",
      " 8   x0_S       254 non-null    float64\n",
      "dtypes: float64(9)\n",
      "memory usage: 19.8 KB\n"
     ]
    }
   ],
   "source": [
    "train.info()"
   ]
  },
  {
   "cell_type": "code",
   "execution_count": 79,
   "id": "54320986",
   "metadata": {},
   "outputs": [
    {
     "name": "stderr",
     "output_type": "stream",
     "text": [
      "C:\\Users\\user\\anaconda3\\envs\\py37\\lib\\site-packages\\statsmodels\\stats\\outliers_influence.py:195: RuntimeWarning: divide by zero encountered in double_scalars\n",
      "  vif = 1. / (1. - r_squared_i)\n"
     ]
    },
    {
     "data": {
      "text/html": [
       "<div>\n",
       "<style scoped>\n",
       "    .dataframe tbody tr th:only-of-type {\n",
       "        vertical-align: middle;\n",
       "    }\n",
       "\n",
       "    .dataframe tbody tr th {\n",
       "        vertical-align: top;\n",
       "    }\n",
       "\n",
       "    .dataframe thead th {\n",
       "        text-align: right;\n",
       "    }\n",
       "</style>\n",
       "<table border=\"1\" class=\"dataframe\">\n",
       "  <thead>\n",
       "    <tr style=\"text-align: right;\">\n",
       "      <th></th>\n",
       "      <th>VIF Facotr</th>\n",
       "      <th>features</th>\n",
       "    </tr>\n",
       "  </thead>\n",
       "  <tbody>\n",
       "    <tr>\n",
       "      <th>0</th>\n",
       "      <td>1.026846</td>\n",
       "      <td>Survived</td>\n",
       "    </tr>\n",
       "    <tr>\n",
       "      <th>1</th>\n",
       "      <td>2.701542</td>\n",
       "      <td>Pclass</td>\n",
       "    </tr>\n",
       "    <tr>\n",
       "      <th>2</th>\n",
       "      <td>1.227747</td>\n",
       "      <td>Age</td>\n",
       "    </tr>\n",
       "    <tr>\n",
       "      <th>3</th>\n",
       "      <td>2.528486</td>\n",
       "      <td>Fare</td>\n",
       "    </tr>\n",
       "    <tr>\n",
       "      <th>4</th>\n",
       "      <td>inf</td>\n",
       "      <td>x0_female</td>\n",
       "    </tr>\n",
       "    <tr>\n",
       "      <th>5</th>\n",
       "      <td>inf</td>\n",
       "      <td>x0_male</td>\n",
       "    </tr>\n",
       "    <tr>\n",
       "      <th>6</th>\n",
       "      <td>inf</td>\n",
       "      <td>x0_C</td>\n",
       "    </tr>\n",
       "    <tr>\n",
       "      <th>7</th>\n",
       "      <td>inf</td>\n",
       "      <td>x0_Q</td>\n",
       "    </tr>\n",
       "    <tr>\n",
       "      <th>8</th>\n",
       "      <td>inf</td>\n",
       "      <td>x0_S</td>\n",
       "    </tr>\n",
       "  </tbody>\n",
       "</table>\n",
       "</div>"
      ],
      "text/plain": [
       "   VIF Facotr   features\n",
       "0    1.026846   Survived\n",
       "1    2.701542     Pclass\n",
       "2    1.227747        Age\n",
       "3    2.528486       Fare\n",
       "4         inf  x0_female\n",
       "5         inf    x0_male\n",
       "6         inf       x0_C\n",
       "7         inf       x0_Q\n",
       "8         inf       x0_S"
      ]
     },
     "execution_count": 79,
     "metadata": {},
     "output_type": "execute_result"
    }
   ],
   "source": [
    "import statsmodels.api as sm\n",
    "import statsmodels.formula.api as smf\n",
    "from statsmodels.stats.outliers_influence import variance_inflation_factor\n",
    "\n",
    "\n",
    "vif=pd.DataFrame()\n",
    "vif['VIF Facotr']=[variance_inflation_factor(train.values, i) for i in range(train.shape[1])]\n",
    "vif['features']=train.columns\n",
    "vif\n",
    "\n"
   ]
  },
  {
   "cell_type": "code",
   "execution_count": 80,
   "id": "9c64e2d9",
   "metadata": {},
   "outputs": [
    {
     "data": {
      "text/html": [
       "<div>\n",
       "<style scoped>\n",
       "    .dataframe tbody tr th:only-of-type {\n",
       "        vertical-align: middle;\n",
       "    }\n",
       "\n",
       "    .dataframe tbody tr th {\n",
       "        vertical-align: top;\n",
       "    }\n",
       "\n",
       "    .dataframe thead th {\n",
       "        text-align: right;\n",
       "    }\n",
       "</style>\n",
       "<table border=\"1\" class=\"dataframe\">\n",
       "  <thead>\n",
       "    <tr style=\"text-align: right;\">\n",
       "      <th></th>\n",
       "      <th>0</th>\n",
       "      <th>1</th>\n",
       "      <th>2</th>\n",
       "      <th>3</th>\n",
       "      <th>4</th>\n",
       "      <th>5</th>\n",
       "      <th>6</th>\n",
       "      <th>7</th>\n",
       "      <th>8</th>\n",
       "    </tr>\n",
       "  </thead>\n",
       "  <tbody>\n",
       "    <tr>\n",
       "      <th>0</th>\n",
       "      <td>0.0</td>\n",
       "      <td>1.0</td>\n",
       "      <td>0.169492</td>\n",
       "      <td>0.136535</td>\n",
       "      <td>0.0</td>\n",
       "      <td>1.0</td>\n",
       "      <td>0.0</td>\n",
       "      <td>0.0</td>\n",
       "      <td>1.0</td>\n",
       "    </tr>\n",
       "    <tr>\n",
       "      <th>1</th>\n",
       "      <td>1.0</td>\n",
       "      <td>1.0</td>\n",
       "      <td>0.237288</td>\n",
       "      <td>0.149247</td>\n",
       "      <td>1.0</td>\n",
       "      <td>0.0</td>\n",
       "      <td>0.0</td>\n",
       "      <td>0.0</td>\n",
       "      <td>1.0</td>\n",
       "    </tr>\n",
       "    <tr>\n",
       "      <th>2</th>\n",
       "      <td>1.0</td>\n",
       "      <td>0.0</td>\n",
       "      <td>0.389831</td>\n",
       "      <td>1.000000</td>\n",
       "      <td>0.0</td>\n",
       "      <td>1.0</td>\n",
       "      <td>0.0</td>\n",
       "      <td>0.0</td>\n",
       "      <td>1.0</td>\n",
       "    </tr>\n",
       "    <tr>\n",
       "      <th>3</th>\n",
       "      <td>0.0</td>\n",
       "      <td>1.0</td>\n",
       "      <td>0.389831</td>\n",
       "      <td>0.151601</td>\n",
       "      <td>0.0</td>\n",
       "      <td>1.0</td>\n",
       "      <td>0.0</td>\n",
       "      <td>1.0</td>\n",
       "      <td>0.0</td>\n",
       "    </tr>\n",
       "    <tr>\n",
       "      <th>4</th>\n",
       "      <td>0.0</td>\n",
       "      <td>1.0</td>\n",
       "      <td>0.322034</td>\n",
       "      <td>0.159290</td>\n",
       "      <td>0.0</td>\n",
       "      <td>1.0</td>\n",
       "      <td>0.0</td>\n",
       "      <td>0.0</td>\n",
       "      <td>1.0</td>\n",
       "    </tr>\n",
       "    <tr>\n",
       "      <th>...</th>\n",
       "      <td>...</td>\n",
       "      <td>...</td>\n",
       "      <td>...</td>\n",
       "      <td>...</td>\n",
       "      <td>...</td>\n",
       "      <td>...</td>\n",
       "      <td>...</td>\n",
       "      <td>...</td>\n",
       "      <td>...</td>\n",
       "    </tr>\n",
       "    <tr>\n",
       "      <th>249</th>\n",
       "      <td>0.0</td>\n",
       "      <td>1.0</td>\n",
       "      <td>0.322034</td>\n",
       "      <td>0.148697</td>\n",
       "      <td>0.0</td>\n",
       "      <td>1.0</td>\n",
       "      <td>0.0</td>\n",
       "      <td>0.0</td>\n",
       "      <td>1.0</td>\n",
       "    </tr>\n",
       "    <tr>\n",
       "      <th>250</th>\n",
       "      <td>1.0</td>\n",
       "      <td>0.5</td>\n",
       "      <td>0.406780</td>\n",
       "      <td>0.244821</td>\n",
       "      <td>0.0</td>\n",
       "      <td>1.0</td>\n",
       "      <td>1.0</td>\n",
       "      <td>0.0</td>\n",
       "      <td>0.0</td>\n",
       "    </tr>\n",
       "    <tr>\n",
       "      <th>251</th>\n",
       "      <td>0.0</td>\n",
       "      <td>1.0</td>\n",
       "      <td>0.322034</td>\n",
       "      <td>0.145559</td>\n",
       "      <td>0.0</td>\n",
       "      <td>1.0</td>\n",
       "      <td>0.0</td>\n",
       "      <td>0.0</td>\n",
       "      <td>1.0</td>\n",
       "    </tr>\n",
       "    <tr>\n",
       "      <th>252</th>\n",
       "      <td>1.0</td>\n",
       "      <td>0.5</td>\n",
       "      <td>0.084746</td>\n",
       "      <td>0.225989</td>\n",
       "      <td>0.0</td>\n",
       "      <td>1.0</td>\n",
       "      <td>0.0</td>\n",
       "      <td>0.0</td>\n",
       "      <td>1.0</td>\n",
       "    </tr>\n",
       "    <tr>\n",
       "      <th>253</th>\n",
       "      <td>1.0</td>\n",
       "      <td>1.0</td>\n",
       "      <td>0.152542</td>\n",
       "      <td>0.146814</td>\n",
       "      <td>0.0</td>\n",
       "      <td>1.0</td>\n",
       "      <td>0.0</td>\n",
       "      <td>0.0</td>\n",
       "      <td>1.0</td>\n",
       "    </tr>\n",
       "  </tbody>\n",
       "</table>\n",
       "<p>254 rows × 9 columns</p>\n",
       "</div>"
      ],
      "text/plain": [
       "       0    1         2         3    4    5    6    7    8\n",
       "0    0.0  1.0  0.169492  0.136535  0.0  1.0  0.0  0.0  1.0\n",
       "1    1.0  1.0  0.237288  0.149247  1.0  0.0  0.0  0.0  1.0\n",
       "2    1.0  0.0  0.389831  1.000000  0.0  1.0  0.0  0.0  1.0\n",
       "3    0.0  1.0  0.389831  0.151601  0.0  1.0  0.0  1.0  0.0\n",
       "4    0.0  1.0  0.322034  0.159290  0.0  1.0  0.0  0.0  1.0\n",
       "..   ...  ...       ...       ...  ...  ...  ...  ...  ...\n",
       "249  0.0  1.0  0.322034  0.148697  0.0  1.0  0.0  0.0  1.0\n",
       "250  1.0  0.5  0.406780  0.244821  0.0  1.0  1.0  0.0  0.0\n",
       "251  0.0  1.0  0.322034  0.145559  0.0  1.0  0.0  0.0  1.0\n",
       "252  1.0  0.5  0.084746  0.225989  0.0  1.0  0.0  0.0  1.0\n",
       "253  1.0  1.0  0.152542  0.146814  0.0  1.0  0.0  0.0  1.0\n",
       "\n",
       "[254 rows x 9 columns]"
      ]
     },
     "execution_count": 80,
     "metadata": {},
     "output_type": "execute_result"
    }
   ],
   "source": [
    "from sklearn.preprocessing import MinMaxScaler\n",
    "\n",
    "scaler=MinMaxScaler()\n",
    "scaler.fit(train)\n",
    "train_scale = scaler.transform(train)\n",
    "\n",
    "new_train_df = pd.DataFrame(train_scale)\n",
    "new_train_df\n"
   ]
  },
  {
   "cell_type": "code",
   "execution_count": 81,
   "id": "187ddb24",
   "metadata": {},
   "outputs": [
    {
     "data": {
      "text/html": [
       "<div>\n",
       "<style scoped>\n",
       "    .dataframe tbody tr th:only-of-type {\n",
       "        vertical-align: middle;\n",
       "    }\n",
       "\n",
       "    .dataframe tbody tr th {\n",
       "        vertical-align: top;\n",
       "    }\n",
       "\n",
       "    .dataframe thead th {\n",
       "        text-align: right;\n",
       "    }\n",
       "</style>\n",
       "<table border=\"1\" class=\"dataframe\">\n",
       "  <thead>\n",
       "    <tr style=\"text-align: right;\">\n",
       "      <th></th>\n",
       "      <th>0</th>\n",
       "      <th>1</th>\n",
       "      <th>2</th>\n",
       "      <th>3</th>\n",
       "      <th>4</th>\n",
       "      <th>5</th>\n",
       "      <th>6</th>\n",
       "      <th>7</th>\n",
       "    </tr>\n",
       "  </thead>\n",
       "  <tbody>\n",
       "    <tr>\n",
       "      <th>0</th>\n",
       "      <td>1.0</td>\n",
       "      <td>0.451566</td>\n",
       "      <td>0.017929</td>\n",
       "      <td>0.0</td>\n",
       "      <td>1.0</td>\n",
       "      <td>0.0</td>\n",
       "      <td>1.0</td>\n",
       "      <td>0.0</td>\n",
       "    </tr>\n",
       "    <tr>\n",
       "      <th>1</th>\n",
       "      <td>1.0</td>\n",
       "      <td>0.616757</td>\n",
       "      <td>0.014737</td>\n",
       "      <td>1.0</td>\n",
       "      <td>0.0</td>\n",
       "      <td>0.0</td>\n",
       "      <td>0.0</td>\n",
       "      <td>1.0</td>\n",
       "    </tr>\n",
       "    <tr>\n",
       "      <th>2</th>\n",
       "      <td>0.5</td>\n",
       "      <td>0.814986</td>\n",
       "      <td>0.025081</td>\n",
       "      <td>0.0</td>\n",
       "      <td>1.0</td>\n",
       "      <td>0.0</td>\n",
       "      <td>1.0</td>\n",
       "      <td>0.0</td>\n",
       "    </tr>\n",
       "    <tr>\n",
       "      <th>3</th>\n",
       "      <td>1.0</td>\n",
       "      <td>0.352451</td>\n",
       "      <td>0.021136</td>\n",
       "      <td>0.0</td>\n",
       "      <td>1.0</td>\n",
       "      <td>0.0</td>\n",
       "      <td>0.0</td>\n",
       "      <td>1.0</td>\n",
       "    </tr>\n",
       "    <tr>\n",
       "      <th>4</th>\n",
       "      <td>1.0</td>\n",
       "      <td>0.286375</td>\n",
       "      <td>0.035087</td>\n",
       "      <td>1.0</td>\n",
       "      <td>0.0</td>\n",
       "      <td>0.0</td>\n",
       "      <td>0.0</td>\n",
       "      <td>1.0</td>\n",
       "    </tr>\n",
       "    <tr>\n",
       "      <th>...</th>\n",
       "      <td>...</td>\n",
       "      <td>...</td>\n",
       "      <td>...</td>\n",
       "      <td>...</td>\n",
       "      <td>...</td>\n",
       "      <td>...</td>\n",
       "      <td>...</td>\n",
       "      <td>...</td>\n",
       "    </tr>\n",
       "    <tr>\n",
       "      <th>255</th>\n",
       "      <td>0.5</td>\n",
       "      <td>0.154222</td>\n",
       "      <td>0.137895</td>\n",
       "      <td>1.0</td>\n",
       "      <td>0.0</td>\n",
       "      <td>0.0</td>\n",
       "      <td>0.0</td>\n",
       "      <td>1.0</td>\n",
       "    </tr>\n",
       "    <tr>\n",
       "      <th>256</th>\n",
       "      <td>0.0</td>\n",
       "      <td>0.603542</td>\n",
       "      <td>0.292612</td>\n",
       "      <td>0.0</td>\n",
       "      <td>1.0</td>\n",
       "      <td>0.0</td>\n",
       "      <td>1.0</td>\n",
       "      <td>0.0</td>\n",
       "    </tr>\n",
       "    <tr>\n",
       "      <th>257</th>\n",
       "      <td>0.5</td>\n",
       "      <td>0.378882</td>\n",
       "      <td>0.087862</td>\n",
       "      <td>0.0</td>\n",
       "      <td>1.0</td>\n",
       "      <td>0.0</td>\n",
       "      <td>0.0</td>\n",
       "      <td>1.0</td>\n",
       "    </tr>\n",
       "    <tr>\n",
       "      <th>258</th>\n",
       "      <td>0.5</td>\n",
       "      <td>0.273160</td>\n",
       "      <td>0.037829</td>\n",
       "      <td>0.0</td>\n",
       "      <td>1.0</td>\n",
       "      <td>1.0</td>\n",
       "      <td>0.0</td>\n",
       "      <td>0.0</td>\n",
       "    </tr>\n",
       "    <tr>\n",
       "      <th>259</th>\n",
       "      <td>0.5</td>\n",
       "      <td>0.629972</td>\n",
       "      <td>0.129236</td>\n",
       "      <td>1.0</td>\n",
       "      <td>0.0</td>\n",
       "      <td>0.0</td>\n",
       "      <td>0.0</td>\n",
       "      <td>1.0</td>\n",
       "    </tr>\n",
       "  </tbody>\n",
       "</table>\n",
       "<p>260 rows × 8 columns</p>\n",
       "</div>"
      ],
      "text/plain": [
       "       0         1         2    3    4    5    6    7\n",
       "0    1.0  0.451566  0.017929  0.0  1.0  0.0  1.0  0.0\n",
       "1    1.0  0.616757  0.014737  1.0  0.0  0.0  0.0  1.0\n",
       "2    0.5  0.814986  0.025081  0.0  1.0  0.0  1.0  0.0\n",
       "3    1.0  0.352451  0.021136  0.0  1.0  0.0  0.0  1.0\n",
       "4    1.0  0.286375  0.035087  1.0  0.0  0.0  0.0  1.0\n",
       "..   ...       ...       ...  ...  ...  ...  ...  ...\n",
       "255  0.5  0.154222  0.137895  1.0  0.0  0.0  0.0  1.0\n",
       "256  0.0  0.603542  0.292612  0.0  1.0  0.0  1.0  0.0\n",
       "257  0.5  0.378882  0.087862  0.0  1.0  0.0  0.0  1.0\n",
       "258  0.5  0.273160  0.037829  0.0  1.0  1.0  0.0  0.0\n",
       "259  0.5  0.629972  0.129236  1.0  0.0  0.0  0.0  1.0\n",
       "\n",
       "[260 rows x 8 columns]"
      ]
     },
     "execution_count": 81,
     "metadata": {},
     "output_type": "execute_result"
    }
   ],
   "source": [
    "scaler.fit(test)\n",
    "test_scale = scaler.transform(test)\n",
    "\n",
    "new_test_df = pd.DataFrame(test_scale)\n",
    "new_test_df"
   ]
  },
  {
   "cell_type": "code",
   "execution_count": 82,
   "id": "cf2ad42a",
   "metadata": {},
   "outputs": [
    {
     "name": "stderr",
     "output_type": "stream",
     "text": [
      "C:\\Users\\user\\anaconda3\\envs\\py37\\lib\\site-packages\\statsmodels\\stats\\outliers_influence.py:195: RuntimeWarning: divide by zero encountered in double_scalars\n",
      "  vif = 1. / (1. - r_squared_i)\n"
     ]
    },
    {
     "data": {
      "text/html": [
       "<div>\n",
       "<style scoped>\n",
       "    .dataframe tbody tr th:only-of-type {\n",
       "        vertical-align: middle;\n",
       "    }\n",
       "\n",
       "    .dataframe tbody tr th {\n",
       "        vertical-align: top;\n",
       "    }\n",
       "\n",
       "    .dataframe thead th {\n",
       "        text-align: right;\n",
       "    }\n",
       "</style>\n",
       "<table border=\"1\" class=\"dataframe\">\n",
       "  <thead>\n",
       "    <tr style=\"text-align: right;\">\n",
       "      <th></th>\n",
       "      <th>VIF Factor</th>\n",
       "      <th>features</th>\n",
       "    </tr>\n",
       "  </thead>\n",
       "  <tbody>\n",
       "    <tr>\n",
       "      <th>0</th>\n",
       "      <td>1.026846</td>\n",
       "      <td>0</td>\n",
       "    </tr>\n",
       "    <tr>\n",
       "      <th>1</th>\n",
       "      <td>2.701542</td>\n",
       "      <td>1</td>\n",
       "    </tr>\n",
       "    <tr>\n",
       "      <th>2</th>\n",
       "      <td>1.227747</td>\n",
       "      <td>2</td>\n",
       "    </tr>\n",
       "    <tr>\n",
       "      <th>3</th>\n",
       "      <td>2.528486</td>\n",
       "      <td>3</td>\n",
       "    </tr>\n",
       "    <tr>\n",
       "      <th>4</th>\n",
       "      <td>inf</td>\n",
       "      <td>4</td>\n",
       "    </tr>\n",
       "    <tr>\n",
       "      <th>5</th>\n",
       "      <td>inf</td>\n",
       "      <td>5</td>\n",
       "    </tr>\n",
       "    <tr>\n",
       "      <th>6</th>\n",
       "      <td>inf</td>\n",
       "      <td>6</td>\n",
       "    </tr>\n",
       "    <tr>\n",
       "      <th>7</th>\n",
       "      <td>inf</td>\n",
       "      <td>7</td>\n",
       "    </tr>\n",
       "    <tr>\n",
       "      <th>8</th>\n",
       "      <td>inf</td>\n",
       "      <td>8</td>\n",
       "    </tr>\n",
       "  </tbody>\n",
       "</table>\n",
       "</div>"
      ],
      "text/plain": [
       "   VIF Factor  features\n",
       "0    1.026846         0\n",
       "1    2.701542         1\n",
       "2    1.227747         2\n",
       "3    2.528486         3\n",
       "4         inf         4\n",
       "5         inf         5\n",
       "6         inf         6\n",
       "7         inf         7\n",
       "8         inf         8"
      ]
     },
     "execution_count": 82,
     "metadata": {},
     "output_type": "execute_result"
    }
   ],
   "source": [
    "vif = pd.DataFrame()\n",
    "vif['VIF Factor']=[variance_inflation_factor(new_train_df.values, i) for i in range(new_train_df.shape[1])]\n",
    "vif['features']=new_train_df.columns\n",
    "vif"
   ]
  },
  {
   "cell_type": "markdown",
   "id": "4a5959ff",
   "metadata": {},
   "source": [
    "> VIF(다중 공선성 진단 수치)를 구해보니, 10이상인 값이 없다.<br>\n",
    "> => 다중공선성 있는 변수가 없다는 말임.<br>\n"
   ]
  },
  {
   "cell_type": "markdown",
   "id": "e471036f",
   "metadata": {},
   "source": [
    "## 02. 모델링\n",
    "### 신경망 설계\n",
    "> * 이진 분류와 회귀 중 어떤 방식으로 접근할 지 고민하였음.\n",
    "> * 생존여부를 알려주는 Survived는 1/0으로 나눠져 있으므로 이진분류가 바람직하다고 생각될 수 있음.\n",
    "> * 하지만, 주택 가격 예측과 같이 회귀를 활용하여 1에 가까운 수가 나오면 생존, 0에 가까운 수가 나오면 사망으로 구분지어 탑승자의 특징 인과관계바탕의 연속적인 예측값을 구해봄.\n",
    "> * 모델의 마지막 Dense층 별도의 활성화 함수를 사용하지 않음.\n",
    "> * costfunction은 회귀에서 사용되는 mean square error사용."
   ]
  },
  {
   "cell_type": "code",
   "execution_count": 138,
   "id": "1b11048d",
   "metadata": {},
   "outputs": [
    {
     "data": {
      "text/html": [
       "<div>\n",
       "<style scoped>\n",
       "    .dataframe tbody tr th:only-of-type {\n",
       "        vertical-align: middle;\n",
       "    }\n",
       "\n",
       "    .dataframe tbody tr th {\n",
       "        vertical-align: top;\n",
       "    }\n",
       "\n",
       "    .dataframe thead th {\n",
       "        text-align: right;\n",
       "    }\n",
       "</style>\n",
       "<table border=\"1\" class=\"dataframe\">\n",
       "  <thead>\n",
       "    <tr style=\"text-align: right;\">\n",
       "      <th></th>\n",
       "      <th>Survived</th>\n",
       "      <th>Pclass</th>\n",
       "      <th>Age</th>\n",
       "      <th>Fare</th>\n",
       "      <th>x0_female</th>\n",
       "      <th>x0_male</th>\n",
       "      <th>x0_C</th>\n",
       "      <th>x0_Q</th>\n",
       "      <th>x0_S</th>\n",
       "    </tr>\n",
       "  </thead>\n",
       "  <tbody>\n",
       "    <tr>\n",
       "      <th>0</th>\n",
       "      <td>0.0</td>\n",
       "      <td>3.0</td>\n",
       "      <td>22.0</td>\n",
       "      <td>7.2500</td>\n",
       "      <td>0.0</td>\n",
       "      <td>1.0</td>\n",
       "      <td>0.0</td>\n",
       "      <td>0.0</td>\n",
       "      <td>1.0</td>\n",
       "    </tr>\n",
       "    <tr>\n",
       "      <th>2</th>\n",
       "      <td>1.0</td>\n",
       "      <td>3.0</td>\n",
       "      <td>26.0</td>\n",
       "      <td>7.9250</td>\n",
       "      <td>1.0</td>\n",
       "      <td>0.0</td>\n",
       "      <td>0.0</td>\n",
       "      <td>0.0</td>\n",
       "      <td>1.0</td>\n",
       "    </tr>\n",
       "    <tr>\n",
       "      <th>3</th>\n",
       "      <td>1.0</td>\n",
       "      <td>1.0</td>\n",
       "      <td>35.0</td>\n",
       "      <td>53.1000</td>\n",
       "      <td>0.0</td>\n",
       "      <td>1.0</td>\n",
       "      <td>0.0</td>\n",
       "      <td>0.0</td>\n",
       "      <td>1.0</td>\n",
       "    </tr>\n",
       "    <tr>\n",
       "      <th>4</th>\n",
       "      <td>0.0</td>\n",
       "      <td>3.0</td>\n",
       "      <td>35.0</td>\n",
       "      <td>8.0500</td>\n",
       "      <td>0.0</td>\n",
       "      <td>1.0</td>\n",
       "      <td>0.0</td>\n",
       "      <td>1.0</td>\n",
       "      <td>0.0</td>\n",
       "    </tr>\n",
       "    <tr>\n",
       "      <th>5</th>\n",
       "      <td>0.0</td>\n",
       "      <td>3.0</td>\n",
       "      <td>31.0</td>\n",
       "      <td>8.4583</td>\n",
       "      <td>0.0</td>\n",
       "      <td>1.0</td>\n",
       "      <td>0.0</td>\n",
       "      <td>0.0</td>\n",
       "      <td>1.0</td>\n",
       "    </tr>\n",
       "  </tbody>\n",
       "</table>\n",
       "</div>"
      ],
      "text/plain": [
       "   Survived  Pclass   Age     Fare  x0_female  x0_male  x0_C  x0_Q  x0_S\n",
       "0       0.0     3.0  22.0   7.2500        0.0      1.0   0.0   0.0   1.0\n",
       "2       1.0     3.0  26.0   7.9250        1.0      0.0   0.0   0.0   1.0\n",
       "3       1.0     1.0  35.0  53.1000        0.0      1.0   0.0   0.0   1.0\n",
       "4       0.0     3.0  35.0   8.0500        0.0      1.0   0.0   1.0   0.0\n",
       "5       0.0     3.0  31.0   8.4583        0.0      1.0   0.0   0.0   1.0"
      ]
     },
     "execution_count": 138,
     "metadata": {},
     "output_type": "execute_result"
    }
   ],
   "source": [
    "train.head()"
   ]
  },
  {
   "cell_type": "code",
   "execution_count": 139,
   "id": "d144ffeb",
   "metadata": {},
   "outputs": [],
   "source": [
    "x_data = train.drop(['Survived'],axis=1)\n",
    "y_data = train['Survived']"
   ]
  },
  {
   "cell_type": "code",
   "execution_count": 140,
   "id": "00c9ef53",
   "metadata": {},
   "outputs": [],
   "source": [
    "import tensorflow as tf\n",
    "from tensorflow.keras.models import Sequential\n",
    "from tensorflow.keras.layers import Dense\n",
    "from tensorflow.keras.optimizers import RMSprop\n",
    "from tensorflow.keras.losses import mse\n",
    "\n",
    "np.random.seed(7)"
   ]
  },
  {
   "cell_type": "code",
   "execution_count": 144,
   "id": "2c3f3e80",
   "metadata": {},
   "outputs": [],
   "source": [
    "input_cnt, output_cnt = 8, 1\n",
    "\n",
    "model =Sequential()\n",
    "model.add(Dense(4, input_shape=(input_cnt,),activation='relu'))\n",
    "model.add(Dense((1)))\n",
    "\n",
    "\n",
    "model.compile(optimizer=RMSprop(learning_rate=0.001), loss='mse', metrics=['acc'])\n"
   ]
  },
  {
   "cell_type": "code",
   "execution_count": 145,
   "id": "53794479",
   "metadata": {
    "scrolled": true
   },
   "outputs": [
    {
     "name": "stdout",
     "output_type": "stream",
     "text": [
      "Epoch 1/40\n",
      "254/254 [==============================] - 0s 298us/step - loss: 166.3158 - acc: 0.3150\n",
      "Epoch 2/40\n",
      "254/254 [==============================] - 0s 296us/step - loss: 14.0983 - acc: 0.3937\n",
      "Epoch 3/40\n",
      "254/254 [==============================] - 0s 294us/step - loss: 1.9007 - acc: 0.5945\n",
      "Epoch 4/40\n",
      "254/254 [==============================] - 0s 294us/step - loss: 0.8813 - acc: 0.6220\n",
      "Epoch 5/40\n",
      "254/254 [==============================] - 0s 291us/step - loss: 0.5277 - acc: 0.6339\n",
      "Epoch 6/40\n",
      "254/254 [==============================] - 0s 292us/step - loss: 0.3618 - acc: 0.6457\n",
      "Epoch 7/40\n",
      "254/254 [==============================] - 0s 294us/step - loss: 0.3099 - acc: 0.6417\n",
      "Epoch 8/40\n",
      "254/254 [==============================] - 0s 298us/step - loss: 0.2691 - acc: 0.6654\n",
      "Epoch 9/40\n",
      "254/254 [==============================] - 0s 298us/step - loss: 0.2492 - acc: 0.6575\n",
      "Epoch 10/40\n",
      "254/254 [==============================] - 0s 294us/step - loss: 0.2439 - acc: 0.6811\n",
      "Epoch 11/40\n",
      "254/254 [==============================] - 0s 298us/step - loss: 0.2349 - acc: 0.6811\n",
      "Epoch 12/40\n",
      "254/254 [==============================] - 0s 298us/step - loss: 0.2307 - acc: 0.6772\n",
      "Epoch 13/40\n",
      "254/254 [==============================] - 0s 302us/step - loss: 0.2258 - acc: 0.6811\n",
      "Epoch 14/40\n",
      "254/254 [==============================] - 0s 310us/step - loss: 0.2235 - acc: 0.6850\n",
      "Epoch 15/40\n",
      "254/254 [==============================] - 0s 302us/step - loss: 0.2199 - acc: 0.6850\n",
      "Epoch 16/40\n",
      "254/254 [==============================] - 0s 298us/step - loss: 0.2178 - acc: 0.6850\n",
      "Epoch 17/40\n",
      "254/254 [==============================] - 0s 302us/step - loss: 0.2167 - acc: 0.6850\n",
      "Epoch 18/40\n",
      "254/254 [==============================] - 0s 302us/step - loss: 0.2146 - acc: 0.6850\n",
      "Epoch 19/40\n",
      "254/254 [==============================] - 0s 302us/step - loss: 0.2151 - acc: 0.6850\n",
      "Epoch 20/40\n",
      "254/254 [==============================] - 0s 294us/step - loss: 0.2132 - acc: 0.6850\n",
      "Epoch 21/40\n",
      "254/254 [==============================] - 0s 294us/step - loss: 0.2144 - acc: 0.6850\n",
      "Epoch 22/40\n",
      "254/254 [==============================] - 0s 302us/step - loss: 0.2131 - acc: 0.6850\n",
      "Epoch 23/40\n",
      "254/254 [==============================] - 0s 298us/step - loss: 0.2132 - acc: 0.6850\n",
      "Epoch 24/40\n",
      "254/254 [==============================] - 0s 298us/step - loss: 0.2131 - acc: 0.6850\n",
      "Epoch 25/40\n",
      "254/254 [==============================] - 0s 294us/step - loss: 0.2133 - acc: 0.6850\n",
      "Epoch 26/40\n",
      "254/254 [==============================] - 0s 298us/step - loss: 0.2127 - acc: 0.6850\n",
      "Epoch 27/40\n",
      "254/254 [==============================] - 0s 298us/step - loss: 0.2130 - acc: 0.6850\n",
      "Epoch 28/40\n",
      "254/254 [==============================] - 0s 294us/step - loss: 0.2109 - acc: 0.6850\n",
      "Epoch 29/40\n",
      "254/254 [==============================] - 0s 298us/step - loss: 0.2140 - acc: 0.6850\n",
      "Epoch 30/40\n",
      "254/254 [==============================] - 0s 298us/step - loss: 0.2131 - acc: 0.6850\n",
      "Epoch 31/40\n",
      "254/254 [==============================] - 0s 298us/step - loss: 0.2131 - acc: 0.6850\n",
      "Epoch 32/40\n",
      "254/254 [==============================] - 0s 298us/step - loss: 0.2135 - acc: 0.6850\n",
      "Epoch 33/40\n",
      "254/254 [==============================] - 0s 294us/step - loss: 0.2138 - acc: 0.6850\n",
      "Epoch 34/40\n",
      "254/254 [==============================] - 0s 298us/step - loss: 0.2126 - acc: 0.6850\n",
      "Epoch 35/40\n",
      "254/254 [==============================] - 0s 294us/step - loss: 0.2131 - acc: 0.6850\n",
      "Epoch 36/40\n",
      "254/254 [==============================] - 0s 298us/step - loss: 0.2124 - acc: 0.6850\n",
      "Epoch 37/40\n",
      "254/254 [==============================] - 0s 294us/step - loss: 0.2135 - acc: 0.6850\n",
      "Epoch 38/40\n",
      "254/254 [==============================] - 0s 294us/step - loss: 0.2133 - acc: 0.6850\n",
      "Epoch 39/40\n",
      "254/254 [==============================] - 0s 294us/step - loss: 0.2128 - acc: 0.6850\n",
      "Epoch 40/40\n",
      "254/254 [==============================] - 0s 294us/step - loss: 0.2130 - acc: 0.6850\n"
     ]
    }
   ],
   "source": [
    "history=model.fit(x_data, y_data, batch_size=1, epochs=40)\n"
   ]
  },
  {
   "cell_type": "markdown",
   "id": "ca5f5267",
   "metadata": {},
   "source": [
    "#### Discussion\n",
    "> 데이터 셋이 너무 작아서 NN로 하면 정확도가 너무 낮다."
   ]
  }
 ],
 "metadata": {
  "kernelspec": {
   "display_name": "Python 3 (ipykernel)",
   "language": "python",
   "name": "python3"
  },
  "language_info": {
   "codemirror_mode": {
    "name": "ipython",
    "version": 3
   },
   "file_extension": ".py",
   "mimetype": "text/x-python",
   "name": "python",
   "nbconvert_exporter": "python",
   "pygments_lexer": "ipython3",
   "version": "3.7.11"
  }
 },
 "nbformat": 4,
 "nbformat_minor": 5
}
