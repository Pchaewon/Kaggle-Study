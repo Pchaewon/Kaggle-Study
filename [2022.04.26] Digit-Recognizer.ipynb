{
 "cells": [
  {
   "cell_type": "code",
   "execution_count": 53,
   "id": "59b34c1c",
   "metadata": {},
   "outputs": [],
   "source": [
    "import pandas as pd\n",
    "import numpy as np\n",
    "import matplotlib.pyplot as plt\n",
    "import seaborn as sns\n",
    "\n",
    "\n",
    "\n",
    "### cnn models library\n",
    "from sklearn.model_selection import train_test_split\n",
    "from sklearn.metrics import confusion_matrix\n",
    "from keras.utils.np_utils import to_categorical\n",
    "from keras.models import Sequential\n",
    "from keras.layers import Dense, Dropout, Flatten, Conv2D, MaxPool2D,BatchNormalization\n",
    "from keras.optimizers import Nadam\n",
    "from keras.preprocessing.image import ImageDataGenerator\n",
    "from keras.callbacks import ReduceLROnPlateau"
   ]
  },
  {
   "cell_type": "code",
   "execution_count": 2,
   "id": "f5821c16",
   "metadata": {},
   "outputs": [],
   "source": [
    "train = pd.read_csv('train.csv')\n",
    "test = pd.read_csv('test.csv')"
   ]
  },
  {
   "cell_type": "code",
   "execution_count": 3,
   "id": "79cf9911",
   "metadata": {},
   "outputs": [
    {
     "data": {
      "text/html": [
       "<div>\n",
       "<style scoped>\n",
       "    .dataframe tbody tr th:only-of-type {\n",
       "        vertical-align: middle;\n",
       "    }\n",
       "\n",
       "    .dataframe tbody tr th {\n",
       "        vertical-align: top;\n",
       "    }\n",
       "\n",
       "    .dataframe thead th {\n",
       "        text-align: right;\n",
       "    }\n",
       "</style>\n",
       "<table border=\"1\" class=\"dataframe\">\n",
       "  <thead>\n",
       "    <tr style=\"text-align: right;\">\n",
       "      <th></th>\n",
       "      <th>label</th>\n",
       "      <th>pixel0</th>\n",
       "      <th>pixel1</th>\n",
       "      <th>pixel2</th>\n",
       "      <th>pixel3</th>\n",
       "      <th>pixel4</th>\n",
       "      <th>pixel5</th>\n",
       "      <th>pixel6</th>\n",
       "      <th>pixel7</th>\n",
       "      <th>pixel8</th>\n",
       "      <th>...</th>\n",
       "      <th>pixel774</th>\n",
       "      <th>pixel775</th>\n",
       "      <th>pixel776</th>\n",
       "      <th>pixel777</th>\n",
       "      <th>pixel778</th>\n",
       "      <th>pixel779</th>\n",
       "      <th>pixel780</th>\n",
       "      <th>pixel781</th>\n",
       "      <th>pixel782</th>\n",
       "      <th>pixel783</th>\n",
       "    </tr>\n",
       "  </thead>\n",
       "  <tbody>\n",
       "    <tr>\n",
       "      <th>0</th>\n",
       "      <td>1</td>\n",
       "      <td>0</td>\n",
       "      <td>0</td>\n",
       "      <td>0</td>\n",
       "      <td>0</td>\n",
       "      <td>0</td>\n",
       "      <td>0</td>\n",
       "      <td>0</td>\n",
       "      <td>0</td>\n",
       "      <td>0</td>\n",
       "      <td>...</td>\n",
       "      <td>0</td>\n",
       "      <td>0</td>\n",
       "      <td>0</td>\n",
       "      <td>0</td>\n",
       "      <td>0</td>\n",
       "      <td>0</td>\n",
       "      <td>0</td>\n",
       "      <td>0</td>\n",
       "      <td>0</td>\n",
       "      <td>0</td>\n",
       "    </tr>\n",
       "    <tr>\n",
       "      <th>1</th>\n",
       "      <td>0</td>\n",
       "      <td>0</td>\n",
       "      <td>0</td>\n",
       "      <td>0</td>\n",
       "      <td>0</td>\n",
       "      <td>0</td>\n",
       "      <td>0</td>\n",
       "      <td>0</td>\n",
       "      <td>0</td>\n",
       "      <td>0</td>\n",
       "      <td>...</td>\n",
       "      <td>0</td>\n",
       "      <td>0</td>\n",
       "      <td>0</td>\n",
       "      <td>0</td>\n",
       "      <td>0</td>\n",
       "      <td>0</td>\n",
       "      <td>0</td>\n",
       "      <td>0</td>\n",
       "      <td>0</td>\n",
       "      <td>0</td>\n",
       "    </tr>\n",
       "    <tr>\n",
       "      <th>2</th>\n",
       "      <td>1</td>\n",
       "      <td>0</td>\n",
       "      <td>0</td>\n",
       "      <td>0</td>\n",
       "      <td>0</td>\n",
       "      <td>0</td>\n",
       "      <td>0</td>\n",
       "      <td>0</td>\n",
       "      <td>0</td>\n",
       "      <td>0</td>\n",
       "      <td>...</td>\n",
       "      <td>0</td>\n",
       "      <td>0</td>\n",
       "      <td>0</td>\n",
       "      <td>0</td>\n",
       "      <td>0</td>\n",
       "      <td>0</td>\n",
       "      <td>0</td>\n",
       "      <td>0</td>\n",
       "      <td>0</td>\n",
       "      <td>0</td>\n",
       "    </tr>\n",
       "    <tr>\n",
       "      <th>3</th>\n",
       "      <td>4</td>\n",
       "      <td>0</td>\n",
       "      <td>0</td>\n",
       "      <td>0</td>\n",
       "      <td>0</td>\n",
       "      <td>0</td>\n",
       "      <td>0</td>\n",
       "      <td>0</td>\n",
       "      <td>0</td>\n",
       "      <td>0</td>\n",
       "      <td>...</td>\n",
       "      <td>0</td>\n",
       "      <td>0</td>\n",
       "      <td>0</td>\n",
       "      <td>0</td>\n",
       "      <td>0</td>\n",
       "      <td>0</td>\n",
       "      <td>0</td>\n",
       "      <td>0</td>\n",
       "      <td>0</td>\n",
       "      <td>0</td>\n",
       "    </tr>\n",
       "    <tr>\n",
       "      <th>4</th>\n",
       "      <td>0</td>\n",
       "      <td>0</td>\n",
       "      <td>0</td>\n",
       "      <td>0</td>\n",
       "      <td>0</td>\n",
       "      <td>0</td>\n",
       "      <td>0</td>\n",
       "      <td>0</td>\n",
       "      <td>0</td>\n",
       "      <td>0</td>\n",
       "      <td>...</td>\n",
       "      <td>0</td>\n",
       "      <td>0</td>\n",
       "      <td>0</td>\n",
       "      <td>0</td>\n",
       "      <td>0</td>\n",
       "      <td>0</td>\n",
       "      <td>0</td>\n",
       "      <td>0</td>\n",
       "      <td>0</td>\n",
       "      <td>0</td>\n",
       "    </tr>\n",
       "  </tbody>\n",
       "</table>\n",
       "<p>5 rows × 785 columns</p>\n",
       "</div>"
      ],
      "text/plain": [
       "   label  pixel0  pixel1  pixel2  pixel3  pixel4  pixel5  pixel6  pixel7  \\\n",
       "0      1       0       0       0       0       0       0       0       0   \n",
       "1      0       0       0       0       0       0       0       0       0   \n",
       "2      1       0       0       0       0       0       0       0       0   \n",
       "3      4       0       0       0       0       0       0       0       0   \n",
       "4      0       0       0       0       0       0       0       0       0   \n",
       "\n",
       "   pixel8  ...  pixel774  pixel775  pixel776  pixel777  pixel778  pixel779  \\\n",
       "0       0  ...         0         0         0         0         0         0   \n",
       "1       0  ...         0         0         0         0         0         0   \n",
       "2       0  ...         0         0         0         0         0         0   \n",
       "3       0  ...         0         0         0         0         0         0   \n",
       "4       0  ...         0         0         0         0         0         0   \n",
       "\n",
       "   pixel780  pixel781  pixel782  pixel783  \n",
       "0         0         0         0         0  \n",
       "1         0         0         0         0  \n",
       "2         0         0         0         0  \n",
       "3         0         0         0         0  \n",
       "4         0         0         0         0  \n",
       "\n",
       "[5 rows x 785 columns]"
      ]
     },
     "execution_count": 3,
     "metadata": {},
     "output_type": "execute_result"
    }
   ],
   "source": [
    "train.head()"
   ]
  },
  {
   "cell_type": "code",
   "execution_count": 4,
   "id": "1996245a",
   "metadata": {},
   "outputs": [
    {
     "name": "stdout",
     "output_type": "stream",
     "text": [
      "<class 'pandas.core.frame.DataFrame'>\n",
      "RangeIndex: 42000 entries, 0 to 41999\n",
      "Columns: 785 entries, label to pixel783\n",
      "dtypes: int64(785)\n",
      "memory usage: 251.5 MB\n"
     ]
    }
   ],
   "source": [
    "train.info()"
   ]
  },
  {
   "cell_type": "code",
   "execution_count": 5,
   "id": "13e2ca6d",
   "metadata": {},
   "outputs": [
    {
     "data": {
      "text/plain": [
       "label  pixel0  pixel1  pixel2  pixel3  pixel4  pixel5  pixel6  pixel7  pixel8  pixel9  pixel10  pixel11  pixel12  pixel13  pixel14  pixel15  pixel16  pixel17  pixel18  pixel19  pixel20  pixel21  pixel22  pixel23  pixel24  pixel25  pixel26  pixel27  pixel28  pixel29  pixel30  pixel31  pixel32  pixel33  pixel34  pixel35  pixel36  pixel37  pixel38  pixel39  pixel40  pixel41  pixel42  pixel43  pixel44  pixel45  pixel46  pixel47  pixel48  pixel49  pixel50  pixel51  pixel52  pixel53  pixel54  pixel55  pixel56  pixel57  pixel58  pixel59  pixel60  pixel61  pixel62  pixel63  pixel64  pixel65  pixel66  pixel67  pixel68  pixel69  pixel70  pixel71  pixel72  pixel73  pixel74  pixel75  pixel76  pixel77  pixel78  pixel79  pixel80  pixel81  pixel82  pixel83  pixel84  pixel85  pixel86  pixel87  pixel88  pixel89  pixel90  pixel91  pixel92  pixel93  pixel94  pixel95  pixel96  pixel97  pixel98  pixel99  pixel100  pixel101  pixel102  pixel103  pixel104  pixel105  pixel106  pixel107  pixel108  pixel109  pixel110  pixel111  pixel112  pixel113  pixel114  pixel115  pixel116  pixel117  pixel118  pixel119  pixel120  pixel121  pixel122  pixel123  pixel124  pixel125  pixel126  pixel127  pixel128  pixel129  pixel130  pixel131  pixel132  pixel133  pixel134  pixel135  pixel136  pixel137  pixel138  pixel139  pixel140  pixel141  pixel142  pixel143  pixel144  pixel145  pixel146  pixel147  pixel148  pixel149  pixel150  pixel151  pixel152  pixel153  pixel154  pixel155  pixel156  pixel157  pixel158  pixel159  pixel160  pixel161  pixel162  pixel163  pixel164  pixel165  pixel166  pixel167  pixel168  pixel169  pixel170  pixel171  pixel172  pixel173  pixel174  pixel175  pixel176  pixel177  pixel178  pixel179  pixel180  pixel181  pixel182  pixel183  pixel184  pixel185  pixel186  pixel187  pixel188  pixel189  pixel190  pixel191  pixel192  pixel193  pixel194  pixel195  pixel196  pixel197  pixel198  pixel199  pixel200  pixel201  pixel202  pixel203  pixel204  pixel205  pixel206  pixel207  pixel208  pixel209  pixel210  pixel211  pixel212  pixel213  pixel214  pixel215  pixel216  pixel217  pixel218  pixel219  pixel220  pixel221  pixel222  pixel223  pixel224  pixel225  pixel226  pixel227  pixel228  pixel229  pixel230  pixel231  pixel232  pixel233  pixel234  pixel235  pixel236  pixel237  pixel238  pixel239  pixel240  pixel241  pixel242  pixel243  pixel244  pixel245  pixel246  pixel247  pixel248  pixel249  pixel250  pixel251  pixel252  pixel253  pixel254  pixel255  pixel256  pixel257  pixel258  pixel259  pixel260  pixel261  pixel262  pixel263  pixel264  pixel265  pixel266  pixel267  pixel268  pixel269  pixel270  pixel271  pixel272  pixel273  pixel274  pixel275  pixel276  pixel277  pixel278  pixel279  pixel280  pixel281  pixel282  pixel283  pixel284  pixel285  pixel286  pixel287  pixel288  pixel289  pixel290  pixel291  pixel292  pixel293  pixel294  pixel295  pixel296  pixel297  pixel298  pixel299  pixel300  pixel301  pixel302  pixel303  pixel304  pixel305  pixel306  pixel307  pixel308  pixel309  pixel310  pixel311  pixel312  pixel313  pixel314  pixel315  pixel316  pixel317  pixel318  pixel319  pixel320  pixel321  pixel322  pixel323  pixel324  pixel325  pixel326  pixel327  pixel328  pixel329  pixel330  pixel331  pixel332  pixel333  pixel334  pixel335  pixel336  pixel337  pixel338  pixel339  pixel340  pixel341  pixel342  pixel343  pixel344  pixel345  pixel346  pixel347  pixel348  pixel349  pixel350  pixel351  pixel352  pixel353  pixel354  pixel355  pixel356  pixel357  pixel358  pixel359  pixel360  pixel361  pixel362  pixel363  pixel364  pixel365  pixel366  pixel367  pixel368  pixel369  pixel370  pixel371  pixel372  pixel373  pixel374  pixel375  pixel376  pixel377  pixel378  pixel379  pixel380  pixel381  pixel382  pixel383  pixel384  pixel385  pixel386  pixel387  pixel388  pixel389  pixel390  pixel391  pixel392  pixel393  pixel394  pixel395  pixel396  pixel397  pixel398  pixel399  pixel400  pixel401  pixel402  pixel403  pixel404  pixel405  pixel406  pixel407  pixel408  pixel409  pixel410  pixel411  pixel412  pixel413  pixel414  pixel415  pixel416  pixel417  pixel418  pixel419  pixel420  pixel421  pixel422  pixel423  pixel424  pixel425  pixel426  pixel427  pixel428  pixel429  pixel430  pixel431  pixel432  pixel433  pixel434  pixel435  pixel436  pixel437  pixel438  pixel439  pixel440  pixel441  pixel442  pixel443  pixel444  pixel445  pixel446  pixel447  pixel448  pixel449  pixel450  pixel451  pixel452  pixel453  pixel454  pixel455  pixel456  pixel457  pixel458  pixel459  pixel460  pixel461  pixel462  pixel463  pixel464  pixel465  pixel466  pixel467  pixel468  pixel469  pixel470  pixel471  pixel472  pixel473  pixel474  pixel475  pixel476  pixel477  pixel478  pixel479  pixel480  pixel481  pixel482  pixel483  pixel484  pixel485  pixel486  pixel487  pixel488  pixel489  pixel490  pixel491  pixel492  pixel493  pixel494  pixel495  pixel496  pixel497  pixel498  pixel499  pixel500  pixel501  pixel502  pixel503  pixel504  pixel505  pixel506  pixel507  pixel508  pixel509  pixel510  pixel511  pixel512  pixel513  pixel514  pixel515  pixel516  pixel517  pixel518  pixel519  pixel520  pixel521  pixel522  pixel523  pixel524  pixel525  pixel526  pixel527  pixel528  pixel529  pixel530  pixel531  pixel532  pixel533  pixel534  pixel535  pixel536  pixel537  pixel538  pixel539  pixel540  pixel541  pixel542  pixel543  pixel544  pixel545  pixel546  pixel547  pixel548  pixel549  pixel550  pixel551  pixel552  pixel553  pixel554  pixel555  pixel556  pixel557  pixel558  pixel559  pixel560  pixel561  pixel562  pixel563  pixel564  pixel565  pixel566  pixel567  pixel568  pixel569  pixel570  pixel571  pixel572  pixel573  pixel574  pixel575  pixel576  pixel577  pixel578  pixel579  pixel580  pixel581  pixel582  pixel583  pixel584  pixel585  pixel586  pixel587  pixel588  pixel589  pixel590  pixel591  pixel592  pixel593  pixel594  pixel595  pixel596  pixel597  pixel598  pixel599  pixel600  pixel601  pixel602  pixel603  pixel604  pixel605  pixel606  pixel607  pixel608  pixel609  pixel610  pixel611  pixel612  pixel613  pixel614  pixel615  pixel616  pixel617  pixel618  pixel619  pixel620  pixel621  pixel622  pixel623  pixel624  pixel625  pixel626  pixel627  pixel628  pixel629  pixel630  pixel631  pixel632  pixel633  pixel634  pixel635  pixel636  pixel637  pixel638  pixel639  pixel640  pixel641  pixel642  pixel643  pixel644  pixel645  pixel646  pixel647  pixel648  pixel649  pixel650  pixel651  pixel652  pixel653  pixel654  pixel655  pixel656  pixel657  pixel658  pixel659  pixel660  pixel661  pixel662  pixel663  pixel664  pixel665  pixel666  pixel667  pixel668  pixel669  pixel670  pixel671  pixel672  pixel673  pixel674  pixel675  pixel676  pixel677  pixel678  pixel679  pixel680  pixel681  pixel682  pixel683  pixel684  pixel685  pixel686  pixel687  pixel688  pixel689  pixel690  pixel691  pixel692  pixel693  pixel694  pixel695  pixel696  pixel697  pixel698  pixel699  pixel700  pixel701  pixel702  pixel703  pixel704  pixel705  pixel706  pixel707  pixel708  pixel709  pixel710  pixel711  pixel712  pixel713  pixel714  pixel715  pixel716  pixel717  pixel718  pixel719  pixel720  pixel721  pixel722  pixel723  pixel724  pixel725  pixel726  pixel727  pixel728  pixel729  pixel730  pixel731  pixel732  pixel733  pixel734  pixel735  pixel736  pixel737  pixel738  pixel739  pixel740  pixel741  pixel742  pixel743  pixel744  pixel745  pixel746  pixel747  pixel748  pixel749  pixel750  pixel751  pixel752  pixel753  pixel754  pixel755  pixel756  pixel757  pixel758  pixel759  pixel760  pixel761  pixel762  pixel763  pixel764  pixel765  pixel766  pixel767  pixel768  pixel769  pixel770  pixel771  pixel772  pixel773  pixel774  pixel775  pixel776  pixel777  pixel778  pixel779  pixel780  pixel781  pixel782  pixel783\n",
       "0      0       0       0       0       0       0       0       0       0       0       0        0        0        0        0        0        0        0        0        0        0        0        0        0        0        0        0        0        0        0        0        0        0        0        0        0        0        0        0        0        0        0        0        0        0        0        0        0        0        0        0        0        0        0        0        0        0        0        0        0        0        0        0        0        0        0        0        0        0        0        0        0        0        0        0        0        0        0        0        0        0        0        0        0        0        0        0        0        0        0        0        0        0        0        0        0        0        0        0        0        0         0         0         0         0         0         0         0         0         0         0         0         0         0         0         0         0         0         0         0         0         0         0         0         0         0         0         0         0         0         0         0         0         0         0         0         0         0         0         0         0         0         0         0         0         0         0         0         0         0         0         0         0         0         0         0         0         0         0         0         0         0         0         0         0         0         0         0         0         0         0         0         0         0         0         0         0         0         0         0         0         0         0         0         0         0         0         0         0         0         0         0         0         0         0         0         0         0         0         0         0         0         0         0         0         0         0         0         0         0         0         0         0         0         0         0         0         0         0         0         0         0         0         0         0         0         0         0         0         0         0         0         0         0         0         0         0         0         0         0         0         0         0         0         0         0         0         0         0         0         0         0         0         0         0         0         0         0         0         0         0         0         0         0         0         47        61        61        61        61        0         0         0         0         0         0         0         0         0         0         0         0         0         0         0         0         0         0         0         0         0         14        159       238       252       252       252       252       188       31        0         0         0         0         0         0         0         0         0         0         0         0         0         0         0         0         0         0         70        214       252       252       252       252       252       252       253       148       0         0         0         0         0         0         0         0         0         0         0         0         0         0         0         0         0         21        239       252       252       252       220       155       155       202       253       249       83        0         0         0         0         0         0         0         0         0         0         0         0         0         0         0         11        231       252       252       252       134       16        0         0         121       253       252       96        0         0         0         0         0         0         0         0         0         0         0         0         0         0         0         70        252       252       229       45        3         0         0         0         64        253       252       211       0         0         0         0         0         0         0         0         0         0         0         0         0         0         0         197       253       253       141       0         0         0         0         0         122       255       253       217       0         0         0         0         0         0         0         0         0         0         0         0         0         0         0         253       252       252       84        0         0         0         0         0         190       253       252       146       0         0         0         0         0         0         12        0         0         0         0         0         0         0         0         253       252       252       101       0         0         0         14        146       248       253       252       96        0         0         0         0         0         0         104       0         0         0         0         0         0         0         0         172       252       252       236       83        49        89        201       252       252       253       213       32        0         0         0         0         0         0         0         0         0         0         0         0         0         0         0         44        192       192       192       192       192       192       192       192       192       187       31        0         0         0         0         0         0         0         0         0         0         0         0         0         0         0         0         0         0         0         0         0         0         0         0         0         0         0         0         0         0         0         0         0         0         0         0         0         0         0         0         0         0         0         0         0         0         0         0         0         0         0         0         0         0         0         0         0         0         0         0         0         0         0         0         0         0         0         0         0         0         0         0         0         0         0         0         0         0         0         0         0         0         0         0         0         0         0         0         0         0         0         0         0         0         0         0         0         0         0         0         0         0         0         0         0         0         0         0         0         0         0         0         0         0         0         0         0         0         0         0         0         0         0         0         0         0         0         0         0         0         0         0         0         0         0         0         0         0         0         0         0         0         0         0         0         0         0         0         0         0         0         0         0         0         0         0         0         0         0         0         0         0         0         0         0         0         0         0         0         0         0         0         0         0         0         0         0         0         0         0         0         0         0         0         0         0         0         0         0         0         0         0         0         0         0         0         0         0         0         0         0         0         0         0         0         0         0         0         0         0         0         0         0         0         0         0         0         0         0         0         0         0         0         0         0         0         0         0         0         0         0         0           1\n",
       "6      0       0       0       0       0       0       0       0       0       0       0        0        0        0        0        0        0        0        0        0        0        0        0        0        0        0        0        0        0        0        0        0        0        0        0        0        0        0        0        0        0        0        0        0        0        0        0        0        0        0        0        0        0        0        0        0        0        0        0        0        0        0        0        0        0        0        0        0        0        0        0        94       192      103      0        0        0        0        0        0        0        0        0        0        0        0        0        0        0        0        0        0        0        0        0        0        0        34       152      253      254       254       83        0         0         0         0         0         0         0         0         0         0         0         0         0         0         0         0         0         0         0         0         0         0         129       254       254       254       234       48        0         0         0         0         0         0         0         0         0         0         0         0         0         0         0         0         0         0         0         0         0         195       251       254       254       179       56        0         0         0         0         0         0         0         0         0         0         0         0         0         0         0         0         0         0         0         0         0         34        227       254       254       150       7         0         0         0         0         0         0         0         0         0         0         0         0         0         0         0         0         0         0         0         0         0         81        234       254       254       149       8         0         0         0         0         0         0         0         0         0         0         0         0         0         0         0         0         0         0         0         0         0         128       230       254       254       149       9         0         0         0         0         0         0         0         0         0         0         0         0         0         0         0         0         0         0         0         0         0         33        237       254       254       149       9         0         0         0         0         0         0         0         0         0         0         0         0         0         0         0         0         0         0         0         0         0         0         210       254       254       193       33        0         0         0         0         0         0         0         0         0         0         0         0         0         0         0         0         0         0         0         0         0         0         87        250       254       183       9         0         0         0         0         0         0         0         43        32        27        0         0         0         0         0         0         0         0         0         0         0         0         0         209       254       254       132       0         0         0         0         0         13        60        80        232       221       206       26        0         0         0         0         0         0         0         0         0         0         0         25        245       254       156       9         0         0         0         14        150       198       254       254       254       254       254       205       0         0         0         0         0         0         0         0         0         0         0         119       254       254       25        0         0         0         75        197       254       254       254       254       254       255       254       241       0         0         0         0         0         0         0         0         0         0         0         119       254       254       25        0         0         140       238       254       254       254       254       214       208       254       254       241       0         0         0         0         0         0         0         0         0         0         0         43        247       254       25        0         72        239       254       254       230       195       91        87        254       254       235       142       0         0         0         0         0         0         0         0         0         0         0         0         243       254       25        57        240       254       254       248       58        0         43        222       254       255       104       0         0         0         0         0         0         0         0         0         0         0         0         0         165       254       161       121       254       254       254       127       20        115       223       254       235       104       43        0         0         0         0         0         0         0         0         0         0         0         0         0         106       254       254       254       254       254       254       254       254       254       254       232       97        0         0         0         0         0         0         0         0         0         0         0         0         0         0         0         0         109       241       254       254       254       254       254       254       254       250       142       0         0         0         0         0         0         0         0         0         0         0         0         0         0         0         0         0         0         112       238       254       254       217       124       124       124       38        0         0         0         0         0         0         0         0         0         0         0         0         0         0         0         0         0         0         0         0         0         0         0         0         0         0         0         0         0         0         0         0         0         0         0         0         0         0         0         0         0         0         0         0         0         0         0         0         0         0         0         0         0         0         0         0         0         0         0         0         0         0         0         0         0         0         0         0         0         0         0         0         0         0         0         0         0         0         0         0         0         0         0         0         0         0         0         0         0         0         0         0         0         0         0         0         0         0         0         0         0         0         0         0         0         0         0         0         0         0         0         0         0         0         0         0         0         0         0         0         0         0         0         0         0         0         0         0         0         0         0         0         0         0         0         0         0         0         0         0         0         0         0         0         0         0         0         0         0         0         0         0         0         0         0         0         0         0         0         0         0         0         0         0         0         0         0         0         0         0         0         0         0         0         0         0         0         0           1\n",
       "                                                                                                                                                                                                                                                                                                                                                                                                                                                                                                                                                                                                                                                            97       253      131      0        0        0        0        0        0        0        0        0        0        0        0        0        0        0        0        0        0        0        0        0        0        0        0        74       253      252       183       0         0         0         0         0         0         0         0         0         0         0         0         0         0         0         0         0         0         0         0         0         0         0         26        205       253       252       100       0         0         0         0         0         0         0         0         0         0         0         0         0         0         0         0         0         0         0         0         0         0         0         187       252       253       235       44        0         0         0         0         0         0         0         0         0         0         0         0         0         0         0         0         0         0         0         0         0         0         64        248       252       243       113       0         0         0         0         0         0         0         0         0         0         0         0         0         0         0         0         0         0         0         0         0         0         36        222       253       253       158       0         0         0         0         0         0         0         0         0         0         0         0         0         0         0         0         0         0         0         0         0         0         26        178       252       252       178       0         0         0         0         0         0         0         0         0         0         0         0         0         0         0         0         0         0         0         0         0         0         0         170       252       252       252       54        0         0         0         0         0         0         0         0         0         0         0         0         0         0         0         0         0         0         0         0         0         0         95        253       252       252       82        4         0         0         0         0         0         0         0         0         0         0         0         0         0         0         0         0         0         0         0         0         0         0         220       253       252       221       25        0         0         0         0         0         0         0         0         0         0         0         0         0         0         0         0         0         0         0         0         0         0         62        243       255       228       32        0         0         3         45        138       233       148       76        9         0         0         0         0         0         0         0         0         0         0         0         0         0         45        236       252       239       75        0         0         0         45        252       252       252       252       253       173       13        0         0         0         0         0         0         0         0         0         0         0         0         70        252       252       146       0         0         0         85        222       252       252       252       252       253       252       152       0         0         0         0         0         0         0         0         0         0         0         0         112       252       252       116       0         0         0         210       253       252       252       252       252       253       252       183       0         0         0         0         0         0         0         0         0         0         0         0         184       252       252       63        0         0         85        250       253       252       221       232       252       253       252       183       0         0         0         0         0         0         0         0         0         0         0         0         185       253       253       128       19        7         160       253       255       253       253       253       253       255       253       184       0         0         0         0         0         0         0         0         0         0         0         0         184       252       252       253       236       186       252       252       253       252       252       252       252       253       244       149       0         0         0         0         0         0         0         0         0         0         0         0         101       252       252       253       252       252       252       252       253       252       252       252       252       215       98        0         0         0         0         0         0         0         0         0         0         0         0         0         44        236       252       253       252       252       252       252       253       252       252       176       108       21        0         0         0         0         0         0         0         0         0         0         0         0         0         0         0         61        137       253       252       252       252       252       128       22        22        4         0         0         0         0         0         0         0         0         0         0         0         0         0         0         0         0         0         0         0         0         0         0         0         0         0         0         0         0         0         0         0         0         0         0         0         0         0         0         0         0         0         0         0         0         0         0         0         0         0         0         0         0         0         0         0         0         0         0         0         0         0         0         0         0         0         0         0         0         0         0         0         0         0         0         0         0         0         0         0         0         0         0         0         0         0         0         0         0         0         0         0         0         0         0         0         0         0         0         0         0         0         0         0         0         0         0         0         0         0         0         0         0         0         0         0         0         0         0         0         0         0         0         0         0         0         0         0         0         0         0         0         0         0         0         0         0         0         0         0         0         0         0         0         0         0         0         0         0         0         0         0         0         0         0         0         0         0         0         0         0         0         0         0         0         0         0         0         0         0         0         0         0         0         0         0         0         0           1\n",
       "                                                                                                                                                                                                                                                                                                                                                                                                                                                                                                                                                                                                                                                            99       253      145      0        0        0        0        0        0        0        0        0        0        0        0        0        0        0        0        0        0        0        0        0        0        0        0        0        181      252       144       0         0         0         0         0         0         0         0         0         0         0         0         0         0         0         0         0         0         0         0         0         0         0         0         156       232       231       41        0         0         0         0         0         0         0         0         0         0         0         0         0         0         0         0         0         0         0         0         0         0         0         1         217       252       108       0         0         0         0         0         0         0         0         0         0         0         0         0         0         0         0         0         0         0         0         0         0         0         0         171       252       252       108       0         0         0         0         0         0         0         0         0         0         0         0         0         0         0         0         0         0         0         0         0         0         0         125       253       252       220       15        0         0         0         0         0         0         0         0         0         0         0         0         0         0         0         0         0         0         0         0         0         0         47        221       253       241       102       0         0         0         0         0         0         0         0         0         0         0         0         0         0         0         0         0         0         0         0         0         0         0         181       252       253       97        0         0         0         0         0         0         0         0         0         0         0         0         0         0         0         0         0         0         0         0         0         0         0         73        253       253       208       20        0         0         0         0         0         0         0         0         0         0         0         0         0         0         0         0         0         0         0         0         0         1         73        207       252       210       104       0         0         0         0         0         0         0         0         0         0         0         0         0         0         0         0         0         0         0         0         0         0         21        252       252       252       108       0         0         0         0         0         73        181       181       21        0         0         0         0         0         0         0         0         0         0         0         0         0         0         144       252       252       231       46        0         0         0         0         63        237       252       252       144       0         0         0         0         0         0         0         0         0         0         0         0         0         37        253       253       222       125       0         0         0         0         63        171       253       253       253       145       0         0         0         0         0         0         0         0         0         0         0         0         0         161       252       252       179       0         0         0         21        176       237       253       231       231       252       207       20        0         0         0         0         0         0         0         0         0         0         0         0         181       252       252       76        0         0         0         176       252       252       175       61        191       252       125       0         0         0         0         0         0         0         0         0         0         0         0         0         181       252       252       35        0         0         0         217       252       252       207       175       252       252       0         0         0         0         0         0         0         0         0         0         0         0         0         0         182       253       253       211       94        0         171       253       253       253       255       253       237       62        0         0         0         0         0         0         0         0         0         0         0         0         0         0         46        221       252       252       247       217       253       252       252       252       253       231       71        0         0         0         0         0         0         0         0         0         0         0         0         0         0         0         0         41        215       247       252       252       253       252       252       231       217       153       0         0         0         0         0         0         0         0         0         0         0         0         0         0         0         0         0         0         0         93        128       252       108       232       231       46        0         0         0         0         0         0         0         0         0         0         0         0         0         0         0         0         0         0         0         0         0         0         0         0         0         0         0         0         0         0         0         0         0         0         0         0         0         0         0         0         0         0         0         0         0         0         0         0         0         0         0         0         0         0         0         0         0         0         0         0         0         0         0         0         0         0         0         0         0         0         0         0         0         0         0         0         0         0         0         0         0         0         0         0         0         0         0         0         0         0         0         0         0         0         0         0         0         0         0         0         0         0         0         0         0         0         0         0         0         0         0         0         0         0         0         0         0         0         0         0         0         0         0         0         0         0         0         0         0         0         0         0         0         0         0         0         0         0         0         0         0         0         0         0         0         0         0         0         0         0         0         0         0         0         0         0         0         0         0         0         0         0         0         0         0         0         0         0         0         0         0         0         0         0         0         0         0         0         0           1\n",
       "                                                                                                                                                                                                                                                                                                                                                                                                                                                                                                                                                                                                                                                            100      229      229      15       0        0        0        0        0        0        0        0        0        0        0        0        0        0        0        0        0        0        0        0        0        0        0        110      249      236       124       2         0         0         0         0         0         0         0         0         0         0         0         0         0         0         0         0         0         0         0         0         0         0         141       249       251       113       0         0         0         0         0         0         0         0         0         0         0         0         0         0         0         0         0         0         0         0         0         0         0         134       254       253       162       0         0         0         0         0         0         0         0         0         0         0         0         0         0         0         0         0         0         0         0         0         0         0         108       254       254       124       0         0         0         0         0         0         0         0         0         0         0         0         0         0         0         0         0         0         0         0         0         0         0         110       249       253       165       11        0         0         0         0         0         0         0         0         0         0         0         0         0         0         0         0         0         0         0         0         0         9         49        241       253       202       17        0         0         0         0         0         0         0         0         0         0         0         0         0         0         0         0         0         0         0         0         0         0         127       254       253       253       69        0         0         0         0         0         0         0         0         0         0         0         0         0         0         0         0         0         0         0         0         0         0         0         160       254       254       146       0         0         0         0         0         0         0         0         0         0         0         0         0         0         0         0         0         0         0         0         0         0         0         5         189       254       227       88        0         0         0         0         0         0         0         0         0         0         0         0         0         0         0         0         0         0         0         0         0         0         0         24        253       254       89        153       140       0         5         32        116       116       132       199       116       0         0         0         0         0         0         0         0         0         0         0         0         0         0         91        253       254       23        7         103       26        155       253       253       254       253       253       253       160       9         0         0         0         0         0         0         0         0         0         0         0         13        221       254       160       0         0         26        221       254       254       203       204       241       191       254       254       140       0         0         0         0         0         0         0         0         0         0         0         47        253       253       76        0         0         176       254       244       123       6         7         19        11        165       254       215       9         0         0         0         0         0         0         0         0         0         0         47        253       253       0         0         19        240       254       89        0         0         0         0         0         59        254       232       25        0         0         0         0         0         0         0         0         0         0         13        186       253       102       0         24        253       254       23        0         0         0         0         0         127       254       173       0         0         0         0         0         0         0         0         0         0         0         0         57        254       254       73        0         185       254       82        0         0         0         13        87        254       255       23        0         0         0         0         0         0         0         0         0         0         0         0         11        148       254       249       155       188       254       190       63        47        47        151       253       253       124       2         0         0         0         0         0         0         0         0         0         0         0         0         0         0         163       251       253       253       254       253       253       253       254       253       234       104       0         0         0         0         0         0         0         0         0         0         0         0         0         0         0         0         0         63        152       253       254       253       253       253       161       111       38        0         0         0         0         0         0         0         0         0         0         0         0         0         0         0         0         0         0         0         0         0         0         0         0         0         0         0         0         0         0         0         0         0         0         0         0         0         0         0         0         0         0         0         0         0         0         0         0         0         0         0         0         0         0         0         0         0         0         0         0         0         0         0         0         0         0         0         0         0         0         0         0         0         0         0         0         0         0         0         0         0         0         0         0         0         0         0         0         0         0         0         0         0         0         0         0         0         0         0         0         0         0         0         0         0         0         0         0         0         0         0         0         0         0         0         0         0         0         0         0         0         0         0         0         0         0         0         0         0         0         0         0         0         0         0         0         0         0         0         0         0         0         0         0         0         0         0         0         0         0         0         0         0         0         0         0         0         0         0         0         0         0         0         0         0         0         0         0         0         0         0         0         0         0         0         0           1\n",
       "                                                                                                                                                                                                                                                                                                                                                                                                                                                                                                                                                                                                                                                                                                                                                                                                                                                                                                                                                                                                                                                                                                                                                                                                                                                                                                                                                                                                                                                                                                                                                                                                                                                                                                                                                                                                                                                                                                                                                                                                                                                                                                                                                                                                                                                                                                                                                                                                                                                                                                                                                                                                                                                                                                                                                                                                                                                                                                                                                                                                                                                                                                                                                                                                                                                                                                                                                                                                                                                                                                                                                                                                                                                                                                                                                                                                                                                                                                                                                                                                                                                                                                                                                                                                                                                                                                                                                                                                                                                                                                                                                                                                                                                                                                                                                                                                                                                                                                                                                                                                                                                                                                                                                                                                                                                                                                                                                                                                                                                                                                                                                                                                                                                                                                                                                                                                                                                                                                                                                                                                                                                                                                                                                                                                                                                                                                                                                                                                                                                                                                                                                                                                                                                                                                                                                                                                                                                                                                                                                                                                                                                                                                                                                                                                                                                                                                                                                                                                                                                                                                                                                                                                                                                                                                                                                                                                                                                                                                                                                                                                                                                          ..\n",
       "3      0       0       0       0       0       0       0       0       0       0       0        0        0        0        0        0        0        0        0        0        0        0        0        0        0        0        0        0        0        0        0        0        0        0        0        0        0        0        0        0        0        0        0        0        0        0        0        0        0        0        0        0        0        0        0        0        0        0        0        0        0        0        0        0        0        0        0        0        0        0        0        0        0        0        0        0        0        0        0        0        0        0        0        0        0        0        0        0        0        0        0        0        0        0        0        0        0        0        0        0        0         0         0         0         0         0         0         0         0         0         0         0         0         0         0         0         0         0         0         0         0         0         0         0         0         0         0         0         0         0         0         0         0         0         0         0         0         0         0         0         0         0         0         0         0         0         0         0         0         0         0         32        218       255       251       184       254       255       254       232       44        0         0         0         0         0         0         0         0         0         0         0         0         0         0         0         0         42        145       239       253       253       253       253       253       253       253       253       96        0         0         0         0         0         0         0         0         0         0         0         0         0         0         0         0         226       253       253       253       253       210       177       177       243       253       253       96        0         0         0         0         0         0         0         0         0         0         0         0         0         0         0         0         248       234       228       172       61        27        0         109       245       253       253       96        0         0         0         0         0         0         0         0         0         0         0         0         0         0         0         0         80        53        45        0         0         1         102       249       253       253       206       31        0         0         0         0         0         0         0         0         0         0         0         0         0         0         0         0         0         0         0         0         24        154       253       253       253       216       30        0         0         0         0         0         0         0         0         0         0         0         0         0         0         0         0         0         0         118       130       130       210       253       253       253       253       191       0         0         0         0         0         0         0         0         0         0         0         0         0         0         0         15        118       248       248       253       253       253       253       253       253       253       253       218       93        0         0         0         0         0         0         0         0         0         0         0         0         0         20        186       253       253       253       253       253       253       253       251       207       253       253       253       249       86        0         0         0         0         0         0         0         0         0         0         0         0         41        231       253       253       253       191       184       84        47        46        23        47        115       253       253       132       0         0         0         0         0         0         0         0         0         0         0         0         0         65        197       68        68        7         0         0         0         0         0         0         67        243       253       232       0         0         0         0         0         0         0         0         0         0         0         0         0         0         0         0         0         0         0         0         0         0         0         0         9         205       253       232       0         0         0         0         0         0         0         0         0         0         0         0         0         0         0         0         0         0         0         0         0         0         0         0         87        253       253       229       0         0         0         0         0         0         0         0         0         0         0         0         0         0         0         0         0         0         0         0         0         0         0         0         220       253       253       96        0         0         0         0         0         0         0         0         0         0         0         0         0         0         0         0         0         0         0         0         0         0         0         154       252       253       236       57        0         0         0         0         0         0         0         0         0         0         0         0         0         0         0         0         0         0         0         0         0         3         150       252       253       253       167       0         0         0         0         0         0         0         0         0         0         93        147       10        0         0         0         0         0         0         0         0         56        201       253       253       253       238       57        0         0         0         0         0         0         0         0         0         0         99        250       190       179       179       179       179       179       179       179       179       227       253       253       253       217       86        0         0         0         0         0         0         0         0         0         0         0         0         88        211       237       253       253       253       253       253       253       253       253       253       243       176       13        0         0         0         0         0         0         0         0         0         0         0         0         0         0         0         26        116       116       186       253       253       253       178       163       116       60        0         0         0         0         0         0         0         0         0         0         0         0         0         0         0         0         0         0         0         0         0         0         0         0         0         0         0         0         0         0         0         0         0         0         0         0         0         0         0         0         0         0         0         0         0         0         0         0         0         0         0         0         0         0         0         0         0         0         0         0         0         0         0         0         0         0         0         0         0         0         0         0         0         0         0         0         0         0         0         0         0         0         0         0         0         0         0         0         0         0         0         0         0         0         0         0           1\n",
       "                                                                                                                                                                                                                                                                                                                                                                                                                                                                                                                                                                                                                                                                                                                                                                                                                                                                                                                                                                                                                                                                                                                                                                                                                                                                                                                                                                                                                                                               33        118       208       252       118       118       80        0         0         0         0         0         0         0         0         0         0         0         0         0         0         0         0         0         0         0         0         87        215       254       254       254       254       254       248       201       82        0         0         0         0         0         0         0         0         0         0         0         0         0         0         0         0         40        211       250       254       254       254       254       254       254       254       254       248       203       35        0         0         0         0         0         0         0         0         0         0         0         0         0         11        225       254       254       254       214       184       141       254       254       254       254       254       254       221       0         0         0         0         0         0         0         0         0         0         0         0         0         12        220       254       254       189       22        0         3         82        82        213       254       254       254       254       0         0         0         0         0         0         0         0         0         0         0         0         0         0         0         101       103       19        0         0         0         0         0         91        254       254       254       172       0         0         0         0         0         0         0         0         0         0         0         0         0         0         0         0         0         0         0         0         0         0         54        238       254       254       172       57        0         0         0         0         0         0         0         0         0         0         0         0         0         0         0         0         0         0         0         13        111       178       251       254       254       236       55        0         0         0         0         0         0         0         0         0         0         0         0         0         0         0         0         0         32        128       228       231       254       254       254       254       150       23        0         0         0         0         0         0         0         0         0         0         0         0         0         0         0         0         0         0         128       254       254       254       254       254       254       149       10        0         0         0         0         0         0         0         0         0         0         0         0         0         0         0         0         0         0         0         127       254       254       254       254       254       254       60        0         0         0         0         0         0         0         0         0         0         0         0         0         0         0         0         0         0         0         0         32        89        195       255       254       254       254       226       36        0         0         0         0         0         0         0         0         0         0         0         0         0         0         0         0         0         0         0         0         0         21        125       252       254       254       254       55        0         0         0         0         0         0         0         0         0         0         0         0         0         0         0         0         0         0         0         0         0         0         0         145       254       254       254       55        0         0         0         0         0         0         0         0         0         0         0         0         0         0         0         0         0         0         0         0         0         0         27        249       254       254       120       3         0         0         0         0         0         0         0         0         0         0         0         0         0         0         0         0         0         0         0         0         0         0         148       254       254       254       34        0         0         0         0         0         0         0         0         0         0         0         0         0         0         0         0         0         0         0         0         56        63        164       236       254       254       139       8         0         0         0         0         0         0         0         0         0         0         0         0         106       180       180       180       180       180       180       180       247       254       254       254       253       145       4         0         0         0         0         0         0         0         0         0         0         0         0         0         160       158       245       250       254       254       254       254       254       254       239       143       94        0         0         0         0         0         0         0         0         0         0         0         0         0         0         0         0         0         64        89        210       254       254       254       130       117       32        0         0         0         0         0         0         0         0         0         0         0         0         0         0         0         0         0         0         0         0         0         0         0         0         0         0         0         0         0         0         0         0         0         0         0         0         0         0         0         0         0         0         0         0         0         0         0         0         0         0         0         0         0         0         0         0         0         0         0         0         0         0         0         0         0         0         0         0         0         0         0         0         0         0         0         0         0         0         0         0         0         0         0         0         0         0         0         0         0         0         0         0         0         0         0         0         0         0         0           1\n",
       "                                                                                                                                                                                                                                                                                                                                                                                                                                                                                                                                                                                                                                                                                                                                                                                                                                                                                                                                                                                                                                                                                                                                                                                                                                                                                                                                                                                                                                                                         142       227       255       254       254       254       238       143       0         0         0         0         0         0         0         0         0         0         0         0         0         0         0         0         0         0         71        222       183       183       156       120       102       114       219       252       51        0         0         0         0         0         0         0         0         0         0         0         0         0         0         0         0         0         8         16        0         0         0         0         0         31        233       232       22        0         0         0         0         0         0         0         0         0         0         0         0         0         0         0         0         0         0         0         0         0         0         0         101       224       210       68        0         0         0         0         0         0         0         0         0         0         0         0         0         0         0         0         0         0         0         0         0         0         14        123       250       195       29        0         0         0         0         0         0         0         0         0         0         0         0         0         0         0         0         0         0         0         0         0         2         36        194       243       116       5         0         0         0         0         0         0         0         0         0         0         0         0         0         0         0         0         0         0         0         0         0         57        149       253       245       104       0         0         0         0         0         0         0         0         0         0         0         0         0         0         0         0         0         0         0         0         0         3         67        238       246       205       42        0         0         0         0         0         0         0         0         0         0         0         0         0         0         0         0         0         0         0         0         0         2         133       253       210       67        0         0         0         0         0         0         0         0         0         0         0         0         0         0         0         0         0         0         0         0         0         0         0         105       253       213       40        0         0         0         0         0         0         0         0         0         0         0         0         0         0         0         0         0         0         0         0         0         0         0         0         105       254       254       254       254       223       167       112       6         0         0         0         0         0         0         0         0         0         0         0         0         0         0         0         0         0         0         0         2         51        96        96        128       183       229       253       224       41        0         0         0         0         0         0         0         0         0         0         0         0         0         0         0         0         0         0         0         0         0         0         0         0         11        126       227       244       105       0         0         0         0         0         0         0         0         0         0         0         0         0         0         0         0         0         0         0         0         0         0         0         0         0         37        172       233       42        0         0         0         0         0         0         0         0         0         0         0         0         0         0         0         0         0         0         0         0         0         0         0         0         0         53        253       176       0         0         0         0         0         0         0         0         0         0         0         0         0         0         0         13        0         0         0         0         0         0         0         0         0         53        253       206       0         0         0         0         0         0         0         0         0         0         0         0         0         0         0         129       67        0         0         0         0         0         0         0         0         62        253       122       0         0         0         0         0         0         0         0         0         0         0         0         0         0         0         82        201       78        10        0         0         0         0         0         90        226       219       11        0         0         0         0         0         0         0         0         0         0         0         0         0         0         0         0         52        233       222       147       97        67        97        150       248       196       70        0         0         0         0         0         0         0         0         0         0         0         0         0         0         0         0         0         0         38        118       202       253       253       254       228       115       8         0         0         0         0         0         0         0         0         0         0         0         0         0         0         0         0         0         0         0         0         0         0         0         0         0         0         0         0         0         0         0         0         0         0         0         0         0         0         0         0         0         0         0         0         0         0         0         0         0         0         0         0         0         0         0         0         0         0         0         0         0         0         0         0         0         0         0         0         0         0         0         0         0         0         0         0         0         0         0         0         0         0         0         0         0         0         0         0         0         0         0         0         0         0           1\n",
       "                                                                                                                                                                                                                                                                                                                                                                                                                                                                                                                                                                                                                                                                                                                                                                                                                                                                                                                                                                                                                                                                                                                                                                                                                                                                                                                                                                                                                                                               36        146       230       255       228       167       39        0         0         0         0         0         0         0         0         0         0         0         0         0         0         0         0         0         0         0         37        155       249       254       254       205       206       254       189       0         0         0         0         0         0         0         0         0         0         0         0         0         0         0         0         0         0         35        191       245       153       69        17        6         52        251       171       0         0         0         0         0         0         0         0         0         0         0         0         0         0         0         0         0         13        194       147       22        0         0         21        84        237       215       17        0         0         0         0         0         0         0         0         0         0         0         0         0         0         0         0         0         92        254       35        0         0         70        208       254       241       61        0         0         0         0         0         0         0         0         0         0         0         0         0         0         0         0         0         0         32        113       6         18        144       243       252       158       30        0         0         0         0         0         0         0         0         0         0         0         0         0         0         0         0         0         0         0         0         15        118       227       254       254       249       84        27        20        0         0         0         0         0         0         0         0         0         0         0         0         0         0         0         0         0         0         22        216       254       254       254       254       254       254       255       237       172       23        0         0         0         0         0         0         0         0         0         0         0         0         0         0         0         0         0         190       199       85        70        70        70        70        157       212       253       221       50        0         0         0         0         0         0         0         0         0         0         0         0         0         0         0         0         0         0         0         0         0         0         0         0         0         116       254       240       61        0         0         0         0         0         0         0         0         0         0         0         0         0         0         0         0         0         0         0         0         0         0         0         0         0         84        254       219       0         0         0         0         0         0         0         0         0         0         0         0         0         0         0         0         0         0         0         0         0         0         0         0         0         2         141       253       106       0         0         0         0         0         0         0         0         0         0         0         0         0         0         0         0         0         0         0         0         0         0         0         0         0         19        228       207       36        0         0         0         0         0         0         0         0         0         0         0         0         0         0         0         0         0         0         0         0         0         0         0         0         10        219       239       28        0         0         0         0         0         0         0         0         0         0         0         0         0         0         0         0         0         0         0         0         0         0         0         0         135       254       166       0         0         0         0         0         0         0         0         0         0         0         0         0         0         0         0         60        8         0         0         0         0         0         0         50        236       249       45        0         0         0         0         0         0         0         0         0         0         0         0         0         0         0         20        214       29        0         0         0         0         8         100       248       240       105       0         0         0         0         0         0         0         0         0         0         0         0         0         0         0         0         44        245       84        18        18        49        106       207       254       244       53        0         0         0         0         0         0         0         0         0         0         0         0         0         0         0         0         0         28        234       254       254       254       254       254       254       224       40        0         0         0         0         0         0         0         0         0         0         0         0         0         0         0         0         0         0         0         51        205       254       220       166       106       81        6         0         0         0         0         0         0         0         0         0         0         0         0         0         0         0         0         0         0         0         0         0         0         0         0         0         0         0         0         0         0         0         0         0         0         0         0         0         0         0         0         0         0         0         0         0         0         0         0         0         0         0         0         0         0         0         0         0         0         0         0         0         0         0         0         0         0         0         0         0         0         0         0         0         0         0         0         0         0         0         0         0         0         0         0         0         0         0         0         0         0         0         0         0         0           1\n",
       "9      0       0       0       0       0       0       0       0       0       0       0        0        0        0        0        0        0        0        0        0        0        0        0        0        0        0        0        0        0        0        0        0        0        0        0        0        0        0        0        0        0        0        0        0        0        0        0        0        0        0        0        0        0        0        0        0        0        0        0        0        0        0        0        0        0        0        0        0        0        0        0        0        0        0        0        0        0        0        0        0        0        0        0        0        0        0        0        0        0        0        0        0        0        0        0        0        0        0        0        0        0         0         0         0         0         0         0         0         0         0         0         0         0         0         0         0         0         0         80        255       93        0         0         0         0         0         0         0         0         0         0         0         0         0         0         0         0         0         0         0         0         0         0         0         0         0         118       253       147       0         0         0         0         0         0         0         0         0         0         0         0         0         0         0         0         0         0         0         0         0         0         0         0         0         23        82        48        0         0         0         0         0         0         0         0         0         0         0         0         0         0         0         0         0         0         0         0         0         0         0         0         0         0         0         0         0         0         0         0         0         0         65        77        175       25        0         0         0         0         0         0         0         0         0         0         0         0         0         0         0         0         0         0         0         0         0         0         28        188       249       253       253       88        0         0         0         0         0         0         0         0         0         0         0         0         0         0         0         0         0         0         0         0         87        225       233       253       253       253       253       88        0         0         0         0         0         0         0         0         0         0         0         0         0         0         0         0         0         0         1         84        249       253       253       204       77        23        239       51        5         0         0         0         0         0         0         0         0         0         0         0         0         0         0         0         0         0         18        253       253       253       199       18        0         12        253       253       188       0         0         0         0         0         0         0         0         0         0         0         0         0         0         0         0         0         143       253       253       197       22        0         0         32        253       253       188       0         0         0         0         0         0         0         0         0         0         0         0         0         0         0         0         103       250       253       197       23        0         0         107       216       253       253       160       0         0         0         0         0         0         0         0         0         0         0         0         0         0         0         0         225       253       253       107       78        78        176       248       253       253       239       49        0         0         0         0         0         0         0         0         0         0         0         0         0         0         0         0         225       253       253       234       253       253       253       253       253       253       107       0         0         0         0         0         0         0         0         0         0         0         0         0         0         0         0         0         118       253       253       253       253       253       253       253       253       240       49        0         0         0         0         0         0         0         0         0         0         0         0         0         0         0         0         0         2         122       186       167       124       32        214       253       253       163       0         0         0         0         0         0         0         0         0         0         0         0         0         0         0         0         0         0         0         0         0         0         0         46        237       253       246       44        0         0         0         0         0         0         0         0         0         0         0         0         0         0         0         0         0         0         0         0         0         0         0         100       253       253       241       0         0         0         0         0         0         0         0         0         0         0         0         0         0         0         0         0         0         0         0         0         0         0         0         195       253       253       156       0         0         0         0         0         0         0         0         0         0         0         0         0         0         0         0         0         0         0         0         0         0         0         0         195       253       216       28        0         0         0         0         0         0         0         0         0         0         0         0         0         0         0         0         0         0         0         0         0         0         0         0         148       253       238       104       42        0         0         0         0         0         0         0         0         0         0         0         0         0         0         0         0         0         0         0         0         0         0         0         42        234       253       248       57        0         0         0         0         0         0         0         0         0         0         0         0         0         0         0         0         0         0         0         0         0         0         0         0         0         0         0         0         0         0         0         0         0         0         0         0         0         0         0         0         0         0         0         0         0         0         0         0         0         0         0         0         0         0         0         0         0         0         0         0         0         0         0         0         0         0         0         0         0         0         0         0         0         0         0         0         0         0         0         0         0         0         0         0         0         0         0         0         0         0         0         0         0         0         0         0         0         0         0         0         0         0         0         0         0         0         0         0         0         0         0         0         0         0         0         0         0         0         0         0         0         0           1\n",
       "Length: 42000, dtype: int64"
      ]
     },
     "execution_count": 5,
     "metadata": {},
     "output_type": "execute_result"
    }
   ],
   "source": [
    "train.value_counts()"
   ]
  },
  {
   "cell_type": "code",
   "execution_count": 6,
   "id": "b05afb8b",
   "metadata": {
    "scrolled": true
   },
   "outputs": [
    {
     "data": {
      "text/html": [
       "<div>\n",
       "<style scoped>\n",
       "    .dataframe tbody tr th:only-of-type {\n",
       "        vertical-align: middle;\n",
       "    }\n",
       "\n",
       "    .dataframe tbody tr th {\n",
       "        vertical-align: top;\n",
       "    }\n",
       "\n",
       "    .dataframe thead th {\n",
       "        text-align: right;\n",
       "    }\n",
       "</style>\n",
       "<table border=\"1\" class=\"dataframe\">\n",
       "  <thead>\n",
       "    <tr style=\"text-align: right;\">\n",
       "      <th></th>\n",
       "      <th>pixel0</th>\n",
       "      <th>pixel1</th>\n",
       "      <th>pixel2</th>\n",
       "      <th>pixel3</th>\n",
       "      <th>pixel4</th>\n",
       "      <th>pixel5</th>\n",
       "      <th>pixel6</th>\n",
       "      <th>pixel7</th>\n",
       "      <th>pixel8</th>\n",
       "      <th>pixel9</th>\n",
       "      <th>...</th>\n",
       "      <th>pixel774</th>\n",
       "      <th>pixel775</th>\n",
       "      <th>pixel776</th>\n",
       "      <th>pixel777</th>\n",
       "      <th>pixel778</th>\n",
       "      <th>pixel779</th>\n",
       "      <th>pixel780</th>\n",
       "      <th>pixel781</th>\n",
       "      <th>pixel782</th>\n",
       "      <th>pixel783</th>\n",
       "    </tr>\n",
       "  </thead>\n",
       "  <tbody>\n",
       "    <tr>\n",
       "      <th>0</th>\n",
       "      <td>0</td>\n",
       "      <td>0</td>\n",
       "      <td>0</td>\n",
       "      <td>0</td>\n",
       "      <td>0</td>\n",
       "      <td>0</td>\n",
       "      <td>0</td>\n",
       "      <td>0</td>\n",
       "      <td>0</td>\n",
       "      <td>0</td>\n",
       "      <td>...</td>\n",
       "      <td>0</td>\n",
       "      <td>0</td>\n",
       "      <td>0</td>\n",
       "      <td>0</td>\n",
       "      <td>0</td>\n",
       "      <td>0</td>\n",
       "      <td>0</td>\n",
       "      <td>0</td>\n",
       "      <td>0</td>\n",
       "      <td>0</td>\n",
       "    </tr>\n",
       "    <tr>\n",
       "      <th>1</th>\n",
       "      <td>0</td>\n",
       "      <td>0</td>\n",
       "      <td>0</td>\n",
       "      <td>0</td>\n",
       "      <td>0</td>\n",
       "      <td>0</td>\n",
       "      <td>0</td>\n",
       "      <td>0</td>\n",
       "      <td>0</td>\n",
       "      <td>0</td>\n",
       "      <td>...</td>\n",
       "      <td>0</td>\n",
       "      <td>0</td>\n",
       "      <td>0</td>\n",
       "      <td>0</td>\n",
       "      <td>0</td>\n",
       "      <td>0</td>\n",
       "      <td>0</td>\n",
       "      <td>0</td>\n",
       "      <td>0</td>\n",
       "      <td>0</td>\n",
       "    </tr>\n",
       "    <tr>\n",
       "      <th>2</th>\n",
       "      <td>0</td>\n",
       "      <td>0</td>\n",
       "      <td>0</td>\n",
       "      <td>0</td>\n",
       "      <td>0</td>\n",
       "      <td>0</td>\n",
       "      <td>0</td>\n",
       "      <td>0</td>\n",
       "      <td>0</td>\n",
       "      <td>0</td>\n",
       "      <td>...</td>\n",
       "      <td>0</td>\n",
       "      <td>0</td>\n",
       "      <td>0</td>\n",
       "      <td>0</td>\n",
       "      <td>0</td>\n",
       "      <td>0</td>\n",
       "      <td>0</td>\n",
       "      <td>0</td>\n",
       "      <td>0</td>\n",
       "      <td>0</td>\n",
       "    </tr>\n",
       "    <tr>\n",
       "      <th>3</th>\n",
       "      <td>0</td>\n",
       "      <td>0</td>\n",
       "      <td>0</td>\n",
       "      <td>0</td>\n",
       "      <td>0</td>\n",
       "      <td>0</td>\n",
       "      <td>0</td>\n",
       "      <td>0</td>\n",
       "      <td>0</td>\n",
       "      <td>0</td>\n",
       "      <td>...</td>\n",
       "      <td>0</td>\n",
       "      <td>0</td>\n",
       "      <td>0</td>\n",
       "      <td>0</td>\n",
       "      <td>0</td>\n",
       "      <td>0</td>\n",
       "      <td>0</td>\n",
       "      <td>0</td>\n",
       "      <td>0</td>\n",
       "      <td>0</td>\n",
       "    </tr>\n",
       "    <tr>\n",
       "      <th>4</th>\n",
       "      <td>0</td>\n",
       "      <td>0</td>\n",
       "      <td>0</td>\n",
       "      <td>0</td>\n",
       "      <td>0</td>\n",
       "      <td>0</td>\n",
       "      <td>0</td>\n",
       "      <td>0</td>\n",
       "      <td>0</td>\n",
       "      <td>0</td>\n",
       "      <td>...</td>\n",
       "      <td>0</td>\n",
       "      <td>0</td>\n",
       "      <td>0</td>\n",
       "      <td>0</td>\n",
       "      <td>0</td>\n",
       "      <td>0</td>\n",
       "      <td>0</td>\n",
       "      <td>0</td>\n",
       "      <td>0</td>\n",
       "      <td>0</td>\n",
       "    </tr>\n",
       "  </tbody>\n",
       "</table>\n",
       "<p>5 rows × 784 columns</p>\n",
       "</div>"
      ],
      "text/plain": [
       "   pixel0  pixel1  pixel2  pixel3  pixel4  pixel5  pixel6  pixel7  pixel8  \\\n",
       "0       0       0       0       0       0       0       0       0       0   \n",
       "1       0       0       0       0       0       0       0       0       0   \n",
       "2       0       0       0       0       0       0       0       0       0   \n",
       "3       0       0       0       0       0       0       0       0       0   \n",
       "4       0       0       0       0       0       0       0       0       0   \n",
       "\n",
       "   pixel9  ...  pixel774  pixel775  pixel776  pixel777  pixel778  pixel779  \\\n",
       "0       0  ...         0         0         0         0         0         0   \n",
       "1       0  ...         0         0         0         0         0         0   \n",
       "2       0  ...         0         0         0         0         0         0   \n",
       "3       0  ...         0         0         0         0         0         0   \n",
       "4       0  ...         0         0         0         0         0         0   \n",
       "\n",
       "   pixel780  pixel781  pixel782  pixel783  \n",
       "0         0         0         0         0  \n",
       "1         0         0         0         0  \n",
       "2         0         0         0         0  \n",
       "3         0         0         0         0  \n",
       "4         0         0         0         0  \n",
       "\n",
       "[5 rows x 784 columns]"
      ]
     },
     "execution_count": 6,
     "metadata": {},
     "output_type": "execute_result"
    }
   ],
   "source": [
    "test.head()"
   ]
  },
  {
   "cell_type": "code",
   "execution_count": 7,
   "id": "4a160593",
   "metadata": {},
   "outputs": [
    {
     "data": {
      "text/plain": [
       "pixel0  pixel1  pixel2  pixel3  pixel4  pixel5  pixel6  pixel7  pixel8  pixel9  pixel10  pixel11  pixel12  pixel13  pixel14  pixel15  pixel16  pixel17  pixel18  pixel19  pixel20  pixel21  pixel22  pixel23  pixel24  pixel25  pixel26  pixel27  pixel28  pixel29  pixel30  pixel31  pixel32  pixel33  pixel34  pixel35  pixel36  pixel37  pixel38  pixel39  pixel40  pixel41  pixel42  pixel43  pixel44  pixel45  pixel46  pixel47  pixel48  pixel49  pixel50  pixel51  pixel52  pixel53  pixel54  pixel55  pixel56  pixel57  pixel58  pixel59  pixel60  pixel61  pixel62  pixel63  pixel64  pixel65  pixel66  pixel67  pixel68  pixel69  pixel70  pixel71  pixel72  pixel73  pixel74  pixel75  pixel76  pixel77  pixel78  pixel79  pixel80  pixel81  pixel82  pixel83  pixel84  pixel85  pixel86  pixel87  pixel88  pixel89  pixel90  pixel91  pixel92  pixel93  pixel94  pixel95  pixel96  pixel97  pixel98  pixel99  pixel100  pixel101  pixel102  pixel103  pixel104  pixel105  pixel106  pixel107  pixel108  pixel109  pixel110  pixel111  pixel112  pixel113  pixel114  pixel115  pixel116  pixel117  pixel118  pixel119  pixel120  pixel121  pixel122  pixel123  pixel124  pixel125  pixel126  pixel127  pixel128  pixel129  pixel130  pixel131  pixel132  pixel133  pixel134  pixel135  pixel136  pixel137  pixel138  pixel139  pixel140  pixel141  pixel142  pixel143  pixel144  pixel145  pixel146  pixel147  pixel148  pixel149  pixel150  pixel151  pixel152  pixel153  pixel154  pixel155  pixel156  pixel157  pixel158  pixel159  pixel160  pixel161  pixel162  pixel163  pixel164  pixel165  pixel166  pixel167  pixel168  pixel169  pixel170  pixel171  pixel172  pixel173  pixel174  pixel175  pixel176  pixel177  pixel178  pixel179  pixel180  pixel181  pixel182  pixel183  pixel184  pixel185  pixel186  pixel187  pixel188  pixel189  pixel190  pixel191  pixel192  pixel193  pixel194  pixel195  pixel196  pixel197  pixel198  pixel199  pixel200  pixel201  pixel202  pixel203  pixel204  pixel205  pixel206  pixel207  pixel208  pixel209  pixel210  pixel211  pixel212  pixel213  pixel214  pixel215  pixel216  pixel217  pixel218  pixel219  pixel220  pixel221  pixel222  pixel223  pixel224  pixel225  pixel226  pixel227  pixel228  pixel229  pixel230  pixel231  pixel232  pixel233  pixel234  pixel235  pixel236  pixel237  pixel238  pixel239  pixel240  pixel241  pixel242  pixel243  pixel244  pixel245  pixel246  pixel247  pixel248  pixel249  pixel250  pixel251  pixel252  pixel253  pixel254  pixel255  pixel256  pixel257  pixel258  pixel259  pixel260  pixel261  pixel262  pixel263  pixel264  pixel265  pixel266  pixel267  pixel268  pixel269  pixel270  pixel271  pixel272  pixel273  pixel274  pixel275  pixel276  pixel277  pixel278  pixel279  pixel280  pixel281  pixel282  pixel283  pixel284  pixel285  pixel286  pixel287  pixel288  pixel289  pixel290  pixel291  pixel292  pixel293  pixel294  pixel295  pixel296  pixel297  pixel298  pixel299  pixel300  pixel301  pixel302  pixel303  pixel304  pixel305  pixel306  pixel307  pixel308  pixel309  pixel310  pixel311  pixel312  pixel313  pixel314  pixel315  pixel316  pixel317  pixel318  pixel319  pixel320  pixel321  pixel322  pixel323  pixel324  pixel325  pixel326  pixel327  pixel328  pixel329  pixel330  pixel331  pixel332  pixel333  pixel334  pixel335  pixel336  pixel337  pixel338  pixel339  pixel340  pixel341  pixel342  pixel343  pixel344  pixel345  pixel346  pixel347  pixel348  pixel349  pixel350  pixel351  pixel352  pixel353  pixel354  pixel355  pixel356  pixel357  pixel358  pixel359  pixel360  pixel361  pixel362  pixel363  pixel364  pixel365  pixel366  pixel367  pixel368  pixel369  pixel370  pixel371  pixel372  pixel373  pixel374  pixel375  pixel376  pixel377  pixel378  pixel379  pixel380  pixel381  pixel382  pixel383  pixel384  pixel385  pixel386  pixel387  pixel388  pixel389  pixel390  pixel391  pixel392  pixel393  pixel394  pixel395  pixel396  pixel397  pixel398  pixel399  pixel400  pixel401  pixel402  pixel403  pixel404  pixel405  pixel406  pixel407  pixel408  pixel409  pixel410  pixel411  pixel412  pixel413  pixel414  pixel415  pixel416  pixel417  pixel418  pixel419  pixel420  pixel421  pixel422  pixel423  pixel424  pixel425  pixel426  pixel427  pixel428  pixel429  pixel430  pixel431  pixel432  pixel433  pixel434  pixel435  pixel436  pixel437  pixel438  pixel439  pixel440  pixel441  pixel442  pixel443  pixel444  pixel445  pixel446  pixel447  pixel448  pixel449  pixel450  pixel451  pixel452  pixel453  pixel454  pixel455  pixel456  pixel457  pixel458  pixel459  pixel460  pixel461  pixel462  pixel463  pixel464  pixel465  pixel466  pixel467  pixel468  pixel469  pixel470  pixel471  pixel472  pixel473  pixel474  pixel475  pixel476  pixel477  pixel478  pixel479  pixel480  pixel481  pixel482  pixel483  pixel484  pixel485  pixel486  pixel487  pixel488  pixel489  pixel490  pixel491  pixel492  pixel493  pixel494  pixel495  pixel496  pixel497  pixel498  pixel499  pixel500  pixel501  pixel502  pixel503  pixel504  pixel505  pixel506  pixel507  pixel508  pixel509  pixel510  pixel511  pixel512  pixel513  pixel514  pixel515  pixel516  pixel517  pixel518  pixel519  pixel520  pixel521  pixel522  pixel523  pixel524  pixel525  pixel526  pixel527  pixel528  pixel529  pixel530  pixel531  pixel532  pixel533  pixel534  pixel535  pixel536  pixel537  pixel538  pixel539  pixel540  pixel541  pixel542  pixel543  pixel544  pixel545  pixel546  pixel547  pixel548  pixel549  pixel550  pixel551  pixel552  pixel553  pixel554  pixel555  pixel556  pixel557  pixel558  pixel559  pixel560  pixel561  pixel562  pixel563  pixel564  pixel565  pixel566  pixel567  pixel568  pixel569  pixel570  pixel571  pixel572  pixel573  pixel574  pixel575  pixel576  pixel577  pixel578  pixel579  pixel580  pixel581  pixel582  pixel583  pixel584  pixel585  pixel586  pixel587  pixel588  pixel589  pixel590  pixel591  pixel592  pixel593  pixel594  pixel595  pixel596  pixel597  pixel598  pixel599  pixel600  pixel601  pixel602  pixel603  pixel604  pixel605  pixel606  pixel607  pixel608  pixel609  pixel610  pixel611  pixel612  pixel613  pixel614  pixel615  pixel616  pixel617  pixel618  pixel619  pixel620  pixel621  pixel622  pixel623  pixel624  pixel625  pixel626  pixel627  pixel628  pixel629  pixel630  pixel631  pixel632  pixel633  pixel634  pixel635  pixel636  pixel637  pixel638  pixel639  pixel640  pixel641  pixel642  pixel643  pixel644  pixel645  pixel646  pixel647  pixel648  pixel649  pixel650  pixel651  pixel652  pixel653  pixel654  pixel655  pixel656  pixel657  pixel658  pixel659  pixel660  pixel661  pixel662  pixel663  pixel664  pixel665  pixel666  pixel667  pixel668  pixel669  pixel670  pixel671  pixel672  pixel673  pixel674  pixel675  pixel676  pixel677  pixel678  pixel679  pixel680  pixel681  pixel682  pixel683  pixel684  pixel685  pixel686  pixel687  pixel688  pixel689  pixel690  pixel691  pixel692  pixel693  pixel694  pixel695  pixel696  pixel697  pixel698  pixel699  pixel700  pixel701  pixel702  pixel703  pixel704  pixel705  pixel706  pixel707  pixel708  pixel709  pixel710  pixel711  pixel712  pixel713  pixel714  pixel715  pixel716  pixel717  pixel718  pixel719  pixel720  pixel721  pixel722  pixel723  pixel724  pixel725  pixel726  pixel727  pixel728  pixel729  pixel730  pixel731  pixel732  pixel733  pixel734  pixel735  pixel736  pixel737  pixel738  pixel739  pixel740  pixel741  pixel742  pixel743  pixel744  pixel745  pixel746  pixel747  pixel748  pixel749  pixel750  pixel751  pixel752  pixel753  pixel754  pixel755  pixel756  pixel757  pixel758  pixel759  pixel760  pixel761  pixel762  pixel763  pixel764  pixel765  pixel766  pixel767  pixel768  pixel769  pixel770  pixel771  pixel772  pixel773  pixel774  pixel775  pixel776  pixel777  pixel778  pixel779  pixel780  pixel781  pixel782  pixel783\n",
       "0       0       0       0       0       0       0       0       0       0       0        0        0        0        0        0        0        0        0        0        0        0        0        0        0        0        0        0        0        0        0        0        0        0        0        0        0        0        0        0        0        0        0        0        0        0        0        0        0        0        0        0        0        0        0        0        0        0        0        0        0        0        0        0        0        0        0        0        0        0        0        0        0        0        0        0        0        0        0        0        0        0        0        0        0        0        0        0        0        0        0        0        0        0        0        0        0        0        0        0        0         0         0         0         0         0         0         0         0         0         0         0         0         0         0         0         0         0         0         0         0         0         0         0         0         0         0         0         0         0         0         0         0         0         0         0         0         0         0         0         0         0         0         0         0         0         0         0         0         0         0         0         0         0         0         0         0         0         0         0         0         0         0         0         0         0         0         0         0         0         0         0         0         0         0         0         0         0         0         0         0         0         0         0         0         0         0         0         0         0         0         0         0         0         0         0         0         0         0         0         0         0         0         0         0         0         0         0         0         0         0         0         0         0         0         0         0         0         0         0         0         0         0         0         0         0         0         0         0         0         0         0         0         0         0         0         0         0         0         0         0         0         0         0         0         0         0         0         0         0         0         0         0         0         0         0         0         0         0         0         0         0         0         0         0         0         0         0         0         0         0         0         0         0         0         0         0         0         0         0         0         0         0         0         0         0         0         0         0         0         0         0         0         0         0         0         0         0         0         0         0         0         0         0         0         0         30        32        0         0         0         0         0         0         0         0         0         0         3         44        100       154       188       224       151       21        0         0         22        74        100       154       188       224       227       156       0         0         0         0         0         0         0         0         0         61        220       254       217       156       149       149       224       197       138       186       244       229       158       149       93        60        8         0         0         0         0         0         0         0         0         0         0         179       187       29        3         0         72        182       249       206       158       94        31        8         0         0         0         0         0         0         0         0         0         0         0         0         0         0         0         127       243       99        119       182       244       156       49        1         0         0         0         0         0         0         0         0         0         0         0         0         0         0         0         0         0         0         0         8         215       255       254       106       11        0         0         0         0         0         0         0         0         0         0         0         0         0         0         0         0         0         0         0         0         0         5         198       212       101       227       167       9         0         0         0         0         0         0         0         0         0         0         0         0         0         0         0         0         0         0         0         0         0         150       230       37        0         51        242       168       0         0         0         0         0         0         0         0         0         0         0         0         0         0         0         0         0         0         0         0         0         228       129       0         0         0         166       211       0         0         0         0         0         0         0         0         0         0         0         0         0         0         0         0         0         0         0         0         0         228       213       134       149       172       246       100       0         0         0         0         0         0         0         0         0         0         0         0         0         0         0         0         0         0         0         0         0         21        150       223       217       161       62        0         0         0         0         0         0         0         0         0         0         0         0         0         0         0         0         0         0         0         0         0         0         0         0         0         0         0         0         0         0         0         0         0         0         0         0         0         0         0         0         0         0         0         0         0         0         0         0         0         0         0         0         0         0         0         0         0         0         0         0         0         0         0         0         0         0         0         0         0         0         0         0         0         0         0         0         0         0         0         0         0         0         0         0         0         0         0         0         0         0         0         0         0         0         0         0         0         0         0         0         0         0         0         0         0         0         0         0         0         0         0         0         0         0         0         0         0         0         0         0         0         0         0         0         0         0         0         0         0         0         0         0         0         0         0         0         0         0         0         0         0         0         0         0         0         0         0         0         0         0         0         0         0         0         0         0         0         0         0         0         0         0         0         0         0         0         0         0         0         0         0         0         0         0         0         0         0         0         0         0         0         0         0         0         0         0         0         0         0         0         0         0         0         0         0         0         0         0         0         0         0         0         0         0         0         0         0         0         0         0           1\n",
       "                                                                                                                                                                                                                                                                                                                                                                                                                                                                                                                                                                                                                                                                                                                                                                                                                                                                                                                                                                                                                                                                                                                                                                                                        122       248       254       254       117       0         0         0         0         0         0         0         0         0         0         0         0         0         0         0         0         0         0         0         0         0         70        241       254       253       253       253       250       120       0         0         0         0         0         0         0         0         0         0         0         0         0         0         0         0         0         0         0         0         147       253       210       159       159       239       253       248       72        0         0         0         0         0         0         0         0         0         0         0         0         0         0         43        0         0         0         0         101       173       21        0         0         214       253       253       122       0         0         0         0         0         0         0         0         0         0         0         0         0         111       229       42        0         0         0         0         0         0         0         0         109       253       253       224       25        0         0         0         0         0         0         0         0         0         0         0         0         228       253       95        14        0         0         0         0         0         0         0         21        214       253       253       122       0         0         0         0         0         0         0         0         0         0         0         74        245       253       253       66        0         0         0         0         0         0         0         0         201       253       253       226       0         0         0         0         0         0         0         0         0         0         0         108       253       253       253       66        0         0         0         0         0         0         0         0         117       253       253       226       0         0         0         0         0         0         0         0         0         0         0         108       253       253       250       63        0         0         0         0         0         0         0         0         68        253       253       242       62        0         0         0         0         0         0         0         0         0         0         178       253       253       186       0         0         0         0         0         0         0         0         0         68        253       253       253       107       0         0         0         0         0         0         0         0         0         0         242       254       254       187       0         0         0         0         0         0         0         0         0         68        254       255       242       57        0         0         0         0         0         0         0         0         0         0         241       253       253       186       0         0         0         0         0         0         0         0         0         68        253       253       226       0         0         0         0         0         0         0         0         0         0         0         241       253       253       211       25        0         0         0         0         0         0         0         0         187       253       253       226       0         0         0         0         0         0         0         0         0         0         0         128       253       253       253       66        0         0         0         0         0         0         0         111       245       253       253       184       0         0         0         0         0         0         0         0         0         0         0         108       253       253       253       102       0         0         0         0         0         0         61        225       253       253       186       20        0         0         0         0         0         0         0         0         0         0         0         28        234       253       253       239       88        0         0         0         0         108       247       253       253       242       63        0         0         0         0         0         0         0         0         0         0         0         0         0         206       253       253       253       241       160       48        174       175       249       253       253       253       178       0         0         0         0         0         0         0         0         0         0         0         0         0         0         35        214       253       253       253       253       253       253       255       253       253       230       191       25        0         0         0         0         0         0         0         0         0         0         0         0         0         0         0         34        216       253       253       253       253       253       255       240       120       17        0         0         0         0         0         0         0         0         0         0         0         0         0         0         0         0         0         0         32        120       140       253       246       120       121       6         0         0         0         0         0         0         0         0         0         0         0         0         0         0         0         0         0         0         0         0         0         0         0         0         0         0         0         0         0         0         0         0         0         0         0         0         0         0         0         0         0         0         0         0         0         0         0         0         0         0         0         0         0         0         0         0         0         0         0         0         0         0         0         0         0         0         0         0         0         0         0         0         0         0         0         0         0         0         0         0         0         0         0         0         0         0         0         0         0         0         0         0         0         0         0         0         0         0         0         0         0         0         0         0         0         0         0         0         0         0         0         0         0         0         0         0         0         0         0         0         0         0         0           1\n",
       "                                                                                                                                                                                                                                                                                                                                                                                                                                                                                                                                                                                                                                                                                                                                                                                                                                                                                                                                                                                                                                                                                                                                                                                                        125       253       98        42        0         0         0         0         0         0         0         0         0         0         0         0         0         0         0         0         0         0         0         0         0         0         0         0         253       251       251       142       0         0         0         0         0         0         0         0         0         0         0         0         0         0         0         0         0         0         0         0         0         0         16        166       253       251       194       20        0         0         0         0         0         0         0         0         0         0         0         0         0         0         0         0         0         0         0         0         0         0         109       251       253       251       35        0         0         0         0         0         0         0         0         0         0         0         0         0         0         0         0         0         0         0         0         0         0         0         109       251       253       251       35        0         0         0         0         0         0         0         0         0         0         0         0         0         0         0         0         0         0         0         0         0         0         37        253       253       255       253       35        0         0         0         0         0         0         0         0         0         0         0         0         0         0         0         0         0         0         0         0         0         0         37        251       251       253       168       15        0         0         0         0         0         0         0         0         0         0         0         0         0         0         0         0         0         0         0         0         0         0         192       251       251       253       107       0         0         0         0         0         0         0         0         0         0         0         0         0         0         0         0         0         0         0         0         0         0         0         217       251       251       253       107       0         0         0         0         0         0         0         0         0         0         0         0         0         0         0         0         0         0         0         0         0         0         105       241       251       251       201       30        0         0         0         0         0         0         0         0         0         0         0         0         0         0         0         0         0         0         0         0         0         0         145       253       253       253       234       77        0         0         0         0         0         0         0         0         0         0         0         0         0         0         0         0         0         0         0         0         0         0         144       251       251       251       180       0         0         0         0         0         0         0         0         0         0         0         0         0         0         0         0         0         0         0         0         0         0         63        236       251       251       251       154       0         0         0         0         0         0         0         0         0         0         0         0         0         0         0         0         0         0         0         0         0         0         73        251       251       251       251       110       47        0         0         0         0         0         0         0         0         0         0         0         0         0         0         0         0         0         0         0         0         0         73        251       251       251       251       253       210       25        0         0         0         0         0         0         0         0         0         0         0         0         0         0         0         0         0         0         0         0         73        253       253       253       253       255       253       35        0         0         0         0         0         0         0         0         0         0         0         0         0         0         0         0         0         0         0         0         73        251       251       251       251       253       168       15        0         0         0         0         0         0         0         0         0         0         0         0         0         0         0         0         0         0         0         0         62        236       251       251       251       164       15        0         0         0         0         0         0         0         0         0         0         0         0         0         0         0         0         0         0         0         0         0         0         144       251       251       251       0         0         0         0         0         0         0         0         0         0         0         0         0         0         0         0         0         0         0         0         0         0         0         0         41        97        173       71        0         0         0         0         0         0         0         0         0         0         0         0         0         0         0         0         0         0         0         0         0         0         0         0         0         0         0         0         0         0         0         0         0         0         0         0         0         0         0         0         0         0         0         0         0         0         0         0         0         0         0         0         0         0         0         0         0         0         0         0         0         0         0         0         0         0         0         0         0         0         0         0         0         0         0         0         0         0         0         0         0         0         0         0         0         0         0         0         0         0         0         0         0         0         0         0         0         0         0         0         0         0         0         0         0         0         0         0         0         0         0         0         0         0         0         0         0         0         0         0         0         0         0         0         0           1\n",
       "                                                                                                                                                                                                                                                                                                                                                                                                                                                                                                                                                                                                                                                                                                                                                                                                                                                                                                                                                                                                                                                                                                                                                                                                        124       255       231       125       109       0         0         0         0         0         0         0         0         0         0         0         0         0         0         0         0         0         0         0         0         0         34        218       252       253       253       253       253       234       48        0         0         0         0         0         0         0         0         0         0         0         0         0         0         0         0         0         0         199       245       253       253       253       253       253       253       253       104       0         0         0         0         0         0         0         0         0         0         0         0         0         0         0         0         38        215       250       253       253       253       253       180       149       162       253       232       100       0         0         0         0         0         0         0         0         0         0         0         0         0         41        216       190       234       253       225       155       58        25        8         0         4         106       213       240       0         0         0         0         0         0         0         0         0         0         0         0         98        235       253       253       253       137       23        0         0         0         0         0         0         0         150       240       0         0         0         0         0         0         0         0         0         0         0         40        226       253       220       122       38        7         0         0         0         0         0         0         0         0         150       240       0         0         0         0         0         0         0         0         0         0         0         158       253       253       48        0         0         0         0         0         0         0         0         0         0         0         150       247       60        0         0         0         0         0         0         0         0         0         0         181       253       224       18        0         0         0         0         0         0         0         0         0         0         0         150       240       0         0         0         0         0         0         0         0         0         0         0         248       253       116       0         0         0         0         0         0         0         0         0         0         0         0         150       240       0         0         0         0         0         0         0         0         0         0         0         248       253       19        0         0         0         0         0         0         0         0         0         0         0         0         150       250       87        0         0         0         0         0         0         0         0         0         0         248       253       19        0         0         0         0         0         0         0         0         0         0         0         0         150       253       117       0         0         0         0         0         0         0         0         0         0         248       176       6         0         0         0         0         0         0         0         0         0         0         0         5         169       253       117       0         0         0         0         0         0         0         0         0         0         248       217       13        0         0         0         0         0         0         0         0         0         0         6         128       253       244       39        0         0         0         0         0         0         0         0         0         0         231       253       36        0         0         0         0         0         0         0         0         0         0         33        253       253       156       0         0         0         0         0         0         0         0         0         0         0         106       252       213       39        4         0         0         0         0         0         0         5         27        123       253       241       42        0         0         0         0         0         0         0         0         0         0         0         0         164       253       253       163       40        20        20        20        50        83        169       253       253       251       148       0         0         0         0         0         0         0         0         0         0         0         0         0         49        231       252       253       253       253       253       253       253       253       253       253       252       148       0         0         0         0         0         0         0         0         0         0         0         0         0         0         0         0         155       249       253       253       253       253       253       253       253       249       147       0         0         0         0         0         0         0         0         0         0         0         0         0         0         0         0         0         0         45        123       230       253       253       253       159       123       41        0         0         0         0         0         0         0         0         0         0         0         0         0         0         0         0         0         0         0         0         0         0         0         0         0         0         0         0         0         0         0         0         0         0         0         0         0         0         0         0         0         0         0         0         0         0         0         0         0         0         0         0         0         0         0         0         0         0         0         0         0         0         0         0         0         0         0         0         0         0         0         0         0         0         0         0         0         0         0         0         0         0         0         0         0         0         0         0         0         0         0         0         0         0         0         0         0         0         0         0         0         0         0         0         0         0         0         0         0         0         0         0         0         0         0         0         0         0         0         0         0           1\n",
       "                                                                                                                                                                                                                                                                                                                                                                                                                                                                                                                                                                                                                                                                                                                                                                                                                                                                                                                                                                                                                                                                                                                                                                                                                            164       41        0         0         0         0         0         0         0         0         0         0         0         0         0         0         0         0         0         0         0         0         0         0         0         125       252       253       253       229       103       0         0         0         0         0         0         0         0         0         0         0         0         0         0         0         0         0         0         0         0         0         32        221       253       253       253       253       252       228       46        0         0         0         0         0         0         0         0         0         0         0         0         0         0         0         0         38        215       235       240       253       253       205       110       219       253       253       224       0         0         0         0         0         0         0         0         0         0         0         0         0         0         0         89        237       253       253       253       253       230       57        0         17        122       253       234       0         0         0         0         0         0         0         0         0         0         0         0         0         0         0         145       253       253       166       227       253       81        0         0         0         21        218       251       97        0         0         0         0         0         0         0         0         0         0         0         0         0         89        249       253       137       86        253       198       10        0         0         0         0         156       253       221       0         0         0         0         0         0         0         0         0         0         0         0         0         212       253       225       27        79        253       188       0         0         0         0         0         156       253       240       0         0         0         0         0         0         0         0         0         0         0         0         32        240       253       58        0         79        253       84        0         0         0         0         0         156       253       240       0         0         0         0         0         0         0         0         0         0         0         0         144       253       177       8         0         79        253       58        0         0         0         0         0         156       248       112       0         0         0         0         0         0         0         0         0         0         0         88        250       253       126       0         0         79        253       58        0         0         0         0         25        229       234       0         0         0         0         0         0         0         0         0         0         0         0         118       253       253       25        0         0         63        243       58        0         0         0         9         145       253       234       0         0         0         0         0         0         0         0         0         0         0         0         118       253       253       25        0         0         0         166       48        0         0         0         40        253       253       143       0         0         0         0         0         0         0         0         0         0         0         0         118       253       253       25        0         0         0         0         0         0         0         8         139       253       215       35        0         0         0         0         0         0         0         0         0         0         0         0         118       253       253       25        0         0         0         0         0         0         7         139       253       249       85        0         0         0         0         0         0         0         0         0         0         0         0         0         118       253       253       106       0         0         0         0         0         7         140       253       249       130       0         0         0         0         0         0         0         0         0         0         0         0         0         0         48        246       253       213       29        0         0         0         16        141       253       250       130       0         0         0         0         0         0         0         0         0         0         0         0         0         0         0         0         162       252       253       214       143       143       143       228       253       250       129       0         0         0         0         0         0         0         0         0         0         0         0         0         0         0         0         0         0         229       253       253       253       253       253       253       252       128       0         0         0         0         0         0         0         0         0         0         0         0         0         0         0         0         0         0         0         0         161       253       253       253       253       152       95        0         0         0         0         0         0         0         0         0         0         0         0         0         0         0         0         0         0         0         0         0         0         0         0         0         0         0         0         0         0         0         0         0         0         0         0         0         0         0         0         0         0         0         0         0         0         0         0         0         0         0         0         0         0         0         0         0         0         0         0         0         0         0         0         0         0         0         0         0         0         0         0         0         0         0         0         0         0         0         0         0         0         0         0         0         0         0         0         0         0         0         0         0         0         0         0         0         0         0         0         0         0         0         0         0         0         0         0         0         0         0         0         0         0         0         0         0         0         0         0         0         0         0         0           1\n",
       "                                                                                                                                                                                                                                                                                                                                                                                                                                                                                                                                                                                                                                                                                                                                                                                                                                                                                                                                                                                                                                                                                                                                                                                                                                                                                                                                                                                                                                                                                                                                                                                                                                                                                                                                                                                                                                                                                                                                                                                                                                                                                                                                                                                                                                                                                                                                                                                                                                                                                                                                                                                                                                                                                                                                                                                                                                                                                                                                                                                                                                                                                                                                                                                                                                                                                                                                                                                                                                                                                                                                                                                                                                                                                                                                                                                                                                                                                                                                                                                                                                                                                                                                                                                                                                                                                                                                                                                                                                                                                                                                                                                                                                                                                                                                                                                                                                                                                                                                                                                                                                                                                                                                                                                                                                                                                                                                                                                                                                                                                                                                                                                                                                                                                                                                                                                                                                                                                                                                                                                                                                                                                                                                                                                                                                                                                                                                                                                                                                                                                                                                                                                                                                                                                                                                                                                                                                                                                                                                                                                                                                                                                                                                                                                                                                                                                                                                                                                                                                                                                                                                                                                                                                                                                                                                                                                                                                                                                                                                                                                                                                                   ..\n",
       "                                                                                                                                                                                                                                                                                                                                                                                                                                                                                                                                                                                                                                                                                                                                                                                                                                                                                                                                                                                                                                                                                                                                                                                                        0         0         0         0         0         0         0         0         0         0         0         0         0         0         0         0         0         0         0         0         0         0         0         0         0         0         0         0         0         0         124       253       255       63        0         0         0         0         0         0         0         0         0         0         0         0         0         0         0         0         0         0         0         0         0         0         0         96        244       251       253       181       0         0         0         0         0         0         0         0         0         0         0         0         0         0         0         0         0         0         0         0         0         0         16        189       251       251       253       140       0         0         0         0         0         0         0         0         0         0         0         0         0         0         0         0         0         0         0         0         0         0         171       251       251       251       253       62        0         0         0         0         0         0         0         0         0         0         0         0         0         0         0         0         0         0         0         0         0         159       228       251       251       251       193       23        0         0         0         0         0         0         0         0         0         0         0         0         0         0         0         0         0         0         0         0         0         255       253       253       253       253       219       39        0         0         0         0         0         0         0         0         0         0         0         0         0         0         0         0         0         0         0         0         20        253       251       251       251       132       39        0         0         0         0         0         0         0         0         0         0         0         0         0         0         0         0         0         0         0         0         0         158       253       251       251       219       47        0         0         0         0         0         0         0         0         0         0         0         0         0         0         0         0         0         0         0         0         0         96        240       253       251       219       141       0         0         0         0         0         0         0         0         0         0         0         0         0         0         0         0         0         0         0         0         0         0         221       251       253       251       126       0         0         0         0         0         0         0         0         0         0         0         0         0         0         0         0         0         0         0         0         0         0         48        234       253       255       241       79        0         0         0         0         0         0         0         0         0         0         0         0         0         0         0         0         0         0         0         0         0         24        221       251       251       253       101       0         0         0         0         0         0         0         0         0         0         0         0         0         0         0         0         0         0         0         0         0         48        142       251       251       251       205       31        0         0         0         0         0         0         0         0         0         0         0         0         0         0         0         0         0         0         0         0         0         234       251       251       251       211       19        0         0         0         0         0         0         0         0         0         0         0         0         0         0         0         0         0         0         0         0         0         0         253       251       251       211       35        0         0         0         0         0         0         0         0         0         0         0         0         0         0         0         0         0         0         0         0         0         0         60        255       253       253       129       0         0         0         0         0         0         0         0         0         0         0         0         0         0         0         0         0         0         0         0         0         0         28        71        253       247       220       27        0         0         0         0         0         0         0         0         0         0         0         0         0         0         0         0         0         0         0         0         0         0         221       251       253       220       0         0         0         0         0         0         0         0         0         0         0         0         0         0         0         0         0         0         0         0         0         0         0         0         181       251       253       81        0         0         0         0         0         0         0         0         0         0         0         0         0         0         0         0         0         0         0         0         0         0         0         0         162       251       95        23        0         0         0         0         0         0         0         0         0         0         0         0         0         0         0         0         0         0         0         0         0         0         0         0         0         0         0         0         0         0         0         0         0         0         0         0         0         0         0         0         0         0         0         0         0         0         0         0         0         0         0         0         0         0         0         0         0         0         0         0         0         0         0         0         0         0         0         0         0         0         0         0         0         0         0         0         0         0         0         0         0         0         0         0         0         0         0         0         0         0         0         0         0         0         0         0         0         0         0         0         0           1\n",
       "                                                                                                                                                                                                                                                                                                                                                                                                                                                                                                                                                                                                                                                                                                                                                                                                                                                                                                                                                                                                                                                                                                                                                                                                                                                                                                                                                                                                                                                                                                                              229       30        0         0         0         0         0         0         0         0         0         0         0         0         0         0         0         0         0         0         0         0         0         0         0         0         0         222       253       80        0         0         0         0         0         0         0         0         0         0         0         0         0         0         0         0         0         0         0         0         0         0         0         0         9         228       253       80        0         0         0         0         0         0         0         0         0         0         0         0         0         0         0         0         0         0         0         40        0         0         0         0         48        253       253       10        0         0         0         0         0         0         0         0         0         0         0         0         0         0         0         0         0         0         80        247       55        0         0         0         48        253       253       0         0         0         0         0         0         0         0         0         0         0         0         0         0         0         0         0         0         0         191       254       32        0         0         0         53        254       174       0         0         0         0         0         0         0         0         0         0         0         0         0         0         0         0         0         0         12        237       247       28        0         0         0         186       253       115       0         0         0         0         0         0         0         0         0         0         0         0         0         0         0         0         0         0         96        253       165       0         0         0         26        244       241       27        0         0         0         0         0         0         0         0         0         0         0         0         0         0         0         0         0         0         194       245       45        0         0         0         122       253       145       0         0         0         0         0         0         0         0         0         0         0         0         0         0         0         0         0         0         149       254       123       0         0         0         10        229       238       27        0         0         0         0         0         0         0         0         0         0         0         0         0         0         0         0         0         119       254       255       125       16        2         0         81        254       206       9         41        121       54        0         0         0         0         0         0         0         0         0         0         0         0         0         0         126       251       254       253       253       198       190       254       253       241       226       253       254       108       0         0         0         0         0         0         0         0         0         0         0         0         0         0         0         45        48        47        112       127       230       254       247       190       127       127       97        12        0         0         0         0         0         0         0         0         0         0         0         0         0         0         0         0         0         0         0         0         178       254       131       0         0         0         0         0         0         0         0         0         0         0         0         0         0         0         0         0         0         0         0         0         0         0         0         0         238       244       24        0         0         0         0         0         0         0         0         0         0         0         0         0         0         0         0         0         0         0         0         0         0         0         0         44        249       234       0         0         0         0         0         0         0         0         0         0         0         0         0         0         0         0         0         0         0         0         0         0         0         0         0         158       253       125       0         0         0         0         0         0         0         0         0         0         0         0         0         0         0         0         0         0         0         0         0         0         0         0         9         228       253       15        0         0         0         0         0         0         0         0         0         0         0         0         0         0         0         0         0         0         0         0         0         0         0         0         48        253       253       0         0         0         0         0         0         0         0         0         0         0         0         0         0         0         0         0         0         0         0         0         0         0         0         0         33        243       178       0         0         0         0         0         0         0         0         0         0         0         0         0         0         0         0         0         0         0         0         0         0         0         0         0         0         0         0         0         0         0         0         0         0         0         0         0         0         0         0         0         0         0         0         0         0         0         0         0         0         0         0         0         0         0         0         0         0         0         0         0         0         0         0         0         0         0         0         0         0         0         0         0         0         0         0         0         0         0         0         0         0         0         0         0         0         0         0         0         0         0         0         0         0         0         0         0         0           1\n",
       "                                                                                                                                                                                                                                                                                                                                                                                                                                                                                                                                                                                                                                                                                                                                                                                                                                                                                                                                                                                                                                                                                                                                                                                                                                                                                                                                                                                                                                                                                                                    122       0         0         0         0         0         0         0         0         0         0         0         0         0         0         0         0         0         0         0         2         20        2         0         0         0         0         34        245       0         0         0         0         0         0         0         0         0         0         0         0         0         0         0         0         0         0         0         20        254       19        0         0         0         0         40        254       0         0         0         0         0         0         0         0         0         0         0         0         0         0         0         0         0         0         0         111       254       19        0         0         0         0         40        254       0         0         0         0         0         0         0         0         0         0         0         0         0         0         0         0         0         0         0         118       254       19        0         0         0         0         40        254       0         0         0         0         0         0         0         0         0         0         0         0         0         0         0         0         0         0         37        240       206       8         0         0         0         0         137       255       0         0         0         0         0         0         0         0         0         0         0         0         0         0         0         0         0         0         67        252       125       0         0         0         0         0         144       216       0         0         0         0         0         0         0         0         0         0         0         0         0         0         0         0         0         0         225       240       24        0         0         0         7         109       248       254       31        0         0         0         0         0         0         0         0         0         0         0         0         0         0         0         0         16        254       254       241       235       235       236       236       254       254       254       99        0         0         0         0         0         0         0         0         0         0         0         0         0         0         0         0         173       254       254       254       254       254       254       254       254       254       254       99        0         0         0         0         0         0         0         0         0         0         0         0         0         0         0         0         114       196       196       196       106       61        99        99        99        243       194       0         0         0         0         0         0         0         0         0         0         0         0         0         0         0         0         0         0         0         0         0         0         0         0         0         0         235       155       0         0         0         0         0         0         0         0         0         0         0         0         0         0         0         0         0         0         0         0         0         0         0         0         0         0         235       126       0         0         0         0         0         0         0         0         0         0         0         0         0         0         0         0         0         0         0         0         0         0         0         0         0         0         235       148       0         0         0         0         0         0         0         0         0         0         0         0         0         0         0         0         0         0         0         0         0         0         0         0         0         0         235       119       0         0         0         0         0         0         0         0         0         0         0         0         0         0         0         0         0         0         0         0         0         0         0         0         0         0         236       59        0         0         0         0         0         0         0         0         0         0         0         0         0         0         0         0         0         0         0         0         0         0         0         0         0         0         235       148       0         0         0         0         0         0         0         0         0         0         0         0         0         0         0         0         0         0         0         0         0         0         0         0         0         0         235       254       0         0         0         0         0         0         0         0         0         0         0         0         0         0         0         0         0         0         0         0         0         0         0         0         0         0         235       185       38        0         0         0         0         0         0         0         0         0         0         0         0         0         0         0         0         0         0         0         0         0         0         0         0         0         220       36        0         0         0         0         0         0         0         0         0         0         0         0         0         0         0         0         0         0         0         0         0         0         0         0         0         0         0         0         0         0         0         0         0         0         0         0         0         0         0         0         0         0         0         0         0         0         0         0         0         0         0         0         0         0         0         0         0         0         0         0         0         0         0         0         0         0         0         0         0         0         0         0         0         0         0         0         0         0         0         0         0         0         0         0         0         0         0         0         0         0         0         0         0         0           1\n",
       "                                                                                                                                                                                                                                                                                                                                                                                                                                                                                                                                                                                                                                                                                                                                                                                                                                                                                                                                                                                                                                                                                                                                                                                                                                                                                                                                                                                                                                                                                                                    121       253       253       253       200       25        0         0         0         0         0         0         0         0         0         0         0         0         0         0         0         0         0         11        60        61        60        156       229       252       252       252       252       94        0         0         0         0         0         0         0         0         0         0         0         0         0         0         0         0         6         57        252       253       252       252       252       252       252       252       252       207       0         0         0         0         0         0         0         0         0         0         0         0         0         0         0         0         160       252       252       253       252       252       252       252       252       252       252       207       0         0         0         0         0         0         0         0         0         0         0         0         0         0         0         0         238       252       252       222       54        126       177       112       252       252       252       163       0         0         0         0         0         0         0         0         0         0         0         0         0         0         0         96        248       252       252       131       0         0         0         180       252       252       188       17        0         0         0         0         0         0         0         0         0         0         0         0         0         0         0         134       252       252       252       0         0         0         64        238       252       252       162       0         0         0         0         0         0         0         0         0         0         0         0         0         0         0         0         134       252       252       252       0         0         155       244       252       252       204       17        0         0         0         0         0         0         0         0         0         0         0         0         0         0         0         0         31        241       252       252       133       168       231       252       252       202       28        0         0         0         0         0         0         0         0         0         0         0         0         0         0         0         0         0         0         238       252       252       253       252       252       252       120       30        0         0         0         0         0         0         0         0         0         0         0         0         0         0         0         0         0         0         0         240       253       253       255       253       185       79        0         0         0         0         0         0         0         0         0         0         0         0         0         0         0         0         0         0         0         43        139       249       252       252       253       237       68        0         0         0         0         0         0         0         0         0         0         0         0         0         0         0         0         0         0         8         60        226       252       252       252       252       253       192       0         0         0         0         0         0         0         0         0         0         0         0         0         0         0         0         0         0         8         182       252       252       252       252       252       252       253       192       0         0         0         0         0         0         0         0         0         0         0         0         0         0         0         0         0         53        225       252       252       243       177       37        69        252       253       192       0         0         0         0         0         0         0         0         0         0         0         0         0         0         0         0         0         165       252       252       243       108       0         0         45        252       253       192       0         0         0         0         0         0         0         0         0         0         0         0         0         0         0         0         56        231       252       252       177       0         0         0         45        252       253       192       0         0         0         0         0         0         0         0         0         0         0         0         0         0         0         0         105       252       252       252       116       90        90        90        206       252       253       52        0         0         0         0         0         0         0         0         0         0         0         0         0         0         0         0         25        192       252       252       252       252       252       252       252       252       173       10        0         0         0         0         0         0         0         0         0         0         0         0         0         0         0         0         0         25        112       181       147       252       252       252       225       103       61        0         0         0         0         0         0         0         0         0         0         0         0         0         0         0         0         0         0         0         0         0         0         0         0         0         0         0         0         0         0         0         0         0         0         0         0         0         0         0         0         0         0         0         0         0         0         0         0         0         0         0         0         0         0         0         0         0         0         0         0         0         0         0         0         0         0         0         0         0         0         0         0         0         0         0         0         0         0         0         0         0         0         0         0         0         0         0         0         0         0         0         0         0         0         0         0         0           1\n",
       "                                                                                                                                                                                                                                                                                               38       236      158      233      144      0        0        0        0        0        0        14       2        0        0        0        0        0        0        0        0        0        0        0        0        0        0        0        50       187      81       27       0        0        0        0        0        0        30       119      131      128      138      6        0        0        0        0        0        0        0        0        0        0        0        0        0        0        0        0        0        0        0        0        0        0        0        17        44        90        253       209       39        0         0         0         0         0         0         0         0         0         0         0         0         0         0         0         0         0         0         0         0         0         0         0         0         27        215       189       47        0         0         0         0         0         0         0         0         0         0         0         0         0         0         0         0         0         0         0         0         0         0         0         0         0         70        55        0         0         0         0         0         0         0         0         0         0         0         0         0         0         0         0         0         0         0         0         0         0         0         0         0         0         0         0         0         0         0         0         0         0         0         0         0         0         0         0         0         0         0         0         0         0         0         0         0         0         0         0         0         0         4         1         5         0         0         0         0         0         0         0         0         0         0         0         0         0         0         0         0         0         0         0         0         0         0         0         0         0         35        9         44        0         0         0         0         0         0         0         0         0         0         0         0         0         0         0         0         0         0         0         0         0         0         0         0         17        117       84        0         0         0         0         0         0         0         0         0         0         0         0         0         0         0         0         0         0         0         0         0         0         0         0         0         32        230       252       87        0         0         0         0         0         0         0         0         0         0         0         0         0         0         0         0         0         0         0         0         0         0         0         0         8         159       185       44        0         0         0         0         0         0         0         0         0         0         0         0         0         0         0         0         0         0         0         0         0         0         0         0         17        215       180       0         0         0         0         0         0         0         0         0         0         0         0         0         0         0         0         0         0         0         0         0         0         0         0         0         46        244       228       39        0         0         0         0         0         0         0         0         0         0         0         0         0         0         0         0         0         0         0         0         0         0         19        138       246       253       249       165       6         0         0         0         0         0         0         0         0         0         0         0         0         0         0         0         3         56        32        32        49        68        238       253       253       253       253       253       66        0         0         0         0         0         0         0         0         0         0         0         0         18        127       137       192       253       230       230       247       237       253       253       253       253       211       165       43        0         0         0         0         0         0         0         0         0         0         0         0         225       253       253       253       253       253       253       255       253       253       248       170       45        11        0         0         0         0         0         0         0         0         0         0         0         0         0         0         243       253       238       211       253       138       166       186       128       185       47        0         0         0         0         0         0         0         0         0         0         0         0         0         0         0         0         0         161       253       192       18        253       66        111       139       0         29        0         0         0         0         0         0         0         0         0         0         0         0         0         0         0         0         0         0         27        191       230       225       205       162       15        15        0         0         0         0         0         0         0         0         0         0         0         0         0         0         0         0         0         0         0         0         0         0         0         0         0         0         0         0         0         0         0         0         0         0         0         0         0         0         0         0         0         0         0         0         0         0         0         0         0         0         0         0         0         0         0         0         0         0         0         0         0         0         0         0         0         0         0         0         0         0         0         0         0         0         0         0         0         0         0         0         0         0         0         0         0         0         0         0         0         0         0         0         0         0         0         0         0         0         0         0         0         0         0         0         0         0         0         0         0         0         0         0         0         0         0         0         0         0         0         0         0         0         0         0         0         0         0         0         0         0         0         0         0         0         0         0         0         0         0         0         0         0         0         0         0         0         0         0         0         0         0         0         0         0         0         0         0         0         0         0         0         0         0         0         0         0         0         0         0         0         0         0         0         0         0         0         0         0         0         0         0         0         0         0         0         0         0         0         0         0         0         0         0         0         0         0         0         0         0         0         0         0         0         0         0         0         0         0         0           1\n",
       "Length: 28000, dtype: int64"
      ]
     },
     "execution_count": 7,
     "metadata": {},
     "output_type": "execute_result"
    }
   ],
   "source": [
    "test.value_counts()"
   ]
  },
  {
   "cell_type": "markdown",
   "id": "84a1a8b7",
   "metadata": {},
   "source": [
    "- train : 42000\n",
    "- test : 28000\n",
    "- train:test= 1.5 : 1"
   ]
  },
  {
   "cell_type": "code",
   "execution_count": 8,
   "id": "65f4d83d",
   "metadata": {},
   "outputs": [],
   "source": [
    "y_train = train['label']"
   ]
  },
  {
   "cell_type": "code",
   "execution_count": 9,
   "id": "a657af7b",
   "metadata": {},
   "outputs": [],
   "source": [
    "x_train = train.drop('label', axis=1)"
   ]
  },
  {
   "cell_type": "code",
   "execution_count": 10,
   "id": "fbeded92",
   "metadata": {},
   "outputs": [
    {
     "data": {
      "text/html": [
       "<div>\n",
       "<style scoped>\n",
       "    .dataframe tbody tr th:only-of-type {\n",
       "        vertical-align: middle;\n",
       "    }\n",
       "\n",
       "    .dataframe tbody tr th {\n",
       "        vertical-align: top;\n",
       "    }\n",
       "\n",
       "    .dataframe thead th {\n",
       "        text-align: right;\n",
       "    }\n",
       "</style>\n",
       "<table border=\"1\" class=\"dataframe\">\n",
       "  <thead>\n",
       "    <tr style=\"text-align: right;\">\n",
       "      <th></th>\n",
       "      <th>pixel0</th>\n",
       "      <th>pixel1</th>\n",
       "      <th>pixel2</th>\n",
       "      <th>pixel3</th>\n",
       "      <th>pixel4</th>\n",
       "      <th>pixel5</th>\n",
       "      <th>pixel6</th>\n",
       "      <th>pixel7</th>\n",
       "      <th>pixel8</th>\n",
       "      <th>pixel9</th>\n",
       "      <th>...</th>\n",
       "      <th>pixel774</th>\n",
       "      <th>pixel775</th>\n",
       "      <th>pixel776</th>\n",
       "      <th>pixel777</th>\n",
       "      <th>pixel778</th>\n",
       "      <th>pixel779</th>\n",
       "      <th>pixel780</th>\n",
       "      <th>pixel781</th>\n",
       "      <th>pixel782</th>\n",
       "      <th>pixel783</th>\n",
       "    </tr>\n",
       "  </thead>\n",
       "  <tbody>\n",
       "    <tr>\n",
       "      <th>0</th>\n",
       "      <td>0</td>\n",
       "      <td>0</td>\n",
       "      <td>0</td>\n",
       "      <td>0</td>\n",
       "      <td>0</td>\n",
       "      <td>0</td>\n",
       "      <td>0</td>\n",
       "      <td>0</td>\n",
       "      <td>0</td>\n",
       "      <td>0</td>\n",
       "      <td>...</td>\n",
       "      <td>0</td>\n",
       "      <td>0</td>\n",
       "      <td>0</td>\n",
       "      <td>0</td>\n",
       "      <td>0</td>\n",
       "      <td>0</td>\n",
       "      <td>0</td>\n",
       "      <td>0</td>\n",
       "      <td>0</td>\n",
       "      <td>0</td>\n",
       "    </tr>\n",
       "    <tr>\n",
       "      <th>1</th>\n",
       "      <td>0</td>\n",
       "      <td>0</td>\n",
       "      <td>0</td>\n",
       "      <td>0</td>\n",
       "      <td>0</td>\n",
       "      <td>0</td>\n",
       "      <td>0</td>\n",
       "      <td>0</td>\n",
       "      <td>0</td>\n",
       "      <td>0</td>\n",
       "      <td>...</td>\n",
       "      <td>0</td>\n",
       "      <td>0</td>\n",
       "      <td>0</td>\n",
       "      <td>0</td>\n",
       "      <td>0</td>\n",
       "      <td>0</td>\n",
       "      <td>0</td>\n",
       "      <td>0</td>\n",
       "      <td>0</td>\n",
       "      <td>0</td>\n",
       "    </tr>\n",
       "    <tr>\n",
       "      <th>2</th>\n",
       "      <td>0</td>\n",
       "      <td>0</td>\n",
       "      <td>0</td>\n",
       "      <td>0</td>\n",
       "      <td>0</td>\n",
       "      <td>0</td>\n",
       "      <td>0</td>\n",
       "      <td>0</td>\n",
       "      <td>0</td>\n",
       "      <td>0</td>\n",
       "      <td>...</td>\n",
       "      <td>0</td>\n",
       "      <td>0</td>\n",
       "      <td>0</td>\n",
       "      <td>0</td>\n",
       "      <td>0</td>\n",
       "      <td>0</td>\n",
       "      <td>0</td>\n",
       "      <td>0</td>\n",
       "      <td>0</td>\n",
       "      <td>0</td>\n",
       "    </tr>\n",
       "    <tr>\n",
       "      <th>3</th>\n",
       "      <td>0</td>\n",
       "      <td>0</td>\n",
       "      <td>0</td>\n",
       "      <td>0</td>\n",
       "      <td>0</td>\n",
       "      <td>0</td>\n",
       "      <td>0</td>\n",
       "      <td>0</td>\n",
       "      <td>0</td>\n",
       "      <td>0</td>\n",
       "      <td>...</td>\n",
       "      <td>0</td>\n",
       "      <td>0</td>\n",
       "      <td>0</td>\n",
       "      <td>0</td>\n",
       "      <td>0</td>\n",
       "      <td>0</td>\n",
       "      <td>0</td>\n",
       "      <td>0</td>\n",
       "      <td>0</td>\n",
       "      <td>0</td>\n",
       "    </tr>\n",
       "    <tr>\n",
       "      <th>4</th>\n",
       "      <td>0</td>\n",
       "      <td>0</td>\n",
       "      <td>0</td>\n",
       "      <td>0</td>\n",
       "      <td>0</td>\n",
       "      <td>0</td>\n",
       "      <td>0</td>\n",
       "      <td>0</td>\n",
       "      <td>0</td>\n",
       "      <td>0</td>\n",
       "      <td>...</td>\n",
       "      <td>0</td>\n",
       "      <td>0</td>\n",
       "      <td>0</td>\n",
       "      <td>0</td>\n",
       "      <td>0</td>\n",
       "      <td>0</td>\n",
       "      <td>0</td>\n",
       "      <td>0</td>\n",
       "      <td>0</td>\n",
       "      <td>0</td>\n",
       "    </tr>\n",
       "  </tbody>\n",
       "</table>\n",
       "<p>5 rows × 784 columns</p>\n",
       "</div>"
      ],
      "text/plain": [
       "   pixel0  pixel1  pixel2  pixel3  pixel4  pixel5  pixel6  pixel7  pixel8  \\\n",
       "0       0       0       0       0       0       0       0       0       0   \n",
       "1       0       0       0       0       0       0       0       0       0   \n",
       "2       0       0       0       0       0       0       0       0       0   \n",
       "3       0       0       0       0       0       0       0       0       0   \n",
       "4       0       0       0       0       0       0       0       0       0   \n",
       "\n",
       "   pixel9  ...  pixel774  pixel775  pixel776  pixel777  pixel778  pixel779  \\\n",
       "0       0  ...         0         0         0         0         0         0   \n",
       "1       0  ...         0         0         0         0         0         0   \n",
       "2       0  ...         0         0         0         0         0         0   \n",
       "3       0  ...         0         0         0         0         0         0   \n",
       "4       0  ...         0         0         0         0         0         0   \n",
       "\n",
       "   pixel780  pixel781  pixel782  pixel783  \n",
       "0         0         0         0         0  \n",
       "1         0         0         0         0  \n",
       "2         0         0         0         0  \n",
       "3         0         0         0         0  \n",
       "4         0         0         0         0  \n",
       "\n",
       "[5 rows x 784 columns]"
      ]
     },
     "execution_count": 10,
     "metadata": {},
     "output_type": "execute_result"
    }
   ],
   "source": [
    "x_train.head()"
   ]
  },
  {
   "cell_type": "code",
   "execution_count": 11,
   "id": "0131e5a5",
   "metadata": {},
   "outputs": [
    {
     "data": {
      "text/plain": [
       "0    1\n",
       "1    0\n",
       "2    1\n",
       "3    4\n",
       "4    0\n",
       "Name: label, dtype: int64"
      ]
     },
     "execution_count": 11,
     "metadata": {},
     "output_type": "execute_result"
    }
   ],
   "source": [
    "y_train.head()"
   ]
  },
  {
   "cell_type": "code",
   "execution_count": 12,
   "id": "edb94cf3",
   "metadata": {},
   "outputs": [
    {
     "data": {
      "text/plain": [
       "1    4684\n",
       "7    4401\n",
       "3    4351\n",
       "9    4188\n",
       "2    4177\n",
       "6    4137\n",
       "0    4132\n",
       "4    4072\n",
       "8    4063\n",
       "5    3795\n",
       "Name: label, dtype: int64"
      ]
     },
     "execution_count": 12,
     "metadata": {},
     "output_type": "execute_result"
    }
   ],
   "source": [
    "y_train.value_counts()"
   ]
  },
  {
   "cell_type": "markdown",
   "id": "a86d2dd2",
   "metadata": {},
   "source": [
    "-  0~9까지 골고루 들어있음."
   ]
  },
  {
   "cell_type": "code",
   "execution_count": 13,
   "id": "f6ee9a02",
   "metadata": {},
   "outputs": [
    {
     "data": {
      "text/plain": [
       "label       0\n",
       "pixel0      0\n",
       "pixel1      0\n",
       "pixel2      0\n",
       "pixel3      0\n",
       "           ..\n",
       "pixel779    0\n",
       "pixel780    0\n",
       "pixel781    0\n",
       "pixel782    0\n",
       "pixel783    0\n",
       "Length: 785, dtype: int64"
      ]
     },
     "execution_count": 13,
     "metadata": {},
     "output_type": "execute_result"
    }
   ],
   "source": [
    "train.isnull().sum()"
   ]
  },
  {
   "cell_type": "code",
   "execution_count": 14,
   "id": "34b5f70d",
   "metadata": {},
   "outputs": [
    {
     "data": {
      "text/plain": [
       "pixel0      0\n",
       "pixel1      0\n",
       "pixel2      0\n",
       "pixel3      0\n",
       "pixel4      0\n",
       "           ..\n",
       "pixel779    0\n",
       "pixel780    0\n",
       "pixel781    0\n",
       "pixel782    0\n",
       "pixel783    0\n",
       "Length: 784, dtype: int64"
      ]
     },
     "execution_count": 14,
     "metadata": {},
     "output_type": "execute_result"
    }
   ],
   "source": [
    "x_train.isnull().sum()"
   ]
  },
  {
   "cell_type": "code",
   "execution_count": 15,
   "id": "d4719087",
   "metadata": {},
   "outputs": [],
   "source": [
    "#rescale\n",
    "x_train = x_train / 255.0\n",
    "test = test / 255.0"
   ]
  },
  {
   "cell_type": "code",
   "execution_count": 16,
   "id": "9391075d",
   "metadata": {},
   "outputs": [],
   "source": [
    "#reshape\n",
    "X_train = x_train.values.reshape(-1,28,28,1)\n",
    "test = test.values.reshape(-1,28,28,1)"
   ]
  },
  {
   "cell_type": "markdown",
   "id": "ad68818d",
   "metadata": {},
   "source": [
    "- RGB 채널아니고 Grayscale 채널이라 28X28X1임."
   ]
  },
  {
   "cell_type": "code",
   "execution_count": 17,
   "id": "ce20f922",
   "metadata": {},
   "outputs": [],
   "source": [
    "y_train = to_categorical(y_train, num_classes=10)"
   ]
  },
  {
   "cell_type": "markdown",
   "id": "092a55f1",
   "metadata": {},
   "source": [
    "- 0~9까지의 숫자를 가지고 있으므로 num_classes 10으로 하여 원핫 인코딩을 한다."
   ]
  },
  {
   "cell_type": "code",
   "execution_count": 18,
   "id": "1219fdf2",
   "metadata": {},
   "outputs": [],
   "source": [
    "# data split\n",
    "x_train, x_val, y_train, y_val = train_test_split(X_train, y_train, test_size=0.2, random_state=2)"
   ]
  },
  {
   "cell_type": "markdown",
   "id": "05bcf723",
   "metadata": {},
   "source": [
    "- train:val = 8:2"
   ]
  },
  {
   "cell_type": "code",
   "execution_count": 20,
   "id": "a091ba5c",
   "metadata": {},
   "outputs": [
    {
     "data": {
      "image/png": "[encoded data removed]",
      "text/plain": [
       "<Figure size 432x288 with 1 Axes>"
      ]
     },
     "metadata": {
      "needs_background": "light"
     },
     "output_type": "display_data"
    }
   ],
   "source": [
    "# sample image\n",
    "a = plt.imshow(x_train[0][:,:,0])"
   ]
  },
  {
   "cell_type": "code",
   "execution_count": 22,
   "id": "34f9ebd4",
   "metadata": {},
   "outputs": [],
   "source": [
    "# cnn model\n",
    "model = Sequential()\n",
    "\n",
    "model.add(Conv2D(filters = 32, kernel_size = (5,5),padding = 'Same', \n",
    "                 activation ='relu', input_shape = (28,28,1)))\n",
    "model.add(MaxPool2D(pool_size=(2,2)))\n",
    "model.add(Conv2D(filters = 64, kernel_size = (3,3),padding = 'Same', \n",
    "                 activation ='relu'))\n",
    "model.add(MaxPool2D(pool_size=(2,2), strides=(2,2)))\n",
    "model.add(Conv2D(filters = 128, kernel_size = (3,3),padding = 'Same', \n",
    "                 activation ='relu'))\n",
    "model.add(MaxPool2D(pool_size=(2,2), strides=(2,2)))\n",
    "model.add(Flatten())\n",
    "model.add(Dense(256, activation = \"relu\"))\n",
    "model.add(Dropout(0.5))\n",
    "model.add(Dense(10, activation = \"softmax\"))"
   ]
  },
  {
   "cell_type": "code",
   "execution_count": 23,
   "id": "d6361011",
   "metadata": {},
   "outputs": [
    {
     "name": "stdout",
     "output_type": "stream",
     "text": [
      "_________________________________________________________________\n",
      "Layer (type)                 Output Shape              Param #   \n",
      "=================================================================\n",
      "conv2d_5 (Conv2D)            (None, 28, 28, 32)        832       \n",
      "_________________________________________________________________\n",
      "max_pooling2d_3 (MaxPooling2 (None, 14, 14, 32)        0         \n",
      "_________________________________________________________________\n",
      "conv2d_6 (Conv2D)            (None, 14, 14, 64)        18496     \n",
      "_________________________________________________________________\n",
      "max_pooling2d_4 (MaxPooling2 (None, 7, 7, 64)          0         \n",
      "_________________________________________________________________\n",
      "conv2d_7 (Conv2D)            (None, 7, 7, 128)         73856     \n",
      "_________________________________________________________________\n",
      "max_pooling2d_5 (MaxPooling2 (None, 3, 3, 128)         0         \n",
      "_________________________________________________________________\n",
      "flatten_2 (Flatten)          (None, 1152)              0         \n",
      "_________________________________________________________________\n",
      "dense_3 (Dense)              (None, 256)               295168    \n",
      "_________________________________________________________________\n",
      "dropout_4 (Dropout)          (None, 256)               0         \n",
      "_________________________________________________________________\n",
      "dense_4 (Dense)              (None, 10)                2570      \n",
      "=================================================================\n",
      "Total params: 390,922\n",
      "Trainable params: 390,922\n",
      "Non-trainable params: 0\n",
      "_________________________________________________________________\n"
     ]
    }
   ],
   "source": [
    "model.summary()"
   ]
  },
  {
   "cell_type": "markdown",
   "id": "f10a629a",
   "metadata": {},
   "source": [
    "- 첫번째 cnn : conv->maxpool->conv->maxpool->conv->maxpool->flatten->dense->dropout->dense"
   ]
  },
  {
   "cell_type": "code",
   "execution_count": 25,
   "id": "0b4e9ecd",
   "metadata": {},
   "outputs": [],
   "source": [
    "optimizer = Nadam(lr=0.001)"
   ]
  },
  {
   "cell_type": "markdown",
   "id": "d99f899f",
   "metadata": {},
   "source": [
    "- Adam : RMSProp + Momentum 방향과 스텝 사이즈 적절히 조정\n",
    "- Nadam : Adam + NAG(Momentum) 대신 사용"
   ]
  },
  {
   "cell_type": "code",
   "execution_count": 26,
   "id": "e5d66c75",
   "metadata": {},
   "outputs": [
    {
     "name": "stdout",
     "output_type": "stream",
     "text": [
      "WARNING:tensorflow:From C:\\Users\\user\\anaconda3\\envs\\py37\\lib\\site-packages\\keras\\optimizers.py:790: The name tf.train.Optimizer is deprecated. Please use tf.compat.v1.train.Optimizer instead.\n",
      "\n",
      "WARNING:tensorflow:From C:\\Users\\user\\anaconda3\\envs\\py37\\lib\\site-packages\\keras\\backend\\tensorflow_backend.py:3295: The name tf.log is deprecated. Please use tf.math.log instead.\n",
      "\n"
     ]
    }
   ],
   "source": [
    "#compile\n",
    "model.compile(optimizer = optimizer , loss = \"categorical_crossentropy\", metrics=[\"accuracy\"])"
   ]
  },
  {
   "cell_type": "code",
   "execution_count": 28,
   "id": "253acdc1",
   "metadata": {},
   "outputs": [],
   "source": [
    "learning_rate_reduction = ReduceLROnPlateau(monitor='val_loss', \n",
    "                                            patience=3, \n",
    "                                            verbose=1, \n",
    "                                            factor=0.5,\n",
    "                                            mode=\"min\",\n",
    "                                            min_lr=0.0001)"
   ]
  },
  {
   "cell_type": "markdown",
   "id": "50fad2bf",
   "metadata": {},
   "source": [
    "- **ReduceLROnPlateau : callbacks function**\n",
    "- 모델의 개선이 없을 경우, learning rate를 조절해 모델의 개선을 유도\n",
    "- monitor : 기준이 되는 값. val_loss? val_loss가 더이상 감소 않으면 적용.\n",
    "- verbose 1? EarlyStopping이 적용될 때, 화면에 적용되었다고 나타남.\n",
    "- patience : Training이 진행됨에도 더이상 monitor되는 값의 개선이 없을 경우, 최적의 monitor 값을 기준으로 몇 번의 epoch을 진행하고, learning rate를 조절할 지의 값\n",
    "- factor : Learning rate를 얼마나 감소시킬 지 정하는 인자값\n",
    "- mode : \"auto\" 또는 \"min\" 또는 \"max\", monitor되는 값이 최소가 되어야 하는지, 최대가 되어야 하는지 알려주는 인자입니다.\n",
    "- min_lr : learning rate의 하한선\n"
   ]
  },
  {
   "cell_type": "code",
   "execution_count": 31,
   "id": "06b5c2eb",
   "metadata": {},
   "outputs": [
    {
     "name": "stdout",
     "output_type": "stream",
     "text": [
      "WARNING:tensorflow:From C:\\Users\\user\\anaconda3\\envs\\py37\\lib\\site-packages\\tensorflow\\python\\ops\\math_grad.py:1250: add_dispatch_support.<locals>.wrapper (from tensorflow.python.ops.array_ops) is deprecated and will be removed in a future version.\n",
      "Instructions for updating:\n",
      "Use tf.where in 2.0, which has the same broadcast rule as np.where\n",
      "Train on 33600 samples, validate on 8400 samples\n",
      "Epoch 1/20\n",
      " - 5s - loss: 0.3095 - acc: 0.9025 - val_loss: 0.0677 - val_acc: 0.9770\n",
      "Epoch 2/20\n",
      " - 3s - loss: 0.0741 - acc: 0.9770 - val_loss: 0.0516 - val_acc: 0.9836\n",
      "Epoch 3/20\n",
      " - 3s - loss: 0.0478 - acc: 0.9851 - val_loss: 0.0443 - val_acc: 0.9858\n",
      "Epoch 4/20\n",
      " - 3s - loss: 0.0376 - acc: 0.9888 - val_loss: 0.0335 - val_acc: 0.9904\n",
      "Epoch 5/20\n",
      " - 3s - loss: 0.0311 - acc: 0.9907 - val_loss: 0.0327 - val_acc: 0.9904\n",
      "Epoch 6/20\n",
      " - 3s - loss: 0.0263 - acc: 0.9917 - val_loss: 0.0364 - val_acc: 0.9899\n",
      "Epoch 7/20\n",
      " - 3s - loss: 0.0225 - acc: 0.9926 - val_loss: 0.0310 - val_acc: 0.9908\n",
      "Epoch 8/20\n",
      " - 3s - loss: 0.0205 - acc: 0.9936 - val_loss: 0.0334 - val_acc: 0.9911\n",
      "Epoch 9/20\n",
      " - 3s - loss: 0.0177 - acc: 0.9945 - val_loss: 0.0361 - val_acc: 0.9904\n",
      "Epoch 10/20\n",
      " - 3s - loss: 0.0147 - acc: 0.9951 - val_loss: 0.0398 - val_acc: 0.9893\n",
      "Epoch 11/20\n",
      " - 3s - loss: 0.0162 - acc: 0.9949 - val_loss: 0.0304 - val_acc: 0.9915\n",
      "Epoch 12/20\n",
      " - 3s - loss: 0.0123 - acc: 0.9958 - val_loss: 0.0345 - val_acc: 0.9896\n",
      "Epoch 13/20\n",
      " - 3s - loss: 0.0099 - acc: 0.9968 - val_loss: 0.0406 - val_acc: 0.9906\n",
      "Epoch 14/20\n",
      " - 3s - loss: 0.0108 - acc: 0.9967 - val_loss: 0.0382 - val_acc: 0.9912\n",
      "Epoch 15/20\n",
      " - 3s - loss: 0.0098 - acc: 0.9968 - val_loss: 0.0345 - val_acc: 0.9908\n",
      "Epoch 16/20\n",
      " - 3s - loss: 0.0091 - acc: 0.9968 - val_loss: 0.0426 - val_acc: 0.9913\n",
      "Epoch 17/20\n",
      " - 3s - loss: 0.0088 - acc: 0.9969 - val_loss: 0.0410 - val_acc: 0.9905\n",
      "Epoch 18/20\n",
      " - 3s - loss: 0.0101 - acc: 0.9967 - val_loss: 0.0296 - val_acc: 0.9921\n",
      "Epoch 19/20\n",
      " - 3s - loss: 0.0079 - acc: 0.9976 - val_loss: 0.0400 - val_acc: 0.9921\n",
      "Epoch 20/20\n",
      " - 3s - loss: 0.0063 - acc: 0.9980 - val_loss: 0.0441 - val_acc: 0.9919\n"
     ]
    }
   ],
   "source": [
    "history = model.fit(x_train, y_train, batch_size = 100, epochs = 20, \n",
    "          validation_data = (x_val, y_val), verbose = 2)"
   ]
  },
  {
   "cell_type": "code",
   "execution_count": 32,
   "id": "c47abc14",
   "metadata": {},
   "outputs": [
    {
     "name": "stdout",
     "output_type": "stream",
     "text": [
      "8400/8400 [==============================] - 1s 78us/step\n",
      "\n",
      "Accuracy: 0.9919\n"
     ]
    }
   ],
   "source": [
    "print('\\nAccuracy: {:.4f}'.format(model.evaluate(x_val, y_val)[1]))"
   ]
  },
  {
   "cell_type": "code",
   "execution_count": 33,
   "id": "8e394884",
   "metadata": {},
   "outputs": [
    {
     "data": {
      "image/png": "[encoded data removed]",
      "text/plain": [
       "<Figure size 720x360 with 2 Axes>"
      ]
     },
     "metadata": {
      "needs_background": "light"
     },
     "output_type": "display_data"
    }
   ],
   "source": [
    "his_dict = history.history\n",
    "loss = his_dict['loss']\n",
    "val_loss = his_dict['val_loss']\n",
    "\n",
    "epochs = range(1, len(loss)+1)\n",
    "fig = plt.figure(figsize = (10,5))\n",
    "\n",
    "# train/valid/loss graph\n",
    "ax1 = fig.add_subplot(1, 2, 1)\n",
    "ax1.plot(epochs, loss, color = 'blue', label = 'train_loss')\n",
    "ax1.plot(epochs, val_loss, color = 'orange', label = 'val_loss')\n",
    "ax1.set_title('train and valid loss')\n",
    "ax1.set_xlabel('epochs')\n",
    "ax1.set_ylabel('loss')\n",
    "ax1.legend()\n",
    "\n",
    "acc = his_dict['acc']\n",
    "val_acc = his_dict['val_acc']\n",
    "\n",
    "# train/valid/loss acc\n",
    "ax2 = fig.add_subplot(1, 2, 2)\n",
    "ax2.plot(epochs, acc, color = 'blue', label = 'train_acc')\n",
    "ax2.plot(epochs, val_acc, color = 'orange', label = 'val_acc')\n",
    "ax2.set_title('train and valid loss')\n",
    "ax2.set_xlabel('epochs')\n",
    "ax2.set_ylabel('acc')\n",
    "ax1.legend()\n",
    "\n",
    "plt.show()"
   ]
  },
  {
   "cell_type": "markdown",
   "id": "96435556",
   "metadata": {},
   "source": [
    "- 정확도 99.19%"
   ]
  },
  {
   "cell_type": "code",
   "execution_count": 34,
   "id": "3962afbc",
   "metadata": {},
   "outputs": [],
   "source": [
    "# image augmentation\n",
    "datagen = ImageDataGenerator(\n",
    "        featurewise_center=False,  # set input mean to 0 over the dataset\n",
    "        samplewise_center=False,  # set each sample mean to 0\n",
    "        featurewise_std_normalization=False,  # divide inputs by std of the dataset\n",
    "        samplewise_std_normalization=False,  # divide each input by its std\n",
    "        zca_whitening=False,  # apply ZCA whitening\n",
    "        rotation_range=10,  # randomly rotate images in the range (degrees, 0 to 180)\n",
    "        zoom_range = 0.1, # Randomly zoom image \n",
    "        width_shift_range=0.1,  # randomly shift images horizontally (fraction of total width)\n",
    "        height_shift_range=0.1,  # randomly shift images vertically (fraction of total height)\n",
    "        horizontal_flip=False,  # randomly flip images\n",
    "        vertical_flip=False)  # randomly flip images\n",
    "\n",
    "\n",
    "datagen.fit(X_train)"
   ]
  },
  {
   "cell_type": "code",
   "execution_count": 43,
   "id": "6f72297b",
   "metadata": {},
   "outputs": [
    {
     "name": "stdout",
     "output_type": "stream",
     "text": [
      "Epoch 1/20\n",
      " - 5s - loss: 0.0462 - acc: 0.9863 - val_loss: 0.0300 - val_acc: 0.9918\n",
      "Epoch 2/20\n",
      " - 5s - loss: 0.0404 - acc: 0.9876 - val_loss: 0.0253 - val_acc: 0.9933\n",
      "Epoch 3/20\n",
      " - 5s - loss: 0.0369 - acc: 0.9892 - val_loss: 0.0227 - val_acc: 0.9931\n",
      "Epoch 4/20\n",
      " - 5s - loss: 0.0369 - acc: 0.9885 - val_loss: 0.0243 - val_acc: 0.9926\n",
      "Epoch 5/20\n",
      " - 5s - loss: 0.0316 - acc: 0.9901 - val_loss: 0.0212 - val_acc: 0.9946\n",
      "Epoch 6/20\n",
      " - 5s - loss: 0.0299 - acc: 0.9915 - val_loss: 0.0215 - val_acc: 0.9939\n",
      "Epoch 7/20\n",
      " - 5s - loss: 0.0280 - acc: 0.9916 - val_loss: 0.0228 - val_acc: 0.9940\n",
      "Epoch 8/20\n",
      " - 5s - loss: 0.0276 - acc: 0.9909 - val_loss: 0.0237 - val_acc: 0.9942\n",
      "\n",
      "Epoch 00008: ReduceLROnPlateau reducing learning rate to 0.0005000000237487257.\n",
      "Epoch 9/20\n",
      " - 5s - loss: 0.0222 - acc: 0.9936 - val_loss: 0.0185 - val_acc: 0.9950\n",
      "Epoch 10/20\n",
      " - 5s - loss: 0.0202 - acc: 0.9937 - val_loss: 0.0209 - val_acc: 0.9952\n",
      "Epoch 11/20\n",
      " - 5s - loss: 0.0193 - acc: 0.9941 - val_loss: 0.0245 - val_acc: 0.9936\n",
      "Epoch 12/20\n",
      " - 5s - loss: 0.0174 - acc: 0.9947 - val_loss: 0.0197 - val_acc: 0.9961\n",
      "\n",
      "Epoch 00012: ReduceLROnPlateau reducing learning rate to 0.0002500000118743628.\n",
      "Epoch 13/20\n",
      " - 5s - loss: 0.0150 - acc: 0.9957 - val_loss: 0.0220 - val_acc: 0.9949\n",
      "Epoch 14/20\n",
      " - 5s - loss: 0.0136 - acc: 0.9959 - val_loss: 0.0230 - val_acc: 0.9942\n",
      "Epoch 15/20\n",
      " - 5s - loss: 0.0142 - acc: 0.9956 - val_loss: 0.0247 - val_acc: 0.9945\n",
      "\n",
      "Epoch 00015: ReduceLROnPlateau reducing learning rate to 0.0001250000059371814.\n",
      "Epoch 16/20\n",
      " - 5s - loss: 0.0106 - acc: 0.9969 - val_loss: 0.0229 - val_acc: 0.9950\n",
      "Epoch 17/20\n",
      " - 5s - loss: 0.0127 - acc: 0.9961 - val_loss: 0.0219 - val_acc: 0.9952\n",
      "Epoch 18/20\n",
      " - 5s - loss: 0.0131 - acc: 0.9961 - val_loss: 0.0217 - val_acc: 0.9951\n",
      "\n",
      "Epoch 00018: ReduceLROnPlateau reducing learning rate to 0.0001.\n",
      "Epoch 19/20\n",
      " - 5s - loss: 0.0111 - acc: 0.9968 - val_loss: 0.0228 - val_acc: 0.9951\n",
      "Epoch 20/20\n",
      " - 5s - loss: 0.0120 - acc: 0.9967 - val_loss: 0.0222 - val_acc: 0.9951\n"
     ]
    }
   ],
   "source": [
    "batch_size=80\n",
    "history = model.fit_generator(datagen.flow(x_train,y_train, batch_size=batch_size),\n",
    "                              epochs = 20, validation_data = (x_val,y_val),\n",
    "                              verbose = 2, steps_per_epoch=x_train.shape[0] // batch_size\n",
    "                             ,callbacks=[learning_rate_reduction])                              "
   ]
  },
  {
   "cell_type": "code",
   "execution_count": 44,
   "id": "6713bb69",
   "metadata": {},
   "outputs": [
    {
     "name": "stdout",
     "output_type": "stream",
     "text": [
      "8400/8400 [==============================] - 1s 68us/step\n",
      "\n",
      "Accuracy: 0.9951\n"
     ]
    }
   ],
   "source": [
    "print('\\nAccuracy: {:.4f}'.format(model.evaluate(x_val, y_val)[1]))"
   ]
  },
  {
   "cell_type": "markdown",
   "id": "c7580c48",
   "metadata": {},
   "source": [
    "- 정확도 : 99.51%"
   ]
  },
  {
   "cell_type": "code",
   "execution_count": 45,
   "id": "d685bb1c",
   "metadata": {},
   "outputs": [
    {
     "data": {
      "image/png": "[encoded data removed]",
      "text/plain": [
       "<Figure size 720x360 with 2 Axes>"
      ]
     },
     "metadata": {
      "needs_background": "light"
     },
     "output_type": "display_data"
    }
   ],
   "source": [
    "his_dict = history.history\n",
    "loss = his_dict['loss']\n",
    "val_loss = his_dict['val_loss']\n",
    "\n",
    "epochs = range(1, len(loss)+1)\n",
    "fig = plt.figure(figsize = (10,5))\n",
    "\n",
    "# train/valid/loss graph\n",
    "ax1 = fig.add_subplot(1, 2, 1)\n",
    "ax1.plot(epochs, loss, color = 'blue', label = 'train_loss')\n",
    "ax1.plot(epochs, val_loss, color = 'orange', label = 'val_loss')\n",
    "ax1.set_title('train and valid loss')\n",
    "ax1.set_xlabel('epochs')\n",
    "ax1.set_ylabel('loss')\n",
    "ax1.legend()\n",
    "\n",
    "acc = his_dict['acc']\n",
    "val_acc = his_dict['val_acc']\n",
    "\n",
    "# train/valid/loss acc\n",
    "ax2 = fig.add_subplot(1, 2, 2)\n",
    "ax2.plot(epochs, acc, color = 'blue', label = 'train_acc')\n",
    "ax2.plot(epochs, val_acc, color = 'orange', label = 'val_acc')\n",
    "ax2.set_title('train and valid loss')\n",
    "ax2.set_xlabel('epochs')\n",
    "ax2.set_ylabel('acc')\n",
    "ax1.legend()\n",
    "\n",
    "plt.show()"
   ]
  },
  {
   "cell_type": "markdown",
   "id": "3be0965e",
   "metadata": {},
   "source": [
    "- 에폭 8, 12, 15, 18에서 learning_rate 조절했음."
   ]
  },
  {
   "cell_type": "markdown",
   "id": "e223a0b0",
   "metadata": {},
   "source": [
    "- InceptionV3(92MB), InceptionResNetV2(215MB) => 병렬 구조 실험\n",
    "- ResNet50(98MB), ResNet101(171MB), ResNet152(232MB), ResNet50V2(98MB), ResNet101V2(171MB), ResNet152V2(232MB) => 직렬 구조 실험 \n",
    "-> 입력값이 최소 75X75여야함. \n",
    "-> 채널도 3채널이여야함."
   ]
  },
  {
   "cell_type": "code",
   "execution_count": 54,
   "id": "22962235",
   "metadata": {},
   "outputs": [],
   "source": [
    "# cnn model\n",
    "model = Sequential()\n",
    "\n",
    "model.add(Conv2D(filters = 32, kernel_size = (5,5),padding = 'Same', \n",
    "                 activation ='relu', input_shape = (28,28,1)))\n",
    "model.add(MaxPool2D(pool_size=(2,2)))\n",
    "model.add(Conv2D(filters = 64, kernel_size = (3,3),padding = 'Same', \n",
    "                 activation ='relu'))\n",
    "model.add(MaxPool2D(pool_size=(2,2), strides=(2,2)))\n",
    "model.add(Conv2D(filters = 128, kernel_size = (3,3),padding = 'Same', \n",
    "                 activation ='relu'))\n",
    "model.add(MaxPool2D(pool_size=(2,2), strides=(2,2)))\n",
    "model.add(Flatten())\n",
    "model.add(Dense(256, activation = \"relu\"))\n",
    "model.add(Dropout(0.5))\n",
    "model.add(BatchNormalization())\n",
    "model.add(Dropout(0.5))\n",
    "model.add(Dense(100, activation='relu'))\n",
    "model.add(BatchNormalization())\n",
    "model.add(Dropout(0.5))\n",
    "model.add(Dense(10, activation = \"softmax\"))"
   ]
  },
  {
   "cell_type": "code",
   "execution_count": 55,
   "id": "034932f1",
   "metadata": {},
   "outputs": [
    {
     "name": "stdout",
     "output_type": "stream",
     "text": [
      "_________________________________________________________________\n",
      "Layer (type)                 Output Shape              Param #   \n",
      "=================================================================\n",
      "conv2d_11 (Conv2D)           (None, 28, 28, 32)        832       \n",
      "_________________________________________________________________\n",
      "max_pooling2d_9 (MaxPooling2 (None, 14, 14, 32)        0         \n",
      "_________________________________________________________________\n",
      "conv2d_12 (Conv2D)           (None, 14, 14, 64)        18496     \n",
      "_________________________________________________________________\n",
      "max_pooling2d_10 (MaxPooling (None, 7, 7, 64)          0         \n",
      "_________________________________________________________________\n",
      "conv2d_13 (Conv2D)           (None, 7, 7, 128)         73856     \n",
      "_________________________________________________________________\n",
      "max_pooling2d_11 (MaxPooling (None, 3, 3, 128)         0         \n",
      "_________________________________________________________________\n",
      "flatten_4 (Flatten)          (None, 1152)              0         \n",
      "_________________________________________________________________\n",
      "dense_6 (Dense)              (None, 256)               295168    \n",
      "_________________________________________________________________\n",
      "dropout_6 (Dropout)          (None, 256)               0         \n",
      "_________________________________________________________________\n",
      "batch_normalization_1 (Batch (None, 256)               1024      \n",
      "_________________________________________________________________\n",
      "dropout_7 (Dropout)          (None, 256)               0         \n",
      "_________________________________________________________________\n",
      "dense_7 (Dense)              (None, 100)               25700     \n",
      "_________________________________________________________________\n",
      "batch_normalization_2 (Batch (None, 100)               400       \n",
      "_________________________________________________________________\n",
      "dropout_8 (Dropout)          (None, 100)               0         \n",
      "_________________________________________________________________\n",
      "dense_8 (Dense)              (None, 10)                1010      \n",
      "=================================================================\n",
      "Total params: 416,486\n",
      "Trainable params: 415,774\n",
      "Non-trainable params: 712\n",
      "_________________________________________________________________\n"
     ]
    }
   ],
   "source": [
    "model.summary()"
   ]
  },
  {
   "cell_type": "code",
   "execution_count": 56,
   "id": "231c7a8a",
   "metadata": {},
   "outputs": [],
   "source": [
    "optimizer = Nadam(lr=0.001)"
   ]
  },
  {
   "cell_type": "code",
   "execution_count": 57,
   "id": "be997d1c",
   "metadata": {},
   "outputs": [],
   "source": [
    "#compile\n",
    "model.compile(optimizer = optimizer , loss = \"categorical_crossentropy\", metrics=[\"accuracy\"])"
   ]
  },
  {
   "cell_type": "code",
   "execution_count": 60,
   "id": "8007aa66",
   "metadata": {},
   "outputs": [
    {
     "name": "stdout",
     "output_type": "stream",
     "text": [
      "Train on 33600 samples, validate on 8400 samples\n",
      "Epoch 1/20\n",
      " - 5s - loss: 0.8117 - acc: 0.7471 - val_loss: 0.0798 - val_acc: 0.9755\n",
      "Epoch 2/20\n",
      " - 3s - loss: 0.1864 - acc: 0.9464 - val_loss: 0.0581 - val_acc: 0.9819\n",
      "Epoch 3/20\n",
      " - 4s - loss: 0.1211 - acc: 0.9657 - val_loss: 0.0568 - val_acc: 0.9839\n",
      "Epoch 4/20\n",
      " - 4s - loss: 0.0928 - acc: 0.9741 - val_loss: 0.0419 - val_acc: 0.9882\n",
      "Epoch 5/20\n",
      " - 4s - loss: 0.0774 - acc: 0.9786 - val_loss: 0.0440 - val_acc: 0.9882\n",
      "Epoch 6/20\n",
      " - 4s - loss: 0.0659 - acc: 0.9817 - val_loss: 0.0433 - val_acc: 0.9881\n",
      "Epoch 7/20\n",
      " - 4s - loss: 0.0501 - acc: 0.9858 - val_loss: 0.0333 - val_acc: 0.9912\n",
      "Epoch 8/20\n",
      " - 4s - loss: 0.0504 - acc: 0.9866 - val_loss: 0.0388 - val_acc: 0.9896\n",
      "Epoch 9/20\n",
      " - 4s - loss: 0.0454 - acc: 0.9871 - val_loss: 0.0363 - val_acc: 0.9911\n",
      "Epoch 10/20\n",
      " - 3s - loss: 0.0403 - acc: 0.9883 - val_loss: 0.0325 - val_acc: 0.9908\n",
      "Epoch 11/20\n",
      " - 4s - loss: 0.0393 - acc: 0.9887 - val_loss: 0.0356 - val_acc: 0.9917\n",
      "Epoch 12/20\n",
      " - 4s - loss: 0.0339 - acc: 0.9910 - val_loss: 0.0348 - val_acc: 0.9919\n",
      "Epoch 13/20\n",
      " - 3s - loss: 0.0325 - acc: 0.9907 - val_loss: 0.0357 - val_acc: 0.9919\n",
      "\n",
      "Epoch 00013: ReduceLROnPlateau reducing learning rate to 0.0005000000237487257.\n",
      "Epoch 14/20\n",
      " - 4s - loss: 0.0185 - acc: 0.9949 - val_loss: 0.0283 - val_acc: 0.9943\n",
      "Epoch 15/20\n",
      " - 4s - loss: 0.0173 - acc: 0.9953 - val_loss: 0.0335 - val_acc: 0.9925\n",
      "Epoch 16/20\n",
      " - 4s - loss: 0.0166 - acc: 0.9956 - val_loss: 0.0288 - val_acc: 0.9943\n",
      "Epoch 17/20\n",
      " - 4s - loss: 0.0135 - acc: 0.9962 - val_loss: 0.0325 - val_acc: 0.9932\n",
      "\n",
      "Epoch 00017: ReduceLROnPlateau reducing learning rate to 0.0002500000118743628.\n",
      "Epoch 18/20\n",
      " - 4s - loss: 0.0098 - acc: 0.9974 - val_loss: 0.0338 - val_acc: 0.9932\n",
      "Epoch 19/20\n",
      " - 4s - loss: 0.0101 - acc: 0.9974 - val_loss: 0.0305 - val_acc: 0.9942\n",
      "Epoch 20/20\n",
      " - 4s - loss: 0.0084 - acc: 0.9976 - val_loss: 0.0351 - val_acc: 0.9938\n",
      "\n",
      "Epoch 00020: ReduceLROnPlateau reducing learning rate to 0.0001250000059371814.\n"
     ]
    }
   ],
   "source": [
    "history = model.fit(x_train, y_train, batch_size = 100, epochs = 20, \n",
    "          validation_data = (x_val, y_val), verbose = 2,callbacks=[learning_rate_reduction])"
   ]
  },
  {
   "cell_type": "code",
   "execution_count": 61,
   "id": "0ab00777",
   "metadata": {},
   "outputs": [
    {
     "name": "stdout",
     "output_type": "stream",
     "text": [
      "8400/8400 [==============================] - 1s 72us/step\n",
      "\n",
      "Accuracy: 0.9938\n"
     ]
    }
   ],
   "source": [
    "print('\\nAccuracy: {:.4f}'.format(model.evaluate(x_val, y_val)[1]))"
   ]
  },
  {
   "cell_type": "markdown",
   "id": "237da85b",
   "metadata": {},
   "source": [
    "- 정확도 : 99.38%"
   ]
  },
  {
   "cell_type": "code",
   "execution_count": 62,
   "id": "ffb3e1fd",
   "metadata": {
    "scrolled": true
   },
   "outputs": [
    {
     "data": {
      "image/png": "[encoded data removed]",
      "text/plain": [
       "<Figure size 720x360 with 2 Axes>"
      ]
     },
     "metadata": {
      "needs_background": "light"
     },
     "output_type": "display_data"
    }
   ],
   "source": [
    "his_dict = history.history\n",
    "loss = his_dict['loss']\n",
    "val_loss = his_dict['val_loss']\n",
    "\n",
    "epochs = range(1, len(loss)+1)\n",
    "fig = plt.figure(figsize = (10,5))\n",
    "\n",
    "# train/valid/loss graph\n",
    "ax1 = fig.add_subplot(1, 2, 1)\n",
    "ax1.plot(epochs, loss, color = 'blue', label = 'train_loss')\n",
    "ax1.plot(epochs, val_loss, color = 'orange', label = 'val_loss')\n",
    "ax1.set_title('train and valid loss')\n",
    "ax1.set_xlabel('epochs')\n",
    "ax1.set_ylabel('loss')\n",
    "ax1.legend()\n",
    "\n",
    "acc = his_dict['acc']\n",
    "val_acc = his_dict['val_acc']\n",
    "\n",
    "# train/valid/loss acc\n",
    "ax2 = fig.add_subplot(1, 2, 2)\n",
    "ax2.plot(epochs, acc, color = 'blue', label = 'train_acc')\n",
    "ax2.plot(epochs, val_acc, color = 'orange', label = 'val_acc')\n",
    "ax2.set_title('train and valid loss')\n",
    "ax2.set_xlabel('epochs')\n",
    "ax2.set_ylabel('acc')\n",
    "ax1.legend()\n",
    "\n",
    "plt.show()"
   ]
  },
  {
   "cell_type": "markdown",
   "id": "d3088df3",
   "metadata": {},
   "source": [
    "- 에폭 13, 17, 20 에서 조절"
   ]
  },
  {
   "cell_type": "markdown",
   "id": "0e88ca07",
   "metadata": {},
   "source": [
    "- 데이터 증강 기법을 사용하여 짠 CNN 모델의 성능이 가장 좋게 나왔음.\n",
    "- Dense층을 좀더 깊게 짠 CNN 모델이 두번째로 좋은 성능을 보였음."
   ]
  }
 ],
 "metadata": {
  "kernelspec": {
   "display_name": "Python 3 (ipykernel)",
   "language": "python",
   "name": "python3"
  },
  "language_info": {
   "codemirror_mode": {
    "name": "ipython",
    "version": 3
   },
   "file_extension": ".py",
   "mimetype": "text/x-python",
   "name": "python",
   "nbconvert_exporter": "python",
   "pygments_lexer": "ipython3",
   "version": "3.7.11"
  }
 },
 "nbformat": 4,
 "nbformat_minor": 5
}
