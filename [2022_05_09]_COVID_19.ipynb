{
  "nbformat": 4,
  "nbformat_minor": 0,
  "metadata": {
    "colab": {
      "name": "[2022.05.09] COVID-19.ipynb",
      "provenance": [],
      "collapsed_sections": []
    },
    "kernelspec": {
      "name": "python3",
      "display_name": "Python 3"
    },
    "language_info": {
      "name": "python"
    }
  },
  "cells": [
    {
      "cell_type": "markdown",
      "source": [
        "1. CONVENIENT_global_confirmed_cases.csv\n",
        "2. CONVENIENT_global_deaths.csv\n",
        "3. CONVENIENT_global_metadata.csv\n",
        "4. RAW_global_confirmed_cases.csv\n",
        "5. RAW_global_deaths.csv\n",
        "\n",
        "data link : \"https://www.kaggle.com/datasets/antgoldbloom/covid19-data-from-john-hopkins-university\""
      ],
      "metadata": {
        "id": "-oNiEMlEUqN-"
      }
    },
    {
      "cell_type": "markdown",
      "source": [
        "**1. global cases**\n",
        "1. CONVENIENT_global_confirmed_cases.csv\n",
        "2. CONVENIENT_global_deaths.csv \n",
        "<br>위의 두가지 유형을 가지고 비교 분석."
      ],
      "metadata": {
        "id": "v25rIguTUoZm"
      }
    },
    {
      "cell_type": "code",
      "execution_count": null,
      "metadata": {
        "id": "_irotOpZUbVe"
      },
      "outputs": [],
      "source": [
        "import numpy  as np\n",
        "import pandas as pd\n",
        "\n",
        "#plots\n",
        "import matplotlib.pyplot as plt\n",
        "import seaborn as sns"
      ]
    },
    {
      "cell_type": "code",
      "source": [
        "g_cases = pd.read_csv(\"/content/drive/MyDrive/KNU/06. 석사1학기/(01-01)Kaggle/COVID-19/data/CONVENIENT_global_confirmed_cases.csv\")\n",
        "g_deaths = pd.read_csv(\"/content/drive/MyDrive/KNU/06. 석사1학기/(01-01)Kaggle/COVID-19/data/CONVENIENT_global_deaths.csv\")"
      ],
      "metadata": {
        "id": "2HIiSgTCUwb9"
      },
      "execution_count": null,
      "outputs": []
    },
    {
      "cell_type": "markdown",
      "source": [
        "- global_cases 데이터 확인"
      ],
      "metadata": {
        "id": "v9HTZi-VUzOe"
      }
    },
    {
      "cell_type": "code",
      "source": [
        "g_cases.head()"
      ],
      "metadata": {
        "id": "Wjp88-inUx3j",
        "colab": {
          "base_uri": "https://localhost:8080/",
          "height": 351
        },
        "outputId": "318f113f-b3fd-46a5-b4d0-60d52204252e"
      },
      "execution_count": null,
      "outputs": [
        {
          "output_type": "execute_result",
          "data": {
            "text/plain": [
              "   Country/Region  Afghanistan  Albania  Algeria  Andorra  Angola  Antarctica  \\\n",
              "0  Province/State          NaN      NaN      NaN      NaN     NaN         NaN   \n",
              "1         1/23/20          0.0      0.0      0.0      0.0     0.0         0.0   \n",
              "2         1/24/20          0.0      0.0      0.0      0.0     0.0         0.0   \n",
              "3         1/25/20          0.0      0.0      0.0      0.0     0.0         0.0   \n",
              "4         1/26/20          0.0      0.0      0.0      0.0     0.0         0.0   \n",
              "\n",
              "   Antigua and Barbuda  Argentina  Armenia  ... Uruguay Uzbekistan Vanuatu  \\\n",
              "0                  NaN        NaN      NaN  ...     NaN        NaN     NaN   \n",
              "1                  0.0        0.0      0.0  ...     0.0        0.0     0.0   \n",
              "2                  0.0        0.0      0.0  ...     0.0        0.0     0.0   \n",
              "3                  0.0        0.0      0.0  ...     0.0        0.0     0.0   \n",
              "4                  0.0        0.0      0.0  ...     0.0        0.0     0.0   \n",
              "\n",
              "  Venezuela Vietnam West Bank and Gaza Winter Olympics 2022 Yemen  Zambia  \\\n",
              "0       NaN     NaN                NaN                  NaN   NaN     NaN   \n",
              "1       0.0     2.0                0.0                  0.0   0.0     0.0   \n",
              "2       0.0     0.0                0.0                  0.0   0.0     0.0   \n",
              "3       0.0     0.0                0.0                  0.0   0.0     0.0   \n",
              "4       0.0     0.0                0.0                  0.0   0.0     0.0   \n",
              "\n",
              "   Zimbabwe  \n",
              "0       NaN  \n",
              "1       0.0  \n",
              "2       0.0  \n",
              "3       0.0  \n",
              "4       0.0  \n",
              "\n",
              "[5 rows x 285 columns]"
            ],
            "text/html": [
              "\n",
              "  <div id=\"df-afa8fdeb-b468-4b42-93bc-e52dba535915\">\n",
              "    <div class=\"colab-df-container\">\n",
              "      <div>\n",
              "<style scoped>\n",
              "    .dataframe tbody tr th:only-of-type {\n",
              "        vertical-align: middle;\n",
              "    }\n",
              "\n",
              "    .dataframe tbody tr th {\n",
              "        vertical-align: top;\n",
              "    }\n",
              "\n",
              "    .dataframe thead th {\n",
              "        text-align: right;\n",
              "    }\n",
              "</style>\n",
              "<table border=\"1\" class=\"dataframe\">\n",
              "  <thead>\n",
              "    <tr style=\"text-align: right;\">\n",
              "      <th></th>\n",
              "      <th>Country/Region</th>\n",
              "      <th>Afghanistan</th>\n",
              "      <th>Albania</th>\n",
              "      <th>Algeria</th>\n",
              "      <th>Andorra</th>\n",
              "      <th>Angola</th>\n",
              "      <th>Antarctica</th>\n",
              "      <th>Antigua and Barbuda</th>\n",
              "      <th>Argentina</th>\n",
              "      <th>Armenia</th>\n",
              "      <th>...</th>\n",
              "      <th>Uruguay</th>\n",
              "      <th>Uzbekistan</th>\n",
              "      <th>Vanuatu</th>\n",
              "      <th>Venezuela</th>\n",
              "      <th>Vietnam</th>\n",
              "      <th>West Bank and Gaza</th>\n",
              "      <th>Winter Olympics 2022</th>\n",
              "      <th>Yemen</th>\n",
              "      <th>Zambia</th>\n",
              "      <th>Zimbabwe</th>\n",
              "    </tr>\n",
              "  </thead>\n",
              "  <tbody>\n",
              "    <tr>\n",
              "      <th>0</th>\n",
              "      <td>Province/State</td>\n",
              "      <td>NaN</td>\n",
              "      <td>NaN</td>\n",
              "      <td>NaN</td>\n",
              "      <td>NaN</td>\n",
              "      <td>NaN</td>\n",
              "      <td>NaN</td>\n",
              "      <td>NaN</td>\n",
              "      <td>NaN</td>\n",
              "      <td>NaN</td>\n",
              "      <td>...</td>\n",
              "      <td>NaN</td>\n",
              "      <td>NaN</td>\n",
              "      <td>NaN</td>\n",
              "      <td>NaN</td>\n",
              "      <td>NaN</td>\n",
              "      <td>NaN</td>\n",
              "      <td>NaN</td>\n",
              "      <td>NaN</td>\n",
              "      <td>NaN</td>\n",
              "      <td>NaN</td>\n",
              "    </tr>\n",
              "    <tr>\n",
              "      <th>1</th>\n",
              "      <td>1/23/20</td>\n",
              "      <td>0.0</td>\n",
              "      <td>0.0</td>\n",
              "      <td>0.0</td>\n",
              "      <td>0.0</td>\n",
              "      <td>0.0</td>\n",
              "      <td>0.0</td>\n",
              "      <td>0.0</td>\n",
              "      <td>0.0</td>\n",
              "      <td>0.0</td>\n",
              "      <td>...</td>\n",
              "      <td>0.0</td>\n",
              "      <td>0.0</td>\n",
              "      <td>0.0</td>\n",
              "      <td>0.0</td>\n",
              "      <td>2.0</td>\n",
              "      <td>0.0</td>\n",
              "      <td>0.0</td>\n",
              "      <td>0.0</td>\n",
              "      <td>0.0</td>\n",
              "      <td>0.0</td>\n",
              "    </tr>\n",
              "    <tr>\n",
              "      <th>2</th>\n",
              "      <td>1/24/20</td>\n",
              "      <td>0.0</td>\n",
              "      <td>0.0</td>\n",
              "      <td>0.0</td>\n",
              "      <td>0.0</td>\n",
              "      <td>0.0</td>\n",
              "      <td>0.0</td>\n",
              "      <td>0.0</td>\n",
              "      <td>0.0</td>\n",
              "      <td>0.0</td>\n",
              "      <td>...</td>\n",
              "      <td>0.0</td>\n",
              "      <td>0.0</td>\n",
              "      <td>0.0</td>\n",
              "      <td>0.0</td>\n",
              "      <td>0.0</td>\n",
              "      <td>0.0</td>\n",
              "      <td>0.0</td>\n",
              "      <td>0.0</td>\n",
              "      <td>0.0</td>\n",
              "      <td>0.0</td>\n",
              "    </tr>\n",
              "    <tr>\n",
              "      <th>3</th>\n",
              "      <td>1/25/20</td>\n",
              "      <td>0.0</td>\n",
              "      <td>0.0</td>\n",
              "      <td>0.0</td>\n",
              "      <td>0.0</td>\n",
              "      <td>0.0</td>\n",
              "      <td>0.0</td>\n",
              "      <td>0.0</td>\n",
              "      <td>0.0</td>\n",
              "      <td>0.0</td>\n",
              "      <td>...</td>\n",
              "      <td>0.0</td>\n",
              "      <td>0.0</td>\n",
              "      <td>0.0</td>\n",
              "      <td>0.0</td>\n",
              "      <td>0.0</td>\n",
              "      <td>0.0</td>\n",
              "      <td>0.0</td>\n",
              "      <td>0.0</td>\n",
              "      <td>0.0</td>\n",
              "      <td>0.0</td>\n",
              "    </tr>\n",
              "    <tr>\n",
              "      <th>4</th>\n",
              "      <td>1/26/20</td>\n",
              "      <td>0.0</td>\n",
              "      <td>0.0</td>\n",
              "      <td>0.0</td>\n",
              "      <td>0.0</td>\n",
              "      <td>0.0</td>\n",
              "      <td>0.0</td>\n",
              "      <td>0.0</td>\n",
              "      <td>0.0</td>\n",
              "      <td>0.0</td>\n",
              "      <td>...</td>\n",
              "      <td>0.0</td>\n",
              "      <td>0.0</td>\n",
              "      <td>0.0</td>\n",
              "      <td>0.0</td>\n",
              "      <td>0.0</td>\n",
              "      <td>0.0</td>\n",
              "      <td>0.0</td>\n",
              "      <td>0.0</td>\n",
              "      <td>0.0</td>\n",
              "      <td>0.0</td>\n",
              "    </tr>\n",
              "  </tbody>\n",
              "</table>\n",
              "<p>5 rows × 285 columns</p>\n",
              "</div>\n",
              "      <button class=\"colab-df-convert\" onclick=\"convertToInteractive('df-afa8fdeb-b468-4b42-93bc-e52dba535915')\"\n",
              "              title=\"Convert this dataframe to an interactive table.\"\n",
              "              style=\"display:none;\">\n",
              "        \n",
              "  <svg xmlns=\"http://www.w3.org/2000/svg\" height=\"24px\"viewBox=\"0 0 24 24\"\n",
              "       width=\"24px\">\n",
              "    <path d=\"M0 0h24v24H0V0z\" fill=\"none\"/>\n",
              "    <path d=\"M18.56 5.44l.94 2.06.94-2.06 2.06-.94-2.06-.94-.94-2.06-.94 2.06-2.06.94zm-11 1L8.5 8.5l.94-2.06 2.06-.94-2.06-.94L8.5 2.5l-.94 2.06-2.06.94zm10 10l.94 2.06.94-2.06 2.06-.94-2.06-.94-.94-2.06-.94 2.06-2.06.94z\"/><path d=\"M17.41 7.96l-1.37-1.37c-.4-.4-.92-.59-1.43-.59-.52 0-1.04.2-1.43.59L10.3 9.45l-7.72 7.72c-.78.78-.78 2.05 0 2.83L4 21.41c.39.39.9.59 1.41.59.51 0 1.02-.2 1.41-.59l7.78-7.78 2.81-2.81c.8-.78.8-2.07 0-2.86zM5.41 20L4 18.59l7.72-7.72 1.47 1.35L5.41 20z\"/>\n",
              "  </svg>\n",
              "      </button>\n",
              "      \n",
              "  <style>\n",
              "    .colab-df-container {\n",
              "      display:flex;\n",
              "      flex-wrap:wrap;\n",
              "      gap: 12px;\n",
              "    }\n",
              "\n",
              "    .colab-df-convert {\n",
              "      background-color: #E8F0FE;\n",
              "      border: none;\n",
              "      border-radius: 50%;\n",
              "      cursor: pointer;\n",
              "      display: none;\n",
              "      fill: #1967D2;\n",
              "      height: 32px;\n",
              "      padding: 0 0 0 0;\n",
              "      width: 32px;\n",
              "    }\n",
              "\n",
              "    .colab-df-convert:hover {\n",
              "      background-color: #E2EBFA;\n",
              "      box-shadow: 0px 1px 2px rgba(60, 64, 67, 0.3), 0px 1px 3px 1px rgba(60, 64, 67, 0.15);\n",
              "      fill: #174EA6;\n",
              "    }\n",
              "\n",
              "    [theme=dark] .colab-df-convert {\n",
              "      background-color: #3B4455;\n",
              "      fill: #D2E3FC;\n",
              "    }\n",
              "\n",
              "    [theme=dark] .colab-df-convert:hover {\n",
              "      background-color: #434B5C;\n",
              "      box-shadow: 0px 1px 3px 1px rgba(0, 0, 0, 0.15);\n",
              "      filter: drop-shadow(0px 1px 2px rgba(0, 0, 0, 0.3));\n",
              "      fill: #FFFFFF;\n",
              "    }\n",
              "  </style>\n",
              "\n",
              "      <script>\n",
              "        const buttonEl =\n",
              "          document.querySelector('#df-afa8fdeb-b468-4b42-93bc-e52dba535915 button.colab-df-convert');\n",
              "        buttonEl.style.display =\n",
              "          google.colab.kernel.accessAllowed ? 'block' : 'none';\n",
              "\n",
              "        async function convertToInteractive(key) {\n",
              "          const element = document.querySelector('#df-afa8fdeb-b468-4b42-93bc-e52dba535915');\n",
              "          const dataTable =\n",
              "            await google.colab.kernel.invokeFunction('convertToInteractive',\n",
              "                                                     [key], {});\n",
              "          if (!dataTable) return;\n",
              "\n",
              "          const docLinkHtml = 'Like what you see? Visit the ' +\n",
              "            '<a target=\"_blank\" href=https://colab.research.google.com/notebooks/data_table.ipynb>data table notebook</a>'\n",
              "            + ' to learn more about interactive tables.';\n",
              "          element.innerHTML = '';\n",
              "          dataTable['output_type'] = 'display_data';\n",
              "          await google.colab.output.renderOutput(dataTable, element);\n",
              "          const docLink = document.createElement('div');\n",
              "          docLink.innerHTML = docLinkHtml;\n",
              "          element.appendChild(docLink);\n",
              "        }\n",
              "      </script>\n",
              "    </div>\n",
              "  </div>\n",
              "  "
            ]
          },
          "metadata": {},
          "execution_count": 3
        }
      ]
    },
    {
      "cell_type": "code",
      "source": [
        "g_cases.isnull().sum()"
      ],
      "metadata": {
        "id": "KUae_d0NU1My",
        "colab": {
          "base_uri": "https://localhost:8080/"
        },
        "outputId": "8226a08e-2dbc-407e-8539-236f40ee8421"
      },
      "execution_count": null,
      "outputs": [
        {
          "output_type": "execute_result",
          "data": {
            "text/plain": [
              "Country/Region          0\n",
              "Afghanistan             1\n",
              "Albania                 1\n",
              "Algeria                 1\n",
              "Andorra                 1\n",
              "                       ..\n",
              "West Bank and Gaza      1\n",
              "Winter Olympics 2022    1\n",
              "Yemen                   1\n",
              "Zambia                  1\n",
              "Zimbabwe                1\n",
              "Length: 285, dtype: int64"
            ]
          },
          "metadata": {},
          "execution_count": 4
        }
      ]
    },
    {
      "cell_type": "code",
      "source": [
        "g_cases.info()"
      ],
      "metadata": {
        "id": "CRPAYdhBU2Es",
        "colab": {
          "base_uri": "https://localhost:8080/"
        },
        "outputId": "f002d3d7-3adf-4baa-bd64-e7e806f8b184"
      },
      "execution_count": null,
      "outputs": [
        {
          "output_type": "stream",
          "name": "stdout",
          "text": [
            "<class 'pandas.core.frame.DataFrame'>\n",
            "RangeIndex: 837 entries, 0 to 836\n",
            "Columns: 285 entries, Country/Region to Zimbabwe\n",
            "dtypes: float64(195), object(90)\n",
            "memory usage: 1.8+ MB\n"
          ]
        }
      ]
    },
    {
      "cell_type": "markdown",
      "source": [
        "- 인덱스 0번 행을 지우자.\n",
        "> 이유? NaN만 있음. <br>\n",
        "> dropna() 사용.<br>"
      ],
      "metadata": {
        "id": "JQFRSdxaU5fp"
      }
    },
    {
      "cell_type": "code",
      "source": [
        "g_cases=g_cases.dropna()"
      ],
      "metadata": {
        "id": "GwIRYgPtU5Iy"
      },
      "execution_count": null,
      "outputs": []
    },
    {
      "cell_type": "code",
      "source": [
        "g_cases"
      ],
      "metadata": {
        "colab": {
          "base_uri": "https://localhost:8080/",
          "height": 540
        },
        "id": "J_B0PO-f_xPC",
        "outputId": "28ff3cd2-b477-4965-90c2-6bafebd8fdc2"
      },
      "execution_count": null,
      "outputs": [
        {
          "output_type": "execute_result",
          "data": {
            "text/plain": [
              "    Country/Region  Afghanistan  Albania  Algeria  Andorra  Angola  \\\n",
              "1          1/23/20          0.0      0.0      0.0      0.0     0.0   \n",
              "2          1/24/20          0.0      0.0      0.0      0.0     0.0   \n",
              "3          1/25/20          0.0      0.0      0.0      0.0     0.0   \n",
              "4          1/26/20          0.0      0.0      0.0      0.0     0.0   \n",
              "5          1/27/20          0.0      0.0      0.0      0.0     0.0   \n",
              "..             ...          ...      ...      ...      ...     ...   \n",
              "832         5/3/22          0.0     14.0      0.0      0.0     0.0   \n",
              "833         5/4/22          0.0     20.0      0.0    368.0     0.0   \n",
              "834         5/5/22          4.0     55.0      4.0      0.0     0.0   \n",
              "835         5/6/22         14.0     44.0      5.0      0.0     0.0   \n",
              "836         5/7/22          3.0     31.0      3.0      0.0     0.0   \n",
              "\n",
              "     Antarctica  Antigua and Barbuda  Argentina  Armenia  ... Uruguay  \\\n",
              "1           0.0                  0.0        0.0      0.0  ...     0.0   \n",
              "2           0.0                  0.0        0.0      0.0  ...     0.0   \n",
              "3           0.0                  0.0        0.0      0.0  ...     0.0   \n",
              "4           0.0                  0.0        0.0      0.0  ...     0.0   \n",
              "5           0.0                  0.0        0.0      0.0  ...     0.0   \n",
              "..          ...                  ...        ...      ...  ...     ...   \n",
              "832         0.0                  0.0        0.0      0.0  ...  1856.0   \n",
              "833         0.0                 28.0        0.0      3.0  ...     0.0   \n",
              "834         0.0                  9.0        0.0      0.0  ...     0.0   \n",
              "835         0.0                  0.0        0.0      0.0  ...     0.0   \n",
              "836         0.0                  0.0        0.0      0.0  ...     0.0   \n",
              "\n",
              "    Uzbekistan Vanuatu Venezuela Vietnam West Bank and Gaza  \\\n",
              "1          0.0     0.0       0.0     2.0                0.0   \n",
              "2          0.0     0.0       0.0     0.0                0.0   \n",
              "3          0.0     0.0       0.0     0.0                0.0   \n",
              "4          0.0     0.0       0.0     0.0                0.0   \n",
              "5          0.0     0.0       0.0     0.0                0.0   \n",
              "..         ...     ...       ...     ...                ...   \n",
              "832        1.0    19.0      80.0  2709.0                0.0   \n",
              "833        8.0    89.0      50.0  3088.0                0.0   \n",
              "834       15.0    77.0      23.0  4305.0                0.0   \n",
              "835        9.0    35.0      38.0  3819.0                0.0   \n",
              "836       35.0     0.0      47.0  3345.0                0.0   \n",
              "\n",
              "    Winter Olympics 2022 Yemen  Zambia  Zimbabwe  \n",
              "1                    0.0   0.0     0.0       0.0  \n",
              "2                    0.0   0.0     0.0       0.0  \n",
              "3                    0.0   0.0     0.0       0.0  \n",
              "4                    0.0   0.0     0.0       0.0  \n",
              "5                    0.0   0.0     0.0       0.0  \n",
              "..                   ...   ...     ...       ...  \n",
              "832                  0.0   0.0     0.0      55.0  \n",
              "833                  0.0   0.0     0.0      60.0  \n",
              "834                  0.0   0.0     0.0       0.0  \n",
              "835                  0.0   0.0     0.0     164.0  \n",
              "836                  0.0   0.0   344.0       0.0  \n",
              "\n",
              "[836 rows x 285 columns]"
            ],
            "text/html": [
              "\n",
              "  <div id=\"df-1ee2c889-f91d-4781-b42b-d4a8ee33270d\">\n",
              "    <div class=\"colab-df-container\">\n",
              "      <div>\n",
              "<style scoped>\n",
              "    .dataframe tbody tr th:only-of-type {\n",
              "        vertical-align: middle;\n",
              "    }\n",
              "\n",
              "    .dataframe tbody tr th {\n",
              "        vertical-align: top;\n",
              "    }\n",
              "\n",
              "    .dataframe thead th {\n",
              "        text-align: right;\n",
              "    }\n",
              "</style>\n",
              "<table border=\"1\" class=\"dataframe\">\n",
              "  <thead>\n",
              "    <tr style=\"text-align: right;\">\n",
              "      <th></th>\n",
              "      <th>Country/Region</th>\n",
              "      <th>Afghanistan</th>\n",
              "      <th>Albania</th>\n",
              "      <th>Algeria</th>\n",
              "      <th>Andorra</th>\n",
              "      <th>Angola</th>\n",
              "      <th>Antarctica</th>\n",
              "      <th>Antigua and Barbuda</th>\n",
              "      <th>Argentina</th>\n",
              "      <th>Armenia</th>\n",
              "      <th>...</th>\n",
              "      <th>Uruguay</th>\n",
              "      <th>Uzbekistan</th>\n",
              "      <th>Vanuatu</th>\n",
              "      <th>Venezuela</th>\n",
              "      <th>Vietnam</th>\n",
              "      <th>West Bank and Gaza</th>\n",
              "      <th>Winter Olympics 2022</th>\n",
              "      <th>Yemen</th>\n",
              "      <th>Zambia</th>\n",
              "      <th>Zimbabwe</th>\n",
              "    </tr>\n",
              "  </thead>\n",
              "  <tbody>\n",
              "    <tr>\n",
              "      <th>1</th>\n",
              "      <td>1/23/20</td>\n",
              "      <td>0.0</td>\n",
              "      <td>0.0</td>\n",
              "      <td>0.0</td>\n",
              "      <td>0.0</td>\n",
              "      <td>0.0</td>\n",
              "      <td>0.0</td>\n",
              "      <td>0.0</td>\n",
              "      <td>0.0</td>\n",
              "      <td>0.0</td>\n",
              "      <td>...</td>\n",
              "      <td>0.0</td>\n",
              "      <td>0.0</td>\n",
              "      <td>0.0</td>\n",
              "      <td>0.0</td>\n",
              "      <td>2.0</td>\n",
              "      <td>0.0</td>\n",
              "      <td>0.0</td>\n",
              "      <td>0.0</td>\n",
              "      <td>0.0</td>\n",
              "      <td>0.0</td>\n",
              "    </tr>\n",
              "    <tr>\n",
              "      <th>2</th>\n",
              "      <td>1/24/20</td>\n",
              "      <td>0.0</td>\n",
              "      <td>0.0</td>\n",
              "      <td>0.0</td>\n",
              "      <td>0.0</td>\n",
              "      <td>0.0</td>\n",
              "      <td>0.0</td>\n",
              "      <td>0.0</td>\n",
              "      <td>0.0</td>\n",
              "      <td>0.0</td>\n",
              "      <td>...</td>\n",
              "      <td>0.0</td>\n",
              "      <td>0.0</td>\n",
              "      <td>0.0</td>\n",
              "      <td>0.0</td>\n",
              "      <td>0.0</td>\n",
              "      <td>0.0</td>\n",
              "      <td>0.0</td>\n",
              "      <td>0.0</td>\n",
              "      <td>0.0</td>\n",
              "      <td>0.0</td>\n",
              "    </tr>\n",
              "    <tr>\n",
              "      <th>3</th>\n",
              "      <td>1/25/20</td>\n",
              "      <td>0.0</td>\n",
              "      <td>0.0</td>\n",
              "      <td>0.0</td>\n",
              "      <td>0.0</td>\n",
              "      <td>0.0</td>\n",
              "      <td>0.0</td>\n",
              "      <td>0.0</td>\n",
              "      <td>0.0</td>\n",
              "      <td>0.0</td>\n",
              "      <td>...</td>\n",
              "      <td>0.0</td>\n",
              "      <td>0.0</td>\n",
              "      <td>0.0</td>\n",
              "      <td>0.0</td>\n",
              "      <td>0.0</td>\n",
              "      <td>0.0</td>\n",
              "      <td>0.0</td>\n",
              "      <td>0.0</td>\n",
              "      <td>0.0</td>\n",
              "      <td>0.0</td>\n",
              "    </tr>\n",
              "    <tr>\n",
              "      <th>4</th>\n",
              "      <td>1/26/20</td>\n",
              "      <td>0.0</td>\n",
              "      <td>0.0</td>\n",
              "      <td>0.0</td>\n",
              "      <td>0.0</td>\n",
              "      <td>0.0</td>\n",
              "      <td>0.0</td>\n",
              "      <td>0.0</td>\n",
              "      <td>0.0</td>\n",
              "      <td>0.0</td>\n",
              "      <td>...</td>\n",
              "      <td>0.0</td>\n",
              "      <td>0.0</td>\n",
              "      <td>0.0</td>\n",
              "      <td>0.0</td>\n",
              "      <td>0.0</td>\n",
              "      <td>0.0</td>\n",
              "      <td>0.0</td>\n",
              "      <td>0.0</td>\n",
              "      <td>0.0</td>\n",
              "      <td>0.0</td>\n",
              "    </tr>\n",
              "    <tr>\n",
              "      <th>5</th>\n",
              "      <td>1/27/20</td>\n",
              "      <td>0.0</td>\n",
              "      <td>0.0</td>\n",
              "      <td>0.0</td>\n",
              "      <td>0.0</td>\n",
              "      <td>0.0</td>\n",
              "      <td>0.0</td>\n",
              "      <td>0.0</td>\n",
              "      <td>0.0</td>\n",
              "      <td>0.0</td>\n",
              "      <td>...</td>\n",
              "      <td>0.0</td>\n",
              "      <td>0.0</td>\n",
              "      <td>0.0</td>\n",
              "      <td>0.0</td>\n",
              "      <td>0.0</td>\n",
              "      <td>0.0</td>\n",
              "      <td>0.0</td>\n",
              "      <td>0.0</td>\n",
              "      <td>0.0</td>\n",
              "      <td>0.0</td>\n",
              "    </tr>\n",
              "    <tr>\n",
              "      <th>...</th>\n",
              "      <td>...</td>\n",
              "      <td>...</td>\n",
              "      <td>...</td>\n",
              "      <td>...</td>\n",
              "      <td>...</td>\n",
              "      <td>...</td>\n",
              "      <td>...</td>\n",
              "      <td>...</td>\n",
              "      <td>...</td>\n",
              "      <td>...</td>\n",
              "      <td>...</td>\n",
              "      <td>...</td>\n",
              "      <td>...</td>\n",
              "      <td>...</td>\n",
              "      <td>...</td>\n",
              "      <td>...</td>\n",
              "      <td>...</td>\n",
              "      <td>...</td>\n",
              "      <td>...</td>\n",
              "      <td>...</td>\n",
              "      <td>...</td>\n",
              "    </tr>\n",
              "    <tr>\n",
              "      <th>832</th>\n",
              "      <td>5/3/22</td>\n",
              "      <td>0.0</td>\n",
              "      <td>14.0</td>\n",
              "      <td>0.0</td>\n",
              "      <td>0.0</td>\n",
              "      <td>0.0</td>\n",
              "      <td>0.0</td>\n",
              "      <td>0.0</td>\n",
              "      <td>0.0</td>\n",
              "      <td>0.0</td>\n",
              "      <td>...</td>\n",
              "      <td>1856.0</td>\n",
              "      <td>1.0</td>\n",
              "      <td>19.0</td>\n",
              "      <td>80.0</td>\n",
              "      <td>2709.0</td>\n",
              "      <td>0.0</td>\n",
              "      <td>0.0</td>\n",
              "      <td>0.0</td>\n",
              "      <td>0.0</td>\n",
              "      <td>55.0</td>\n",
              "    </tr>\n",
              "    <tr>\n",
              "      <th>833</th>\n",
              "      <td>5/4/22</td>\n",
              "      <td>0.0</td>\n",
              "      <td>20.0</td>\n",
              "      <td>0.0</td>\n",
              "      <td>368.0</td>\n",
              "      <td>0.0</td>\n",
              "      <td>0.0</td>\n",
              "      <td>28.0</td>\n",
              "      <td>0.0</td>\n",
              "      <td>3.0</td>\n",
              "      <td>...</td>\n",
              "      <td>0.0</td>\n",
              "      <td>8.0</td>\n",
              "      <td>89.0</td>\n",
              "      <td>50.0</td>\n",
              "      <td>3088.0</td>\n",
              "      <td>0.0</td>\n",
              "      <td>0.0</td>\n",
              "      <td>0.0</td>\n",
              "      <td>0.0</td>\n",
              "      <td>60.0</td>\n",
              "    </tr>\n",
              "    <tr>\n",
              "      <th>834</th>\n",
              "      <td>5/5/22</td>\n",
              "      <td>4.0</td>\n",
              "      <td>55.0</td>\n",
              "      <td>4.0</td>\n",
              "      <td>0.0</td>\n",
              "      <td>0.0</td>\n",
              "      <td>0.0</td>\n",
              "      <td>9.0</td>\n",
              "      <td>0.0</td>\n",
              "      <td>0.0</td>\n",
              "      <td>...</td>\n",
              "      <td>0.0</td>\n",
              "      <td>15.0</td>\n",
              "      <td>77.0</td>\n",
              "      <td>23.0</td>\n",
              "      <td>4305.0</td>\n",
              "      <td>0.0</td>\n",
              "      <td>0.0</td>\n",
              "      <td>0.0</td>\n",
              "      <td>0.0</td>\n",
              "      <td>0.0</td>\n",
              "    </tr>\n",
              "    <tr>\n",
              "      <th>835</th>\n",
              "      <td>5/6/22</td>\n",
              "      <td>14.0</td>\n",
              "      <td>44.0</td>\n",
              "      <td>5.0</td>\n",
              "      <td>0.0</td>\n",
              "      <td>0.0</td>\n",
              "      <td>0.0</td>\n",
              "      <td>0.0</td>\n",
              "      <td>0.0</td>\n",
              "      <td>0.0</td>\n",
              "      <td>...</td>\n",
              "      <td>0.0</td>\n",
              "      <td>9.0</td>\n",
              "      <td>35.0</td>\n",
              "      <td>38.0</td>\n",
              "      <td>3819.0</td>\n",
              "      <td>0.0</td>\n",
              "      <td>0.0</td>\n",
              "      <td>0.0</td>\n",
              "      <td>0.0</td>\n",
              "      <td>164.0</td>\n",
              "    </tr>\n",
              "    <tr>\n",
              "      <th>836</th>\n",
              "      <td>5/7/22</td>\n",
              "      <td>3.0</td>\n",
              "      <td>31.0</td>\n",
              "      <td>3.0</td>\n",
              "      <td>0.0</td>\n",
              "      <td>0.0</td>\n",
              "      <td>0.0</td>\n",
              "      <td>0.0</td>\n",
              "      <td>0.0</td>\n",
              "      <td>0.0</td>\n",
              "      <td>...</td>\n",
              "      <td>0.0</td>\n",
              "      <td>35.0</td>\n",
              "      <td>0.0</td>\n",
              "      <td>47.0</td>\n",
              "      <td>3345.0</td>\n",
              "      <td>0.0</td>\n",
              "      <td>0.0</td>\n",
              "      <td>0.0</td>\n",
              "      <td>344.0</td>\n",
              "      <td>0.0</td>\n",
              "    </tr>\n",
              "  </tbody>\n",
              "</table>\n",
              "<p>836 rows × 285 columns</p>\n",
              "</div>\n",
              "      <button class=\"colab-df-convert\" onclick=\"convertToInteractive('df-1ee2c889-f91d-4781-b42b-d4a8ee33270d')\"\n",
              "              title=\"Convert this dataframe to an interactive table.\"\n",
              "              style=\"display:none;\">\n",
              "        \n",
              "  <svg xmlns=\"http://www.w3.org/2000/svg\" height=\"24px\"viewBox=\"0 0 24 24\"\n",
              "       width=\"24px\">\n",
              "    <path d=\"M0 0h24v24H0V0z\" fill=\"none\"/>\n",
              "    <path d=\"M18.56 5.44l.94 2.06.94-2.06 2.06-.94-2.06-.94-.94-2.06-.94 2.06-2.06.94zm-11 1L8.5 8.5l.94-2.06 2.06-.94-2.06-.94L8.5 2.5l-.94 2.06-2.06.94zm10 10l.94 2.06.94-2.06 2.06-.94-2.06-.94-.94-2.06-.94 2.06-2.06.94z\"/><path d=\"M17.41 7.96l-1.37-1.37c-.4-.4-.92-.59-1.43-.59-.52 0-1.04.2-1.43.59L10.3 9.45l-7.72 7.72c-.78.78-.78 2.05 0 2.83L4 21.41c.39.39.9.59 1.41.59.51 0 1.02-.2 1.41-.59l7.78-7.78 2.81-2.81c.8-.78.8-2.07 0-2.86zM5.41 20L4 18.59l7.72-7.72 1.47 1.35L5.41 20z\"/>\n",
              "  </svg>\n",
              "      </button>\n",
              "      \n",
              "  <style>\n",
              "    .colab-df-container {\n",
              "      display:flex;\n",
              "      flex-wrap:wrap;\n",
              "      gap: 12px;\n",
              "    }\n",
              "\n",
              "    .colab-df-convert {\n",
              "      background-color: #E8F0FE;\n",
              "      border: none;\n",
              "      border-radius: 50%;\n",
              "      cursor: pointer;\n",
              "      display: none;\n",
              "      fill: #1967D2;\n",
              "      height: 32px;\n",
              "      padding: 0 0 0 0;\n",
              "      width: 32px;\n",
              "    }\n",
              "\n",
              "    .colab-df-convert:hover {\n",
              "      background-color: #E2EBFA;\n",
              "      box-shadow: 0px 1px 2px rgba(60, 64, 67, 0.3), 0px 1px 3px 1px rgba(60, 64, 67, 0.15);\n",
              "      fill: #174EA6;\n",
              "    }\n",
              "\n",
              "    [theme=dark] .colab-df-convert {\n",
              "      background-color: #3B4455;\n",
              "      fill: #D2E3FC;\n",
              "    }\n",
              "\n",
              "    [theme=dark] .colab-df-convert:hover {\n",
              "      background-color: #434B5C;\n",
              "      box-shadow: 0px 1px 3px 1px rgba(0, 0, 0, 0.15);\n",
              "      filter: drop-shadow(0px 1px 2px rgba(0, 0, 0, 0.3));\n",
              "      fill: #FFFFFF;\n",
              "    }\n",
              "  </style>\n",
              "\n",
              "      <script>\n",
              "        const buttonEl =\n",
              "          document.querySelector('#df-1ee2c889-f91d-4781-b42b-d4a8ee33270d button.colab-df-convert');\n",
              "        buttonEl.style.display =\n",
              "          google.colab.kernel.accessAllowed ? 'block' : 'none';\n",
              "\n",
              "        async function convertToInteractive(key) {\n",
              "          const element = document.querySelector('#df-1ee2c889-f91d-4781-b42b-d4a8ee33270d');\n",
              "          const dataTable =\n",
              "            await google.colab.kernel.invokeFunction('convertToInteractive',\n",
              "                                                     [key], {});\n",
              "          if (!dataTable) return;\n",
              "\n",
              "          const docLinkHtml = 'Like what you see? Visit the ' +\n",
              "            '<a target=\"_blank\" href=https://colab.research.google.com/notebooks/data_table.ipynb>data table notebook</a>'\n",
              "            + ' to learn more about interactive tables.';\n",
              "          element.innerHTML = '';\n",
              "          dataTable['output_type'] = 'display_data';\n",
              "          await google.colab.output.renderOutput(dataTable, element);\n",
              "          const docLink = document.createElement('div');\n",
              "          docLink.innerHTML = docLinkHtml;\n",
              "          element.appendChild(docLink);\n",
              "        }\n",
              "      </script>\n",
              "    </div>\n",
              "  </div>\n",
              "  "
            ]
          },
          "metadata": {},
          "execution_count": 18
        }
      ]
    },
    {
      "cell_type": "markdown",
      "source": [
        "- global death 데이터 확인"
      ],
      "metadata": {
        "id": "AuEgFvu8U8b5"
      }
    },
    {
      "cell_type": "code",
      "source": [
        "g_deaths.head()"
      ],
      "metadata": {
        "id": "1-aXQwvWU3pq",
        "colab": {
          "base_uri": "https://localhost:8080/",
          "height": 351
        },
        "outputId": "e7a9b07a-de38-4c3a-e69c-ce5def22ea73"
      },
      "execution_count": null,
      "outputs": [
        {
          "output_type": "execute_result",
          "data": {
            "text/plain": [
              "   Country/Region  Afghanistan  Albania  Algeria  Andorra  Angola  Antarctica  \\\n",
              "0  Province/State          NaN      NaN      NaN      NaN     NaN         NaN   \n",
              "1         1/23/20          0.0      0.0      0.0      0.0     0.0         0.0   \n",
              "2         1/24/20          0.0      0.0      0.0      0.0     0.0         0.0   \n",
              "3         1/25/20          0.0      0.0      0.0      0.0     0.0         0.0   \n",
              "4         1/26/20          0.0      0.0      0.0      0.0     0.0         0.0   \n",
              "\n",
              "   Antigua and Barbuda  Argentina  Armenia  ... Uruguay Uzbekistan Vanuatu  \\\n",
              "0                  NaN        NaN      NaN  ...     NaN        NaN     NaN   \n",
              "1                  0.0        0.0      0.0  ...     0.0        0.0     0.0   \n",
              "2                  0.0        0.0      0.0  ...     0.0        0.0     0.0   \n",
              "3                  0.0        0.0      0.0  ...     0.0        0.0     0.0   \n",
              "4                  0.0        0.0      0.0  ...     0.0        0.0     0.0   \n",
              "\n",
              "  Venezuela Vietnam West Bank and Gaza Winter Olympics 2022 Yemen  Zambia  \\\n",
              "0       NaN     NaN                NaN                  NaN   NaN     NaN   \n",
              "1       0.0     0.0                0.0                  0.0   0.0     0.0   \n",
              "2       0.0     0.0                0.0                  0.0   0.0     0.0   \n",
              "3       0.0     0.0                0.0                  0.0   0.0     0.0   \n",
              "4       0.0     0.0                0.0                  0.0   0.0     0.0   \n",
              "\n",
              "   Zimbabwe  \n",
              "0       NaN  \n",
              "1       0.0  \n",
              "2       0.0  \n",
              "3       0.0  \n",
              "4       0.0  \n",
              "\n",
              "[5 rows x 285 columns]"
            ],
            "text/html": [
              "\n",
              "  <div id=\"df-b4cc923e-6191-4953-86bb-b7517c2d30cc\">\n",
              "    <div class=\"colab-df-container\">\n",
              "      <div>\n",
              "<style scoped>\n",
              "    .dataframe tbody tr th:only-of-type {\n",
              "        vertical-align: middle;\n",
              "    }\n",
              "\n",
              "    .dataframe tbody tr th {\n",
              "        vertical-align: top;\n",
              "    }\n",
              "\n",
              "    .dataframe thead th {\n",
              "        text-align: right;\n",
              "    }\n",
              "</style>\n",
              "<table border=\"1\" class=\"dataframe\">\n",
              "  <thead>\n",
              "    <tr style=\"text-align: right;\">\n",
              "      <th></th>\n",
              "      <th>Country/Region</th>\n",
              "      <th>Afghanistan</th>\n",
              "      <th>Albania</th>\n",
              "      <th>Algeria</th>\n",
              "      <th>Andorra</th>\n",
              "      <th>Angola</th>\n",
              "      <th>Antarctica</th>\n",
              "      <th>Antigua and Barbuda</th>\n",
              "      <th>Argentina</th>\n",
              "      <th>Armenia</th>\n",
              "      <th>...</th>\n",
              "      <th>Uruguay</th>\n",
              "      <th>Uzbekistan</th>\n",
              "      <th>Vanuatu</th>\n",
              "      <th>Venezuela</th>\n",
              "      <th>Vietnam</th>\n",
              "      <th>West Bank and Gaza</th>\n",
              "      <th>Winter Olympics 2022</th>\n",
              "      <th>Yemen</th>\n",
              "      <th>Zambia</th>\n",
              "      <th>Zimbabwe</th>\n",
              "    </tr>\n",
              "  </thead>\n",
              "  <tbody>\n",
              "    <tr>\n",
              "      <th>0</th>\n",
              "      <td>Province/State</td>\n",
              "      <td>NaN</td>\n",
              "      <td>NaN</td>\n",
              "      <td>NaN</td>\n",
              "      <td>NaN</td>\n",
              "      <td>NaN</td>\n",
              "      <td>NaN</td>\n",
              "      <td>NaN</td>\n",
              "      <td>NaN</td>\n",
              "      <td>NaN</td>\n",
              "      <td>...</td>\n",
              "      <td>NaN</td>\n",
              "      <td>NaN</td>\n",
              "      <td>NaN</td>\n",
              "      <td>NaN</td>\n",
              "      <td>NaN</td>\n",
              "      <td>NaN</td>\n",
              "      <td>NaN</td>\n",
              "      <td>NaN</td>\n",
              "      <td>NaN</td>\n",
              "      <td>NaN</td>\n",
              "    </tr>\n",
              "    <tr>\n",
              "      <th>1</th>\n",
              "      <td>1/23/20</td>\n",
              "      <td>0.0</td>\n",
              "      <td>0.0</td>\n",
              "      <td>0.0</td>\n",
              "      <td>0.0</td>\n",
              "      <td>0.0</td>\n",
              "      <td>0.0</td>\n",
              "      <td>0.0</td>\n",
              "      <td>0.0</td>\n",
              "      <td>0.0</td>\n",
              "      <td>...</td>\n",
              "      <td>0.0</td>\n",
              "      <td>0.0</td>\n",
              "      <td>0.0</td>\n",
              "      <td>0.0</td>\n",
              "      <td>0.0</td>\n",
              "      <td>0.0</td>\n",
              "      <td>0.0</td>\n",
              "      <td>0.0</td>\n",
              "      <td>0.0</td>\n",
              "      <td>0.0</td>\n",
              "    </tr>\n",
              "    <tr>\n",
              "      <th>2</th>\n",
              "      <td>1/24/20</td>\n",
              "      <td>0.0</td>\n",
              "      <td>0.0</td>\n",
              "      <td>0.0</td>\n",
              "      <td>0.0</td>\n",
              "      <td>0.0</td>\n",
              "      <td>0.0</td>\n",
              "      <td>0.0</td>\n",
              "      <td>0.0</td>\n",
              "      <td>0.0</td>\n",
              "      <td>...</td>\n",
              "      <td>0.0</td>\n",
              "      <td>0.0</td>\n",
              "      <td>0.0</td>\n",
              "      <td>0.0</td>\n",
              "      <td>0.0</td>\n",
              "      <td>0.0</td>\n",
              "      <td>0.0</td>\n",
              "      <td>0.0</td>\n",
              "      <td>0.0</td>\n",
              "      <td>0.0</td>\n",
              "    </tr>\n",
              "    <tr>\n",
              "      <th>3</th>\n",
              "      <td>1/25/20</td>\n",
              "      <td>0.0</td>\n",
              "      <td>0.0</td>\n",
              "      <td>0.0</td>\n",
              "      <td>0.0</td>\n",
              "      <td>0.0</td>\n",
              "      <td>0.0</td>\n",
              "      <td>0.0</td>\n",
              "      <td>0.0</td>\n",
              "      <td>0.0</td>\n",
              "      <td>...</td>\n",
              "      <td>0.0</td>\n",
              "      <td>0.0</td>\n",
              "      <td>0.0</td>\n",
              "      <td>0.0</td>\n",
              "      <td>0.0</td>\n",
              "      <td>0.0</td>\n",
              "      <td>0.0</td>\n",
              "      <td>0.0</td>\n",
              "      <td>0.0</td>\n",
              "      <td>0.0</td>\n",
              "    </tr>\n",
              "    <tr>\n",
              "      <th>4</th>\n",
              "      <td>1/26/20</td>\n",
              "      <td>0.0</td>\n",
              "      <td>0.0</td>\n",
              "      <td>0.0</td>\n",
              "      <td>0.0</td>\n",
              "      <td>0.0</td>\n",
              "      <td>0.0</td>\n",
              "      <td>0.0</td>\n",
              "      <td>0.0</td>\n",
              "      <td>0.0</td>\n",
              "      <td>...</td>\n",
              "      <td>0.0</td>\n",
              "      <td>0.0</td>\n",
              "      <td>0.0</td>\n",
              "      <td>0.0</td>\n",
              "      <td>0.0</td>\n",
              "      <td>0.0</td>\n",
              "      <td>0.0</td>\n",
              "      <td>0.0</td>\n",
              "      <td>0.0</td>\n",
              "      <td>0.0</td>\n",
              "    </tr>\n",
              "  </tbody>\n",
              "</table>\n",
              "<p>5 rows × 285 columns</p>\n",
              "</div>\n",
              "      <button class=\"colab-df-convert\" onclick=\"convertToInteractive('df-b4cc923e-6191-4953-86bb-b7517c2d30cc')\"\n",
              "              title=\"Convert this dataframe to an interactive table.\"\n",
              "              style=\"display:none;\">\n",
              "        \n",
              "  <svg xmlns=\"http://www.w3.org/2000/svg\" height=\"24px\"viewBox=\"0 0 24 24\"\n",
              "       width=\"24px\">\n",
              "    <path d=\"M0 0h24v24H0V0z\" fill=\"none\"/>\n",
              "    <path d=\"M18.56 5.44l.94 2.06.94-2.06 2.06-.94-2.06-.94-.94-2.06-.94 2.06-2.06.94zm-11 1L8.5 8.5l.94-2.06 2.06-.94-2.06-.94L8.5 2.5l-.94 2.06-2.06.94zm10 10l.94 2.06.94-2.06 2.06-.94-2.06-.94-.94-2.06-.94 2.06-2.06.94z\"/><path d=\"M17.41 7.96l-1.37-1.37c-.4-.4-.92-.59-1.43-.59-.52 0-1.04.2-1.43.59L10.3 9.45l-7.72 7.72c-.78.78-.78 2.05 0 2.83L4 21.41c.39.39.9.59 1.41.59.51 0 1.02-.2 1.41-.59l7.78-7.78 2.81-2.81c.8-.78.8-2.07 0-2.86zM5.41 20L4 18.59l7.72-7.72 1.47 1.35L5.41 20z\"/>\n",
              "  </svg>\n",
              "      </button>\n",
              "      \n",
              "  <style>\n",
              "    .colab-df-container {\n",
              "      display:flex;\n",
              "      flex-wrap:wrap;\n",
              "      gap: 12px;\n",
              "    }\n",
              "\n",
              "    .colab-df-convert {\n",
              "      background-color: #E8F0FE;\n",
              "      border: none;\n",
              "      border-radius: 50%;\n",
              "      cursor: pointer;\n",
              "      display: none;\n",
              "      fill: #1967D2;\n",
              "      height: 32px;\n",
              "      padding: 0 0 0 0;\n",
              "      width: 32px;\n",
              "    }\n",
              "\n",
              "    .colab-df-convert:hover {\n",
              "      background-color: #E2EBFA;\n",
              "      box-shadow: 0px 1px 2px rgba(60, 64, 67, 0.3), 0px 1px 3px 1px rgba(60, 64, 67, 0.15);\n",
              "      fill: #174EA6;\n",
              "    }\n",
              "\n",
              "    [theme=dark] .colab-df-convert {\n",
              "      background-color: #3B4455;\n",
              "      fill: #D2E3FC;\n",
              "    }\n",
              "\n",
              "    [theme=dark] .colab-df-convert:hover {\n",
              "      background-color: #434B5C;\n",
              "      box-shadow: 0px 1px 3px 1px rgba(0, 0, 0, 0.15);\n",
              "      filter: drop-shadow(0px 1px 2px rgba(0, 0, 0, 0.3));\n",
              "      fill: #FFFFFF;\n",
              "    }\n",
              "  </style>\n",
              "\n",
              "      <script>\n",
              "        const buttonEl =\n",
              "          document.querySelector('#df-b4cc923e-6191-4953-86bb-b7517c2d30cc button.colab-df-convert');\n",
              "        buttonEl.style.display =\n",
              "          google.colab.kernel.accessAllowed ? 'block' : 'none';\n",
              "\n",
              "        async function convertToInteractive(key) {\n",
              "          const element = document.querySelector('#df-b4cc923e-6191-4953-86bb-b7517c2d30cc');\n",
              "          const dataTable =\n",
              "            await google.colab.kernel.invokeFunction('convertToInteractive',\n",
              "                                                     [key], {});\n",
              "          if (!dataTable) return;\n",
              "\n",
              "          const docLinkHtml = 'Like what you see? Visit the ' +\n",
              "            '<a target=\"_blank\" href=https://colab.research.google.com/notebooks/data_table.ipynb>data table notebook</a>'\n",
              "            + ' to learn more about interactive tables.';\n",
              "          element.innerHTML = '';\n",
              "          dataTable['output_type'] = 'display_data';\n",
              "          await google.colab.output.renderOutput(dataTable, element);\n",
              "          const docLink = document.createElement('div');\n",
              "          docLink.innerHTML = docLinkHtml;\n",
              "          element.appendChild(docLink);\n",
              "        }\n",
              "      </script>\n",
              "    </div>\n",
              "  </div>\n",
              "  "
            ]
          },
          "metadata": {},
          "execution_count": 7
        }
      ]
    },
    {
      "cell_type": "code",
      "source": [
        "g_deaths.isnull().sum()"
      ],
      "metadata": {
        "id": "E23pTpmeU-Ts",
        "colab": {
          "base_uri": "https://localhost:8080/"
        },
        "outputId": "6c285d3c-e687-44ba-99f8-44b90fa3b7b4"
      },
      "execution_count": null,
      "outputs": [
        {
          "output_type": "execute_result",
          "data": {
            "text/plain": [
              "Country/Region          0\n",
              "Afghanistan             1\n",
              "Albania                 1\n",
              "Algeria                 1\n",
              "Andorra                 1\n",
              "                       ..\n",
              "West Bank and Gaza      1\n",
              "Winter Olympics 2022    1\n",
              "Yemen                   1\n",
              "Zambia                  1\n",
              "Zimbabwe                1\n",
              "Length: 285, dtype: int64"
            ]
          },
          "metadata": {},
          "execution_count": 8
        }
      ]
    },
    {
      "cell_type": "markdown",
      "source": [
        "- cases와 동일하게 Nan 제거"
      ],
      "metadata": {
        "id": "DbMqeJt9VABs"
      }
    },
    {
      "cell_type": "code",
      "source": [
        "g_deaths=g_deaths.dropna()"
      ],
      "metadata": {
        "id": "Tew6B_fjU_VV"
      },
      "execution_count": null,
      "outputs": []
    },
    {
      "cell_type": "code",
      "source": [
        "g_deaths"
      ],
      "metadata": {
        "colab": {
          "base_uri": "https://localhost:8080/",
          "height": 540
        },
        "id": "sksj-BqT_1lC",
        "outputId": "86936014-b7b7-4a2a-ae02-110cb89439f6"
      },
      "execution_count": null,
      "outputs": [
        {
          "output_type": "execute_result",
          "data": {
            "text/plain": [
              "    Country/Region  Afghanistan  Albania  Algeria  Andorra  Angola  \\\n",
              "1          1/23/20          0.0      0.0      0.0      0.0     0.0   \n",
              "2          1/24/20          0.0      0.0      0.0      0.0     0.0   \n",
              "3          1/25/20          0.0      0.0      0.0      0.0     0.0   \n",
              "4          1/26/20          0.0      0.0      0.0      0.0     0.0   \n",
              "5          1/27/20          0.0      0.0      0.0      0.0     0.0   \n",
              "..             ...          ...      ...      ...      ...     ...   \n",
              "832         5/3/22          0.0      0.0      0.0      0.0     0.0   \n",
              "833         5/4/22          0.0      0.0      0.0      0.0     0.0   \n",
              "834         5/5/22          1.0      0.0      0.0      0.0     0.0   \n",
              "835         5/6/22          0.0      0.0      0.0      0.0     0.0   \n",
              "836         5/7/22          0.0      0.0      0.0      0.0     0.0   \n",
              "\n",
              "     Antarctica  Antigua and Barbuda  Argentina  Armenia  ... Uruguay  \\\n",
              "1           0.0                  0.0        0.0      0.0  ...     0.0   \n",
              "2           0.0                  0.0        0.0      0.0  ...     0.0   \n",
              "3           0.0                  0.0        0.0      0.0  ...     0.0   \n",
              "4           0.0                  0.0        0.0      0.0  ...     0.0   \n",
              "5           0.0                  0.0        0.0      0.0  ...     0.0   \n",
              "..          ...                  ...        ...      ...  ...     ...   \n",
              "832         0.0                  0.0        0.0      0.0  ...     7.0   \n",
              "833         0.0                  1.0        0.0      0.0  ...     0.0   \n",
              "834         0.0                  0.0        0.0      0.0  ...     0.0   \n",
              "835         0.0                  0.0        0.0      0.0  ...     0.0   \n",
              "836         0.0                  0.0        0.0      0.0  ...     0.0   \n",
              "\n",
              "    Uzbekistan Vanuatu Venezuela Vietnam West Bank and Gaza  \\\n",
              "1          0.0     0.0       0.0     0.0                0.0   \n",
              "2          0.0     0.0       0.0     0.0                0.0   \n",
              "3          0.0     0.0       0.0     0.0                0.0   \n",
              "4          0.0     0.0       0.0     0.0                0.0   \n",
              "5          0.0     0.0       0.0     0.0                0.0   \n",
              "..         ...     ...       ...     ...                ...   \n",
              "832        0.0     0.0       0.0     0.0                0.0   \n",
              "833        0.0     1.0       0.0     3.0                0.0   \n",
              "834        0.0     0.0       0.0     2.0                0.0   \n",
              "835        0.0     0.0       0.0     6.0                0.0   \n",
              "836        0.0     0.0       0.0     0.0                0.0   \n",
              "\n",
              "    Winter Olympics 2022 Yemen  Zambia  Zimbabwe  \n",
              "1                    0.0   0.0     0.0       0.0  \n",
              "2                    0.0   0.0     0.0       0.0  \n",
              "3                    0.0   0.0     0.0       0.0  \n",
              "4                    0.0   0.0     0.0       0.0  \n",
              "5                    0.0   0.0     0.0       0.0  \n",
              "..                   ...   ...     ...       ...  \n",
              "832                  0.0   0.0     0.0       0.0  \n",
              "833                  0.0   0.0     0.0       1.0  \n",
              "834                  0.0   0.0     0.0       0.0  \n",
              "835                  0.0   0.0     0.0       2.0  \n",
              "836                  0.0   0.0     6.0       0.0  \n",
              "\n",
              "[836 rows x 285 columns]"
            ],
            "text/html": [
              "\n",
              "  <div id=\"df-1f84e747-559a-4db7-9b0a-f9e11a83490f\">\n",
              "    <div class=\"colab-df-container\">\n",
              "      <div>\n",
              "<style scoped>\n",
              "    .dataframe tbody tr th:only-of-type {\n",
              "        vertical-align: middle;\n",
              "    }\n",
              "\n",
              "    .dataframe tbody tr th {\n",
              "        vertical-align: top;\n",
              "    }\n",
              "\n",
              "    .dataframe thead th {\n",
              "        text-align: right;\n",
              "    }\n",
              "</style>\n",
              "<table border=\"1\" class=\"dataframe\">\n",
              "  <thead>\n",
              "    <tr style=\"text-align: right;\">\n",
              "      <th></th>\n",
              "      <th>Country/Region</th>\n",
              "      <th>Afghanistan</th>\n",
              "      <th>Albania</th>\n",
              "      <th>Algeria</th>\n",
              "      <th>Andorra</th>\n",
              "      <th>Angola</th>\n",
              "      <th>Antarctica</th>\n",
              "      <th>Antigua and Barbuda</th>\n",
              "      <th>Argentina</th>\n",
              "      <th>Armenia</th>\n",
              "      <th>...</th>\n",
              "      <th>Uruguay</th>\n",
              "      <th>Uzbekistan</th>\n",
              "      <th>Vanuatu</th>\n",
              "      <th>Venezuela</th>\n",
              "      <th>Vietnam</th>\n",
              "      <th>West Bank and Gaza</th>\n",
              "      <th>Winter Olympics 2022</th>\n",
              "      <th>Yemen</th>\n",
              "      <th>Zambia</th>\n",
              "      <th>Zimbabwe</th>\n",
              "    </tr>\n",
              "  </thead>\n",
              "  <tbody>\n",
              "    <tr>\n",
              "      <th>1</th>\n",
              "      <td>1/23/20</td>\n",
              "      <td>0.0</td>\n",
              "      <td>0.0</td>\n",
              "      <td>0.0</td>\n",
              "      <td>0.0</td>\n",
              "      <td>0.0</td>\n",
              "      <td>0.0</td>\n",
              "      <td>0.0</td>\n",
              "      <td>0.0</td>\n",
              "      <td>0.0</td>\n",
              "      <td>...</td>\n",
              "      <td>0.0</td>\n",
              "      <td>0.0</td>\n",
              "      <td>0.0</td>\n",
              "      <td>0.0</td>\n",
              "      <td>0.0</td>\n",
              "      <td>0.0</td>\n",
              "      <td>0.0</td>\n",
              "      <td>0.0</td>\n",
              "      <td>0.0</td>\n",
              "      <td>0.0</td>\n",
              "    </tr>\n",
              "    <tr>\n",
              "      <th>2</th>\n",
              "      <td>1/24/20</td>\n",
              "      <td>0.0</td>\n",
              "      <td>0.0</td>\n",
              "      <td>0.0</td>\n",
              "      <td>0.0</td>\n",
              "      <td>0.0</td>\n",
              "      <td>0.0</td>\n",
              "      <td>0.0</td>\n",
              "      <td>0.0</td>\n",
              "      <td>0.0</td>\n",
              "      <td>...</td>\n",
              "      <td>0.0</td>\n",
              "      <td>0.0</td>\n",
              "      <td>0.0</td>\n",
              "      <td>0.0</td>\n",
              "      <td>0.0</td>\n",
              "      <td>0.0</td>\n",
              "      <td>0.0</td>\n",
              "      <td>0.0</td>\n",
              "      <td>0.0</td>\n",
              "      <td>0.0</td>\n",
              "    </tr>\n",
              "    <tr>\n",
              "      <th>3</th>\n",
              "      <td>1/25/20</td>\n",
              "      <td>0.0</td>\n",
              "      <td>0.0</td>\n",
              "      <td>0.0</td>\n",
              "      <td>0.0</td>\n",
              "      <td>0.0</td>\n",
              "      <td>0.0</td>\n",
              "      <td>0.0</td>\n",
              "      <td>0.0</td>\n",
              "      <td>0.0</td>\n",
              "      <td>...</td>\n",
              "      <td>0.0</td>\n",
              "      <td>0.0</td>\n",
              "      <td>0.0</td>\n",
              "      <td>0.0</td>\n",
              "      <td>0.0</td>\n",
              "      <td>0.0</td>\n",
              "      <td>0.0</td>\n",
              "      <td>0.0</td>\n",
              "      <td>0.0</td>\n",
              "      <td>0.0</td>\n",
              "    </tr>\n",
              "    <tr>\n",
              "      <th>4</th>\n",
              "      <td>1/26/20</td>\n",
              "      <td>0.0</td>\n",
              "      <td>0.0</td>\n",
              "      <td>0.0</td>\n",
              "      <td>0.0</td>\n",
              "      <td>0.0</td>\n",
              "      <td>0.0</td>\n",
              "      <td>0.0</td>\n",
              "      <td>0.0</td>\n",
              "      <td>0.0</td>\n",
              "      <td>...</td>\n",
              "      <td>0.0</td>\n",
              "      <td>0.0</td>\n",
              "      <td>0.0</td>\n",
              "      <td>0.0</td>\n",
              "      <td>0.0</td>\n",
              "      <td>0.0</td>\n",
              "      <td>0.0</td>\n",
              "      <td>0.0</td>\n",
              "      <td>0.0</td>\n",
              "      <td>0.0</td>\n",
              "    </tr>\n",
              "    <tr>\n",
              "      <th>5</th>\n",
              "      <td>1/27/20</td>\n",
              "      <td>0.0</td>\n",
              "      <td>0.0</td>\n",
              "      <td>0.0</td>\n",
              "      <td>0.0</td>\n",
              "      <td>0.0</td>\n",
              "      <td>0.0</td>\n",
              "      <td>0.0</td>\n",
              "      <td>0.0</td>\n",
              "      <td>0.0</td>\n",
              "      <td>...</td>\n",
              "      <td>0.0</td>\n",
              "      <td>0.0</td>\n",
              "      <td>0.0</td>\n",
              "      <td>0.0</td>\n",
              "      <td>0.0</td>\n",
              "      <td>0.0</td>\n",
              "      <td>0.0</td>\n",
              "      <td>0.0</td>\n",
              "      <td>0.0</td>\n",
              "      <td>0.0</td>\n",
              "    </tr>\n",
              "    <tr>\n",
              "      <th>...</th>\n",
              "      <td>...</td>\n",
              "      <td>...</td>\n",
              "      <td>...</td>\n",
              "      <td>...</td>\n",
              "      <td>...</td>\n",
              "      <td>...</td>\n",
              "      <td>...</td>\n",
              "      <td>...</td>\n",
              "      <td>...</td>\n",
              "      <td>...</td>\n",
              "      <td>...</td>\n",
              "      <td>...</td>\n",
              "      <td>...</td>\n",
              "      <td>...</td>\n",
              "      <td>...</td>\n",
              "      <td>...</td>\n",
              "      <td>...</td>\n",
              "      <td>...</td>\n",
              "      <td>...</td>\n",
              "      <td>...</td>\n",
              "      <td>...</td>\n",
              "    </tr>\n",
              "    <tr>\n",
              "      <th>832</th>\n",
              "      <td>5/3/22</td>\n",
              "      <td>0.0</td>\n",
              "      <td>0.0</td>\n",
              "      <td>0.0</td>\n",
              "      <td>0.0</td>\n",
              "      <td>0.0</td>\n",
              "      <td>0.0</td>\n",
              "      <td>0.0</td>\n",
              "      <td>0.0</td>\n",
              "      <td>0.0</td>\n",
              "      <td>...</td>\n",
              "      <td>7.0</td>\n",
              "      <td>0.0</td>\n",
              "      <td>0.0</td>\n",
              "      <td>0.0</td>\n",
              "      <td>0.0</td>\n",
              "      <td>0.0</td>\n",
              "      <td>0.0</td>\n",
              "      <td>0.0</td>\n",
              "      <td>0.0</td>\n",
              "      <td>0.0</td>\n",
              "    </tr>\n",
              "    <tr>\n",
              "      <th>833</th>\n",
              "      <td>5/4/22</td>\n",
              "      <td>0.0</td>\n",
              "      <td>0.0</td>\n",
              "      <td>0.0</td>\n",
              "      <td>0.0</td>\n",
              "      <td>0.0</td>\n",
              "      <td>0.0</td>\n",
              "      <td>1.0</td>\n",
              "      <td>0.0</td>\n",
              "      <td>0.0</td>\n",
              "      <td>...</td>\n",
              "      <td>0.0</td>\n",
              "      <td>0.0</td>\n",
              "      <td>1.0</td>\n",
              "      <td>0.0</td>\n",
              "      <td>3.0</td>\n",
              "      <td>0.0</td>\n",
              "      <td>0.0</td>\n",
              "      <td>0.0</td>\n",
              "      <td>0.0</td>\n",
              "      <td>1.0</td>\n",
              "    </tr>\n",
              "    <tr>\n",
              "      <th>834</th>\n",
              "      <td>5/5/22</td>\n",
              "      <td>1.0</td>\n",
              "      <td>0.0</td>\n",
              "      <td>0.0</td>\n",
              "      <td>0.0</td>\n",
              "      <td>0.0</td>\n",
              "      <td>0.0</td>\n",
              "      <td>0.0</td>\n",
              "      <td>0.0</td>\n",
              "      <td>0.0</td>\n",
              "      <td>...</td>\n",
              "      <td>0.0</td>\n",
              "      <td>0.0</td>\n",
              "      <td>0.0</td>\n",
              "      <td>0.0</td>\n",
              "      <td>2.0</td>\n",
              "      <td>0.0</td>\n",
              "      <td>0.0</td>\n",
              "      <td>0.0</td>\n",
              "      <td>0.0</td>\n",
              "      <td>0.0</td>\n",
              "    </tr>\n",
              "    <tr>\n",
              "      <th>835</th>\n",
              "      <td>5/6/22</td>\n",
              "      <td>0.0</td>\n",
              "      <td>0.0</td>\n",
              "      <td>0.0</td>\n",
              "      <td>0.0</td>\n",
              "      <td>0.0</td>\n",
              "      <td>0.0</td>\n",
              "      <td>0.0</td>\n",
              "      <td>0.0</td>\n",
              "      <td>0.0</td>\n",
              "      <td>...</td>\n",
              "      <td>0.0</td>\n",
              "      <td>0.0</td>\n",
              "      <td>0.0</td>\n",
              "      <td>0.0</td>\n",
              "      <td>6.0</td>\n",
              "      <td>0.0</td>\n",
              "      <td>0.0</td>\n",
              "      <td>0.0</td>\n",
              "      <td>0.0</td>\n",
              "      <td>2.0</td>\n",
              "    </tr>\n",
              "    <tr>\n",
              "      <th>836</th>\n",
              "      <td>5/7/22</td>\n",
              "      <td>0.0</td>\n",
              "      <td>0.0</td>\n",
              "      <td>0.0</td>\n",
              "      <td>0.0</td>\n",
              "      <td>0.0</td>\n",
              "      <td>0.0</td>\n",
              "      <td>0.0</td>\n",
              "      <td>0.0</td>\n",
              "      <td>0.0</td>\n",
              "      <td>...</td>\n",
              "      <td>0.0</td>\n",
              "      <td>0.0</td>\n",
              "      <td>0.0</td>\n",
              "      <td>0.0</td>\n",
              "      <td>0.0</td>\n",
              "      <td>0.0</td>\n",
              "      <td>0.0</td>\n",
              "      <td>0.0</td>\n",
              "      <td>6.0</td>\n",
              "      <td>0.0</td>\n",
              "    </tr>\n",
              "  </tbody>\n",
              "</table>\n",
              "<p>836 rows × 285 columns</p>\n",
              "</div>\n",
              "      <button class=\"colab-df-convert\" onclick=\"convertToInteractive('df-1f84e747-559a-4db7-9b0a-f9e11a83490f')\"\n",
              "              title=\"Convert this dataframe to an interactive table.\"\n",
              "              style=\"display:none;\">\n",
              "        \n",
              "  <svg xmlns=\"http://www.w3.org/2000/svg\" height=\"24px\"viewBox=\"0 0 24 24\"\n",
              "       width=\"24px\">\n",
              "    <path d=\"M0 0h24v24H0V0z\" fill=\"none\"/>\n",
              "    <path d=\"M18.56 5.44l.94 2.06.94-2.06 2.06-.94-2.06-.94-.94-2.06-.94 2.06-2.06.94zm-11 1L8.5 8.5l.94-2.06 2.06-.94-2.06-.94L8.5 2.5l-.94 2.06-2.06.94zm10 10l.94 2.06.94-2.06 2.06-.94-2.06-.94-.94-2.06-.94 2.06-2.06.94z\"/><path d=\"M17.41 7.96l-1.37-1.37c-.4-.4-.92-.59-1.43-.59-.52 0-1.04.2-1.43.59L10.3 9.45l-7.72 7.72c-.78.78-.78 2.05 0 2.83L4 21.41c.39.39.9.59 1.41.59.51 0 1.02-.2 1.41-.59l7.78-7.78 2.81-2.81c.8-.78.8-2.07 0-2.86zM5.41 20L4 18.59l7.72-7.72 1.47 1.35L5.41 20z\"/>\n",
              "  </svg>\n",
              "      </button>\n",
              "      \n",
              "  <style>\n",
              "    .colab-df-container {\n",
              "      display:flex;\n",
              "      flex-wrap:wrap;\n",
              "      gap: 12px;\n",
              "    }\n",
              "\n",
              "    .colab-df-convert {\n",
              "      background-color: #E8F0FE;\n",
              "      border: none;\n",
              "      border-radius: 50%;\n",
              "      cursor: pointer;\n",
              "      display: none;\n",
              "      fill: #1967D2;\n",
              "      height: 32px;\n",
              "      padding: 0 0 0 0;\n",
              "      width: 32px;\n",
              "    }\n",
              "\n",
              "    .colab-df-convert:hover {\n",
              "      background-color: #E2EBFA;\n",
              "      box-shadow: 0px 1px 2px rgba(60, 64, 67, 0.3), 0px 1px 3px 1px rgba(60, 64, 67, 0.15);\n",
              "      fill: #174EA6;\n",
              "    }\n",
              "\n",
              "    [theme=dark] .colab-df-convert {\n",
              "      background-color: #3B4455;\n",
              "      fill: #D2E3FC;\n",
              "    }\n",
              "\n",
              "    [theme=dark] .colab-df-convert:hover {\n",
              "      background-color: #434B5C;\n",
              "      box-shadow: 0px 1px 3px 1px rgba(0, 0, 0, 0.15);\n",
              "      filter: drop-shadow(0px 1px 2px rgba(0, 0, 0, 0.3));\n",
              "      fill: #FFFFFF;\n",
              "    }\n",
              "  </style>\n",
              "\n",
              "      <script>\n",
              "        const buttonEl =\n",
              "          document.querySelector('#df-1f84e747-559a-4db7-9b0a-f9e11a83490f button.colab-df-convert');\n",
              "        buttonEl.style.display =\n",
              "          google.colab.kernel.accessAllowed ? 'block' : 'none';\n",
              "\n",
              "        async function convertToInteractive(key) {\n",
              "          const element = document.querySelector('#df-1f84e747-559a-4db7-9b0a-f9e11a83490f');\n",
              "          const dataTable =\n",
              "            await google.colab.kernel.invokeFunction('convertToInteractive',\n",
              "                                                     [key], {});\n",
              "          if (!dataTable) return;\n",
              "\n",
              "          const docLinkHtml = 'Like what you see? Visit the ' +\n",
              "            '<a target=\"_blank\" href=https://colab.research.google.com/notebooks/data_table.ipynb>data table notebook</a>'\n",
              "            + ' to learn more about interactive tables.';\n",
              "          element.innerHTML = '';\n",
              "          dataTable['output_type'] = 'display_data';\n",
              "          await google.colab.output.renderOutput(dataTable, element);\n",
              "          const docLink = document.createElement('div');\n",
              "          docLink.innerHTML = docLinkHtml;\n",
              "          element.appendChild(docLink);\n",
              "        }\n",
              "      </script>\n",
              "    </div>\n",
              "  </div>\n",
              "  "
            ]
          },
          "metadata": {},
          "execution_count": 20
        }
      ]
    },
    {
      "cell_type": "markdown",
      "source": [
        "- 284개의 나라들 이름 확인"
      ],
      "metadata": {
        "id": "aNS9QCs9VDcO"
      }
    },
    {
      "cell_type": "code",
      "source": [
        "print(list(g_cases.columns))"
      ],
      "metadata": {
        "id": "UeJ1s3xUVCLs",
        "colab": {
          "base_uri": "https://localhost:8080/"
        },
        "outputId": "1c784122-c700-4397-8e81-51c3a3f83d1f"
      },
      "execution_count": null,
      "outputs": [
        {
          "output_type": "stream",
          "name": "stdout",
          "text": [
            "['Country/Region', 'Afghanistan', 'Albania', 'Algeria', 'Andorra', 'Angola', 'Antarctica', 'Antigua and Barbuda', 'Argentina', 'Armenia', 'Australia', 'Australia.1', 'Australia.2', 'Australia.3', 'Australia.4', 'Australia.5', 'Australia.6', 'Australia.7', 'Austria', 'Azerbaijan', 'Bahamas', 'Bahrain', 'Bangladesh', 'Barbados', 'Belarus', 'Belgium', 'Belize', 'Benin', 'Bhutan', 'Bolivia', 'Bosnia and Herzegovina', 'Botswana', 'Brazil', 'Brunei', 'Bulgaria', 'Burkina Faso', 'Burma', 'Burundi', 'Cabo Verde', 'Cambodia', 'Cameroon', 'Canada', 'Canada.1', 'Canada.2', 'Canada.3', 'Canada.4', 'Canada.5', 'Canada.6', 'Canada.7', 'Canada.8', 'Canada.9', 'Canada.10', 'Canada.11', 'Canada.12', 'Canada.13', 'Canada.14', 'Canada.15', 'Central African Republic', 'Chad', 'Chile', 'China', 'China.1', 'China.2', 'China.3', 'China.4', 'China.5', 'China.6', 'China.7', 'China.8', 'China.9', 'China.10', 'China.11', 'China.12', 'China.13', 'China.14', 'China.15', 'China.16', 'China.17', 'China.18', 'China.19', 'China.20', 'China.21', 'China.22', 'China.23', 'China.24', 'China.25', 'China.26', 'China.27', 'China.28', 'China.29', 'China.30', 'China.31', 'China.32', 'China.33', 'Colombia', 'Comoros', 'Congo (Brazzaville)', 'Congo (Kinshasa)', 'Costa Rica', \"Cote d'Ivoire\", 'Croatia', 'Cuba', 'Cyprus', 'Czechia', 'Denmark', 'Denmark.1', 'Denmark.2', 'Diamond Princess', 'Djibouti', 'Dominica', 'Dominican Republic', 'Ecuador', 'Egypt', 'El Salvador', 'Equatorial Guinea', 'Eritrea', 'Estonia', 'Eswatini', 'Ethiopia', 'Fiji', 'Finland', 'France', 'France.1', 'France.2', 'France.3', 'France.4', 'France.5', 'France.6', 'France.7', 'France.8', 'France.9', 'France.10', 'France.11', 'Gabon', 'Gambia', 'Georgia', 'Germany', 'Ghana', 'Greece', 'Grenada', 'Guatemala', 'Guinea', 'Guinea-Bissau', 'Guyana', 'Haiti', 'Holy See', 'Honduras', 'Hungary', 'Iceland', 'India', 'Indonesia', 'Iran', 'Iraq', 'Ireland', 'Israel', 'Italy', 'Jamaica', 'Japan', 'Jordan', 'Kazakhstan', 'Kenya', 'Kiribati', 'Korea, South', 'Kosovo', 'Kuwait', 'Kyrgyzstan', 'Laos', 'Latvia', 'Lebanon', 'Lesotho', 'Liberia', 'Libya', 'Liechtenstein', 'Lithuania', 'Luxembourg', 'MS Zaandam', 'Madagascar', 'Malawi', 'Malaysia', 'Maldives', 'Mali', 'Malta', 'Marshall Islands', 'Mauritania', 'Mauritius', 'Mexico', 'Micronesia', 'Moldova', 'Monaco', 'Mongolia', 'Montenegro', 'Morocco', 'Mozambique', 'Namibia', 'Nepal', 'Netherlands', 'Netherlands.1', 'Netherlands.2', 'Netherlands.3', 'Netherlands.4', 'New Zealand', 'New Zealand.1', 'Nicaragua', 'Niger', 'Nigeria', 'North Macedonia', 'Norway', 'Oman', 'Pakistan', 'Palau', 'Panama', 'Papua New Guinea', 'Paraguay', 'Peru', 'Philippines', 'Poland', 'Portugal', 'Qatar', 'Romania', 'Russia', 'Rwanda', 'Saint Kitts and Nevis', 'Saint Lucia', 'Saint Vincent and the Grenadines', 'Samoa', 'San Marino', 'Sao Tome and Principe', 'Saudi Arabia', 'Senegal', 'Serbia', 'Seychelles', 'Sierra Leone', 'Singapore', 'Slovakia', 'Slovenia', 'Solomon Islands', 'Somalia', 'South Africa', 'South Sudan', 'Spain', 'Sri Lanka', 'Sudan', 'Summer Olympics 2020', 'Suriname', 'Sweden', 'Switzerland', 'Syria', 'Taiwan*', 'Tajikistan', 'Tanzania', 'Thailand', 'Timor-Leste', 'Togo', 'Tonga', 'Trinidad and Tobago', 'Tunisia', 'Turkey', 'US', 'Uganda', 'Ukraine', 'United Arab Emirates', 'United Kingdom', 'United Kingdom.1', 'United Kingdom.2', 'United Kingdom.3', 'United Kingdom.4', 'United Kingdom.5', 'United Kingdom.6', 'United Kingdom.7', 'United Kingdom.8', 'United Kingdom.9', 'United Kingdom.10', 'United Kingdom.11', 'United Kingdom.12', 'United Kingdom.13', 'Uruguay', 'Uzbekistan', 'Vanuatu', 'Venezuela', 'Vietnam', 'West Bank and Gaza', 'Winter Olympics 2022', 'Yemen', 'Zambia', 'Zimbabwe']\n"
          ]
        }
      ]
    },
    {
      "cell_type": "markdown",
      "source": [
        "- Australia 0~7 까지 있음.\n",
        "- Australia 먼저 비교: kaggle 링크 참조\n",
        "https://www.kaggle.com/code/docxian/covid-19-country-selection-and-comparison"
      ],
      "metadata": {
        "id": "czhLu3h1VG9S"
      }
    },
    {
      "cell_type": "code",
      "source": [
        "country_select = 'Australia'"
      ],
      "metadata": {
        "id": "QkYW59xJVE9d"
      },
      "execution_count": null,
      "outputs": []
    },
    {
      "cell_type": "markdown",
      "source": [
        "- shape(행,열) 차원 확인하기\n",
        "> 동적으로 할당된 array에 대해 행, 열의 구성을 알아보는 것\n",
        "- g_cases의 행 수(title 포함) \n",
        "- shape[0] : 전체 행의 갯수\n",
        "- shape[1] : 전체 열의 개수"
      ],
      "metadata": {
        "id": "nJSgHxbK7jYs"
      }
    },
    {
      "cell_type": "code",
      "source": [
        "g_cases.shape[0]"
      ],
      "metadata": {
        "colab": {
          "base_uri": "https://localhost:8080/"
        },
        "id": "kogHw_JT7X7B",
        "outputId": "9d3fd140-1942-4ca3-e582-26ee45bb235e"
      },
      "execution_count": null,
      "outputs": [
        {
          "output_type": "execute_result",
          "data": {
            "text/plain": [
              "836"
            ]
          },
          "metadata": {},
          "execution_count": 21
        }
      ]
    },
    {
      "cell_type": "code",
      "source": [
        "# n : title 제외한 행의 수 저장\n",
        "n = g_cases.shape[0] - 1\n",
        "print('Number of observations:', n)"
      ],
      "metadata": {
        "colab": {
          "base_uri": "https://localhost:8080/"
        },
        "id": "Uv88uOpZ7R8y",
        "outputId": "371f1b89-ef33-4e4b-a2c2-94ac76185e41"
      },
      "execution_count": null,
      "outputs": [
        {
          "output_type": "stream",
          "name": "stdout",
          "text": [
            "Number of observations: 835\n"
          ]
        }
      ]
    },
    {
      "cell_type": "code",
      "source": [
        "col_dates=g_cases['Country/Region']\n",
        "col_dates"
      ],
      "metadata": {
        "colab": {
          "base_uri": "https://localhost:8080/"
        },
        "id": "hSmiXHhz8ccE",
        "outputId": "569051f4-0323-4b94-9d73-0687790cfbfe"
      },
      "execution_count": null,
      "outputs": [
        {
          "output_type": "execute_result",
          "data": {
            "text/plain": [
              "1      1/23/20\n",
              "2      1/24/20\n",
              "3      1/25/20\n",
              "4      1/26/20\n",
              "5      1/27/20\n",
              "        ...   \n",
              "832     5/3/22\n",
              "833     5/4/22\n",
              "834     5/5/22\n",
              "835     5/6/22\n",
              "836     5/7/22\n",
              "Name: Country/Region, Length: 836, dtype: object"
            ]
          },
          "metadata": {},
          "execution_count": 27
        }
      ]
    },
    {
      "cell_type": "code",
      "source": [
        "g_cases[country_select]"
      ],
      "metadata": {
        "colab": {
          "base_uri": "https://localhost:8080/"
        },
        "id": "pQgCTiWjBO2W",
        "outputId": "e77eca19-b169-414d-ba91-15dd0df2f5a2"
      },
      "execution_count": null,
      "outputs": [
        {
          "output_type": "execute_result",
          "data": {
            "text/plain": [
              "1         0.0\n",
              "2         0.0\n",
              "3         0.0\n",
              "4         0.0\n",
              "5         0.0\n",
              "        ...  \n",
              "832    1064.0\n",
              "833    1061.0\n",
              "834    1049.0\n",
              "835     967.0\n",
              "836     753.0\n",
              "Name: Australia, Length: 836, dtype: object"
            ]
          },
          "metadata": {},
          "execution_count": 28
        }
      ]
    },
    {
      "cell_type": "markdown",
      "source": [
        "- object형인 country_select를 numeric으로 변환한다."
      ],
      "metadata": {
        "id": "wZ5tG4xpB5nS"
      }
    },
    {
      "cell_type": "code",
      "source": [
        "col_cases_inc = pd.to_numeric(g_cases[country_select])\n",
        "col_cases_inc"
      ],
      "metadata": {
        "colab": {
          "base_uri": "https://localhost:8080/"
        },
        "id": "j4vNpAiYBiNN",
        "outputId": "8759f7e0-4c7f-4ce3-9537-a9bf3f4de3e5"
      },
      "execution_count": null,
      "outputs": [
        {
          "output_type": "execute_result",
          "data": {
            "text/plain": [
              "1         0.0\n",
              "2         0.0\n",
              "3         0.0\n",
              "4         0.0\n",
              "5         0.0\n",
              "        ...  \n",
              "832    1064.0\n",
              "833    1061.0\n",
              "834    1049.0\n",
              "835     967.0\n",
              "836     753.0\n",
              "Name: Australia, Length: 836, dtype: float64"
            ]
          },
          "metadata": {},
          "execution_count": 30
        }
      ]
    },
    {
      "cell_type": "code",
      "source": [
        "g_deaths[country_select]"
      ],
      "metadata": {
        "colab": {
          "base_uri": "https://localhost:8080/"
        },
        "id": "TJGac_NZCBBa",
        "outputId": "3186687e-4f35-4b74-f8ff-34d9c2ace310"
      },
      "execution_count": null,
      "outputs": [
        {
          "output_type": "execute_result",
          "data": {
            "text/plain": [
              "1      0.0\n",
              "2      0.0\n",
              "3      0.0\n",
              "4      0.0\n",
              "5      0.0\n",
              "      ... \n",
              "832    1.0\n",
              "833    0.0\n",
              "834    1.0\n",
              "835    0.0\n",
              "836    0.0\n",
              "Name: Australia, Length: 836, dtype: object"
            ]
          },
          "metadata": {},
          "execution_count": 31
        }
      ]
    },
    {
      "cell_type": "code",
      "source": [
        "col_deaths_inc = pd.to_numeric(g_deaths[country_select])\n",
        "col_deaths_inc"
      ],
      "metadata": {
        "colab": {
          "base_uri": "https://localhost:8080/"
        },
        "id": "rO7k88vkCDnc",
        "outputId": "00e980a7-ca54-4d6b-b853-927f80879132"
      },
      "execution_count": null,
      "outputs": [
        {
          "output_type": "execute_result",
          "data": {
            "text/plain": [
              "1      0.0\n",
              "2      0.0\n",
              "3      0.0\n",
              "4      0.0\n",
              "5      0.0\n",
              "      ... \n",
              "832    1.0\n",
              "833    0.0\n",
              "834    1.0\n",
              "835    0.0\n",
              "836    0.0\n",
              "Name: Australia, Length: 836, dtype: float64"
            ]
          },
          "metadata": {},
          "execution_count": 33
        }
      ]
    },
    {
      "cell_type": "markdown",
      "source": [
        "- Australia 만을 위한 새로운 데이터 프레임 생성"
      ],
      "metadata": {
        "id": "L5UBTs5ZDKqh"
      }
    },
    {
      "cell_type": "code",
      "source": [
        "df = pd.DataFrame()\n",
        "type(df)"
      ],
      "metadata": {
        "colab": {
          "base_uri": "https://localhost:8080/"
        },
        "id": "zmDNuq-qDBOS",
        "outputId": "30362d4a-ed92-40b6-e1a6-72957fc174ef"
      },
      "execution_count": null,
      "outputs": [
        {
          "output_type": "execute_result",
          "data": {
            "text/plain": [
              "pandas.core.frame.DataFrame"
            ]
          },
          "metadata": {},
          "execution_count": 35
        }
      ]
    },
    {
      "cell_type": "code",
      "source": [
        "df['Date'] = pd.to_datetime(col_dates)\n",
        "df['Cases_Inc'] = col_cases_inc\n",
        "df['Deaths_Inc'] = col_deaths_inc"
      ],
      "metadata": {
        "id": "xRC85IbcDHoM"
      },
      "execution_count": null,
      "outputs": []
    },
    {
      "cell_type": "markdown",
      "source": [
        "- cases/deaths의 값을 집계한다.\n",
        "- .cunsum():배열에서 주어진 축에 따라 누적되는 원소들의 누적 합을 계산하는 함수"
      ],
      "metadata": {
        "id": "hLtMJQM3Epqu"
      }
    },
    {
      "cell_type": "code",
      "source": [
        "df['Cases'] = df['Cases_Inc'].cumsum()\n",
        "df['Deaths'] = df['Deaths_Inc'].cumsum()"
      ],
      "metadata": {
        "id": "Rg43CHMU6Y2Q"
      },
      "execution_count": null,
      "outputs": []
    },
    {
      "cell_type": "code",
      "source": [
        "df"
      ],
      "metadata": {
        "colab": {
          "base_uri": "https://localhost:8080/",
          "height": 424
        },
        "id": "nRQ6s2xzFPpS",
        "outputId": "c4277e36-24a7-4121-e42a-05da74bfa9f3"
      },
      "execution_count": null,
      "outputs": [
        {
          "output_type": "execute_result",
          "data": {
            "text/plain": [
              "          Date  Cases_Inc  Deaths_Inc     Cases  Deaths\n",
              "1   2020-01-23        0.0         0.0       0.0     0.0\n",
              "2   2020-01-24        0.0         0.0       0.0     0.0\n",
              "3   2020-01-25        0.0         0.0       0.0     0.0\n",
              "4   2020-01-26        0.0         0.0       0.0     0.0\n",
              "5   2020-01-27        0.0         0.0       0.0     0.0\n",
              "..         ...        ...         ...       ...     ...\n",
              "832 2022-05-03     1064.0         1.0  107769.0    54.0\n",
              "833 2022-05-04     1061.0         0.0  108830.0    54.0\n",
              "834 2022-05-05     1049.0         1.0  109879.0    55.0\n",
              "835 2022-05-06      967.0         0.0  110846.0    55.0\n",
              "836 2022-05-07      753.0         0.0  111599.0    55.0\n",
              "\n",
              "[836 rows x 5 columns]"
            ],
            "text/html": [
              "\n",
              "  <div id=\"df-f48f8166-905f-4f4a-abbc-f01574a07bc0\">\n",
              "    <div class=\"colab-df-container\">\n",
              "      <div>\n",
              "<style scoped>\n",
              "    .dataframe tbody tr th:only-of-type {\n",
              "        vertical-align: middle;\n",
              "    }\n",
              "\n",
              "    .dataframe tbody tr th {\n",
              "        vertical-align: top;\n",
              "    }\n",
              "\n",
              "    .dataframe thead th {\n",
              "        text-align: right;\n",
              "    }\n",
              "</style>\n",
              "<table border=\"1\" class=\"dataframe\">\n",
              "  <thead>\n",
              "    <tr style=\"text-align: right;\">\n",
              "      <th></th>\n",
              "      <th>Date</th>\n",
              "      <th>Cases_Inc</th>\n",
              "      <th>Deaths_Inc</th>\n",
              "      <th>Cases</th>\n",
              "      <th>Deaths</th>\n",
              "    </tr>\n",
              "  </thead>\n",
              "  <tbody>\n",
              "    <tr>\n",
              "      <th>1</th>\n",
              "      <td>2020-01-23</td>\n",
              "      <td>0.0</td>\n",
              "      <td>0.0</td>\n",
              "      <td>0.0</td>\n",
              "      <td>0.0</td>\n",
              "    </tr>\n",
              "    <tr>\n",
              "      <th>2</th>\n",
              "      <td>2020-01-24</td>\n",
              "      <td>0.0</td>\n",
              "      <td>0.0</td>\n",
              "      <td>0.0</td>\n",
              "      <td>0.0</td>\n",
              "    </tr>\n",
              "    <tr>\n",
              "      <th>3</th>\n",
              "      <td>2020-01-25</td>\n",
              "      <td>0.0</td>\n",
              "      <td>0.0</td>\n",
              "      <td>0.0</td>\n",
              "      <td>0.0</td>\n",
              "    </tr>\n",
              "    <tr>\n",
              "      <th>4</th>\n",
              "      <td>2020-01-26</td>\n",
              "      <td>0.0</td>\n",
              "      <td>0.0</td>\n",
              "      <td>0.0</td>\n",
              "      <td>0.0</td>\n",
              "    </tr>\n",
              "    <tr>\n",
              "      <th>5</th>\n",
              "      <td>2020-01-27</td>\n",
              "      <td>0.0</td>\n",
              "      <td>0.0</td>\n",
              "      <td>0.0</td>\n",
              "      <td>0.0</td>\n",
              "    </tr>\n",
              "    <tr>\n",
              "      <th>...</th>\n",
              "      <td>...</td>\n",
              "      <td>...</td>\n",
              "      <td>...</td>\n",
              "      <td>...</td>\n",
              "      <td>...</td>\n",
              "    </tr>\n",
              "    <tr>\n",
              "      <th>832</th>\n",
              "      <td>2022-05-03</td>\n",
              "      <td>1064.0</td>\n",
              "      <td>1.0</td>\n",
              "      <td>107769.0</td>\n",
              "      <td>54.0</td>\n",
              "    </tr>\n",
              "    <tr>\n",
              "      <th>833</th>\n",
              "      <td>2022-05-04</td>\n",
              "      <td>1061.0</td>\n",
              "      <td>0.0</td>\n",
              "      <td>108830.0</td>\n",
              "      <td>54.0</td>\n",
              "    </tr>\n",
              "    <tr>\n",
              "      <th>834</th>\n",
              "      <td>2022-05-05</td>\n",
              "      <td>1049.0</td>\n",
              "      <td>1.0</td>\n",
              "      <td>109879.0</td>\n",
              "      <td>55.0</td>\n",
              "    </tr>\n",
              "    <tr>\n",
              "      <th>835</th>\n",
              "      <td>2022-05-06</td>\n",
              "      <td>967.0</td>\n",
              "      <td>0.0</td>\n",
              "      <td>110846.0</td>\n",
              "      <td>55.0</td>\n",
              "    </tr>\n",
              "    <tr>\n",
              "      <th>836</th>\n",
              "      <td>2022-05-07</td>\n",
              "      <td>753.0</td>\n",
              "      <td>0.0</td>\n",
              "      <td>111599.0</td>\n",
              "      <td>55.0</td>\n",
              "    </tr>\n",
              "  </tbody>\n",
              "</table>\n",
              "<p>836 rows × 5 columns</p>\n",
              "</div>\n",
              "      <button class=\"colab-df-convert\" onclick=\"convertToInteractive('df-f48f8166-905f-4f4a-abbc-f01574a07bc0')\"\n",
              "              title=\"Convert this dataframe to an interactive table.\"\n",
              "              style=\"display:none;\">\n",
              "        \n",
              "  <svg xmlns=\"http://www.w3.org/2000/svg\" height=\"24px\"viewBox=\"0 0 24 24\"\n",
              "       width=\"24px\">\n",
              "    <path d=\"M0 0h24v24H0V0z\" fill=\"none\"/>\n",
              "    <path d=\"M18.56 5.44l.94 2.06.94-2.06 2.06-.94-2.06-.94-.94-2.06-.94 2.06-2.06.94zm-11 1L8.5 8.5l.94-2.06 2.06-.94-2.06-.94L8.5 2.5l-.94 2.06-2.06.94zm10 10l.94 2.06.94-2.06 2.06-.94-2.06-.94-.94-2.06-.94 2.06-2.06.94z\"/><path d=\"M17.41 7.96l-1.37-1.37c-.4-.4-.92-.59-1.43-.59-.52 0-1.04.2-1.43.59L10.3 9.45l-7.72 7.72c-.78.78-.78 2.05 0 2.83L4 21.41c.39.39.9.59 1.41.59.51 0 1.02-.2 1.41-.59l7.78-7.78 2.81-2.81c.8-.78.8-2.07 0-2.86zM5.41 20L4 18.59l7.72-7.72 1.47 1.35L5.41 20z\"/>\n",
              "  </svg>\n",
              "      </button>\n",
              "      \n",
              "  <style>\n",
              "    .colab-df-container {\n",
              "      display:flex;\n",
              "      flex-wrap:wrap;\n",
              "      gap: 12px;\n",
              "    }\n",
              "\n",
              "    .colab-df-convert {\n",
              "      background-color: #E8F0FE;\n",
              "      border: none;\n",
              "      border-radius: 50%;\n",
              "      cursor: pointer;\n",
              "      display: none;\n",
              "      fill: #1967D2;\n",
              "      height: 32px;\n",
              "      padding: 0 0 0 0;\n",
              "      width: 32px;\n",
              "    }\n",
              "\n",
              "    .colab-df-convert:hover {\n",
              "      background-color: #E2EBFA;\n",
              "      box-shadow: 0px 1px 2px rgba(60, 64, 67, 0.3), 0px 1px 3px 1px rgba(60, 64, 67, 0.15);\n",
              "      fill: #174EA6;\n",
              "    }\n",
              "\n",
              "    [theme=dark] .colab-df-convert {\n",
              "      background-color: #3B4455;\n",
              "      fill: #D2E3FC;\n",
              "    }\n",
              "\n",
              "    [theme=dark] .colab-df-convert:hover {\n",
              "      background-color: #434B5C;\n",
              "      box-shadow: 0px 1px 3px 1px rgba(0, 0, 0, 0.15);\n",
              "      filter: drop-shadow(0px 1px 2px rgba(0, 0, 0, 0.3));\n",
              "      fill: #FFFFFF;\n",
              "    }\n",
              "  </style>\n",
              "\n",
              "      <script>\n",
              "        const buttonEl =\n",
              "          document.querySelector('#df-f48f8166-905f-4f4a-abbc-f01574a07bc0 button.colab-df-convert');\n",
              "        buttonEl.style.display =\n",
              "          google.colab.kernel.accessAllowed ? 'block' : 'none';\n",
              "\n",
              "        async function convertToInteractive(key) {\n",
              "          const element = document.querySelector('#df-f48f8166-905f-4f4a-abbc-f01574a07bc0');\n",
              "          const dataTable =\n",
              "            await google.colab.kernel.invokeFunction('convertToInteractive',\n",
              "                                                     [key], {});\n",
              "          if (!dataTable) return;\n",
              "\n",
              "          const docLinkHtml = 'Like what you see? Visit the ' +\n",
              "            '<a target=\"_blank\" href=https://colab.research.google.com/notebooks/data_table.ipynb>data table notebook</a>'\n",
              "            + ' to learn more about interactive tables.';\n",
              "          element.innerHTML = '';\n",
              "          dataTable['output_type'] = 'display_data';\n",
              "          await google.colab.output.renderOutput(dataTable, element);\n",
              "          const docLink = document.createElement('div');\n",
              "          docLink.innerHTML = docLinkHtml;\n",
              "          element.appendChild(docLink);\n",
              "        }\n",
              "      </script>\n",
              "    </div>\n",
              "  </div>\n",
              "  "
            ]
          },
          "metadata": {},
          "execution_count": 38
        }
      ]
    },
    {
      "cell_type": "markdown",
      "source": [
        "- Australia 20년1월23일~22년5월7일까지 111599명의 유형발생.\n",
        "-사망자 55명"
      ],
      "metadata": {
        "id": "9hdHvCFyGdea"
      }
    },
    {
      "cell_type": "code",
      "source": [
        "# case fatality rate 환자 치사율\n",
        "df['CFR'] = df.Deaths / df.Cases "
      ],
      "metadata": {
        "id": "dcljgcjnItpC"
      },
      "execution_count": null,
      "outputs": []
    },
    {
      "cell_type": "markdown",
      "source": [
        "- 하루하루 변화량 파악하기\n",
        "- .pct_change() : 데이터프레임에서 수익률을 계산해준다.\n",
        "- 수익률? (오늘cases수치-어제cases수치)/어제cases수치"
      ],
      "metadata": {
        "id": "APHaDniZJboS"
      }
    },
    {
      "cell_type": "code",
      "source": [
        "df['Cases_RelChange'] = df['Cases'].pct_change() # day to day relative change\n",
        "df['Deaths_RelChange'] = df['Deaths'].pct_change() # day to day relative change"
      ],
      "metadata": {
        "id": "YglrmAevFSBb"
      },
      "execution_count": null,
      "outputs": []
    },
    {
      "cell_type": "code",
      "source": [
        "# show most recent values (2 weeks)\n",
        "df.tail(14)"
      ],
      "metadata": {
        "colab": {
          "base_uri": "https://localhost:8080/",
          "height": 795
        },
        "id": "doDyDZxbGumq",
        "outputId": "12d6d1c6-f92d-401b-f188-6b156cd71600"
      },
      "execution_count": null,
      "outputs": [
        {
          "output_type": "execute_result",
          "data": {
            "text/plain": [
              "          Date  Cases_Inc  Deaths_Inc     Cases  Deaths  Cases_RelChange  \\\n",
              "823 2022-04-24        0.0         0.0   99485.0    50.0         0.000000   \n",
              "824 2022-04-25     1442.0         0.0  100927.0    50.0         0.014495   \n",
              "825 2022-04-26      972.0         0.0  101899.0    50.0         0.009631   \n",
              "826 2022-04-27        0.0         0.0  101899.0    50.0         0.000000   \n",
              "827 2022-04-28     1321.0         0.0  103220.0    50.0         0.012964   \n",
              "828 2022-04-29        0.0         0.0  103220.0    50.0         0.000000   \n",
              "829 2022-04-30     1721.0         1.0  104941.0    51.0         0.016673   \n",
              "830 2022-05-01      798.0         1.0  105739.0    52.0         0.007604   \n",
              "831 2022-05-02      966.0         1.0  106705.0    53.0         0.009136   \n",
              "832 2022-05-03     1064.0         1.0  107769.0    54.0         0.009971   \n",
              "833 2022-05-04     1061.0         0.0  108830.0    54.0         0.009845   \n",
              "834 2022-05-05     1049.0         1.0  109879.0    55.0         0.009639   \n",
              "835 2022-05-06      967.0         0.0  110846.0    55.0         0.008801   \n",
              "836 2022-05-07      753.0         0.0  111599.0    55.0         0.006793   \n",
              "\n",
              "     Deaths_RelChange       CFR  \n",
              "823          0.000000  0.000503  \n",
              "824          0.000000  0.000495  \n",
              "825          0.000000  0.000491  \n",
              "826          0.000000  0.000491  \n",
              "827          0.000000  0.000484  \n",
              "828          0.000000  0.000484  \n",
              "829          0.020000  0.000486  \n",
              "830          0.019608  0.000492  \n",
              "831          0.019231  0.000497  \n",
              "832          0.018868  0.000501  \n",
              "833          0.000000  0.000496  \n",
              "834          0.018519  0.000501  \n",
              "835          0.000000  0.000496  \n",
              "836          0.000000  0.000493  "
            ],
            "text/html": [
              "\n",
              "  <div id=\"df-9cad6b68-b719-4e24-b919-aa004c994333\">\n",
              "    <div class=\"colab-df-container\">\n",
              "      <div>\n",
              "<style scoped>\n",
              "    .dataframe tbody tr th:only-of-type {\n",
              "        vertical-align: middle;\n",
              "    }\n",
              "\n",
              "    .dataframe tbody tr th {\n",
              "        vertical-align: top;\n",
              "    }\n",
              "\n",
              "    .dataframe thead th {\n",
              "        text-align: right;\n",
              "    }\n",
              "</style>\n",
              "<table border=\"1\" class=\"dataframe\">\n",
              "  <thead>\n",
              "    <tr style=\"text-align: right;\">\n",
              "      <th></th>\n",
              "      <th>Date</th>\n",
              "      <th>Cases_Inc</th>\n",
              "      <th>Deaths_Inc</th>\n",
              "      <th>Cases</th>\n",
              "      <th>Deaths</th>\n",
              "      <th>Cases_RelChange</th>\n",
              "      <th>Deaths_RelChange</th>\n",
              "      <th>CFR</th>\n",
              "    </tr>\n",
              "  </thead>\n",
              "  <tbody>\n",
              "    <tr>\n",
              "      <th>823</th>\n",
              "      <td>2022-04-24</td>\n",
              "      <td>0.0</td>\n",
              "      <td>0.0</td>\n",
              "      <td>99485.0</td>\n",
              "      <td>50.0</td>\n",
              "      <td>0.000000</td>\n",
              "      <td>0.000000</td>\n",
              "      <td>0.000503</td>\n",
              "    </tr>\n",
              "    <tr>\n",
              "      <th>824</th>\n",
              "      <td>2022-04-25</td>\n",
              "      <td>1442.0</td>\n",
              "      <td>0.0</td>\n",
              "      <td>100927.0</td>\n",
              "      <td>50.0</td>\n",
              "      <td>0.014495</td>\n",
              "      <td>0.000000</td>\n",
              "      <td>0.000495</td>\n",
              "    </tr>\n",
              "    <tr>\n",
              "      <th>825</th>\n",
              "      <td>2022-04-26</td>\n",
              "      <td>972.0</td>\n",
              "      <td>0.0</td>\n",
              "      <td>101899.0</td>\n",
              "      <td>50.0</td>\n",
              "      <td>0.009631</td>\n",
              "      <td>0.000000</td>\n",
              "      <td>0.000491</td>\n",
              "    </tr>\n",
              "    <tr>\n",
              "      <th>826</th>\n",
              "      <td>2022-04-27</td>\n",
              "      <td>0.0</td>\n",
              "      <td>0.0</td>\n",
              "      <td>101899.0</td>\n",
              "      <td>50.0</td>\n",
              "      <td>0.000000</td>\n",
              "      <td>0.000000</td>\n",
              "      <td>0.000491</td>\n",
              "    </tr>\n",
              "    <tr>\n",
              "      <th>827</th>\n",
              "      <td>2022-04-28</td>\n",
              "      <td>1321.0</td>\n",
              "      <td>0.0</td>\n",
              "      <td>103220.0</td>\n",
              "      <td>50.0</td>\n",
              "      <td>0.012964</td>\n",
              "      <td>0.000000</td>\n",
              "      <td>0.000484</td>\n",
              "    </tr>\n",
              "    <tr>\n",
              "      <th>828</th>\n",
              "      <td>2022-04-29</td>\n",
              "      <td>0.0</td>\n",
              "      <td>0.0</td>\n",
              "      <td>103220.0</td>\n",
              "      <td>50.0</td>\n",
              "      <td>0.000000</td>\n",
              "      <td>0.000000</td>\n",
              "      <td>0.000484</td>\n",
              "    </tr>\n",
              "    <tr>\n",
              "      <th>829</th>\n",
              "      <td>2022-04-30</td>\n",
              "      <td>1721.0</td>\n",
              "      <td>1.0</td>\n",
              "      <td>104941.0</td>\n",
              "      <td>51.0</td>\n",
              "      <td>0.016673</td>\n",
              "      <td>0.020000</td>\n",
              "      <td>0.000486</td>\n",
              "    </tr>\n",
              "    <tr>\n",
              "      <th>830</th>\n",
              "      <td>2022-05-01</td>\n",
              "      <td>798.0</td>\n",
              "      <td>1.0</td>\n",
              "      <td>105739.0</td>\n",
              "      <td>52.0</td>\n",
              "      <td>0.007604</td>\n",
              "      <td>0.019608</td>\n",
              "      <td>0.000492</td>\n",
              "    </tr>\n",
              "    <tr>\n",
              "      <th>831</th>\n",
              "      <td>2022-05-02</td>\n",
              "      <td>966.0</td>\n",
              "      <td>1.0</td>\n",
              "      <td>106705.0</td>\n",
              "      <td>53.0</td>\n",
              "      <td>0.009136</td>\n",
              "      <td>0.019231</td>\n",
              "      <td>0.000497</td>\n",
              "    </tr>\n",
              "    <tr>\n",
              "      <th>832</th>\n",
              "      <td>2022-05-03</td>\n",
              "      <td>1064.0</td>\n",
              "      <td>1.0</td>\n",
              "      <td>107769.0</td>\n",
              "      <td>54.0</td>\n",
              "      <td>0.009971</td>\n",
              "      <td>0.018868</td>\n",
              "      <td>0.000501</td>\n",
              "    </tr>\n",
              "    <tr>\n",
              "      <th>833</th>\n",
              "      <td>2022-05-04</td>\n",
              "      <td>1061.0</td>\n",
              "      <td>0.0</td>\n",
              "      <td>108830.0</td>\n",
              "      <td>54.0</td>\n",
              "      <td>0.009845</td>\n",
              "      <td>0.000000</td>\n",
              "      <td>0.000496</td>\n",
              "    </tr>\n",
              "    <tr>\n",
              "      <th>834</th>\n",
              "      <td>2022-05-05</td>\n",
              "      <td>1049.0</td>\n",
              "      <td>1.0</td>\n",
              "      <td>109879.0</td>\n",
              "      <td>55.0</td>\n",
              "      <td>0.009639</td>\n",
              "      <td>0.018519</td>\n",
              "      <td>0.000501</td>\n",
              "    </tr>\n",
              "    <tr>\n",
              "      <th>835</th>\n",
              "      <td>2022-05-06</td>\n",
              "      <td>967.0</td>\n",
              "      <td>0.0</td>\n",
              "      <td>110846.0</td>\n",
              "      <td>55.0</td>\n",
              "      <td>0.008801</td>\n",
              "      <td>0.000000</td>\n",
              "      <td>0.000496</td>\n",
              "    </tr>\n",
              "    <tr>\n",
              "      <th>836</th>\n",
              "      <td>2022-05-07</td>\n",
              "      <td>753.0</td>\n",
              "      <td>0.0</td>\n",
              "      <td>111599.0</td>\n",
              "      <td>55.0</td>\n",
              "      <td>0.006793</td>\n",
              "      <td>0.000000</td>\n",
              "      <td>0.000493</td>\n",
              "    </tr>\n",
              "  </tbody>\n",
              "</table>\n",
              "</div>\n",
              "      <button class=\"colab-df-convert\" onclick=\"convertToInteractive('df-9cad6b68-b719-4e24-b919-aa004c994333')\"\n",
              "              title=\"Convert this dataframe to an interactive table.\"\n",
              "              style=\"display:none;\">\n",
              "        \n",
              "  <svg xmlns=\"http://www.w3.org/2000/svg\" height=\"24px\"viewBox=\"0 0 24 24\"\n",
              "       width=\"24px\">\n",
              "    <path d=\"M0 0h24v24H0V0z\" fill=\"none\"/>\n",
              "    <path d=\"M18.56 5.44l.94 2.06.94-2.06 2.06-.94-2.06-.94-.94-2.06-.94 2.06-2.06.94zm-11 1L8.5 8.5l.94-2.06 2.06-.94-2.06-.94L8.5 2.5l-.94 2.06-2.06.94zm10 10l.94 2.06.94-2.06 2.06-.94-2.06-.94-.94-2.06-.94 2.06-2.06.94z\"/><path d=\"M17.41 7.96l-1.37-1.37c-.4-.4-.92-.59-1.43-.59-.52 0-1.04.2-1.43.59L10.3 9.45l-7.72 7.72c-.78.78-.78 2.05 0 2.83L4 21.41c.39.39.9.59 1.41.59.51 0 1.02-.2 1.41-.59l7.78-7.78 2.81-2.81c.8-.78.8-2.07 0-2.86zM5.41 20L4 18.59l7.72-7.72 1.47 1.35L5.41 20z\"/>\n",
              "  </svg>\n",
              "      </button>\n",
              "      \n",
              "  <style>\n",
              "    .colab-df-container {\n",
              "      display:flex;\n",
              "      flex-wrap:wrap;\n",
              "      gap: 12px;\n",
              "    }\n",
              "\n",
              "    .colab-df-convert {\n",
              "      background-color: #E8F0FE;\n",
              "      border: none;\n",
              "      border-radius: 50%;\n",
              "      cursor: pointer;\n",
              "      display: none;\n",
              "      fill: #1967D2;\n",
              "      height: 32px;\n",
              "      padding: 0 0 0 0;\n",
              "      width: 32px;\n",
              "    }\n",
              "\n",
              "    .colab-df-convert:hover {\n",
              "      background-color: #E2EBFA;\n",
              "      box-shadow: 0px 1px 2px rgba(60, 64, 67, 0.3), 0px 1px 3px 1px rgba(60, 64, 67, 0.15);\n",
              "      fill: #174EA6;\n",
              "    }\n",
              "\n",
              "    [theme=dark] .colab-df-convert {\n",
              "      background-color: #3B4455;\n",
              "      fill: #D2E3FC;\n",
              "    }\n",
              "\n",
              "    [theme=dark] .colab-df-convert:hover {\n",
              "      background-color: #434B5C;\n",
              "      box-shadow: 0px 1px 3px 1px rgba(0, 0, 0, 0.15);\n",
              "      filter: drop-shadow(0px 1px 2px rgba(0, 0, 0, 0.3));\n",
              "      fill: #FFFFFF;\n",
              "    }\n",
              "  </style>\n",
              "\n",
              "      <script>\n",
              "        const buttonEl =\n",
              "          document.querySelector('#df-9cad6b68-b719-4e24-b919-aa004c994333 button.colab-df-convert');\n",
              "        buttonEl.style.display =\n",
              "          google.colab.kernel.accessAllowed ? 'block' : 'none';\n",
              "\n",
              "        async function convertToInteractive(key) {\n",
              "          const element = document.querySelector('#df-9cad6b68-b719-4e24-b919-aa004c994333');\n",
              "          const dataTable =\n",
              "            await google.colab.kernel.invokeFunction('convertToInteractive',\n",
              "                                                     [key], {});\n",
              "          if (!dataTable) return;\n",
              "\n",
              "          const docLinkHtml = 'Like what you see? Visit the ' +\n",
              "            '<a target=\"_blank\" href=https://colab.research.google.com/notebooks/data_table.ipynb>data table notebook</a>'\n",
              "            + ' to learn more about interactive tables.';\n",
              "          element.innerHTML = '';\n",
              "          dataTable['output_type'] = 'display_data';\n",
              "          await google.colab.output.renderOutput(dataTable, element);\n",
              "          const docLink = document.createElement('div');\n",
              "          docLink.innerHTML = docLinkHtml;\n",
              "          element.appendChild(docLink);\n",
              "        }\n",
              "      </script>\n",
              "    </div>\n",
              "  </div>\n",
              "  "
            ]
          },
          "metadata": {},
          "execution_count": 42
        }
      ]
    },
    {
      "cell_type": "markdown",
      "source": [
        "- 요일 추가! \n",
        "- %A : locale 요일\n",
        "- %a : locale 요일 (단축 표기)\n",
        "- strftime() : 원하는 서식을 지정해 날짜 형식을 변경할 수 있다."
      ],
      "metadata": {
        "id": "XYM_EOYaLcyE"
      }
    },
    {
      "cell_type": "code",
      "source": [
        "def get_weekday(i_date):\n",
        "    return i_date.strftime('%a') #요일을 단축 표기 하였음.\n",
        "\n",
        "df['Weekday'] = list(map(get_weekday, df.Date))"
      ],
      "metadata": {
        "id": "c-4Uq86GLX1o"
      },
      "execution_count": null,
      "outputs": []
    },
    {
      "cell_type": "code",
      "source": [
        "df.tail(10)"
      ],
      "metadata": {
        "colab": {
          "base_uri": "https://localhost:8080/",
          "height": 600
        },
        "id": "VagH08DbNBQN",
        "outputId": "68b0dbcf-6973-4285-e500-17d4bd3b5af2"
      },
      "execution_count": null,
      "outputs": [
        {
          "output_type": "execute_result",
          "data": {
            "text/plain": [
              "          Date  Cases_Inc  Deaths_Inc     Cases  Deaths  Cases_RelChange  \\\n",
              "827 2022-04-28     1321.0         0.0  103220.0    50.0         0.012964   \n",
              "828 2022-04-29        0.0         0.0  103220.0    50.0         0.000000   \n",
              "829 2022-04-30     1721.0         1.0  104941.0    51.0         0.016673   \n",
              "830 2022-05-01      798.0         1.0  105739.0    52.0         0.007604   \n",
              "831 2022-05-02      966.0         1.0  106705.0    53.0         0.009136   \n",
              "832 2022-05-03     1064.0         1.0  107769.0    54.0         0.009971   \n",
              "833 2022-05-04     1061.0         0.0  108830.0    54.0         0.009845   \n",
              "834 2022-05-05     1049.0         1.0  109879.0    55.0         0.009639   \n",
              "835 2022-05-06      967.0         0.0  110846.0    55.0         0.008801   \n",
              "836 2022-05-07      753.0         0.0  111599.0    55.0         0.006793   \n",
              "\n",
              "     Deaths_RelChange       CFR Weekday  \n",
              "827          0.000000  0.000484     Thu  \n",
              "828          0.000000  0.000484     Fri  \n",
              "829          0.020000  0.000486     Sat  \n",
              "830          0.019608  0.000492     Sun  \n",
              "831          0.019231  0.000497     Mon  \n",
              "832          0.018868  0.000501     Tue  \n",
              "833          0.000000  0.000496     Wed  \n",
              "834          0.018519  0.000501     Thu  \n",
              "835          0.000000  0.000496     Fri  \n",
              "836          0.000000  0.000493     Sat  "
            ],
            "text/html": [
              "\n",
              "  <div id=\"df-a8f3a01d-169f-4ea6-803f-feeed3866e44\">\n",
              "    <div class=\"colab-df-container\">\n",
              "      <div>\n",
              "<style scoped>\n",
              "    .dataframe tbody tr th:only-of-type {\n",
              "        vertical-align: middle;\n",
              "    }\n",
              "\n",
              "    .dataframe tbody tr th {\n",
              "        vertical-align: top;\n",
              "    }\n",
              "\n",
              "    .dataframe thead th {\n",
              "        text-align: right;\n",
              "    }\n",
              "</style>\n",
              "<table border=\"1\" class=\"dataframe\">\n",
              "  <thead>\n",
              "    <tr style=\"text-align: right;\">\n",
              "      <th></th>\n",
              "      <th>Date</th>\n",
              "      <th>Cases_Inc</th>\n",
              "      <th>Deaths_Inc</th>\n",
              "      <th>Cases</th>\n",
              "      <th>Deaths</th>\n",
              "      <th>Cases_RelChange</th>\n",
              "      <th>Deaths_RelChange</th>\n",
              "      <th>CFR</th>\n",
              "      <th>Weekday</th>\n",
              "    </tr>\n",
              "  </thead>\n",
              "  <tbody>\n",
              "    <tr>\n",
              "      <th>827</th>\n",
              "      <td>2022-04-28</td>\n",
              "      <td>1321.0</td>\n",
              "      <td>0.0</td>\n",
              "      <td>103220.0</td>\n",
              "      <td>50.0</td>\n",
              "      <td>0.012964</td>\n",
              "      <td>0.000000</td>\n",
              "      <td>0.000484</td>\n",
              "      <td>Thu</td>\n",
              "    </tr>\n",
              "    <tr>\n",
              "      <th>828</th>\n",
              "      <td>2022-04-29</td>\n",
              "      <td>0.0</td>\n",
              "      <td>0.0</td>\n",
              "      <td>103220.0</td>\n",
              "      <td>50.0</td>\n",
              "      <td>0.000000</td>\n",
              "      <td>0.000000</td>\n",
              "      <td>0.000484</td>\n",
              "      <td>Fri</td>\n",
              "    </tr>\n",
              "    <tr>\n",
              "      <th>829</th>\n",
              "      <td>2022-04-30</td>\n",
              "      <td>1721.0</td>\n",
              "      <td>1.0</td>\n",
              "      <td>104941.0</td>\n",
              "      <td>51.0</td>\n",
              "      <td>0.016673</td>\n",
              "      <td>0.020000</td>\n",
              "      <td>0.000486</td>\n",
              "      <td>Sat</td>\n",
              "    </tr>\n",
              "    <tr>\n",
              "      <th>830</th>\n",
              "      <td>2022-05-01</td>\n",
              "      <td>798.0</td>\n",
              "      <td>1.0</td>\n",
              "      <td>105739.0</td>\n",
              "      <td>52.0</td>\n",
              "      <td>0.007604</td>\n",
              "      <td>0.019608</td>\n",
              "      <td>0.000492</td>\n",
              "      <td>Sun</td>\n",
              "    </tr>\n",
              "    <tr>\n",
              "      <th>831</th>\n",
              "      <td>2022-05-02</td>\n",
              "      <td>966.0</td>\n",
              "      <td>1.0</td>\n",
              "      <td>106705.0</td>\n",
              "      <td>53.0</td>\n",
              "      <td>0.009136</td>\n",
              "      <td>0.019231</td>\n",
              "      <td>0.000497</td>\n",
              "      <td>Mon</td>\n",
              "    </tr>\n",
              "    <tr>\n",
              "      <th>832</th>\n",
              "      <td>2022-05-03</td>\n",
              "      <td>1064.0</td>\n",
              "      <td>1.0</td>\n",
              "      <td>107769.0</td>\n",
              "      <td>54.0</td>\n",
              "      <td>0.009971</td>\n",
              "      <td>0.018868</td>\n",
              "      <td>0.000501</td>\n",
              "      <td>Tue</td>\n",
              "    </tr>\n",
              "    <tr>\n",
              "      <th>833</th>\n",
              "      <td>2022-05-04</td>\n",
              "      <td>1061.0</td>\n",
              "      <td>0.0</td>\n",
              "      <td>108830.0</td>\n",
              "      <td>54.0</td>\n",
              "      <td>0.009845</td>\n",
              "      <td>0.000000</td>\n",
              "      <td>0.000496</td>\n",
              "      <td>Wed</td>\n",
              "    </tr>\n",
              "    <tr>\n",
              "      <th>834</th>\n",
              "      <td>2022-05-05</td>\n",
              "      <td>1049.0</td>\n",
              "      <td>1.0</td>\n",
              "      <td>109879.0</td>\n",
              "      <td>55.0</td>\n",
              "      <td>0.009639</td>\n",
              "      <td>0.018519</td>\n",
              "      <td>0.000501</td>\n",
              "      <td>Thu</td>\n",
              "    </tr>\n",
              "    <tr>\n",
              "      <th>835</th>\n",
              "      <td>2022-05-06</td>\n",
              "      <td>967.0</td>\n",
              "      <td>0.0</td>\n",
              "      <td>110846.0</td>\n",
              "      <td>55.0</td>\n",
              "      <td>0.008801</td>\n",
              "      <td>0.000000</td>\n",
              "      <td>0.000496</td>\n",
              "      <td>Fri</td>\n",
              "    </tr>\n",
              "    <tr>\n",
              "      <th>836</th>\n",
              "      <td>2022-05-07</td>\n",
              "      <td>753.0</td>\n",
              "      <td>0.0</td>\n",
              "      <td>111599.0</td>\n",
              "      <td>55.0</td>\n",
              "      <td>0.006793</td>\n",
              "      <td>0.000000</td>\n",
              "      <td>0.000493</td>\n",
              "      <td>Sat</td>\n",
              "    </tr>\n",
              "  </tbody>\n",
              "</table>\n",
              "</div>\n",
              "      <button class=\"colab-df-convert\" onclick=\"convertToInteractive('df-a8f3a01d-169f-4ea6-803f-feeed3866e44')\"\n",
              "              title=\"Convert this dataframe to an interactive table.\"\n",
              "              style=\"display:none;\">\n",
              "        \n",
              "  <svg xmlns=\"http://www.w3.org/2000/svg\" height=\"24px\"viewBox=\"0 0 24 24\"\n",
              "       width=\"24px\">\n",
              "    <path d=\"M0 0h24v24H0V0z\" fill=\"none\"/>\n",
              "    <path d=\"M18.56 5.44l.94 2.06.94-2.06 2.06-.94-2.06-.94-.94-2.06-.94 2.06-2.06.94zm-11 1L8.5 8.5l.94-2.06 2.06-.94-2.06-.94L8.5 2.5l-.94 2.06-2.06.94zm10 10l.94 2.06.94-2.06 2.06-.94-2.06-.94-.94-2.06-.94 2.06-2.06.94z\"/><path d=\"M17.41 7.96l-1.37-1.37c-.4-.4-.92-.59-1.43-.59-.52 0-1.04.2-1.43.59L10.3 9.45l-7.72 7.72c-.78.78-.78 2.05 0 2.83L4 21.41c.39.39.9.59 1.41.59.51 0 1.02-.2 1.41-.59l7.78-7.78 2.81-2.81c.8-.78.8-2.07 0-2.86zM5.41 20L4 18.59l7.72-7.72 1.47 1.35L5.41 20z\"/>\n",
              "  </svg>\n",
              "      </button>\n",
              "      \n",
              "  <style>\n",
              "    .colab-df-container {\n",
              "      display:flex;\n",
              "      flex-wrap:wrap;\n",
              "      gap: 12px;\n",
              "    }\n",
              "\n",
              "    .colab-df-convert {\n",
              "      background-color: #E8F0FE;\n",
              "      border: none;\n",
              "      border-radius: 50%;\n",
              "      cursor: pointer;\n",
              "      display: none;\n",
              "      fill: #1967D2;\n",
              "      height: 32px;\n",
              "      padding: 0 0 0 0;\n",
              "      width: 32px;\n",
              "    }\n",
              "\n",
              "    .colab-df-convert:hover {\n",
              "      background-color: #E2EBFA;\n",
              "      box-shadow: 0px 1px 2px rgba(60, 64, 67, 0.3), 0px 1px 3px 1px rgba(60, 64, 67, 0.15);\n",
              "      fill: #174EA6;\n",
              "    }\n",
              "\n",
              "    [theme=dark] .colab-df-convert {\n",
              "      background-color: #3B4455;\n",
              "      fill: #D2E3FC;\n",
              "    }\n",
              "\n",
              "    [theme=dark] .colab-df-convert:hover {\n",
              "      background-color: #434B5C;\n",
              "      box-shadow: 0px 1px 3px 1px rgba(0, 0, 0, 0.15);\n",
              "      filter: drop-shadow(0px 1px 2px rgba(0, 0, 0, 0.3));\n",
              "      fill: #FFFFFF;\n",
              "    }\n",
              "  </style>\n",
              "\n",
              "      <script>\n",
              "        const buttonEl =\n",
              "          document.querySelector('#df-a8f3a01d-169f-4ea6-803f-feeed3866e44 button.colab-df-convert');\n",
              "        buttonEl.style.display =\n",
              "          google.colab.kernel.accessAllowed ? 'block' : 'none';\n",
              "\n",
              "        async function convertToInteractive(key) {\n",
              "          const element = document.querySelector('#df-a8f3a01d-169f-4ea6-803f-feeed3866e44');\n",
              "          const dataTable =\n",
              "            await google.colab.kernel.invokeFunction('convertToInteractive',\n",
              "                                                     [key], {});\n",
              "          if (!dataTable) return;\n",
              "\n",
              "          const docLinkHtml = 'Like what you see? Visit the ' +\n",
              "            '<a target=\"_blank\" href=https://colab.research.google.com/notebooks/data_table.ipynb>data table notebook</a>'\n",
              "            + ' to learn more about interactive tables.';\n",
              "          element.innerHTML = '';\n",
              "          dataTable['output_type'] = 'display_data';\n",
              "          await google.colab.output.renderOutput(dataTable, element);\n",
              "          const docLink = document.createElement('div');\n",
              "          docLink.innerHTML = docLinkHtml;\n",
              "          element.appendChild(docLink);\n",
              "        }\n",
              "      </script>\n",
              "    </div>\n",
              "  </div>\n",
              "  "
            ]
          },
          "metadata": {},
          "execution_count": 44
        }
      ]
    },
    {
      "cell_type": "code",
      "source": [
        "fig, ax = plt.subplots(figsize=(12,10))\n",
        "ax.plot(df.Date, df.Cases, color='darkgreen') #cases\n",
        "plt.title('Cases - ' + country_select)\n",
        "plt.grid()\n",
        "plt.show()"
      ],
      "metadata": {
        "colab": {
          "base_uri": "https://localhost:8080/",
          "height": 607
        },
        "id": "WAskG8VUNGCs",
        "outputId": "f9653a5b-66d0-4635-c112-18725ba03bf8"
      },
      "execution_count": null,
      "outputs": [
        {
          "output_type": "display_data",
          "data": {
            "text/plain": [
              "<Figure size 864x720 with 1 Axes>"
            ],
            "image/png": "[encoded data removed]"
          },
          "metadata": {
            "needs_background": "light"
          }
        }
      ]
    },
    {
      "cell_type": "code",
      "source": [
        "fig, ax = plt.subplots(figsize=(12,10))\n",
        "ax.scatter(df.Date, df.Cases_Inc, color='darkgreen') #cases_inc\n",
        "plt.title('Cases Incremental - ' + country_select)\n",
        "plt.xlabel('Date')\n",
        "plt.ylabel('Count')\n",
        "plt.grid()\n",
        "plt.show()"
      ],
      "metadata": {
        "colab": {
          "base_uri": "https://localhost:8080/",
          "height": 621
        },
        "id": "qIu4wsGvNpSs",
        "outputId": "e1d4da75-b49b-4bc0-9236-416eb45bb9ce"
      },
      "execution_count": null,
      "outputs": [
        {
          "output_type": "display_data",
          "data": {
            "text/plain": [
              "<Figure size 864x720 with 1 Axes>"
            ],
            "image/png": "[encoded data removed]"
          },
          "metadata": {
            "needs_background": "light"
          }
        }
      ]
    },
    {
      "cell_type": "markdown",
      "source": [
        "- 2021년10월부터 갑자기 급등함."
      ],
      "metadata": {
        "id": "GEGpyujdNsj8"
      }
    },
    {
      "cell_type": "code",
      "source": [
        "#최근 7일간만 계산\n",
        "mean_inc_7 = np.round(df.Cases_Inc[n-7:n].mean(),2)\n",
        "fig, ax = plt.subplots(figsize=(12,10))\n",
        "ax.scatter(df.Date[n-7:n], df.Cases_Inc[n-7:n], color='darkgreen')\n",
        "plt.hlines(mean_inc_7, xmin=df.Date[n-6], xmax=df.Date[n], \n",
        "           color='darkgreen', linestyles='dashed')\n",
        "plt.title('Cases Incremental (last 7 days only) [mean = ' + str(mean_inc_7) + '] - ' + country_select)\n",
        "plt.xlabel('Date')\n",
        "plt.ylabel('Count')\n",
        "plt.grid()\n",
        "plt.show()"
      ],
      "metadata": {
        "colab": {
          "base_uri": "https://localhost:8080/",
          "height": 621
        },
        "id": "MGxWhA0HOYbC",
        "outputId": "bf2da791-547d-42e7-ea10-1c826a06e593"
      },
      "execution_count": null,
      "outputs": [
        {
          "output_type": "display_data",
          "data": {
            "text/plain": [
              "<Figure size 864x720 with 1 Axes>"
            ],
            "image/png": "[encoded data removed]"
          },
          "metadata": {
            "needs_background": "light"
          }
        }
      ]
    },
    {
      "cell_type": "markdown",
      "source": [
        "- 평균적으로 1100정도 발생"
      ],
      "metadata": {
        "id": "siNJYk1COZ-Z"
      }
    },
    {
      "cell_type": "markdown",
      "source": [
        "- ylim(ymin,ymax):입력값에 맞게 데이터 자동 범위 지정(zoom in/out 효과를 줄 수 있음.)"
      ],
      "metadata": {
        "id": "bpEkwBFhTOGM"
      }
    },
    {
      "cell_type": "code",
      "source": [
        "fig, ax = plt.subplots(figsize=(12,10))\n",
        "ax.scatter(df.Date, df.Cases_RelChange, color='darkgreen')\n",
        "plt.title('Cases Relative Change - ' + country_select)\n",
        "plt.ylim(0,0.1)\n",
        "plt.xlabel('Date')\n",
        "plt.ylabel('Relative Change')\n",
        "plt.grid()\n",
        "plt.show()"
      ],
      "metadata": {
        "colab": {
          "base_uri": "https://localhost:8080/",
          "height": 621
        },
        "id": "drgJsiUfRZuQ",
        "outputId": "e67a7697-39ff-4df7-e896-db76764a0c80"
      },
      "execution_count": null,
      "outputs": [
        {
          "output_type": "display_data",
          "data": {
            "text/plain": [
              "<Figure size 864x720 with 1 Axes>"
            ],
            "image/png": "[encoded data removed]"
          },
          "metadata": {
            "needs_background": "light"
          }
        }
      ]
    },
    {
      "cell_type": "markdown",
      "source": [
        "# 날짜별 cases increase imapct비교"
      ],
      "metadata": {
        "id": "mmv5QepFT8fY"
      }
    },
    {
      "cell_type": "code",
      "source": [
        "df.isnull().sum()"
      ],
      "metadata": {
        "colab": {
          "base_uri": "https://localhost:8080/"
        },
        "id": "LVDy7wbvV4PU",
        "outputId": "417c759b-32b3-4450-c047-cdc296c8e2fe"
      },
      "execution_count": null,
      "outputs": [
        {
          "output_type": "execute_result",
          "data": {
            "text/plain": [
              "Date                 0\n",
              "Cases_Inc            0\n",
              "Deaths_Inc           0\n",
              "Cases                0\n",
              "Deaths               0\n",
              "Cases_RelChange     50\n",
              "Deaths_RelChange    67\n",
              "CFR                 50\n",
              "Weekday              0\n",
              "Cases_Diff7          7\n",
              "dtype: int64"
            ]
          },
          "metadata": {},
          "execution_count": 58
        }
      ]
    },
    {
      "cell_type": "code",
      "source": [
        "# evaluate impact of weekday\n",
        "fig, ax = plt.subplots(figsize=(12,10))\n",
        "sns.violinplot(x='Weekday', y='Cases_Inc', data=df)\n",
        "plt.grid()\n",
        "plt.show()"
      ],
      "metadata": {
        "colab": {
          "base_uri": "https://localhost:8080/",
          "height": 606
        },
        "id": "NNrzoCVjSesV",
        "outputId": "145aef2a-4d54-435b-8528-840f70e98824"
      },
      "execution_count": null,
      "outputs": [
        {
          "output_type": "display_data",
          "data": {
            "text/plain": [
              "<Figure size 864x720 with 1 Axes>"
            ],
            "image/png": "[encoded data removed]"
          },
          "metadata": {
            "needs_background": "light"
          }
        }
      ]
    },
    {
      "cell_type": "markdown",
      "source": [
        "-화요일에 가장 많은 증가량 감소량을 보인다."
      ],
      "metadata": {
        "id": "blVuSWu2UJAk"
      }
    },
    {
      "cell_type": "code",
      "source": [
        "psx =12\n",
        "psy =10"
      ],
      "metadata": {
        "id": "LyKCHvwbVrMQ"
      },
      "execution_count": null,
      "outputs": []
    },
    {
      "cell_type": "markdown",
      "source": [
        "- 주간 평균 계산"
      ],
      "metadata": {
        "id": "lt7PRpe9XOQ7"
      }
    },
    {
      "cell_type": "code",
      "source": [
        "df_means = df.groupby('Weekday', as_index=False).agg(\n",
        "    mean_cases_inc = pd.NamedAgg(column='Cases_Inc', aggfunc=np.mean),\n",
        "    median_cases_inc = pd.NamedAgg(column='Cases_Inc', aggfunc=np.median))"
      ],
      "metadata": {
        "id": "JSwmn8TDVmz0"
      },
      "execution_count": null,
      "outputs": []
    },
    {
      "cell_type": "markdown",
      "source": [
        "- 전체 평균 계산"
      ],
      "metadata": {
        "id": "k3-rEXd1XVMM"
      }
    },
    {
      "cell_type": "code",
      "source": [
        "cases_inc_overall_mean = df.Cases_Inc.mean()\n",
        "print('Incremental Cases - overall average: ', np.round(cases_inc_overall_mean,2))\n",
        "\n",
        "df_means['Factor_to_overall_mean'] = cases_inc_overall_mean / df_means.mean_cases_inc\n",
        "df_means"
      ],
      "metadata": {
        "colab": {
          "base_uri": "https://localhost:8080/",
          "height": 287
        },
        "id": "BB5el7NbXTAh",
        "outputId": "46be34eb-cedc-408b-d4ea-7a5bc3a9fc8a"
      },
      "execution_count": null,
      "outputs": [
        {
          "output_type": "stream",
          "name": "stdout",
          "text": [
            "Incremental Cases - overall average:  133.49\n"
          ]
        },
        {
          "output_type": "execute_result",
          "data": {
            "text/plain": [
              "  Weekday  mean_cases_inc  median_cases_inc  Factor_to_overall_mean\n",
              "0     Fri      113.891667               0.0                1.172093\n",
              "1     Mon      101.025210               0.0                1.321369\n",
              "2     Sat      138.133333               0.0                0.966397\n",
              "3     Sun      103.857143               0.0                1.285339\n",
              "4     Thu      147.658333               0.0                0.904058\n",
              "5     Tue      190.873950               0.0                0.699371\n",
              "6     Wed      139.008403               0.0                0.960313"
            ],
            "text/html": [
              "\n",
              "  <div id=\"df-856938a0-d411-4107-acb7-b5bb70ed13bd\">\n",
              "    <div class=\"colab-df-container\">\n",
              "      <div>\n",
              "<style scoped>\n",
              "    .dataframe tbody tr th:only-of-type {\n",
              "        vertical-align: middle;\n",
              "    }\n",
              "\n",
              "    .dataframe tbody tr th {\n",
              "        vertical-align: top;\n",
              "    }\n",
              "\n",
              "    .dataframe thead th {\n",
              "        text-align: right;\n",
              "    }\n",
              "</style>\n",
              "<table border=\"1\" class=\"dataframe\">\n",
              "  <thead>\n",
              "    <tr style=\"text-align: right;\">\n",
              "      <th></th>\n",
              "      <th>Weekday</th>\n",
              "      <th>mean_cases_inc</th>\n",
              "      <th>median_cases_inc</th>\n",
              "      <th>Factor_to_overall_mean</th>\n",
              "    </tr>\n",
              "  </thead>\n",
              "  <tbody>\n",
              "    <tr>\n",
              "      <th>0</th>\n",
              "      <td>Fri</td>\n",
              "      <td>113.891667</td>\n",
              "      <td>0.0</td>\n",
              "      <td>1.172093</td>\n",
              "    </tr>\n",
              "    <tr>\n",
              "      <th>1</th>\n",
              "      <td>Mon</td>\n",
              "      <td>101.025210</td>\n",
              "      <td>0.0</td>\n",
              "      <td>1.321369</td>\n",
              "    </tr>\n",
              "    <tr>\n",
              "      <th>2</th>\n",
              "      <td>Sat</td>\n",
              "      <td>138.133333</td>\n",
              "      <td>0.0</td>\n",
              "      <td>0.966397</td>\n",
              "    </tr>\n",
              "    <tr>\n",
              "      <th>3</th>\n",
              "      <td>Sun</td>\n",
              "      <td>103.857143</td>\n",
              "      <td>0.0</td>\n",
              "      <td>1.285339</td>\n",
              "    </tr>\n",
              "    <tr>\n",
              "      <th>4</th>\n",
              "      <td>Thu</td>\n",
              "      <td>147.658333</td>\n",
              "      <td>0.0</td>\n",
              "      <td>0.904058</td>\n",
              "    </tr>\n",
              "    <tr>\n",
              "      <th>5</th>\n",
              "      <td>Tue</td>\n",
              "      <td>190.873950</td>\n",
              "      <td>0.0</td>\n",
              "      <td>0.699371</td>\n",
              "    </tr>\n",
              "    <tr>\n",
              "      <th>6</th>\n",
              "      <td>Wed</td>\n",
              "      <td>139.008403</td>\n",
              "      <td>0.0</td>\n",
              "      <td>0.960313</td>\n",
              "    </tr>\n",
              "  </tbody>\n",
              "</table>\n",
              "</div>\n",
              "      <button class=\"colab-df-convert\" onclick=\"convertToInteractive('df-856938a0-d411-4107-acb7-b5bb70ed13bd')\"\n",
              "              title=\"Convert this dataframe to an interactive table.\"\n",
              "              style=\"display:none;\">\n",
              "        \n",
              "  <svg xmlns=\"http://www.w3.org/2000/svg\" height=\"24px\"viewBox=\"0 0 24 24\"\n",
              "       width=\"24px\">\n",
              "    <path d=\"M0 0h24v24H0V0z\" fill=\"none\"/>\n",
              "    <path d=\"M18.56 5.44l.94 2.06.94-2.06 2.06-.94-2.06-.94-.94-2.06-.94 2.06-2.06.94zm-11 1L8.5 8.5l.94-2.06 2.06-.94-2.06-.94L8.5 2.5l-.94 2.06-2.06.94zm10 10l.94 2.06.94-2.06 2.06-.94-2.06-.94-.94-2.06-.94 2.06-2.06.94z\"/><path d=\"M17.41 7.96l-1.37-1.37c-.4-.4-.92-.59-1.43-.59-.52 0-1.04.2-1.43.59L10.3 9.45l-7.72 7.72c-.78.78-.78 2.05 0 2.83L4 21.41c.39.39.9.59 1.41.59.51 0 1.02-.2 1.41-.59l7.78-7.78 2.81-2.81c.8-.78.8-2.07 0-2.86zM5.41 20L4 18.59l7.72-7.72 1.47 1.35L5.41 20z\"/>\n",
              "  </svg>\n",
              "      </button>\n",
              "      \n",
              "  <style>\n",
              "    .colab-df-container {\n",
              "      display:flex;\n",
              "      flex-wrap:wrap;\n",
              "      gap: 12px;\n",
              "    }\n",
              "\n",
              "    .colab-df-convert {\n",
              "      background-color: #E8F0FE;\n",
              "      border: none;\n",
              "      border-radius: 50%;\n",
              "      cursor: pointer;\n",
              "      display: none;\n",
              "      fill: #1967D2;\n",
              "      height: 32px;\n",
              "      padding: 0 0 0 0;\n",
              "      width: 32px;\n",
              "    }\n",
              "\n",
              "    .colab-df-convert:hover {\n",
              "      background-color: #E2EBFA;\n",
              "      box-shadow: 0px 1px 2px rgba(60, 64, 67, 0.3), 0px 1px 3px 1px rgba(60, 64, 67, 0.15);\n",
              "      fill: #174EA6;\n",
              "    }\n",
              "\n",
              "    [theme=dark] .colab-df-convert {\n",
              "      background-color: #3B4455;\n",
              "      fill: #D2E3FC;\n",
              "    }\n",
              "\n",
              "    [theme=dark] .colab-df-convert:hover {\n",
              "      background-color: #434B5C;\n",
              "      box-shadow: 0px 1px 3px 1px rgba(0, 0, 0, 0.15);\n",
              "      filter: drop-shadow(0px 1px 2px rgba(0, 0, 0, 0.3));\n",
              "      fill: #FFFFFF;\n",
              "    }\n",
              "  </style>\n",
              "\n",
              "      <script>\n",
              "        const buttonEl =\n",
              "          document.querySelector('#df-856938a0-d411-4107-acb7-b5bb70ed13bd button.colab-df-convert');\n",
              "        buttonEl.style.display =\n",
              "          google.colab.kernel.accessAllowed ? 'block' : 'none';\n",
              "\n",
              "        async function convertToInteractive(key) {\n",
              "          const element = document.querySelector('#df-856938a0-d411-4107-acb7-b5bb70ed13bd');\n",
              "          const dataTable =\n",
              "            await google.colab.kernel.invokeFunction('convertToInteractive',\n",
              "                                                     [key], {});\n",
              "          if (!dataTable) return;\n",
              "\n",
              "          const docLinkHtml = 'Like what you see? Visit the ' +\n",
              "            '<a target=\"_blank\" href=https://colab.research.google.com/notebooks/data_table.ipynb>data table notebook</a>'\n",
              "            + ' to learn more about interactive tables.';\n",
              "          element.innerHTML = '';\n",
              "          dataTable['output_type'] = 'display_data';\n",
              "          await google.colab.output.renderOutput(dataTable, element);\n",
              "          const docLink = document.createElement('div');\n",
              "          docLink.innerHTML = docLinkHtml;\n",
              "          element.appendChild(docLink);\n",
              "        }\n",
              "      </script>\n",
              "    </div>\n",
              "  </div>\n",
              "  "
            ]
          },
          "metadata": {},
          "execution_count": 62
        }
      ]
    },
    {
      "cell_type": "markdown",
      "source": [
        "- death에 대해 알아보기"
      ],
      "metadata": {
        "id": "pVg66GIEXdJO"
      }
    },
    {
      "cell_type": "code",
      "source": [
        "fig, ax = plt.subplots(figsize=(psx,psy))\n",
        "ax.plot(df.Date, df.Deaths, color='darkred')\n",
        "plt.title('Deaths - ' + country_select)\n",
        "plt.xlabel('Date')\n",
        "plt.ylabel('Count')\n",
        "plt.grid()\n",
        "plt.show()"
      ],
      "metadata": {
        "colab": {
          "base_uri": "https://localhost:8080/",
          "height": 621
        },
        "id": "mmC0rEAjXXbU",
        "outputId": "f8be8143-6f64-4fe4-e86b-d95a547239de"
      },
      "execution_count": null,
      "outputs": [
        {
          "output_type": "display_data",
          "data": {
            "text/plain": [
              "<Figure size 864x720 with 1 Axes>"
            ],
            "image/png": "[encoded data removed]"
          },
          "metadata": {
            "needs_background": "light"
          }
        }
      ]
    },
    {
      "cell_type": "code",
      "source": [
        "fig, ax = plt.subplots(figsize=(psx,psy))\n",
        "ax.scatter(df.Date, df.Deaths_Inc, color='darkred')\n",
        "plt.title('Deaths Incremental - ' + country_select)\n",
        "plt.xlabel('Date')\n",
        "plt.ylabel('Count')\n",
        "plt.grid()\n",
        "plt.show()"
      ],
      "metadata": {
        "colab": {
          "base_uri": "https://localhost:8080/",
          "height": 621
        },
        "id": "8xscWwgdXjOL",
        "outputId": "3c9e8f17-9e55-4b1e-f449-f61d64ab842c"
      },
      "execution_count": null,
      "outputs": [
        {
          "output_type": "display_data",
          "data": {
            "text/plain": [
              "<Figure size 864x720 with 1 Axes>"
            ],
            "image/png": "[encoded data removed]"
          },
          "metadata": {
            "needs_background": "light"
          }
        }
      ]
    },
    {
      "cell_type": "code",
      "source": [
        "mean_deaths_inc_7 = np.round(df.Deaths_Inc[n-7:n].mean(),2)\n",
        "fig, ax = plt.subplots(figsize=(psx,psy))\n",
        "ax.scatter(df.Date[n-7:n], df.Deaths_Inc[n-7:n], color='darkred')\n",
        "plt.hlines(mean_deaths_inc_7, xmin=df.Date[n-6], xmax=df.Date[n], \n",
        "           color='darkred', linestyles='dashed')\n",
        "plt.title('Deaths Incremental (last 7 days only) [mean = ' + str(mean_deaths_inc_7) + '] - ' + country_select)\n",
        "plt.xlabel('Date')\n",
        "plt.ylabel('Count')\n",
        "plt.grid()\n",
        "plt.show()"
      ],
      "metadata": {
        "colab": {
          "base_uri": "https://localhost:8080/",
          "height": 621
        },
        "id": "kRfekM7IXmKm",
        "outputId": "0bbf7b01-5081-4fa4-f5f8-5599e5eeb586"
      },
      "execution_count": null,
      "outputs": [
        {
          "output_type": "display_data",
          "data": {
            "text/plain": [
              "<Figure size 864x720 with 1 Axes>"
            ],
            "image/png": "[encoded data removed]"
          },
          "metadata": {
            "needs_background": "light"
          }
        }
      ]
    },
    {
      "cell_type": "code",
      "source": [
        "fig, ax = plt.subplots(figsize=(psx,psy))\n",
        "ax.scatter(df.Date, df.Deaths_RelChange, color='darkred')\n",
        "plt.title('Deaths Relative Change - ' + country_select)\n",
        "plt.xlabel('Date')\n",
        "plt.ylim(0,0.1)\n",
        "plt.ylabel('Relative Change')\n",
        "plt.grid()\n",
        "plt.show()"
      ],
      "metadata": {
        "colab": {
          "base_uri": "https://localhost:8080/",
          "height": 621
        },
        "id": "8JFdxwllXoz6",
        "outputId": "74e3aef9-270f-468f-b3fe-23bb5006e6a6"
      },
      "execution_count": null,
      "outputs": [
        {
          "output_type": "display_data",
          "data": {
            "text/plain": [
              "<Figure size 864x720 with 1 Axes>"
            ],
            "image/png": "[encoded data removed]"
          },
          "metadata": {
            "needs_background": "light"
          }
        }
      ]
    },
    {
      "cell_type": "markdown",
      "source": [
        "- deaths/cases 비율보기"
      ],
      "metadata": {
        "id": "rllcNQtEYDn7"
      }
    },
    {
      "cell_type": "code",
      "source": [
        "fig, ax = plt.subplots(figsize=(psx,psy))\n",
        "ax.scatter(df.Date, df.CFR)\n",
        "plt.title('Case Fatality Rate - ' + country_select)\n",
        "plt.xlabel('Date')\n",
        "plt.ylabel('Case Fatality Rate')\n",
        "plt.grid()\n",
        "plt.show()"
      ],
      "metadata": {
        "colab": {
          "base_uri": "https://localhost:8080/",
          "height": 621
        },
        "id": "X5qSvqq7Xwdy",
        "outputId": "cd86e311-15ae-43ce-ca02-5b6707d5ad30"
      },
      "execution_count": null,
      "outputs": [
        {
          "output_type": "display_data",
          "data": {
            "text/plain": [
              "<Figure size 864x720 with 1 Axes>"
            ],
            "image/png": "[encoded data removed]"
          },
          "metadata": {
            "needs_background": "light"
          }
        }
      ]
    },
    {
      "cell_type": "code",
      "source": [
        "fig, ax = plt.subplots(figsize=(psx,psy))\n",
        "ax.scatter(df.Cases, df.Cases_Inc)\n",
        "plt.title('Incremental Cases vs Cases - ' + country_select)\n",
        "plt.xlabel('Cases')\n",
        "plt.ylabel('Incremental Cases')\n",
        "plt.grid()\n",
        "plt.show()"
      ],
      "metadata": {
        "colab": {
          "base_uri": "https://localhost:8080/",
          "height": 621
        },
        "id": "EkeLohfRYCRZ",
        "outputId": "b2042a9a-a475-4227-da98-41f6549c4e10"
      },
      "execution_count": null,
      "outputs": [
        {
          "output_type": "display_data",
          "data": {
            "text/plain": [
              "<Figure size 864x720 with 1 Axes>"
            ],
            "image/png": "[encoded data removed]"
          },
          "metadata": {
            "needs_background": "light"
          }
        }
      ]
    },
    {
      "cell_type": "markdown",
      "source": [
        "- covid VS deaths\n",
        "- 코로나 비율이 많아질수록 사망자수도 많아진다."
      ],
      "metadata": {
        "id": "G7LTRhJIYbir"
      }
    },
    {
      "cell_type": "code",
      "source": [
        "fig, ax = plt.subplots(figsize=(psx,psy))\n",
        "ax.scatter(df.Cases, df.Deaths)\n",
        "plt.title('Deaths vs Cases - ' + country_select)\n",
        "plt.xlabel('Cases')\n",
        "plt.ylabel('Deaths')\n",
        "plt.grid()\n",
        "plt.show()"
      ],
      "metadata": {
        "colab": {
          "base_uri": "https://localhost:8080/",
          "height": 621
        },
        "id": "dz_3nhqXYRqI",
        "outputId": "97b76a15-9d4d-4138-90ef-7054068cd897"
      },
      "execution_count": null,
      "outputs": [
        {
          "output_type": "display_data",
          "data": {
            "text/plain": [
              "<Figure size 864x720 with 1 Axes>"
            ],
            "image/png": "[encoded data removed]"
          },
          "metadata": {
            "needs_background": "light"
          }
        }
      ]
    },
    {
      "cell_type": "markdown",
      "source": [
        "- covid_Inc VS deaths_Inc\n",
        "- 코로나 비율이 많아질수록 사망자수도 많아진다."
      ],
      "metadata": {
        "id": "nDaUTwNJZEnw"
      }
    },
    {
      "cell_type": "code",
      "source": [
        "fig, ax = plt.subplots(figsize=(psx,psy))\n",
        "ax.scatter(df.Cases, df.Deaths)\n",
        "plt.title('Deaths vs Cases - ' + country_select)\n",
        "plt.xlabel('Cases_Inc')\n",
        "plt.ylabel('Deaths_Inc')\n",
        "plt.grid()\n",
        "plt.show()"
      ],
      "metadata": {
        "colab": {
          "base_uri": "https://localhost:8080/",
          "height": 622
        },
        "id": "Mx1LG_LKZFiU",
        "outputId": "52b561fd-a91e-4ee9-a64c-c9cc7fb046e0"
      },
      "execution_count": null,
      "outputs": [
        {
          "output_type": "display_data",
          "data": {
            "text/plain": [
              "<Figure size 864x720 with 1 Axes>"
            ],
            "image/png": "[encoded data removed]"
          },
          "metadata": {
            "needs_background": "light"
          }
        }
      ]
    },
    {
      "cell_type": "markdown",
      "source": [
        "- 다른나라와 비교하자\n",
        "- 비교할 나라는 Korea, South"
      ],
      "metadata": {
        "id": "0xXvqaTGZYb0"
      }
    },
    {
      "cell_type": "code",
      "source": [
        "country_compare = 'Korea, South'"
      ],
      "metadata": {
        "id": "c6fpo25aZR6F"
      },
      "execution_count": null,
      "outputs": []
    },
    {
      "cell_type": "code",
      "source": [
        "# build corresponding data frame\n",
        "df_comp = pd.DataFrame()\n",
        "df_comp['Date'] = pd.to_datetime(g_cases['Country/Region'])\n",
        "df_comp['Cases_Inc'] = pd.to_numeric(g_cases[country_compare])\n",
        "df_comp['Deaths_Inc'] = pd.to_numeric(g_deaths[country_compare])\n",
        "# aggregation (values are incremental)\n",
        "df_comp['Cases'] = df_comp['Cases_Inc'].cumsum()\n",
        "df_comp['Deaths'] = df_comp['Deaths_Inc'].cumsum()\n",
        "\n",
        "# calc additional features\n",
        "df_comp['CFR'] = df_comp.Deaths / df_comp.Cases # case fatality rate\n",
        "df_comp['Cases_RelChange'] = df_comp['Cases'].pct_change() # day to day relative change\n",
        "df_comp['Deaths_RelChange'] = df_comp['Deaths'].pct_change() # day to day relative change"
      ],
      "metadata": {
        "id": "7Bog0siaaQcH"
      },
      "execution_count": null,
      "outputs": []
    },
    {
      "cell_type": "code",
      "source": [
        "df_comp.tail(7)"
      ],
      "metadata": {
        "colab": {
          "base_uri": "https://localhost:8080/",
          "height": 454
        },
        "id": "oPfkGtqHaS8B",
        "outputId": "c78855fa-c75e-482f-ff9f-567ced31ba4d"
      },
      "execution_count": null,
      "outputs": [
        {
          "output_type": "execute_result",
          "data": {
            "text/plain": [
              "          Date  Cases_Inc  Deaths_Inc       Cases   Deaths       CFR  \\\n",
              "830 2022-05-01    20084.0        83.0  17295732.0  22958.0  0.001327   \n",
              "831 2022-05-02    51020.0        49.0  17346752.0  23007.0  0.001326   \n",
              "832 2022-05-03    49038.0        72.0  17395790.0  23079.0  0.001327   \n",
              "833 2022-05-04    42277.0        79.0  17438067.0  23158.0  0.001328   \n",
              "834 2022-05-05    26714.0        48.0  17464781.0  23206.0  0.001329   \n",
              "835 2022-05-06    39552.0        83.0  17504333.0  23289.0  0.001330   \n",
              "836 2022-05-07    40064.0        71.0  17544397.0  23360.0  0.001331   \n",
              "\n",
              "     Cases_RelChange  Deaths_RelChange  \n",
              "830         0.001163          0.003628  \n",
              "831         0.002950          0.002134  \n",
              "832         0.002827          0.003129  \n",
              "833         0.002430          0.003423  \n",
              "834         0.001532          0.002073  \n",
              "835         0.002265          0.003577  \n",
              "836         0.002289          0.003049  "
            ],
            "text/html": [
              "\n",
              "  <div id=\"df-66a2ff0e-294c-4619-b038-38b236801b9c\">\n",
              "    <div class=\"colab-df-container\">\n",
              "      <div>\n",
              "<style scoped>\n",
              "    .dataframe tbody tr th:only-of-type {\n",
              "        vertical-align: middle;\n",
              "    }\n",
              "\n",
              "    .dataframe tbody tr th {\n",
              "        vertical-align: top;\n",
              "    }\n",
              "\n",
              "    .dataframe thead th {\n",
              "        text-align: right;\n",
              "    }\n",
              "</style>\n",
              "<table border=\"1\" class=\"dataframe\">\n",
              "  <thead>\n",
              "    <tr style=\"text-align: right;\">\n",
              "      <th></th>\n",
              "      <th>Date</th>\n",
              "      <th>Cases_Inc</th>\n",
              "      <th>Deaths_Inc</th>\n",
              "      <th>Cases</th>\n",
              "      <th>Deaths</th>\n",
              "      <th>CFR</th>\n",
              "      <th>Cases_RelChange</th>\n",
              "      <th>Deaths_RelChange</th>\n",
              "    </tr>\n",
              "  </thead>\n",
              "  <tbody>\n",
              "    <tr>\n",
              "      <th>830</th>\n",
              "      <td>2022-05-01</td>\n",
              "      <td>20084.0</td>\n",
              "      <td>83.0</td>\n",
              "      <td>17295732.0</td>\n",
              "      <td>22958.0</td>\n",
              "      <td>0.001327</td>\n",
              "      <td>0.001163</td>\n",
              "      <td>0.003628</td>\n",
              "    </tr>\n",
              "    <tr>\n",
              "      <th>831</th>\n",
              "      <td>2022-05-02</td>\n",
              "      <td>51020.0</td>\n",
              "      <td>49.0</td>\n",
              "      <td>17346752.0</td>\n",
              "      <td>23007.0</td>\n",
              "      <td>0.001326</td>\n",
              "      <td>0.002950</td>\n",
              "      <td>0.002134</td>\n",
              "    </tr>\n",
              "    <tr>\n",
              "      <th>832</th>\n",
              "      <td>2022-05-03</td>\n",
              "      <td>49038.0</td>\n",
              "      <td>72.0</td>\n",
              "      <td>17395790.0</td>\n",
              "      <td>23079.0</td>\n",
              "      <td>0.001327</td>\n",
              "      <td>0.002827</td>\n",
              "      <td>0.003129</td>\n",
              "    </tr>\n",
              "    <tr>\n",
              "      <th>833</th>\n",
              "      <td>2022-05-04</td>\n",
              "      <td>42277.0</td>\n",
              "      <td>79.0</td>\n",
              "      <td>17438067.0</td>\n",
              "      <td>23158.0</td>\n",
              "      <td>0.001328</td>\n",
              "      <td>0.002430</td>\n",
              "      <td>0.003423</td>\n",
              "    </tr>\n",
              "    <tr>\n",
              "      <th>834</th>\n",
              "      <td>2022-05-05</td>\n",
              "      <td>26714.0</td>\n",
              "      <td>48.0</td>\n",
              "      <td>17464781.0</td>\n",
              "      <td>23206.0</td>\n",
              "      <td>0.001329</td>\n",
              "      <td>0.001532</td>\n",
              "      <td>0.002073</td>\n",
              "    </tr>\n",
              "    <tr>\n",
              "      <th>835</th>\n",
              "      <td>2022-05-06</td>\n",
              "      <td>39552.0</td>\n",
              "      <td>83.0</td>\n",
              "      <td>17504333.0</td>\n",
              "      <td>23289.0</td>\n",
              "      <td>0.001330</td>\n",
              "      <td>0.002265</td>\n",
              "      <td>0.003577</td>\n",
              "    </tr>\n",
              "    <tr>\n",
              "      <th>836</th>\n",
              "      <td>2022-05-07</td>\n",
              "      <td>40064.0</td>\n",
              "      <td>71.0</td>\n",
              "      <td>17544397.0</td>\n",
              "      <td>23360.0</td>\n",
              "      <td>0.001331</td>\n",
              "      <td>0.002289</td>\n",
              "      <td>0.003049</td>\n",
              "    </tr>\n",
              "  </tbody>\n",
              "</table>\n",
              "</div>\n",
              "      <button class=\"colab-df-convert\" onclick=\"convertToInteractive('df-66a2ff0e-294c-4619-b038-38b236801b9c')\"\n",
              "              title=\"Convert this dataframe to an interactive table.\"\n",
              "              style=\"display:none;\">\n",
              "        \n",
              "  <svg xmlns=\"http://www.w3.org/2000/svg\" height=\"24px\"viewBox=\"0 0 24 24\"\n",
              "       width=\"24px\">\n",
              "    <path d=\"M0 0h24v24H0V0z\" fill=\"none\"/>\n",
              "    <path d=\"M18.56 5.44l.94 2.06.94-2.06 2.06-.94-2.06-.94-.94-2.06-.94 2.06-2.06.94zm-11 1L8.5 8.5l.94-2.06 2.06-.94-2.06-.94L8.5 2.5l-.94 2.06-2.06.94zm10 10l.94 2.06.94-2.06 2.06-.94-2.06-.94-.94-2.06-.94 2.06-2.06.94z\"/><path d=\"M17.41 7.96l-1.37-1.37c-.4-.4-.92-.59-1.43-.59-.52 0-1.04.2-1.43.59L10.3 9.45l-7.72 7.72c-.78.78-.78 2.05 0 2.83L4 21.41c.39.39.9.59 1.41.59.51 0 1.02-.2 1.41-.59l7.78-7.78 2.81-2.81c.8-.78.8-2.07 0-2.86zM5.41 20L4 18.59l7.72-7.72 1.47 1.35L5.41 20z\"/>\n",
              "  </svg>\n",
              "      </button>\n",
              "      \n",
              "  <style>\n",
              "    .colab-df-container {\n",
              "      display:flex;\n",
              "      flex-wrap:wrap;\n",
              "      gap: 12px;\n",
              "    }\n",
              "\n",
              "    .colab-df-convert {\n",
              "      background-color: #E8F0FE;\n",
              "      border: none;\n",
              "      border-radius: 50%;\n",
              "      cursor: pointer;\n",
              "      display: none;\n",
              "      fill: #1967D2;\n",
              "      height: 32px;\n",
              "      padding: 0 0 0 0;\n",
              "      width: 32px;\n",
              "    }\n",
              "\n",
              "    .colab-df-convert:hover {\n",
              "      background-color: #E2EBFA;\n",
              "      box-shadow: 0px 1px 2px rgba(60, 64, 67, 0.3), 0px 1px 3px 1px rgba(60, 64, 67, 0.15);\n",
              "      fill: #174EA6;\n",
              "    }\n",
              "\n",
              "    [theme=dark] .colab-df-convert {\n",
              "      background-color: #3B4455;\n",
              "      fill: #D2E3FC;\n",
              "    }\n",
              "\n",
              "    [theme=dark] .colab-df-convert:hover {\n",
              "      background-color: #434B5C;\n",
              "      box-shadow: 0px 1px 3px 1px rgba(0, 0, 0, 0.15);\n",
              "      filter: drop-shadow(0px 1px 2px rgba(0, 0, 0, 0.3));\n",
              "      fill: #FFFFFF;\n",
              "    }\n",
              "  </style>\n",
              "\n",
              "      <script>\n",
              "        const buttonEl =\n",
              "          document.querySelector('#df-66a2ff0e-294c-4619-b038-38b236801b9c button.colab-df-convert');\n",
              "        buttonEl.style.display =\n",
              "          google.colab.kernel.accessAllowed ? 'block' : 'none';\n",
              "\n",
              "        async function convertToInteractive(key) {\n",
              "          const element = document.querySelector('#df-66a2ff0e-294c-4619-b038-38b236801b9c');\n",
              "          const dataTable =\n",
              "            await google.colab.kernel.invokeFunction('convertToInteractive',\n",
              "                                                     [key], {});\n",
              "          if (!dataTable) return;\n",
              "\n",
              "          const docLinkHtml = 'Like what you see? Visit the ' +\n",
              "            '<a target=\"_blank\" href=https://colab.research.google.com/notebooks/data_table.ipynb>data table notebook</a>'\n",
              "            + ' to learn more about interactive tables.';\n",
              "          element.innerHTML = '';\n",
              "          dataTable['output_type'] = 'display_data';\n",
              "          await google.colab.output.renderOutput(dataTable, element);\n",
              "          const docLink = document.createElement('div');\n",
              "          docLink.innerHTML = docLinkHtml;\n",
              "          element.appendChild(docLink);\n",
              "        }\n",
              "      </script>\n",
              "    </div>\n",
              "  </div>\n",
              "  "
            ]
          },
          "metadata": {},
          "execution_count": 77
        }
      ]
    },
    {
      "cell_type": "code",
      "source": [
        "# plot development of cases\n",
        "fig, ax = plt.subplots(figsize=(psx,psy))\n",
        "ax.plot(df.Date, df.Cases, color='darkgreen')\n",
        "ax.plot(df.Date, df_comp.Cases, color='darkgrey')\n",
        "plt.title('Cases - ' + country_select + ' vs ' + country_compare)\n",
        "plt.grid()\n",
        "plt.show()"
      ],
      "metadata": {
        "colab": {
          "base_uri": "https://localhost:8080/",
          "height": 607
        },
        "id": "2KhinvmNamv-",
        "outputId": "ed41ffe8-6bfa-4620-c079-89f036fdb85b"
      },
      "execution_count": null,
      "outputs": [
        {
          "output_type": "display_data",
          "data": {
            "text/plain": [
              "<Figure size 864x720 with 1 Axes>"
            ],
            "image/png": "[encoded data removed]"
          },
          "metadata": {
            "needs_background": "light"
          }
        }
      ]
    },
    {
      "cell_type": "code",
      "source": [
        "# plot incremental development\n",
        "fig, ax = plt.subplots(figsize=(psx,psy))\n",
        "ax.scatter(df.Date, df.Cases_Inc, color='darkgreen')\n",
        "ax.scatter(df_comp.Date, df_comp.Cases_Inc, color='darkgrey')\n",
        "plt.title('Cases Incremental - ' + country_select + ' vs ' + country_compare)\n",
        "plt.xlabel('Date')\n",
        "plt.ylabel('Count')\n",
        "plt.grid()\n",
        "plt.show()"
      ],
      "metadata": {
        "colab": {
          "base_uri": "https://localhost:8080/",
          "height": 613
        },
        "id": "UmD27kteaoej",
        "outputId": "452a321e-6728-4b5d-938a-2816b97072d7"
      },
      "execution_count": null,
      "outputs": [
        {
          "output_type": "display_data",
          "data": {
            "text/plain": [
              "<Figure size 864x720 with 1 Axes>"
            ],
            "image/png": "[encoded data removed]"
          },
          "metadata": {
            "needs_background": "light"
          }
        }
      ]
    },
    {
      "cell_type": "code",
      "source": [
        "# plot development of deaths\n",
        "fig, ax = plt.subplots(figsize=(psx,psy))\n",
        "ax.plot(df.Date, df.Deaths, color='darkred')\n",
        "ax.plot(df.Date, df_comp.Deaths, color='darkgrey')\n",
        "plt.title('Deaths - ' + country_select + ' vs ' + country_compare)\n",
        "plt.grid()\n",
        "plt.show()"
      ],
      "metadata": {
        "colab": {
          "base_uri": "https://localhost:8080/",
          "height": 607
        },
        "id": "Hl7hC4XMap3c",
        "outputId": "78affe57-0bde-4bd8-f040-d864e2dfc92a"
      },
      "execution_count": null,
      "outputs": [
        {
          "output_type": "display_data",
          "data": {
            "text/plain": [
              "<Figure size 864x720 with 1 Axes>"
            ],
            "image/png": "[encoded data removed]"
          },
          "metadata": {
            "needs_background": "light"
          }
        }
      ]
    },
    {
      "cell_type": "markdown",
      "source": [
        "- 한국이 호주보다 21년1월 기준으로 코로나와 사망자가 많이 발생"
      ],
      "metadata": {
        "id": "U7cIVOa1bSWV"
      }
    },
    {
      "cell_type": "code",
      "source": [
        "# plot development of case fatality rate (= deaths / cases)\n",
        "fig, ax = plt.subplots(figsize=(psx,psy))\n",
        "ax.scatter(df.Date, df.CFR)\n",
        "ax.scatter(df_comp.Date, df_comp.CFR, color='darkgrey')\n",
        "plt.title('Case Fatality Rate - ' + country_select + ' vs ' + country_compare)\n",
        "plt.xlabel('Date')\n",
        "plt.ylabel('Case Fatality Rate')\n",
        "plt.grid()\n",
        "plt.show()"
      ],
      "metadata": {
        "colab": {
          "base_uri": "https://localhost:8080/",
          "height": 621
        },
        "id": "8Ftd50vxay8M",
        "outputId": "40bb5c5c-055f-48b0-9734-234e8c95a343"
      },
      "execution_count": null,
      "outputs": [
        {
          "output_type": "display_data",
          "data": {
            "text/plain": [
              "<Figure size 864x720 with 1 Axes>"
            ],
            "image/png": "[encoded data removed]"
          },
          "metadata": {
            "needs_background": "light"
          }
        }
      ]
    },
    {
      "cell_type": "code",
      "source": [
        "# plot development of case fatality rate (= deaths / cases)\n",
        "fig, ax = plt.subplots(figsize=(psx,psy))\n",
        "ax.scatter(df.Cases, df_comp.Cases, color='darkgreen')\n",
        "plt.title('Cases vs Cases - ' + country_select + ' vs ' + country_compare)\n",
        "plt.xlabel('Count ' + country_select)\n",
        "plt.ylabel('Count ' + country_compare)\n",
        "plt.grid()\n",
        "plt.show()"
      ],
      "metadata": {
        "colab": {
          "base_uri": "https://localhost:8080/",
          "height": 621
        },
        "id": "X02Cl5_Ua0iT",
        "outputId": "032871b6-6b81-4b2e-9adc-f66e74de5770"
      },
      "execution_count": null,
      "outputs": [
        {
          "output_type": "display_data",
          "data": {
            "text/plain": [
              "<Figure size 864x720 with 1 Axes>"
            ],
            "image/png": "[encoded data removed]"
          },
          "metadata": {
            "needs_background": "light"
          }
        }
      ]
    },
    {
      "cell_type": "code",
      "source": [
        "# plot incremental cases vs incremental cases\n",
        "fig, ax = plt.subplots(figsize=(psx,psy))\n",
        "ax.scatter(df.Cases_Inc, df_comp.Cases_Inc, color='darkgreen')\n",
        "plt.title('Incremental Cases vs Incremental Cases - ' + country_select + ' vs ' + country_compare)\n",
        "plt.xlabel('Incremental Cases ' + country_select)\n",
        "plt.ylabel('Incremental Cases ' + country_compare)\n",
        "plt.grid()\n",
        "plt.show()"
      ],
      "metadata": {
        "colab": {
          "base_uri": "https://localhost:8080/",
          "height": 610
        },
        "id": "q1BpGUyta2Wb",
        "outputId": "548c8fd4-c6e6-459d-db1c-afea810418d6"
      },
      "execution_count": null,
      "outputs": [
        {
          "output_type": "display_data",
          "data": {
            "text/plain": [
              "<Figure size 864x720 with 1 Axes>"
            ],
            "image/png": "[encoded data removed]"
          },
          "metadata": {
            "needs_background": "light"
          }
        }
      ]
    },
    {
      "cell_type": "code",
      "source": [
        "# evaluate correlations\n",
        "selected_features = ['Cases_Inc','Cases_Inc_Comp','Deaths_Inc','Deaths_Inc_Comp']\n",
        "corr_pearson = df_temp[selected_features].corr(method='pearson')\n",
        "corr_spearman = df_temp[selected_features].corr(method='spearman')"
      ],
      "metadata": {
        "id": "9Ho5MlyUa71p"
      },
      "execution_count": null,
      "outputs": []
    },
    {
      "cell_type": "code",
      "source": [
        "# plot pearson correlation\n",
        "sns.heatmap(corr_pearson, annot=True, cmap='RdYlGn', vmin=-1, vmax=+1)\n",
        "plt.title('Pearson correlation')\n",
        "plt.show()"
      ],
      "metadata": {
        "colab": {
          "base_uri": "https://localhost:8080/",
          "height": 360
        },
        "id": "nVyb5a3Tan-U",
        "outputId": "c1143d2f-1956-4fb1-845a-23932441e358"
      },
      "execution_count": null,
      "outputs": [
        {
          "output_type": "display_data",
          "data": {
            "text/plain": [
              "<Figure size 432x288 with 2 Axes>"
            ],
            "image/png": "[encoded data removed]"
          },
          "metadata": {
            "needs_background": "light"
          }
        }
      ]
    },
    {
      "cell_type": "code",
      "source": [
        "# plot pearson correlation\n",
        "sns.heatmap(corr_pearson, annot=True, cmap='RdYlGn', vmin=-1, vmax=+1)\n",
        "plt.title('Pearson correlation')\n",
        "plt.show()"
      ],
      "metadata": {
        "colab": {
          "base_uri": "https://localhost:8080/",
          "height": 360
        },
        "id": "i7JNMceLbBMU",
        "outputId": "febc94b8-66e2-41c7-e07c-d6f7ad67eb3e"
      },
      "execution_count": null,
      "outputs": [
        {
          "output_type": "display_data",
          "data": {
            "text/plain": [
              "<Figure size 432x288 with 2 Axes>"
            ],
            "image/png": "[encoded data removed]"
          },
          "metadata": {
            "needs_background": "light"
          }
        }
      ]
    }
  ]
}